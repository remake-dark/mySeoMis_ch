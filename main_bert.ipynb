{
 "cells": [
  {
   "cell_type": "code",
   "execution_count": 1,
   "id": "02fe378f-7743-4725-a8b0-6170577685b9",
   "metadata": {},
   "outputs": [
    {
     "name": "stderr",
     "output_type": "stream",
     "text": [
      "/usr/local/lib/python3.11/dist-packages/tqdm/auto.py:21: TqdmWarning: IProgress not found. Please update jupyter and ipywidgets. See https://ipywidgets.readthedocs.io/en/stable/user_install.html\n",
      "  from .autonotebook import tqdm as notebook_tqdm\n"
     ]
    },
    {
     "name": "stdout",
     "output_type": "stream",
     "text": [
      "lr: 0.0001; model name: bert; batchsize: 64; epoch: 20; gpu: 0\n",
      "{'lr': [0.0001]}\n"
     ]
    },
    {
     "name": "stderr",
     "output_type": "stream",
     "text": [
      "Dataloader: loading items from current dataset: 100%|██████████| 1438/1438 [00:01<00:00, 1231.15it/s]\n",
      "Dataloader: loading items from current dataset: 100%|██████████| 6713/6713 [00:05<00:00, 1121.98it/s]\n",
      "100%|██████████| 105/105 [00:55<00:00,  1.90it/s]\n"
     ]
    },
    {
     "name": "stdout",
     "output_type": "stream",
     "text": [
      "Training Epoch 1; Loss 0.40149750596001027; \n"
     ]
    },
    {
     "name": "stderr",
     "output_type": "stream",
     "text": [
      "100%|██████████| 23/23 [00:09<00:00,  2.55it/s]\n"
     ]
    },
    {
     "name": "stdout",
     "output_type": "stream",
     "text": [
      "curent {'auc': 0.9373481154709388, 'spauc': 0.794966578275268, 'metric': 0.8602029933907442, 'f1_neg': 0.8585503166783955, 'f1_pos': 0.8618556701030928, 'recall': 0.8602430152464979, 'recall_neg': 0.8615819209039548, 'recall_pos': 0.8589041095890411, 'precision': 0.8601837790782029, 'precision_neg': 0.8555399719495091, 'precision_pos': 0.8648275862068966, 'acc': 0.8602225312934632}\n",
      "Max {'auc': 0.9373481154709388, 'spauc': 0.794966578275268, 'metric': 0.8602029933907442, 'f1_neg': 0.8585503166783955, 'f1_pos': 0.8618556701030928, 'recall': 0.8602430152464979, 'recall_neg': 0.8615819209039548, 'recall_pos': 0.8589041095890411, 'precision': 0.8601837790782029, 'precision_neg': 0.8555399719495091, 'precision_pos': 0.8648275862068966, 'acc': 0.8602225312934632}\n"
     ]
    },
    {
     "name": "stderr",
     "output_type": "stream",
     "text": [
      "Dataloader: loading items from current dataset: 100%|██████████| 6713/6713 [00:05<00:00, 1124.61it/s]\n",
      "100%|██████████| 105/105 [00:54<00:00,  1.92it/s]\n"
     ]
    },
    {
     "name": "stdout",
     "output_type": "stream",
     "text": [
      "Training Epoch 2; Loss 0.24152088903245475; \n"
     ]
    },
    {
     "name": "stderr",
     "output_type": "stream",
     "text": [
      "100%|██████████| 23/23 [00:09<00:00,  2.55it/s]\n"
     ]
    },
    {
     "name": "stdout",
     "output_type": "stream",
     "text": [
      "curent {'auc': 0.9560134664499651, 'spauc': 0.8456612857893514, 'metric': 0.873873035671798, 'f1_neg': 0.8795741849634066, 'f1_pos': 0.8681718863801894, 'recall': 0.8750270876867116, 'recall_neg': 0.9336158192090396, 'recall_pos': 0.8164383561643835, 'precision': 0.8791758365366746, 'precision_neg': 0.8314465408805032, 'precision_pos': 0.926905132192846, 'acc': 0.8741307371349096}\n",
      "Max {'auc': 0.9560134664499651, 'spauc': 0.8456612857893514, 'metric': 0.873873035671798, 'f1_neg': 0.8795741849634066, 'f1_pos': 0.8681718863801894, 'recall': 0.8750270876867116, 'recall_neg': 0.9336158192090396, 'recall_pos': 0.8164383561643835, 'precision': 0.8791758365366746, 'precision_neg': 0.8314465408805032, 'precision_pos': 0.926905132192846, 'acc': 0.8741307371349096}\n"
     ]
    },
    {
     "name": "stderr",
     "output_type": "stream",
     "text": [
      "Dataloader: loading items from current dataset: 100%|██████████| 6713/6713 [00:06<00:00, 1110.04it/s]\n",
      "100%|██████████| 105/105 [00:54<00:00,  1.92it/s]\n"
     ]
    },
    {
     "name": "stdout",
     "output_type": "stream",
     "text": [
      "Training Epoch 3; Loss 0.15494905046763888; \n"
     ]
    },
    {
     "name": "stderr",
     "output_type": "stream",
     "text": [
      "100%|██████████| 23/23 [00:09<00:00,  2.53it/s]\n"
     ]
    },
    {
     "name": "stdout",
     "output_type": "stream",
     "text": [
      "curent {'auc': 0.9572904573949385, 'spauc': 0.8553212029376902, 'metric': 0.8859209352633524, 'f1_neg': 0.8878248974008208, 'f1_pos': 0.884016973125884, 'recall': 0.8864155251141552, 'recall_neg': 0.9166666666666666, 'recall_pos': 0.8561643835616438, 'precision': 0.8872426978143857, 'precision_neg': 0.8607427055702918, 'precision_pos': 0.9137426900584795, 'acc': 0.885952712100139}\n",
      "Max {'auc': 0.9572904573949385, 'spauc': 0.8553212029376902, 'metric': 0.8859209352633524, 'f1_neg': 0.8878248974008208, 'f1_pos': 0.884016973125884, 'recall': 0.8864155251141552, 'recall_neg': 0.9166666666666666, 'recall_pos': 0.8561643835616438, 'precision': 0.8872426978143857, 'precision_neg': 0.8607427055702918, 'precision_pos': 0.9137426900584795, 'acc': 0.885952712100139}\n"
     ]
    },
    {
     "name": "stderr",
     "output_type": "stream",
     "text": [
      "Dataloader: loading items from current dataset: 100%|██████████| 6713/6713 [00:06<00:00, 1112.25it/s]\n",
      "100%|██████████| 105/105 [00:54<00:00,  1.92it/s]\n"
     ]
    },
    {
     "name": "stdout",
     "output_type": "stream",
     "text": [
      "Training Epoch 4; Loss 0.10036665117811588; \n"
     ]
    },
    {
     "name": "stderr",
     "output_type": "stream",
     "text": [
      "100%|██████████| 23/23 [00:09<00:00,  2.53it/s]\n"
     ]
    },
    {
     "name": "stdout",
     "output_type": "stream",
     "text": [
      "curent {'auc': 0.9606860924077083, 'spauc': 0.8629750019348348, 'metric': 0.8949816189539757, 'f1_neg': 0.8960770818995183, 'f1_pos': 0.8938861560084329, 'recall': 0.8953622010680288, 'recall_neg': 0.9194915254237288, 'recall_pos': 0.8712328767123287, 'precision': 0.8957872105523113, 'precision_neg': 0.8738255033557047, 'precision_pos': 0.9177489177489178, 'acc': 0.8949930458970793}\n",
      "Max {'auc': 0.9606860924077083, 'spauc': 0.8629750019348348, 'metric': 0.8949816189539757, 'f1_neg': 0.8960770818995183, 'f1_pos': 0.8938861560084329, 'recall': 0.8953622010680288, 'recall_neg': 0.9194915254237288, 'recall_pos': 0.8712328767123287, 'precision': 0.8957872105523113, 'precision_neg': 0.8738255033557047, 'precision_pos': 0.9177489177489178, 'acc': 0.8949930458970793}\n"
     ]
    },
    {
     "name": "stderr",
     "output_type": "stream",
     "text": [
      "Dataloader: loading items from current dataset: 100%|██████████| 6713/6713 [00:05<00:00, 1129.95it/s]\n",
      "100%|██████████| 105/105 [00:54<00:00,  1.92it/s]\n"
     ]
    },
    {
     "name": "stdout",
     "output_type": "stream",
     "text": [
      "Training Epoch 5; Loss 0.05842633491293305; \n"
     ]
    },
    {
     "name": "stderr",
     "output_type": "stream",
     "text": [
      "100%|██████████| 23/23 [00:09<00:00,  2.41it/s]\n"
     ]
    },
    {
     "name": "stdout",
     "output_type": "stream",
     "text": [
      "curent {'auc': 0.9619243866573794, 'spauc': 0.8646124831465709, 'metric': 0.880054391998712, 'f1_neg': 0.8863936591809776, 'f1_pos': 0.8737151248164464, 'recall': 0.8814043030725176, 'recall_neg': 0.9477401129943502, 'recall_pos': 0.815068493150685, 'precision': 0.8869809498382386, 'precision_neg': 0.8325062034739454, 'precision_pos': 0.9414556962025317, 'acc': 0.8803894297635605}\n",
      "Max {'auc': 0.9606860924077083, 'spauc': 0.8629750019348348, 'metric': 0.8949816189539757, 'f1_neg': 0.8960770818995183, 'f1_pos': 0.8938861560084329, 'recall': 0.8953622010680288, 'recall_neg': 0.9194915254237288, 'recall_pos': 0.8712328767123287, 'precision': 0.8957872105523113, 'precision_neg': 0.8738255033557047, 'precision_pos': 0.9177489177489178, 'acc': 0.8949930458970793}\n"
     ]
    },
    {
     "name": "stderr",
     "output_type": "stream",
     "text": [
      "Dataloader: loading items from current dataset: 100%|██████████| 6713/6713 [00:06<00:00, 1035.41it/s]\n",
      "100%|██████████| 105/105 [00:54<00:00,  1.92it/s]\n"
     ]
    },
    {
     "name": "stdout",
     "output_type": "stream",
     "text": [
      "Training Epoch 6; Loss 0.04493984236337599; \n"
     ]
    },
    {
     "name": "stderr",
     "output_type": "stream",
     "text": [
      "100%|██████████| 23/23 [00:09<00:00,  2.54it/s]\n"
     ]
    },
    {
     "name": "stdout",
     "output_type": "stream",
     "text": [
      "curent {'auc': 0.9588654128937388, 'spauc': 0.855168452824655, 'metric': 0.892173391417507, 'f1_neg': 0.890148830616584, 'f1_pos': 0.89419795221843, 'recall': 0.8921329618450584, 'recall_neg': 0.8870056497175142, 'recall_pos': 0.8972602739726028, 'precision': 0.8922354147918058, 'precision_neg': 0.8933143669985776, 'precision_pos': 0.891156462585034, 'acc': 0.89221140472879}\n",
      "Max {'auc': 0.9606860924077083, 'spauc': 0.8629750019348348, 'metric': 0.8949816189539757, 'f1_neg': 0.8960770818995183, 'f1_pos': 0.8938861560084329, 'recall': 0.8953622010680288, 'recall_neg': 0.9194915254237288, 'recall_pos': 0.8712328767123287, 'precision': 0.8957872105523113, 'precision_neg': 0.8738255033557047, 'precision_pos': 0.9177489177489178, 'acc': 0.8949930458970793}\n"
     ]
    },
    {
     "name": "stderr",
     "output_type": "stream",
     "text": [
      "Dataloader: loading items from current dataset: 100%|██████████| 6713/6713 [00:06<00:00, 1099.08it/s]\n",
      "100%|██████████| 105/105 [00:54<00:00,  1.92it/s]\n"
     ]
    },
    {
     "name": "stdout",
     "output_type": "stream",
     "text": [
      "Training Epoch 7; Loss 0.035872350558860316; \n"
     ]
    },
    {
     "name": "stderr",
     "output_type": "stream",
     "text": [
      "100%|██████████| 23/23 [00:09<00:00,  2.53it/s]\n"
     ]
    },
    {
     "name": "stdout",
     "output_type": "stream",
     "text": [
      "curent {'auc': 0.9583439749245414, 'spauc': 0.8524158957877629, 'metric': 0.8963838163729065, 'f1_neg': 0.896455872133426, 'f1_pos': 0.8963117606123869, 'recall': 0.8966043649872302, 'recall_neg': 0.9110169491525424, 'recall_pos': 0.8821917808219178, 'precision': 0.8966220151426907, 'precision_neg': 0.8823529411764706, 'precision_pos': 0.9108910891089109, 'acc': 0.8963838664812239}\n",
      "Max {'auc': 0.9583439749245414, 'spauc': 0.8524158957877629, 'metric': 0.8963838163729065, 'f1_neg': 0.896455872133426, 'f1_pos': 0.8963117606123869, 'recall': 0.8966043649872302, 'recall_neg': 0.9110169491525424, 'recall_pos': 0.8821917808219178, 'precision': 0.8966220151426907, 'precision_neg': 0.8823529411764706, 'precision_pos': 0.9108910891089109, 'acc': 0.8963838664812239}\n"
     ]
    },
    {
     "name": "stderr",
     "output_type": "stream",
     "text": [
      "Dataloader: loading items from current dataset: 100%|██████████| 6713/6713 [00:05<00:00, 1129.00it/s]\n",
      "100%|██████████| 105/105 [00:54<00:00,  1.92it/s]\n"
     ]
    },
    {
     "name": "stdout",
     "output_type": "stream",
     "text": [
      "Training Epoch 8; Loss 0.026504459901757187; \n"
     ]
    },
    {
     "name": "stderr",
     "output_type": "stream",
     "text": [
      "100%|██████████| 23/23 [00:09<00:00,  2.54it/s]\n"
     ]
    },
    {
     "name": "stdout",
     "output_type": "stream",
     "text": [
      "curent {'auc': 0.9596528906431391, 'spauc': 0.8576430046558234, 'metric': 0.8919329071546146, 'f1_neg': 0.8864468864468864, 'f1_pos': 0.8974189278623428, 'recall': 0.8916434486494853, 'recall_neg': 0.8545197740112994, 'recall_pos': 0.9287671232876712, 'precision': 0.8944850784518931, 'precision_neg': 0.9208523592085236, 'precision_pos': 0.8681177976952625, 'acc': 0.89221140472879}\n",
      "Max {'auc': 0.9583439749245414, 'spauc': 0.8524158957877629, 'metric': 0.8963838163729065, 'f1_neg': 0.896455872133426, 'f1_pos': 0.8963117606123869, 'recall': 0.8966043649872302, 'recall_neg': 0.9110169491525424, 'recall_pos': 0.8821917808219178, 'precision': 0.8966220151426907, 'precision_neg': 0.8823529411764706, 'precision_pos': 0.9108910891089109, 'acc': 0.8963838664812239}\n"
     ]
    },
    {
     "name": "stderr",
     "output_type": "stream",
     "text": [
      "Dataloader: loading items from current dataset: 100%|██████████| 6713/6713 [00:05<00:00, 1123.49it/s]\n",
      "100%|██████████| 105/105 [00:54<00:00,  1.92it/s]\n"
     ]
    },
    {
     "name": "stdout",
     "output_type": "stream",
     "text": [
      "Training Epoch 9; Loss 0.02242412348887661; \n"
     ]
    },
    {
     "name": "stderr",
     "output_type": "stream",
     "text": [
      "100%|██████████| 23/23 [00:08<00:00,  2.56it/s]\n"
     ]
    },
    {
     "name": "stdout",
     "output_type": "stream",
     "text": [
      "curent {'auc': 0.9582191780821917, 'spauc': 0.8528772011291288, 'metric': 0.8817656128783877, 'f1_neg': 0.8830811554332875, 'f1_pos': 0.8804500703234881, 'recall': 0.8821569537961458, 'recall_neg': 0.9067796610169492, 'recall_pos': 0.8575342465753425, 'precision': 0.8826070448945436, 'precision_neg': 0.8605898123324397, 'precision_pos': 0.9046242774566474, 'acc': 0.8817802503477051}\n",
      "Max {'auc': 0.9583439749245414, 'spauc': 0.8524158957877629, 'metric': 0.8963838163729065, 'f1_neg': 0.896455872133426, 'f1_pos': 0.8963117606123869, 'recall': 0.8966043649872302, 'recall_neg': 0.9110169491525424, 'recall_pos': 0.8821917808219178, 'precision': 0.8966220151426907, 'precision_neg': 0.8823529411764706, 'precision_pos': 0.9108910891089109, 'acc': 0.8963838664812239}\n"
     ]
    },
    {
     "name": "stderr",
     "output_type": "stream",
     "text": [
      "Dataloader: loading items from current dataset: 100%|██████████| 6713/6713 [00:06<00:00, 1114.85it/s]\n",
      "100%|██████████| 105/105 [00:54<00:00,  1.92it/s]\n"
     ]
    },
    {
     "name": "stdout",
     "output_type": "stream",
     "text": [
      "Training Epoch 10; Loss 0.02000992352619678; \n"
     ]
    },
    {
     "name": "stderr",
     "output_type": "stream",
     "text": [
      "100%|██████████| 23/23 [00:09<00:00,  2.53it/s]\n"
     ]
    },
    {
     "name": "stdout",
     "output_type": "stream",
     "text": [
      "curent {'auc': 0.9563365838557387, 'spauc': 0.8475777905408983, 'metric': 0.8859306467309392, 'f1_neg': 0.887517146776406, 'f1_pos': 0.8843441466854725, 'recall': 0.8863729587493228, 'recall_neg': 0.9138418079096046, 'recall_pos': 0.8589041095890411, 'precision': 0.8870019379844961, 'precision_neg': 0.8626666666666667, 'precision_pos': 0.9113372093023255, 'acc': 0.885952712100139}\n",
      "Max {'auc': 0.9583439749245414, 'spauc': 0.8524158957877629, 'metric': 0.8963838163729065, 'f1_neg': 0.896455872133426, 'f1_pos': 0.8963117606123869, 'recall': 0.8966043649872302, 'recall_neg': 0.9110169491525424, 'recall_pos': 0.8821917808219178, 'precision': 0.8966220151426907, 'precision_neg': 0.8823529411764706, 'precision_pos': 0.9108910891089109, 'acc': 0.8963838664812239}\n"
     ]
    },
    {
     "name": "stderr",
     "output_type": "stream",
     "text": [
      "Dataloader: loading items from current dataset: 100%|██████████| 6713/6713 [00:05<00:00, 1119.01it/s]\n",
      "100%|██████████| 105/105 [00:54<00:00,  1.92it/s]\n"
     ]
    },
    {
     "name": "stdout",
     "output_type": "stream",
     "text": [
      "Training Epoch 11; Loss 0.02070026820902491; \n"
     ]
    },
    {
     "name": "stderr",
     "output_type": "stream",
     "text": [
      "100%|██████████| 23/23 [00:09<00:00,  2.52it/s]\n"
     ]
    },
    {
     "name": "stdout",
     "output_type": "stream",
     "text": [
      "curent {'auc': 0.9606183731909295, 'spauc': 0.8667672780744524, 'metric': 0.8905830552667864, 'f1_neg': 0.8854850474106492, 'f1_pos': 0.8956810631229236, 'recall': 0.8903161520006191, 'recall_neg': 0.8573446327683616, 'recall_pos': 0.9232876712328767, 'precision': 0.8926064321510241, 'precision_neg': 0.9155354449472096, 'precision_pos': 0.8696774193548387, 'acc': 0.8908205841446454}\n",
      "Max {'auc': 0.9583439749245414, 'spauc': 0.8524158957877629, 'metric': 0.8963838163729065, 'f1_neg': 0.896455872133426, 'f1_pos': 0.8963117606123869, 'recall': 0.8966043649872302, 'recall_neg': 0.9110169491525424, 'recall_pos': 0.8821917808219178, 'precision': 0.8966220151426907, 'precision_neg': 0.8823529411764706, 'precision_pos': 0.9108910891089109, 'acc': 0.8963838664812239}\n"
     ]
    },
    {
     "name": "stderr",
     "output_type": "stream",
     "text": [
      "Dataloader: loading items from current dataset: 100%|██████████| 6713/6713 [00:06<00:00, 1101.52it/s]\n",
      "100%|██████████| 105/105 [00:54<00:00,  1.92it/s]\n"
     ]
    },
    {
     "name": "stdout",
     "output_type": "stream",
     "text": [
      "Training Epoch 12; Loss 0.010168558178009419; \n"
     ]
    },
    {
     "name": "stderr",
     "output_type": "stream",
     "text": [
      "100%|██████████| 23/23 [00:09<00:00,  2.53it/s]\n"
     ]
    },
    {
     "name": "stdout",
     "output_type": "stream",
     "text": [
      "curent {'auc': 0.959302685550654, 'spauc': 0.8642438462071129, 'metric': 0.89416968795513, 'f1_neg': 0.8904899135446686, 'f1_pos': 0.8978494623655914, 'recall': 0.8939749245414441, 'recall_neg': 0.8728813559322034, 'recall_pos': 0.915068493150685, 'precision': 0.8950450100884682, 'precision_neg': 0.9088235294117647, 'precision_pos': 0.8812664907651715, 'acc': 0.894297635605007}\n",
      "Max {'auc': 0.9583439749245414, 'spauc': 0.8524158957877629, 'metric': 0.8963838163729065, 'f1_neg': 0.896455872133426, 'f1_pos': 0.8963117606123869, 'recall': 0.8966043649872302, 'recall_neg': 0.9110169491525424, 'recall_pos': 0.8821917808219178, 'precision': 0.8966220151426907, 'precision_neg': 0.8823529411764706, 'precision_pos': 0.9108910891089109, 'acc': 0.8963838664812239}\n"
     ]
    },
    {
     "name": "stderr",
     "output_type": "stream",
     "text": [
      "Dataloader: loading items from current dataset: 100%|██████████| 1439/1439 [00:01<00:00, 1210.75it/s]\n",
      "100%|██████████| 23/23 [00:09<00:00,  2.53it/s]\n"
     ]
    },
    {
     "name": "stdout",
     "output_type": "stream",
     "text": [
      "test results: {'auc': 0.9508918740365557, 'spauc': 0.8139105224320202, 'metric': 0.878302904831011, 'f1_neg': 0.8815165876777251, 'f1_pos': 0.875089221984297, 'recall': 0.8784901308545532, 'recall_neg': 0.9079497907949791, 'recall_pos': 0.8490304709141274, 'precision': 0.8796885900317806, 'precision_neg': 0.8565789473684211, 'precision_pos': 0.9027982326951399, 'acc': 0.8783877692842251}\n",
      "best model path: ./param_model/bert/parameter_bert.pkl\n",
      "best metric: {'metric': 0.878302904831011}\n"
     ]
    },
    {
     "ename": "FileNotFoundError",
     "evalue": "[Errno 2] No such file or directory: './logs/json/bert0.1.json'",
     "output_type": "error",
     "traceback": [
      "\u001b[0;31m---------------------------------------------------------------------------\u001b[0m",
      "\u001b[0;31mFileNotFoundError\u001b[0m                         Traceback (most recent call last)",
      "Cell \u001b[0;32mIn[1], line 65\u001b[0m\n\u001b[1;32m     43\u001b[0m config \u001b[38;5;241m=\u001b[39m {\n\u001b[1;32m     44\u001b[0m         \u001b[38;5;124m'\u001b[39m\u001b[38;5;124muse_cuda\u001b[39m\u001b[38;5;124m'\u001b[39m: \u001b[38;5;28;01mTrue\u001b[39;00m,\n\u001b[1;32m     45\u001b[0m         \u001b[38;5;124m'\u001b[39m\u001b[38;5;124mbatchsize\u001b[39m\u001b[38;5;124m'\u001b[39m: args[\u001b[38;5;124m'\u001b[39m\u001b[38;5;124mbatchsize\u001b[39m\u001b[38;5;124m'\u001b[39m],\n\u001b[0;32m   (...)\u001b[0m\n\u001b[1;32m     61\u001b[0m         \u001b[38;5;124m'\u001b[39m\u001b[38;5;124mparam_log_dir\u001b[39m\u001b[38;5;124m'\u001b[39m: args[\u001b[38;5;124m'\u001b[39m\u001b[38;5;124mparam_log_dir\u001b[39m\u001b[38;5;124m'\u001b[39m]\n\u001b[1;32m     62\u001b[0m }\n\u001b[1;32m     64\u001b[0m \u001b[38;5;66;03m# 不需要检查 __name__ == '__main__' 在 Jupyter 中\u001b[39;00m\n\u001b[0;32m---> 65\u001b[0m \u001b[43mRun\u001b[49m\u001b[43m(\u001b[49m\u001b[43mconfig\u001b[49m\u001b[38;5;241;43m=\u001b[39;49m\u001b[43mconfig\u001b[49m\u001b[43m)\u001b[49m\u001b[38;5;241;43m.\u001b[39;49m\u001b[43mmain\u001b[49m\u001b[43m(\u001b[49m\u001b[43m)\u001b[49m\n",
      "File \u001b[0;32m/mySeoSent/mySeoSent_ch/mySeoSent_ch/grid_search.py:99\u001b[0m, in \u001b[0;36mRun.main\u001b[0;34m(self)\u001b[0m\n\u001b[1;32m     97\u001b[0m     logger\u001b[38;5;241m.\u001b[39minfo(\u001b[38;5;124m\"\u001b[39m\u001b[38;5;124mbest metric:\u001b[39m\u001b[38;5;124m\"\u001b[39m \u001b[38;5;241m+\u001b[39m \u001b[38;5;28mstr\u001b[39m(best_metric))\n\u001b[1;32m     98\u001b[0m     logger\u001b[38;5;241m.\u001b[39minfo(\u001b[38;5;124m'\u001b[39m\u001b[38;5;124m--------------------------------------\u001b[39m\u001b[38;5;130;01m\\n\u001b[39;00m\u001b[38;5;124m'\u001b[39m)\n\u001b[0;32m---> 99\u001b[0m \u001b[38;5;28;01mwith\u001b[39;00m \u001b[38;5;28;43mopen\u001b[39;49m\u001b[43m(\u001b[49m\u001b[43mjson_path\u001b[49m\u001b[43m,\u001b[49m\u001b[43m \u001b[49m\u001b[38;5;124;43m'\u001b[39;49m\u001b[38;5;124;43mw\u001b[39;49m\u001b[38;5;124;43m'\u001b[39;49m\u001b[43m)\u001b[49m \u001b[38;5;28;01mas\u001b[39;00m file:\n\u001b[1;32m    100\u001b[0m     json\u001b[38;5;241m.\u001b[39mdump(json_result, file, indent\u001b[38;5;241m=\u001b[39m\u001b[38;5;241m4\u001b[39m, ensure_ascii\u001b[38;5;241m=\u001b[39m\u001b[38;5;28;01mFalse\u001b[39;00m)\n",
      "\u001b[0;31mFileNotFoundError\u001b[0m: [Errno 2] No such file or directory: './logs/json/bert0.1.json'"
     ]
    }
   ],
   "source": [
    "import os\n",
    "import torch\n",
    "import numpy as np\n",
    "import random\n",
    "from grid_search import Run\n",
    "\n",
    "import warnings\n",
    "\n",
    "# 忽略特定的警告\n",
    "warnings.filterwarnings(\"ignore\", category=FutureWarning)\n",
    "\n",
    "# 直接设置参数\n",
    "args = {\n",
    "    'model_name': 'bert',\n",
    "    'epoch': 20,\n",
    "    'aug_prob': 0.1,\n",
    "    'max_len': 384,\n",
    "    'early_stop': 5,\n",
    "    'root_path': './data/',\n",
    "    'batchsize':64,\n",
    "    'seed': 2024,\n",
    "    'gpu': '0',\n",
    "    'emb_dim': 768,\n",
    "    'lr': 0.0001,\n",
    "    'emb_type': 'bert',\n",
    "    'save_log_dir': './logs',\n",
    "    'save_param_dir': './param_model',\n",
    "    'param_log_dir': './logs/param'\n",
    "}\n",
    "\n",
    "os.environ[\"CUDA_VISIBLE_DEVICES\"] = args['gpu']\n",
    "\n",
    "seed = args['seed']\n",
    "random.seed(seed)\n",
    "np.random.seed(seed)\n",
    "torch.manual_seed(seed)\n",
    "torch.cuda.manual_seed(seed)\n",
    "torch.backends.cudnn.benchmark = False\n",
    "torch.backends.cudnn.deterministic = True\n",
    "\n",
    "print('lr: {}; model name: {}; batchsize: {}; epoch: {}; gpu: {}'.format(args['lr'], args['model_name'], args['batchsize'], args['epoch'], args['gpu']))\n",
    "\n",
    "config = {\n",
    "        'use_cuda': True,\n",
    "        'batchsize': args['batchsize'],\n",
    "        'max_len': args['max_len'],\n",
    "        'early_stop': args['early_stop'],\n",
    "        'root_path': args['root_path'],\n",
    "        'aug_prob': args['aug_prob'],\n",
    "        'weight_decay': 5e-5,\n",
    "        'model': {\n",
    "            'mlp': {'dims': [384], 'dropout': 0.2}\n",
    "        },\n",
    "        'emb_dim': args['emb_dim'],\n",
    "        'lr': args['lr'],\n",
    "        'epoch': args['epoch'],\n",
    "        'model_name': args['model_name'],\n",
    "        'seed': args['seed'],\n",
    "        'save_log_dir': args['save_log_dir'],\n",
    "        'save_param_dir': args['save_param_dir'],\n",
    "        'param_log_dir': args['param_log_dir']\n",
    "}\n",
    "\n",
    "# 不需要检查 __name__ == '__main__' 在 Jupyter 中\n",
    "Run(config=config).main()"
   ]
  },
  {
   "cell_type": "code",
   "execution_count": null,
   "id": "4088947d-bcb4-4b74-9226-ba8587d6a2e0",
   "metadata": {},
   "outputs": [],
   "source": []
  }
 ],
 "metadata": {
  "kernelspec": {
   "display_name": "Python 3 (ipykernel)",
   "language": "python",
   "name": "python3"
  },
  "language_info": {
   "codemirror_mode": {
    "name": "ipython",
    "version": 3
   },
   "file_extension": ".py",
   "mimetype": "text/x-python",
   "name": "python",
   "nbconvert_exporter": "python",
   "pygments_lexer": "ipython3",
   "version": "3.11.8"
  }
 },
 "nbformat": 4,
 "nbformat_minor": 5
}
