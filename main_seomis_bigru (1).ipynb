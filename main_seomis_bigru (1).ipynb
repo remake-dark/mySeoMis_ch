{
 "cells": [
  {
   "cell_type": "code",
   "execution_count": 1,
   "id": "c1d45c0f-bc75-4cfb-85c8-63e867a53402",
   "metadata": {},
   "outputs": [
    {
     "name": "stderr",
     "output_type": "stream",
     "text": [
      "/usr/local/lib/python3.11/dist-packages/tqdm/auto.py:21: TqdmWarning: IProgress not found. Please update jupyter and ipywidgets. See https://ipywidgets.readthedocs.io/en/stable/user_install.html\n",
      "  from .autonotebook import tqdm as notebook_tqdm\n"
     ]
    },
    {
     "name": "stdout",
     "output_type": "stream",
     "text": [
      "lr: 0.0001; model name: bigru_seosent; batchsize: 64; epoch: 10; gpu: 0\n",
      "{'lr': [0.0001]}\n",
      "lr: 0.0001\n"
     ]
    },
    {
     "name": "stderr",
     "output_type": "stream",
     "text": [
      "Dataloader: loading items from current dataset: 100%|██████████| 1439/1439 [00:01<00:00, 1230.59it/s]\n",
      "Dataloader: loading items from current dataset:   0%|          | 0/6713 [00:00<?, ?it/s]Building prefix dict from the default dictionary ...\n",
      "Loading model from cache /tmp/jieba.cache\n",
      "Loading model cost 0.761 seconds.\n",
      "Prefix dict has been built successfully.\n",
      "Dataloader: loading items from current dataset: 100%|██████████| 6713/6713 [00:09<00:00, 742.08it/s]\n",
      "100%|██████████| 105/105 [00:19<00:00,  5.31it/s]\n"
     ]
    },
    {
     "name": "stdout",
     "output_type": "stream",
     "text": [
      "Training Epoch 1; Loss 0.7194317352204096; \n"
     ]
    },
    {
     "name": "stderr",
     "output_type": "stream",
     "text": [
      "100%|██████████| 23/23 [00:02<00:00, 10.70it/s]\n"
     ]
    },
    {
     "name": "stdout",
     "output_type": "stream",
     "text": [
      "curent {'auc': 0.8100484088441761, 'spauc': 0.651098242482619, 'metric': 0.7368752539618042, 'f1_neg': 0.7476635514018691, 'f1_pos': 0.7260869565217392, 'recall': 0.7374689476388616, 'recall_neg': 0.7810320781032078, 'recall_pos': 0.6939058171745153, 'precision': 0.7392138128578045, 'precision_neg': 0.7170294494238156, 'precision_pos': 0.7613981762917933, 'acc': 0.7373175816539264}\n",
      "Max {'auc': 0.8100484088441761, 'spauc': 0.651098242482619, 'metric': 0.7368752539618042, 'f1_neg': 0.7476635514018691, 'f1_pos': 0.7260869565217392, 'recall': 0.7374689476388616, 'recall_neg': 0.7810320781032078, 'recall_pos': 0.6939058171745153, 'precision': 0.7392138128578045, 'precision_neg': 0.7170294494238156, 'precision_pos': 0.7613981762917933, 'acc': 0.7373175816539264}\n"
     ]
    },
    {
     "name": "stderr",
     "output_type": "stream",
     "text": [
      "Dataloader: loading items from current dataset: 100%|██████████| 6713/6713 [00:08<00:00, 817.77it/s]\n",
      "100%|██████████| 105/105 [00:18<00:00,  5.80it/s]\n"
     ]
    },
    {
     "name": "stdout",
     "output_type": "stream",
     "text": [
      "Training Epoch 2; Loss 0.5649412280037287; \n"
     ]
    },
    {
     "name": "stderr",
     "output_type": "stream",
     "text": [
      "100%|██████████| 23/23 [00:02<00:00, 10.75it/s]\n"
     ]
    },
    {
     "name": "stdout",
     "output_type": "stream",
     "text": [
      "curent {'auc': 0.8377241275397257, 'spauc': 0.6741344837423593, 'metric': 0.7125926951294271, 'f1_neg': 0.6688524590163935, 'f1_pos': 0.7563329312424608, 'recall': 0.7187293547676723, 'recall_neg': 0.5690376569037657, 'recall_pos': 0.868421052631579, 'precision': 0.7405024978335117, 'precision_neg': 0.8111332007952287, 'precision_pos': 0.6698717948717948, 'acc': 0.7192494788047255}\n",
      "Max {'auc': 0.8100484088441761, 'spauc': 0.651098242482619, 'metric': 0.7368752539618042, 'f1_neg': 0.7476635514018691, 'f1_pos': 0.7260869565217392, 'recall': 0.7374689476388616, 'recall_neg': 0.7810320781032078, 'recall_pos': 0.6939058171745153, 'precision': 0.7392138128578045, 'precision_neg': 0.7170294494238156, 'precision_pos': 0.7613981762917933, 'acc': 0.7373175816539264}\n"
     ]
    },
    {
     "name": "stderr",
     "output_type": "stream",
     "text": [
      "Dataloader: loading items from current dataset: 100%|██████████| 6713/6713 [00:08<00:00, 819.03it/s]\n",
      "100%|██████████| 105/105 [00:18<00:00,  5.80it/s]\n"
     ]
    },
    {
     "name": "stdout",
     "output_type": "stream",
     "text": [
      "Training Epoch 3; Loss 0.4926979924951281; \n"
     ]
    },
    {
     "name": "stderr",
     "output_type": "stream",
     "text": [
      "100%|██████████| 23/23 [00:02<00:00, 10.50it/s]\n"
     ]
    },
    {
     "name": "stdout",
     "output_type": "stream",
     "text": [
      "curent {'auc': 0.8709670564872873, 'spauc': 0.6897610627944472, 'metric': 0.7859623705764178, 'f1_neg': 0.7861111111111111, 'f1_pos': 0.7858136300417247, 'recall': 0.7859743776971607, 'recall_neg': 0.7894002789400278, 'recall_pos': 0.7825484764542936, 'precision': 0.7859776922660856, 'precision_neg': 0.7828492392807745, 'precision_pos': 0.7891061452513967, 'acc': 0.7859624739402363}\n",
      "Max {'auc': 0.8709670564872873, 'spauc': 0.6897610627944472, 'metric': 0.7859623705764178, 'f1_neg': 0.7861111111111111, 'f1_pos': 0.7858136300417247, 'recall': 0.7859743776971607, 'recall_neg': 0.7894002789400278, 'recall_pos': 0.7825484764542936, 'precision': 0.7859776922660856, 'precision_neg': 0.7828492392807745, 'precision_pos': 0.7891061452513967, 'acc': 0.7859624739402363}\n"
     ]
    },
    {
     "name": "stderr",
     "output_type": "stream",
     "text": [
      "Dataloader: loading items from current dataset: 100%|██████████| 6713/6713 [00:08<00:00, 800.73it/s]\n",
      "100%|██████████| 105/105 [00:18<00:00,  5.82it/s]\n"
     ]
    },
    {
     "name": "stdout",
     "output_type": "stream",
     "text": [
      "Training Epoch 4; Loss 0.4527075634116218; \n"
     ]
    },
    {
     "name": "stderr",
     "output_type": "stream",
     "text": [
      "100%|██████████| 23/23 [00:02<00:00, 10.61it/s]\n"
     ]
    },
    {
     "name": "stdout",
     "output_type": "stream",
     "text": [
      "curent {'auc': 0.8709438758755512, 'spauc': 0.6934526768828096, 'metric': 0.791259694795273, 'f1_neg': 0.7986577181208053, 'f1_pos': 0.7838616714697406, 'recall': 0.7916545934313873, 'recall_neg': 0.8298465829846583, 'recall_pos': 0.7534626038781164, 'precision': 0.7932725739970242, 'precision_neg': 0.7697283311772316, 'precision_pos': 0.8168168168168168, 'acc': 0.7915218902015289}\n",
      "Max {'auc': 0.8709438758755512, 'spauc': 0.6934526768828096, 'metric': 0.791259694795273, 'f1_neg': 0.7986577181208053, 'f1_pos': 0.7838616714697406, 'recall': 0.7916545934313873, 'recall_neg': 0.8298465829846583, 'recall_pos': 0.7534626038781164, 'precision': 0.7932725739970242, 'precision_neg': 0.7697283311772316, 'precision_pos': 0.8168168168168168, 'acc': 0.7915218902015289}\n"
     ]
    },
    {
     "name": "stderr",
     "output_type": "stream",
     "text": [
      "Dataloader: loading items from current dataset: 100%|██████████| 6713/6713 [00:08<00:00, 821.61it/s]\n",
      "100%|██████████| 105/105 [00:18<00:00,  5.79it/s]\n"
     ]
    },
    {
     "name": "stdout",
     "output_type": "stream",
     "text": [
      "Training Epoch 5; Loss 0.40949921295756386; \n"
     ]
    },
    {
     "name": "stderr",
     "output_type": "stream",
     "text": [
      "100%|██████████| 23/23 [00:02<00:00, 10.61it/s]\n"
     ]
    },
    {
     "name": "stdout",
     "output_type": "stream",
     "text": [
      "curent {'auc': 0.8891541781120939, 'spauc': 0.7142206749502786, 'metric': 0.8066533271468894, 'f1_neg': 0.8121621621621622, 'f1_pos': 0.8011444921316166, 'recall': 0.8069190262597696, 'recall_neg': 0.8382147838214784, 'recall_pos': 0.775623268698061, 'precision': 0.8080412882812318, 'precision_neg': 0.7876802096985583, 'precision_pos': 0.8284023668639053, 'acc': 0.8068102849200834}\n",
      "Max {'auc': 0.8891541781120939, 'spauc': 0.7142206749502786, 'metric': 0.8066533271468894, 'f1_neg': 0.8121621621621622, 'f1_pos': 0.8011444921316166, 'recall': 0.8069190262597696, 'recall_neg': 0.8382147838214784, 'recall_pos': 0.775623268698061, 'precision': 0.8080412882812318, 'precision_neg': 0.7876802096985583, 'precision_pos': 0.8284023668639053, 'acc': 0.8068102849200834}\n"
     ]
    },
    {
     "name": "stderr",
     "output_type": "stream",
     "text": [
      "Dataloader: loading items from current dataset: 100%|██████████| 6713/6713 [00:08<00:00, 819.66it/s]\n",
      "100%|██████████| 105/105 [00:18<00:00,  5.75it/s]\n"
     ]
    },
    {
     "name": "stdout",
     "output_type": "stream",
     "text": [
      "Training Epoch 6; Loss 0.38291383101826615; \n"
     ]
    },
    {
     "name": "stderr",
     "output_type": "stream",
     "text": [
      "100%|██████████| 23/23 [00:02<00:00, 10.63it/s]\n"
     ]
    },
    {
     "name": "stdout",
     "output_type": "stream",
     "text": [
      "curent {'auc': 0.881297882451118, 'spauc': 0.7109987732576263, 'metric': 0.7663841518849843, 'f1_neg': 0.7347266881028939, 'f1_pos': 0.7980416156670747, 'recall': 0.7702125275752694, 'recall_neg': 0.6373779637377964, 'recall_pos': 0.9030470914127424, 'precision': 0.791042478111788, 'precision_neg': 0.8671726755218216, 'precision_pos': 0.7149122807017544, 'acc': 0.7706740792216817}\n",
      "Max {'auc': 0.8891541781120939, 'spauc': 0.7142206749502786, 'metric': 0.8066533271468894, 'f1_neg': 0.8121621621621622, 'f1_pos': 0.8011444921316166, 'recall': 0.8069190262597696, 'recall_neg': 0.8382147838214784, 'recall_pos': 0.775623268698061, 'precision': 0.8080412882812318, 'precision_neg': 0.7876802096985583, 'precision_pos': 0.8284023668639053, 'acc': 0.8068102849200834}\n"
     ]
    },
    {
     "name": "stderr",
     "output_type": "stream",
     "text": [
      "Dataloader: loading items from current dataset: 100%|██████████| 6713/6713 [00:08<00:00, 815.41it/s]\n",
      "100%|██████████| 105/105 [00:17<00:00,  5.87it/s]\n"
     ]
    },
    {
     "name": "stdout",
     "output_type": "stream",
     "text": [
      "Training Epoch 7; Loss 0.3509956185306822; \n"
     ]
    },
    {
     "name": "stderr",
     "output_type": "stream",
     "text": [
      "100%|██████████| 23/23 [00:02<00:00, 10.46it/s]\n"
     ]
    },
    {
     "name": "stdout",
     "output_type": "stream",
     "text": [
      "curent {'auc': 0.8851613177405085, 'spauc': 0.7078226227723483, 'metric': 0.7990107876726398, 'f1_neg': 0.7934238741958541, 'f1_pos': 0.8045977011494253, 'recall': 0.7990791501987737, 'recall_neg': 0.7740585774058577, 'recall_pos': 0.8240997229916898, 'precision': 0.79989017459721, 'precision_neg': 0.8137829912023461, 'precision_pos': 0.7859973579920739, 'acc': 0.7991660875608061}\n",
      "Max {'auc': 0.8891541781120939, 'spauc': 0.7142206749502786, 'metric': 0.8066533271468894, 'f1_neg': 0.8121621621621622, 'f1_pos': 0.8011444921316166, 'recall': 0.8069190262597696, 'recall_neg': 0.8382147838214784, 'recall_pos': 0.775623268698061, 'precision': 0.8080412882812318, 'precision_neg': 0.7876802096985583, 'precision_pos': 0.8284023668639053, 'acc': 0.8068102849200834}\n"
     ]
    },
    {
     "name": "stderr",
     "output_type": "stream",
     "text": [
      "Dataloader: loading items from current dataset: 100%|██████████| 6713/6713 [00:08<00:00, 803.91it/s]\n",
      "100%|██████████| 105/105 [00:17<00:00,  5.84it/s]\n"
     ]
    },
    {
     "name": "stdout",
     "output_type": "stream",
     "text": [
      "Training Epoch 8; Loss 0.3348345349232355; \n"
     ]
    },
    {
     "name": "stderr",
     "output_type": "stream",
     "text": [
      "100%|██████████| 23/23 [00:02<00:00, 10.54it/s]\n"
     ]
    },
    {
     "name": "stdout",
     "output_type": "stream",
     "text": [
      "curent {'auc': 0.8994985260994371, 'spauc': 0.722197652129373, 'metric': 0.810232133497895, 'f1_neg': 0.8133971291866029, 'f1_pos': 0.8070671378091873, 'recall': 0.8103526543732156, 'recall_neg': 0.8298465829846583, 'recall_pos': 0.7908587257617729, 'precision': 0.8107704776605581, 'precision_neg': 0.7975871313672922, 'precision_pos': 0.823953823953824, 'acc': 0.8102849200833913}\n",
      "Max {'auc': 0.8994985260994371, 'spauc': 0.722197652129373, 'metric': 0.810232133497895, 'f1_neg': 0.8133971291866029, 'f1_pos': 0.8070671378091873, 'recall': 0.8103526543732156, 'recall_neg': 0.8298465829846583, 'recall_pos': 0.7908587257617729, 'precision': 0.8107704776605581, 'precision_neg': 0.7975871313672922, 'precision_pos': 0.823953823953824, 'acc': 0.8102849200833913}\n"
     ]
    },
    {
     "name": "stderr",
     "output_type": "stream",
     "text": [
      "Dataloader: loading items from current dataset: 100%|██████████| 6713/6713 [00:08<00:00, 799.11it/s]\n",
      "100%|██████████| 105/105 [00:18<00:00,  5.82it/s]\n"
     ]
    },
    {
     "name": "stdout",
     "output_type": "stream",
     "text": [
      "Training Epoch 9; Loss 0.29855602298464107; \n"
     ]
    },
    {
     "name": "stderr",
     "output_type": "stream",
     "text": [
      "100%|██████████| 23/23 [00:02<00:00, 10.69it/s]\n"
     ]
    },
    {
     "name": "stdout",
     "output_type": "stream",
     "text": [
      "curent {'auc': 0.9025100739075171, 'spauc': 0.7246305996681919, 'metric': 0.8233451262421219, 'f1_neg': 0.8183118741058655, 'f1_pos': 0.8283783783783784, 'recall': 0.8233994753454876, 'recall_neg': 0.797768479776848, 'recall_pos': 0.8490304709141274, 'precision': 0.824324193429653, 'precision_neg': 0.8399412628487518, 'precision_pos': 0.8087071240105541, 'acc': 0.8234885337039611}\n",
      "Max {'auc': 0.9025100739075171, 'spauc': 0.7246305996681919, 'metric': 0.8233451262421219, 'f1_neg': 0.8183118741058655, 'f1_pos': 0.8283783783783784, 'recall': 0.8233994753454876, 'recall_neg': 0.797768479776848, 'recall_pos': 0.8490304709141274, 'precision': 0.824324193429653, 'precision_neg': 0.8399412628487518, 'precision_pos': 0.8087071240105541, 'acc': 0.8234885337039611}\n"
     ]
    },
    {
     "name": "stderr",
     "output_type": "stream",
     "text": [
      "Dataloader: loading items from current dataset: 100%|██████████| 6713/6713 [00:08<00:00, 805.93it/s]\n",
      "100%|██████████| 105/105 [00:18<00:00,  5.77it/s]\n"
     ]
    },
    {
     "name": "stdout",
     "output_type": "stream",
     "text": [
      "Training Epoch 10; Loss 0.2792772660652797; \n"
     ]
    },
    {
     "name": "stderr",
     "output_type": "stream",
     "text": [
      "100%|██████████| 23/23 [00:02<00:00, 10.47it/s]\n"
     ]
    },
    {
     "name": "stdout",
     "output_type": "stream",
     "text": [
      "curent {'auc': 0.8943543620116136, 'spauc': 0.7120591845752142, 'metric': 0.8213868463312445, 'f1_neg': 0.8196491228070175, 'f1_pos': 0.8231245698554714, 'recall': 0.8213798645479587, 'recall_neg': 0.8145048814504882, 'recall_pos': 0.8282548476454293, 'precision': 0.8214581063012513, 'precision_neg': 0.8248587570621468, 'precision_pos': 0.8180574555403557, 'acc': 0.8214037526059764}\n",
      "Max {'auc': 0.9025100739075171, 'spauc': 0.7246305996681919, 'metric': 0.8233451262421219, 'f1_neg': 0.8183118741058655, 'f1_pos': 0.8283783783783784, 'recall': 0.8233994753454876, 'recall_neg': 0.797768479776848, 'recall_pos': 0.8490304709141274, 'precision': 0.824324193429653, 'precision_neg': 0.8399412628487518, 'precision_pos': 0.8087071240105541, 'acc': 0.8234885337039611}\n"
     ]
    },
    {
     "name": "stderr",
     "output_type": "stream",
     "text": [
      "Dataloader: loading items from current dataset: 100%|██████████| 1439/1439 [00:01<00:00, 1239.15it/s]\n",
      "100%|██████████| 23/23 [00:02<00:00, 10.65it/s]\n"
     ]
    },
    {
     "name": "stdout",
     "output_type": "stream",
     "text": [
      "future results: {'auc': 0.8943543620116136, 'spauc': 0.7120591845752142, 'metric': 0.8213868463312445, 'f1_neg': 0.8196491228070175, 'f1_pos': 0.8231245698554714, 'recall': 0.8213798645479587, 'recall_neg': 0.8145048814504882, 'recall_pos': 0.8282548476454293, 'precision': 0.8214581063012513, 'precision_neg': 0.8248587570621468, 'precision_pos': 0.8180574555403557, 'acc': 0.8214037526059764}\n",
      "best model path: ./param_model/bigru_seosent/parameter_bigruendef.pkl\n",
      "best metric: {'metric': 0.8213868463312445}\n"
     ]
    },
    {
     "ename": "FileNotFoundError",
     "evalue": "[Errno 2] No such file or directory: './logs/json/bigru_seosent0.1.json'",
     "output_type": "error",
     "traceback": [
      "\u001b[0;31m---------------------------------------------------------------------------\u001b[0m",
      "\u001b[0;31mFileNotFoundError\u001b[0m                         Traceback (most recent call last)",
      "Cell \u001b[0;32mIn[1], line 65\u001b[0m\n\u001b[1;32m     43\u001b[0m config \u001b[38;5;241m=\u001b[39m {\n\u001b[1;32m     44\u001b[0m         \u001b[38;5;124m'\u001b[39m\u001b[38;5;124muse_cuda\u001b[39m\u001b[38;5;124m'\u001b[39m: \u001b[38;5;28;01mTrue\u001b[39;00m,\n\u001b[1;32m     45\u001b[0m         \u001b[38;5;124m'\u001b[39m\u001b[38;5;124mbatchsize\u001b[39m\u001b[38;5;124m'\u001b[39m: args[\u001b[38;5;124m'\u001b[39m\u001b[38;5;124mbatchsize\u001b[39m\u001b[38;5;124m'\u001b[39m],\n\u001b[0;32m   (...)\u001b[0m\n\u001b[1;32m     61\u001b[0m         \u001b[38;5;124m'\u001b[39m\u001b[38;5;124mparam_log_dir\u001b[39m\u001b[38;5;124m'\u001b[39m: args[\u001b[38;5;124m'\u001b[39m\u001b[38;5;124mparam_log_dir\u001b[39m\u001b[38;5;124m'\u001b[39m]\n\u001b[1;32m     62\u001b[0m }\n\u001b[1;32m     64\u001b[0m \u001b[38;5;66;03m# 不需要检查 __name__ == '__main__' 在 Jupyter 中\u001b[39;00m\n\u001b[0;32m---> 65\u001b[0m \u001b[43mRun\u001b[49m\u001b[43m(\u001b[49m\u001b[43mconfig\u001b[49m\u001b[38;5;241;43m=\u001b[39;49m\u001b[43mconfig\u001b[49m\u001b[43m)\u001b[49m\u001b[38;5;241;43m.\u001b[39;49m\u001b[43mmain\u001b[49m\u001b[43m(\u001b[49m\u001b[43m)\u001b[49m\n",
      "File \u001b[0;32m/mySeoSent/mySeoSent_ch/mySeoSent_ch/grid_search.py:99\u001b[0m, in \u001b[0;36mRun.main\u001b[0;34m(self)\u001b[0m\n\u001b[1;32m     97\u001b[0m     logger\u001b[38;5;241m.\u001b[39minfo(\u001b[38;5;124m\"\u001b[39m\u001b[38;5;124mbest metric:\u001b[39m\u001b[38;5;124m\"\u001b[39m \u001b[38;5;241m+\u001b[39m \u001b[38;5;28mstr\u001b[39m(best_metric))\n\u001b[1;32m     98\u001b[0m     logger\u001b[38;5;241m.\u001b[39minfo(\u001b[38;5;124m'\u001b[39m\u001b[38;5;124m--------------------------------------\u001b[39m\u001b[38;5;130;01m\\n\u001b[39;00m\u001b[38;5;124m'\u001b[39m)\n\u001b[0;32m---> 99\u001b[0m \u001b[38;5;28;01mwith\u001b[39;00m \u001b[38;5;28;43mopen\u001b[39;49m\u001b[43m(\u001b[49m\u001b[43mjson_path\u001b[49m\u001b[43m,\u001b[49m\u001b[43m \u001b[49m\u001b[38;5;124;43m'\u001b[39;49m\u001b[38;5;124;43mw\u001b[39;49m\u001b[38;5;124;43m'\u001b[39;49m\u001b[43m)\u001b[49m \u001b[38;5;28;01mas\u001b[39;00m file:\n\u001b[1;32m    100\u001b[0m     json\u001b[38;5;241m.\u001b[39mdump(json_result, file, indent\u001b[38;5;241m=\u001b[39m\u001b[38;5;241m4\u001b[39m, ensure_ascii\u001b[38;5;241m=\u001b[39m\u001b[38;5;28;01mFalse\u001b[39;00m)\n",
      "\u001b[0;31mFileNotFoundError\u001b[0m: [Errno 2] No such file or directory: './logs/json/bigru_seosent0.1.json'"
     ]
    }
   ],
   "source": [
    "import os\n",
    "import torch\n",
    "import numpy as np\n",
    "import random\n",
    "from grid_search import Run\n",
    "\n",
    "import warnings\n",
    "\n",
    "# 忽略特定的警告\n",
    "warnings.filterwarnings(\"ignore\", category=FutureWarning)\n",
    "\n",
    "# 直接设置参数\n",
    "args = {\n",
    "    'model_name': 'bigru_seomis',\n",
    "    'epoch': 10,\n",
    "    'aug_prob': 0.1,\n",
    "    'max_len': 384,\n",
    "    'early_stop': 4,\n",
    "    'root_path': './data/',\n",
    "    'batchsize':64,\n",
    "    'seed': 2023,\n",
    "    'gpu': '0',\n",
    "    'emb_dim': 768,\n",
    "    'lr': 0.0001,\n",
    "    'emb_type': 'bert',\n",
    "    'save_log_dir': './logs',\n",
    "    'save_param_dir': './param_model',\n",
    "    'param_log_dir': './logs/param'\n",
    "}\n",
    "\n",
    "os.environ[\"CUDA_VISIBLE_DEVICES\"] = args['gpu']\n",
    "\n",
    "seed = args['seed']\n",
    "random.seed(seed)\n",
    "np.random.seed(seed)\n",
    "torch.manual_seed(seed)\n",
    "torch.cuda.manual_seed(seed)\n",
    "torch.backends.cudnn.benchmark = False\n",
    "torch.backends.cudnn.deterministic = True\n",
    "\n",
    "print('lr: {}; model name: {}; batchsize: {}; epoch: {}; gpu: {}'.format(args['lr'], args['model_name'], args['batchsize'], args['epoch'], args['gpu']))\n",
    "\n",
    "config = {\n",
    "        'use_cuda': True,\n",
    "        'batchsize': args['batchsize'],\n",
    "        'max_len': args['max_len'],\n",
    "        'early_stop': args['early_stop'],\n",
    "        'root_path': args['root_path'],\n",
    "        'aug_prob': args['aug_prob'],\n",
    "        'weight_decay': 5e-5,\n",
    "        'model': {\n",
    "            'mlp': {'dims': [384], 'dropout': 0.2}\n",
    "        },\n",
    "        'emb_dim': args['emb_dim'],\n",
    "        'lr': args['lr'],\n",
    "        'epoch': args['epoch'],\n",
    "        'model_name': args['model_name'],\n",
    "        'seed': args['seed'],\n",
    "        'save_log_dir': args['save_log_dir'],\n",
    "        'save_param_dir': args['save_param_dir'],\n",
    "        'param_log_dir': args['param_log_dir']\n",
    "}\n",
    "\n",
    "# 不需要检查 __name__ == '__main__' 在 Jupyter 中\n",
    "Run(config=config).main()"
   ]
  },
  {
   "cell_type": "code",
   "execution_count": 1,
   "id": "07acbea0-e176-4fd4-a0cb-de4cdaa40ff1",
   "metadata": {},
   "outputs": [
    {
     "name": "stderr",
     "output_type": "stream",
     "text": [
      "/usr/local/lib/python3.11/dist-packages/tqdm/auto.py:21: TqdmWarning: IProgress not found. Please update jupyter and ipywidgets. See https://ipywidgets.readthedocs.io/en/stable/user_install.html\n",
      "  from .autonotebook import tqdm as notebook_tqdm\n"
     ]
    },
    {
     "name": "stdout",
     "output_type": "stream",
     "text": [
      "lr: 0.0001; model name: bigru_seosent; batchsize: 64; epoch: 9; gpu: 0\n",
      "{'lr': [0.0001]}\n",
      "lr: 0.0001\n"
     ]
    },
    {
     "name": "stderr",
     "output_type": "stream",
     "text": [
      "Dataloader: loading items from current dataset: 100%|██████████| 1438/1438 [00:01<00:00, 1183.35it/s]\n",
      "Dataloader: loading items from current dataset:   0%|          | 0/6713 [00:00<?, ?it/s]Building prefix dict from the default dictionary ...\n",
      "Loading model from cache /tmp/jieba.cache\n",
      "Loading model cost 0.769 seconds.\n",
      "Prefix dict has been built successfully.\n",
      "Dataloader: loading items from current dataset: 100%|██████████| 6713/6713 [00:09<00:00, 744.28it/s]\n",
      "100%|██████████| 105/105 [00:20<00:00,  5.09it/s]\n"
     ]
    },
    {
     "name": "stdout",
     "output_type": "stream",
     "text": [
      "Training Epoch 1; Loss 0.7234918696539743; \n"
     ]
    },
    {
     "name": "stderr",
     "output_type": "stream",
     "text": [
      "100%|██████████| 23/23 [00:02<00:00, 10.51it/s]\n"
     ]
    },
    {
     "name": "stdout",
     "output_type": "stream",
     "text": [
      "curent {'auc': 0.859091788561257, 'spauc': 0.6643733783029666, 'metric': 0.7723644980528119, 'f1_neg': 0.7578008915304606, 'f1_pos': 0.7869281045751634, 'recall': 0.7724982586487115, 'recall_neg': 0.7203389830508474, 'recall_pos': 0.8246575342465754, 'precision': 0.7759365203761754, 'precision_neg': 0.799373040752351, 'precision_pos': 0.7525, 'acc': 0.7732962447844228}\n",
      "Max {'auc': 0.859091788561257, 'spauc': 0.6643733783029666, 'metric': 0.7723644980528119, 'f1_neg': 0.7578008915304606, 'f1_pos': 0.7869281045751634, 'recall': 0.7724982586487115, 'recall_neg': 0.7203389830508474, 'recall_pos': 0.8246575342465754, 'precision': 0.7759365203761754, 'precision_neg': 0.799373040752351, 'precision_pos': 0.7525, 'acc': 0.7732962447844228}\n"
     ]
    },
    {
     "name": "stderr",
     "output_type": "stream",
     "text": [
      "Dataloader: loading items from current dataset: 100%|██████████| 6713/6713 [00:08<00:00, 807.84it/s]\n",
      "100%|██████████| 105/105 [00:18<00:00,  5.68it/s]\n"
     ]
    },
    {
     "name": "stdout",
     "output_type": "stream",
     "text": [
      "Training Epoch 2; Loss 0.5579524536927541; \n"
     ]
    },
    {
     "name": "stderr",
     "output_type": "stream",
     "text": [
      "100%|██████████| 23/23 [00:02<00:00, 10.53it/s]\n"
     ]
    },
    {
     "name": "stdout",
     "output_type": "stream",
     "text": [
      "curent {'auc': 0.8977439826638804, 'spauc': 0.7116933266530617, 'metric': 0.8205560284785637, 'f1_neg': 0.8183098591549296, 'f1_pos': 0.8228021978021978, 'recall': 0.8205847070660166, 'recall_neg': 0.8206214689265536, 'recall_pos': 0.8205479452054795, 'precision': 0.8205400532392361, 'precision_neg': 0.8160112359550562, 'precision_pos': 0.8250688705234159, 'acc': 0.8205841446453408}\n",
      "Max {'auc': 0.8977439826638804, 'spauc': 0.7116933266530617, 'metric': 0.8205560284785637, 'f1_neg': 0.8183098591549296, 'f1_pos': 0.8228021978021978, 'recall': 0.8205847070660166, 'recall_neg': 0.8206214689265536, 'recall_pos': 0.8205479452054795, 'precision': 0.8205400532392361, 'precision_neg': 0.8160112359550562, 'precision_pos': 0.8250688705234159, 'acc': 0.8205841446453408}\n"
     ]
    },
    {
     "name": "stderr",
     "output_type": "stream",
     "text": [
      "Dataloader: loading items from current dataset: 100%|██████████| 6713/6713 [00:08<00:00, 820.36it/s]\n",
      "100%|██████████| 105/105 [00:18<00:00,  5.75it/s]\n"
     ]
    },
    {
     "name": "stdout",
     "output_type": "stream",
     "text": [
      "Training Epoch 3; Loss 0.4895322717371441; \n"
     ]
    },
    {
     "name": "stderr",
     "output_type": "stream",
     "text": [
      "100%|██████████| 23/23 [00:02<00:00, 10.68it/s]\n"
     ]
    },
    {
     "name": "stdout",
     "output_type": "stream",
     "text": [
      "curent {'auc': 0.9161268477672007, 'spauc': 0.7458156652369256, 'metric': 0.8378940656050682, 'f1_neg': 0.8343994314143568, 'f1_pos': 0.8413886997957795, 'recall': 0.8378356938317468, 'recall_neg': 0.8290960451977402, 'recall_pos': 0.8465753424657534, 'precision': 0.838018162424186, 'precision_neg': 0.8397711015736766, 'precision_pos': 0.8362652232746955, 'acc': 0.8379694019471489}\n",
      "Max {'auc': 0.9161268477672007, 'spauc': 0.7458156652369256, 'metric': 0.8378940656050682, 'f1_neg': 0.8343994314143568, 'f1_pos': 0.8413886997957795, 'recall': 0.8378356938317468, 'recall_neg': 0.8290960451977402, 'recall_pos': 0.8465753424657534, 'precision': 0.838018162424186, 'precision_neg': 0.8397711015736766, 'precision_pos': 0.8362652232746955, 'acc': 0.8379694019471489}\n"
     ]
    },
    {
     "name": "stderr",
     "output_type": "stream",
     "text": [
      "Dataloader: loading items from current dataset: 100%|██████████| 6713/6713 [00:08<00:00, 832.48it/s]\n",
      "100%|██████████| 105/105 [00:18<00:00,  5.75it/s]\n"
     ]
    },
    {
     "name": "stdout",
     "output_type": "stream",
     "text": [
      "Training Epoch 4; Loss 0.44020208716392517; \n"
     ]
    },
    {
     "name": "stderr",
     "output_type": "stream",
     "text": [
      "100%|██████████| 23/23 [00:02<00:00, 10.45it/s]\n"
     ]
    },
    {
     "name": "stdout",
     "output_type": "stream",
     "text": [
      "curent {'auc': 0.9203689729897067, 'spauc': 0.7541690597517708, 'metric': 0.841756095952934, 'f1_neg': 0.8339429407461595, 'f1_pos': 0.8495692511597084, 'recall': 0.8415834687717669, 'recall_neg': 0.8050847457627118, 'recall_pos': 0.8780821917808219, 'precision': 0.8438983483357716, 'precision_neg': 0.8649468892261002, 'precision_pos': 0.8228498074454429, 'acc': 0.8421418636995828}\n",
      "Max {'auc': 0.9203689729897067, 'spauc': 0.7541690597517708, 'metric': 0.841756095952934, 'f1_neg': 0.8339429407461595, 'f1_pos': 0.8495692511597084, 'recall': 0.8415834687717669, 'recall_neg': 0.8050847457627118, 'recall_pos': 0.8780821917808219, 'precision': 0.8438983483357716, 'precision_neg': 0.8649468892261002, 'precision_pos': 0.8228498074454429, 'acc': 0.8421418636995828}\n"
     ]
    },
    {
     "name": "stderr",
     "output_type": "stream",
     "text": [
      "Dataloader: loading items from current dataset: 100%|██████████| 6713/6713 [00:08<00:00, 820.97it/s]\n",
      "100%|██████████| 105/105 [00:18<00:00,  5.73it/s]\n"
     ]
    },
    {
     "name": "stdout",
     "output_type": "stream",
     "text": [
      "Training Epoch 5; Loss 0.40479628386951627; \n"
     ]
    },
    {
     "name": "stderr",
     "output_type": "stream",
     "text": [
      "100%|██████████| 23/23 [00:02<00:00, 10.58it/s]\n"
     ]
    },
    {
     "name": "stdout",
     "output_type": "stream",
     "text": [
      "curent {'auc': 0.9241622165467069, 'spauc': 0.7647913026122306, 'metric': 0.8484061920828202, 'f1_neg': 0.8381804623415362, 'f1_pos': 0.8586319218241042, 'recall': 0.8482625183809303, 'recall_neg': 0.7937853107344632, 'recall_pos': 0.9027397260273973, 'precision': 0.8532346216871253, 'precision_neg': 0.8878357030015798, 'precision_pos': 0.8186335403726708, 'acc': 0.849095966620306}\n",
      "Max {'auc': 0.9241622165467069, 'spauc': 0.7647913026122306, 'metric': 0.8484061920828202, 'f1_neg': 0.8381804623415362, 'f1_pos': 0.8586319218241042, 'recall': 0.8482625183809303, 'recall_neg': 0.7937853107344632, 'recall_pos': 0.9027397260273973, 'precision': 0.8532346216871253, 'precision_neg': 0.8878357030015798, 'precision_pos': 0.8186335403726708, 'acc': 0.849095966620306}\n"
     ]
    },
    {
     "name": "stderr",
     "output_type": "stream",
     "text": [
      "Dataloader: loading items from current dataset: 100%|██████████| 6713/6713 [00:08<00:00, 820.45it/s]\n",
      "100%|██████████| 105/105 [00:18<00:00,  5.58it/s]\n"
     ]
    },
    {
     "name": "stdout",
     "output_type": "stream",
     "text": [
      "Training Epoch 6; Loss 0.3885607603050414; \n"
     ]
    },
    {
     "name": "stderr",
     "output_type": "stream",
     "text": [
      "100%|██████████| 23/23 [00:02<00:00, 10.79it/s]\n"
     ]
    },
    {
     "name": "stdout",
     "output_type": "stream",
     "text": [
      "curent {'auc': 0.9279293398343781, 'spauc': 0.774259772952232, 'metric': 0.850922662243417, 'f1_neg': 0.8447024673439768, 'f1_pos': 0.8571428571428571, 'recall': 0.8507429765498027, 'recall_neg': 0.8220338983050848, 'recall_pos': 0.8794520547945206, 'precision': 0.8522971082089552, 'precision_neg': 0.8686567164179104, 'precision_pos': 0.8359375, 'acc': 0.8511821974965229}\n",
      "Max {'auc': 0.9279293398343781, 'spauc': 0.774259772952232, 'metric': 0.850922662243417, 'f1_neg': 0.8447024673439768, 'f1_pos': 0.8571428571428571, 'recall': 0.8507429765498027, 'recall_neg': 0.8220338983050848, 'recall_pos': 0.8794520547945206, 'precision': 0.8522971082089552, 'precision_neg': 0.8686567164179104, 'precision_pos': 0.8359375, 'acc': 0.8511821974965229}\n"
     ]
    },
    {
     "name": "stderr",
     "output_type": "stream",
     "text": [
      "Dataloader: loading items from current dataset: 100%|██████████| 6713/6713 [00:08<00:00, 819.62it/s]\n",
      "100%|██████████| 105/105 [00:18<00:00,  5.68it/s]\n"
     ]
    },
    {
     "name": "stdout",
     "output_type": "stream",
     "text": [
      "Training Epoch 7; Loss 0.3466483710777192; \n"
     ]
    },
    {
     "name": "stderr",
     "output_type": "stream",
     "text": [
      "100%|██████████| 23/23 [00:02<00:00, 10.57it/s]\n"
     ]
    },
    {
     "name": "stdout",
     "output_type": "stream",
     "text": [
      "curent {'auc': 0.932822536955344, 'spauc': 0.7729298286347399, 'metric': 0.8595138050577273, 'f1_neg': 0.8581460674157303, 'f1_pos': 0.8608815426997245, 'recall': 0.8595793669220648, 'recall_neg': 0.8629943502824858, 'recall_pos': 0.8561643835616438, 'precision': 0.8595014624181743, 'precision_neg': 0.8533519553072626, 'precision_pos': 0.8656509695290858, 'acc': 0.8595271210013908}\n",
      "Max {'auc': 0.932822536955344, 'spauc': 0.7729298286347399, 'metric': 0.8595138050577273, 'f1_neg': 0.8581460674157303, 'f1_pos': 0.8608815426997245, 'recall': 0.8595793669220648, 'recall_neg': 0.8629943502824858, 'recall_pos': 0.8561643835616438, 'precision': 0.8595014624181743, 'precision_neg': 0.8533519553072626, 'precision_pos': 0.8656509695290858, 'acc': 0.8595271210013908}\n"
     ]
    },
    {
     "name": "stderr",
     "output_type": "stream",
     "text": [
      "Dataloader: loading items from current dataset: 100%|██████████| 6713/6713 [00:08<00:00, 822.40it/s]\n",
      "100%|██████████| 105/105 [00:18<00:00,  5.61it/s]\n"
     ]
    },
    {
     "name": "stdout",
     "output_type": "stream",
     "text": [
      "Training Epoch 8; Loss 0.3287573128938675; \n"
     ]
    },
    {
     "name": "stderr",
     "output_type": "stream",
     "text": [
      "100%|██████████| 23/23 [00:02<00:00, 10.40it/s]\n"
     ]
    },
    {
     "name": "stdout",
     "output_type": "stream",
     "text": [
      "curent {'auc': 0.9329366922064856, 'spauc': 0.7879950631163468, 'metric': 0.8453844320843431, 'f1_neg': 0.8514056224899599, 'f1_pos': 0.8393632416787264, 'recall': 0.846412816345484, 'recall_neg': 0.8983050847457628, 'recall_pos': 0.7945205479452054, 'precision': 0.8493654287453754, 'precision_neg': 0.8091603053435115, 'precision_pos': 0.8895705521472392, 'acc': 0.8456189151599444}\n",
      "Max {'auc': 0.932822536955344, 'spauc': 0.7729298286347399, 'metric': 0.8595138050577273, 'f1_neg': 0.8581460674157303, 'f1_pos': 0.8608815426997245, 'recall': 0.8595793669220648, 'recall_neg': 0.8629943502824858, 'recall_pos': 0.8561643835616438, 'precision': 0.8595014624181743, 'precision_neg': 0.8533519553072626, 'precision_pos': 0.8656509695290858, 'acc': 0.8595271210013908}\n"
     ]
    },
    {
     "name": "stderr",
     "output_type": "stream",
     "text": [
      "Dataloader: loading items from current dataset: 100%|██████████| 6713/6713 [00:08<00:00, 820.31it/s]\n",
      "100%|██████████| 105/105 [00:18<00:00,  5.64it/s]\n"
     ]
    },
    {
     "name": "stdout",
     "output_type": "stream",
     "text": [
      "Training Epoch 9; Loss 0.2910165603671755; \n"
     ]
    },
    {
     "name": "stderr",
     "output_type": "stream",
     "text": [
      "100%|██████████| 23/23 [00:02<00:00, 10.35it/s]\n"
     ]
    },
    {
     "name": "stdout",
     "output_type": "stream",
     "text": [
      "curent {'auc': 0.9370520857518768, 'spauc': 0.7910052586772247, 'metric': 0.8616079308895652, 'f1_neg': 0.8624740843123704, 'f1_pos': 0.86074177746676, 'recall': 0.8619108428140236, 'recall_neg': 0.8813559322033898, 'recall_pos': 0.8424657534246576, 'precision': 0.8621063146462857, 'precision_neg': 0.8443843031123139, 'precision_pos': 0.8798283261802575, 'acc': 0.8616133518776078}\n",
      "Max {'auc': 0.9370520857518768, 'spauc': 0.7910052586772247, 'metric': 0.8616079308895652, 'f1_neg': 0.8624740843123704, 'f1_pos': 0.86074177746676, 'recall': 0.8619108428140236, 'recall_neg': 0.8813559322033898, 'recall_pos': 0.8424657534246576, 'precision': 0.8621063146462857, 'precision_neg': 0.8443843031123139, 'precision_pos': 0.8798283261802575, 'acc': 0.8616133518776078}\n"
     ]
    },
    {
     "name": "stderr",
     "output_type": "stream",
     "text": [
      "Dataloader: loading items from current dataset: 100%|██████████| 1439/1439 [00:01<00:00, 1239.27it/s]\n",
      "100%|██████████| 23/23 [00:02<00:00, 10.08it/s]\n"
     ]
    },
    {
     "name": "stdout",
     "output_type": "stream",
     "text": [
      "future results: {'auc': 0.9044669038815935, 'spauc': 0.7439355757931785, 'metric': 0.8177952832012372, 'f1_neg': 0.8227334235453315, 'f1_pos': 0.8128571428571428, 'recall': 0.8180331637285241, 'recall_neg': 0.8479776847977685, 'recall_pos': 0.7880886426592798, 'precision': 0.819090894995329, 'precision_neg': 0.7989487516425755, 'precision_pos': 0.8392330383480826, 'acc': 0.8179291174426685}\n",
      "best model path: ./param_model/bigru_seosent/parameter_bigruendef.pkl\n",
      "best metric: {'metric': 0.8177952832012372}\n"
     ]
    },
    {
     "ename": "FileNotFoundError",
     "evalue": "[Errno 2] No such file or directory: './logs/json/bigru_seosent0.1.json'",
     "output_type": "error",
     "traceback": [
      "\u001b[0;31m---------------------------------------------------------------------------\u001b[0m",
      "\u001b[0;31mFileNotFoundError\u001b[0m                         Traceback (most recent call last)",
      "Cell \u001b[0;32mIn[1], line 65\u001b[0m\n\u001b[1;32m     43\u001b[0m config \u001b[38;5;241m=\u001b[39m {\n\u001b[1;32m     44\u001b[0m         \u001b[38;5;124m'\u001b[39m\u001b[38;5;124muse_cuda\u001b[39m\u001b[38;5;124m'\u001b[39m: \u001b[38;5;28;01mTrue\u001b[39;00m,\n\u001b[1;32m     45\u001b[0m         \u001b[38;5;124m'\u001b[39m\u001b[38;5;124mbatchsize\u001b[39m\u001b[38;5;124m'\u001b[39m: args[\u001b[38;5;124m'\u001b[39m\u001b[38;5;124mbatchsize\u001b[39m\u001b[38;5;124m'\u001b[39m],\n\u001b[0;32m   (...)\u001b[0m\n\u001b[1;32m     61\u001b[0m         \u001b[38;5;124m'\u001b[39m\u001b[38;5;124mparam_log_dir\u001b[39m\u001b[38;5;124m'\u001b[39m: args[\u001b[38;5;124m'\u001b[39m\u001b[38;5;124mparam_log_dir\u001b[39m\u001b[38;5;124m'\u001b[39m]\n\u001b[1;32m     62\u001b[0m }\n\u001b[1;32m     64\u001b[0m \u001b[38;5;66;03m# 不需要检查 __name__ == '__main__' 在 Jupyter 中\u001b[39;00m\n\u001b[0;32m---> 65\u001b[0m \u001b[43mRun\u001b[49m\u001b[43m(\u001b[49m\u001b[43mconfig\u001b[49m\u001b[38;5;241;43m=\u001b[39;49m\u001b[43mconfig\u001b[49m\u001b[43m)\u001b[49m\u001b[38;5;241;43m.\u001b[39;49m\u001b[43mmain\u001b[49m\u001b[43m(\u001b[49m\u001b[43m)\u001b[49m\n",
      "File \u001b[0;32m/mySeoSent/mySeoSent_ch/mySeoSent_ch/grid_search.py:106\u001b[0m, in \u001b[0;36mRun.main\u001b[0;34m(self)\u001b[0m\n\u001b[1;32m    104\u001b[0m     logger\u001b[38;5;241m.\u001b[39minfo(\u001b[38;5;124m\"\u001b[39m\u001b[38;5;124mbest metric:\u001b[39m\u001b[38;5;124m\"\u001b[39m \u001b[38;5;241m+\u001b[39m \u001b[38;5;28mstr\u001b[39m(best_metric))\n\u001b[1;32m    105\u001b[0m     logger\u001b[38;5;241m.\u001b[39minfo(\u001b[38;5;124m'\u001b[39m\u001b[38;5;124m--------------------------------------\u001b[39m\u001b[38;5;130;01m\\n\u001b[39;00m\u001b[38;5;124m'\u001b[39m)\n\u001b[0;32m--> 106\u001b[0m \u001b[38;5;28;01mwith\u001b[39;00m \u001b[38;5;28;43mopen\u001b[39;49m\u001b[43m(\u001b[49m\u001b[43mjson_path\u001b[49m\u001b[43m,\u001b[49m\u001b[43m \u001b[49m\u001b[38;5;124;43m'\u001b[39;49m\u001b[38;5;124;43mw\u001b[39;49m\u001b[38;5;124;43m'\u001b[39;49m\u001b[43m)\u001b[49m \u001b[38;5;28;01mas\u001b[39;00m file:\n\u001b[1;32m    107\u001b[0m     json\u001b[38;5;241m.\u001b[39mdump(json_result, file, indent\u001b[38;5;241m=\u001b[39m\u001b[38;5;241m4\u001b[39m, ensure_ascii\u001b[38;5;241m=\u001b[39m\u001b[38;5;28;01mFalse\u001b[39;00m)\n",
      "\u001b[0;31mFileNotFoundError\u001b[0m: [Errno 2] No such file or directory: './logs/json/bigru_seosent0.1.json'"
     ]
    }
   ],
   "source": [
    "import os\n",
    "import torch\n",
    "import numpy as np\n",
    "import random\n",
    "from grid_search import Run\n",
    "\n",
    "import warnings\n",
    "\n",
    "# 忽略特定的警告\n",
    "warnings.filterwarnings(\"ignore\", category=FutureWarning)\n",
    "\n",
    "# 直接设置参数\n",
    "args = {\n",
    "    'model_name': 'bigru_seomis',\n",
    "    'epoch': 9,\n",
    "    'aug_prob': 0.1,\n",
    "    'max_len': 384,\n",
    "    'early_stop': 2,\n",
    "    'root_path': './data/',\n",
    "    'batchsize':64,\n",
    "    'seed': 2024,\n",
    "    'gpu': '0',\n",
    "    'emb_dim': 768,\n",
    "    'lr': 0.0001,\n",
    "    'emb_type': 'bert',\n",
    "    'save_log_dir': './logs',\n",
    "    'save_param_dir': './param_model',\n",
    "    'param_log_dir': './logs/param'\n",
    "}\n",
    "\n",
    "os.environ[\"CUDA_VISIBLE_DEVICES\"] = args['gpu']\n",
    "\n",
    "seed = args['seed']\n",
    "random.seed(seed)\n",
    "np.random.seed(seed)\n",
    "torch.manual_seed(seed)\n",
    "torch.cuda.manual_seed(seed)\n",
    "torch.backends.cudnn.benchmark = False\n",
    "torch.backends.cudnn.deterministic = True\n",
    "\n",
    "print('lr: {}; model name: {}; batchsize: {}; epoch: {}; gpu: {}'.format(args['lr'], args['model_name'], args['batchsize'], args['epoch'], args['gpu']))\n",
    "\n",
    "config = {\n",
    "        'use_cuda': True,\n",
    "        'batchsize': args['batchsize'],\n",
    "        'max_len': args['max_len'],\n",
    "        'early_stop': args['early_stop'],\n",
    "        'root_path': args['root_path'],\n",
    "        'aug_prob': args['aug_prob'],\n",
    "        'weight_decay': 5e-5,\n",
    "        'model': {\n",
    "            'mlp': {'dims': [384], 'dropout': 0.2}\n",
    "        },\n",
    "        'emb_dim': args['emb_dim'],\n",
    "        'lr': args['lr'],\n",
    "        'epoch': args['epoch'],\n",
    "        'model_name': args['model_name'],\n",
    "        'seed': args['seed'],\n",
    "        'save_log_dir': args['save_log_dir'],\n",
    "        'save_param_dir': args['save_param_dir'],\n",
    "        'param_log_dir': args['param_log_dir']\n",
    "}\n",
    "\n",
    "# 不需要检查 __name__ == '__main__' 在 Jupyter 中\n",
    "Run(config=config).main()"
   ]
  },
  {
   "cell_type": "code",
   "execution_count": null,
   "id": "b4af08f9-6c1a-40f6-b8dc-9d8023e87458",
   "metadata": {},
   "outputs": [],
   "source": []
  }
 ],
 "metadata": {
  "kernelspec": {
   "display_name": "Python 3 (ipykernel)",
   "language": "python",
   "name": "python3"
  },
  "language_info": {
   "codemirror_mode": {
    "name": "ipython",
    "version": 3
   },
   "file_extension": ".py",
   "mimetype": "text/x-python",
   "name": "python",
   "nbconvert_exporter": "python",
   "pygments_lexer": "ipython3",
   "version": "3.11.8"
  }
 },
 "nbformat": 4,
 "nbformat_minor": 5
}
