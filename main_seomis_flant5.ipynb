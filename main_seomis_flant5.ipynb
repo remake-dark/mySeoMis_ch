{
 "cells": [
  {
   "cell_type": "code",
   "execution_count": 1,
   "id": "5b534cf5-ccce-4554-93c4-d50ddfdb3868",
   "metadata": {},
   "outputs": [
    {
     "name": "stderr",
     "output_type": "stream",
     "text": [
      "/usr/local/lib/python3.11/dist-packages/tqdm/auto.py:21: TqdmWarning: IProgress not found. Please update jupyter and ipywidgets. See https://ipywidgets.readthedocs.io/en/stable/user_install.html\n",
      "  from .autonotebook import tqdm as notebook_tqdm\n",
      "You are using a model of type mt5 to instantiate a model of type t5. This is not supported for all configurations of models and can yield errors.\n"
     ]
    },
    {
     "name": "stdout",
     "output_type": "stream",
     "text": [
      "lr: 0.0005; model name: flant5_seomis; batchsize: 64; epoch: 25; gpu: 0\n",
      "{'lr': [0.0005]}\n"
     ]
    },
    {
     "name": "stderr",
     "output_type": "stream",
     "text": [
      "Dataloader: loading items from current dataset: 100%|██████████| 1439/1439 [00:01<00:00, 1249.79it/s]\n",
      "You are using the default legacy behaviour of the <class 'transformers.models.t5.tokenization_t5.T5Tokenizer'>. This is expected, and simply means that the `legacy` (previous) behavior will be used so nothing changes for you. If you want to use the new behaviour, set `legacy=False`. This should only be set if you understand what it means, and thoroughly read the reason why this was added as explained in https://github.com/huggingface/transformers/pull/24565\n",
      "Dataloader: loading items from current dataset:   0%|          | 0/6713 [00:00<?, ?it/s]Building prefix dict from the default dictionary ...\n",
      "Loading model from cache /tmp/jieba.cache\n",
      "Loading model cost 0.783 seconds.\n",
      "Prefix dict has been built successfully.\n",
      "Dataloader: loading items from current dataset: 100%|██████████| 6713/6713 [00:09<00:00, 710.06it/s]\n",
      "100%|██████████| 105/105 [01:30<00:00,  1.16it/s]\n"
     ]
    },
    {
     "name": "stdout",
     "output_type": "stream",
     "text": [
      "Training Epoch 1; Loss 0.6854086183366319; \n"
     ]
    },
    {
     "name": "stderr",
     "output_type": "stream",
     "text": [
      "100%|██████████| 23/23 [00:14<00:00,  1.54it/s]\n"
     ]
    },
    {
     "name": "stdout",
     "output_type": "stream",
     "text": [
      "curent {'auc': 0.8053330860734749, 'spauc': 0.6422306417999705, 'metric': 0.6465893043531651, 'f1_neg': 0.5628415300546448, 'f1_pos': 0.7303370786516854, 'recall': 0.6656196757032418, 'recall_neg': 0.4309623430962343, 'recall_pos': 0.9002770083102493, 'precision': 0.7126951758629415, 'precision_neg': 0.8110236220472441, 'precision_pos': 0.6143667296786389, 'acc': 0.6664350243224462}\n",
      "Max {'auc': 0.8053330860734749, 'spauc': 0.6422306417999705, 'metric': 0.6465893043531651, 'f1_neg': 0.5628415300546448, 'f1_pos': 0.7303370786516854, 'recall': 0.6656196757032418, 'recall_neg': 0.4309623430962343, 'recall_pos': 0.9002770083102493, 'precision': 0.7126951758629415, 'precision_neg': 0.8110236220472441, 'precision_pos': 0.6143667296786389, 'acc': 0.6664350243224462}\n"
     ]
    },
    {
     "name": "stderr",
     "output_type": "stream",
     "text": [
      "Dataloader: loading items from current dataset: 100%|██████████| 6713/6713 [00:08<00:00, 813.19it/s]\n",
      "100%|██████████| 105/105 [01:13<00:00,  1.42it/s]\n"
     ]
    },
    {
     "name": "stdout",
     "output_type": "stream",
     "text": [
      "Training Epoch 2; Loss 0.5692751523994264; \n"
     ]
    },
    {
     "name": "stderr",
     "output_type": "stream",
     "text": [
      "100%|██████████| 23/23 [00:15<00:00,  1.52it/s]\n"
     ]
    },
    {
     "name": "stdout",
     "output_type": "stream",
     "text": [
      "curent {'auc': 0.8592994819133275, 'spauc': 0.6845728758781944, 'metric': 0.777665032642542, 'f1_neg': 0.7656135194709772, 'f1_pos': 0.7897165458141068, 'recall': 0.7781393309302765, 'recall_neg': 0.7266387726638772, 'recall_pos': 0.8296398891966759, 'precision': 0.7812326653384898, 'precision_neg': 0.8090062111801242, 'precision_pos': 0.7534591194968554, 'acc': 0.778318276580959}\n",
      "Max {'auc': 0.8592994819133275, 'spauc': 0.6845728758781944, 'metric': 0.777665032642542, 'f1_neg': 0.7656135194709772, 'f1_pos': 0.7897165458141068, 'recall': 0.7781393309302765, 'recall_neg': 0.7266387726638772, 'recall_pos': 0.8296398891966759, 'precision': 0.7812326653384898, 'precision_neg': 0.8090062111801242, 'precision_pos': 0.7534591194968554, 'acc': 0.778318276580959}\n"
     ]
    },
    {
     "name": "stderr",
     "output_type": "stream",
     "text": [
      "Dataloader: loading items from current dataset: 100%|██████████| 6713/6713 [00:08<00:00, 823.99it/s]\n",
      "100%|██████████| 105/105 [01:31<00:00,  1.15it/s]\n"
     ]
    },
    {
     "name": "stdout",
     "output_type": "stream",
     "text": [
      "Training Epoch 3; Loss 0.5295087226799557; \n"
     ]
    },
    {
     "name": "stderr",
     "output_type": "stream",
     "text": [
      "100%|██████████| 23/23 [00:15<00:00,  1.52it/s]\n"
     ]
    },
    {
     "name": "stdout",
     "output_type": "stream",
     "text": [
      "curent {'auc': 0.8717822413333488, 'spauc': 0.7086552947465617, 'metric': 0.7727230184264404, 'f1_neg': 0.7507692307692307, 'f1_pos': 0.7946768060836502, 'recall': 0.7745173603464729, 'recall_neg': 0.6806136680613668, 'recall_pos': 0.868421052631579, 'precision': 0.7847631891120694, 'precision_neg': 0.8370497427101201, 'precision_pos': 0.7324766355140186, 'acc': 0.7748436414176512}\n",
      "Max {'auc': 0.8592994819133275, 'spauc': 0.6845728758781944, 'metric': 0.777665032642542, 'f1_neg': 0.7656135194709772, 'f1_pos': 0.7897165458141068, 'recall': 0.7781393309302765, 'recall_neg': 0.7266387726638772, 'recall_pos': 0.8296398891966759, 'precision': 0.7812326653384898, 'precision_neg': 0.8090062111801242, 'precision_pos': 0.7534591194968554, 'acc': 0.778318276580959}\n"
     ]
    },
    {
     "name": "stderr",
     "output_type": "stream",
     "text": [
      "Dataloader: loading items from current dataset: 100%|██████████| 6713/6713 [00:08<00:00, 807.45it/s]\n",
      "100%|██████████| 105/105 [01:22<00:00,  1.27it/s]\n"
     ]
    },
    {
     "name": "stdout",
     "output_type": "stream",
     "text": [
      "Training Epoch 4; Loss 0.4984766500336783; \n"
     ]
    },
    {
     "name": "stderr",
     "output_type": "stream",
     "text": [
      "100%|██████████| 23/23 [00:15<00:00,  1.52it/s]\n"
     ]
    },
    {
     "name": "stdout",
     "output_type": "stream",
     "text": [
      "curent {'auc': 0.8725896993088315, 'spauc': 0.7048975955808807, 'metric': 0.7921007554727684, 'f1_neg': 0.7871886120996441, 'f1_pos': 0.7970128988458928, 'recall': 0.7921442838543176, 'recall_neg': 0.7712691771269177, 'recall_pos': 0.8130193905817175, 'precision': 0.7927017852166104, 'precision_neg': 0.8037790697674418, 'precision_pos': 0.7816245006657789, 'acc': 0.7922168172341905}\n",
      "Max {'auc': 0.8725896993088315, 'spauc': 0.7048975955808807, 'metric': 0.7921007554727684, 'f1_neg': 0.7871886120996441, 'f1_pos': 0.7970128988458928, 'recall': 0.7921442838543176, 'recall_neg': 0.7712691771269177, 'recall_pos': 0.8130193905817175, 'precision': 0.7927017852166104, 'precision_neg': 0.8037790697674418, 'precision_pos': 0.7816245006657789, 'acc': 0.7922168172341905}\n"
     ]
    },
    {
     "name": "stderr",
     "output_type": "stream",
     "text": [
      "Dataloader: loading items from current dataset: 100%|██████████| 6713/6713 [00:08<00:00, 819.28it/s]\n",
      "100%|██████████| 105/105 [01:13<00:00,  1.43it/s]\n"
     ]
    },
    {
     "name": "stdout",
     "output_type": "stream",
     "text": [
      "Training Epoch 5; Loss 0.4848973018782479; \n"
     ]
    },
    {
     "name": "stderr",
     "output_type": "stream",
     "text": [
      "100%|██████████| 23/23 [00:15<00:00,  1.52it/s]\n"
     ]
    },
    {
     "name": "stdout",
     "output_type": "stream",
     "text": [
      "curent {'auc': 0.8882095681838378, 'spauc': 0.7219790630274733, 'metric': 0.8024299593137483, 'f1_neg': 0.7959770114942529, 'f1_pos': 0.8088829071332436, 'recall': 0.8025369247827784, 'recall_neg': 0.7726638772663877, 'recall_pos': 0.832409972299169, 'precision': 0.8036949777002134, 'precision_neg': 0.8207407407407408, 'precision_pos': 0.7866492146596858, 'acc': 0.802640722724114}\n",
      "Max {'auc': 0.8882095681838378, 'spauc': 0.7219790630274733, 'metric': 0.8024299593137483, 'f1_neg': 0.7959770114942529, 'f1_pos': 0.8088829071332436, 'recall': 0.8025369247827784, 'recall_neg': 0.7726638772663877, 'recall_pos': 0.832409972299169, 'precision': 0.8036949777002134, 'precision_neg': 0.8207407407407408, 'precision_pos': 0.7866492146596858, 'acc': 0.802640722724114}\n"
     ]
    },
    {
     "name": "stderr",
     "output_type": "stream",
     "text": [
      "Dataloader: loading items from current dataset: 100%|██████████| 6713/6713 [00:08<00:00, 813.11it/s]\n",
      "100%|██████████| 105/105 [01:13<00:00,  1.43it/s]\n"
     ]
    },
    {
     "name": "stdout",
     "output_type": "stream",
     "text": [
      "Training Epoch 6; Loss 0.46855314515885854; \n"
     ]
    },
    {
     "name": "stderr",
     "output_type": "stream",
     "text": [
      "100%|██████████| 23/23 [00:15<00:00,  1.51it/s]\n"
     ]
    },
    {
     "name": "stdout",
     "output_type": "stream",
     "text": [
      "curent {'auc': 0.8841191560711954, 'spauc': 0.7182467811992226, 'metric': 0.7870306901386509, 'f1_neg': 0.76793893129771, 'f1_pos': 0.8061224489795918, 'recall': 0.7884402152706143, 'recall_neg': 0.701534170153417, 'recall_pos': 0.8753462603878116, 'precision': 0.7976371297924166, 'precision_neg': 0.8482293423271501, 'precision_pos': 0.7470449172576832, 'acc': 0.7887421820708825}\n",
      "Max {'auc': 0.8882095681838378, 'spauc': 0.7219790630274733, 'metric': 0.8024299593137483, 'f1_neg': 0.7959770114942529, 'f1_pos': 0.8088829071332436, 'recall': 0.8025369247827784, 'recall_neg': 0.7726638772663877, 'recall_pos': 0.832409972299169, 'precision': 0.8036949777002134, 'precision_neg': 0.8207407407407408, 'precision_pos': 0.7866492146596858, 'acc': 0.802640722724114}\n"
     ]
    },
    {
     "name": "stderr",
     "output_type": "stream",
     "text": [
      "Dataloader: loading items from current dataset: 100%|██████████| 6713/6713 [00:10<00:00, 621.70it/s]\n",
      "100%|██████████| 105/105 [01:13<00:00,  1.43it/s]\n"
     ]
    },
    {
     "name": "stdout",
     "output_type": "stream",
     "text": [
      "Training Epoch 7; Loss 0.46369542734963554; \n"
     ]
    },
    {
     "name": "stderr",
     "output_type": "stream",
     "text": [
      "100%|██████████| 23/23 [00:15<00:00,  1.52it/s]\n"
     ]
    },
    {
     "name": "stdout",
     "output_type": "stream",
     "text": [
      "curent {'auc': 0.8908521579217809, 'spauc': 0.7223898072003454, 'metric': 0.8088005152445019, 'f1_neg': 0.8130523453433038, 'f1_pos': 0.8045486851457001, 'recall': 0.8089821007043042, 'recall_neg': 0.8340306834030683, 'recall_pos': 0.7839335180055401, 'precision': 0.8096904102693179, 'precision_neg': 0.7931034482758621, 'precision_pos': 0.8262773722627738, 'acc': 0.8088950660180682}\n",
      "Max {'auc': 0.8908521579217809, 'spauc': 0.7223898072003454, 'metric': 0.8088005152445019, 'f1_neg': 0.8130523453433038, 'f1_pos': 0.8045486851457001, 'recall': 0.8089821007043042, 'recall_neg': 0.8340306834030683, 'recall_pos': 0.7839335180055401, 'precision': 0.8096904102693179, 'precision_neg': 0.7931034482758621, 'precision_pos': 0.8262773722627738, 'acc': 0.8088950660180682}\n"
     ]
    },
    {
     "name": "stderr",
     "output_type": "stream",
     "text": [
      "Dataloader: loading items from current dataset: 100%|██████████| 6713/6713 [00:08<00:00, 797.61it/s]\n",
      "100%|██████████| 105/105 [01:13<00:00,  1.43it/s]\n"
     ]
    },
    {
     "name": "stdout",
     "output_type": "stream",
     "text": [
      "Training Epoch 8; Loss 0.45675842761993407; \n"
     ]
    },
    {
     "name": "stderr",
     "output_type": "stream",
     "text": [
      "100%|██████████| 23/23 [00:15<00:00,  1.52it/s]\n"
     ]
    },
    {
     "name": "stdout",
     "output_type": "stream",
     "text": [
      "curent {'auc': 0.8983974470419607, 'spauc': 0.7225941625932842, 'metric': 0.8112465993004275, 'f1_neg': 0.7966867469879518, 'f1_pos': 0.8258064516129032, 'recall': 0.8121114832887106, 'recall_neg': 0.7377963737796374, 'recall_pos': 0.8864265927977839, 'precision': 0.8193703202953897, 'precision_neg': 0.8657937806873978, 'precision_pos': 0.7729468599033816, 'acc': 0.812369701181376}\n",
      "Max {'auc': 0.8983974470419607, 'spauc': 0.7225941625932842, 'metric': 0.8112465993004275, 'f1_neg': 0.7966867469879518, 'f1_pos': 0.8258064516129032, 'recall': 0.8121114832887106, 'recall_neg': 0.7377963737796374, 'recall_pos': 0.8864265927977839, 'precision': 0.8193703202953897, 'precision_neg': 0.8657937806873978, 'precision_pos': 0.7729468599033816, 'acc': 0.812369701181376}\n"
     ]
    },
    {
     "name": "stderr",
     "output_type": "stream",
     "text": [
      "Dataloader: loading items from current dataset: 100%|██████████| 6713/6713 [00:08<00:00, 812.29it/s]\n",
      "100%|██████████| 105/105 [01:13<00:00,  1.43it/s]\n"
     ]
    },
    {
     "name": "stdout",
     "output_type": "stream",
     "text": [
      "Training Epoch 9; Loss 0.4440081610566094; \n"
     ]
    },
    {
     "name": "stderr",
     "output_type": "stream",
     "text": [
      "100%|██████████| 23/23 [00:15<00:00,  1.52it/s]\n"
     ]
    },
    {
     "name": "stdout",
     "output_type": "stream",
     "text": [
      "curent {'auc': 0.898383925018448, 'spauc': 0.7212968616908467, 'metric': 0.8179037031885132, 'f1_neg': 0.820054945054945, 'f1_pos': 0.8157524613220816, 'recall': 0.817980041493295, 'recall_neg': 0.8326359832635983, 'recall_pos': 0.8033240997229917, 'precision': 0.8182099362072299, 'precision_neg': 0.8078484438430311, 'precision_pos': 0.8285714285714286, 'acc': 0.8179291174426685}\n",
      "Max {'auc': 0.898383925018448, 'spauc': 0.7212968616908467, 'metric': 0.8179037031885132, 'f1_neg': 0.820054945054945, 'f1_pos': 0.8157524613220816, 'recall': 0.817980041493295, 'recall_neg': 0.8326359832635983, 'recall_pos': 0.8033240997229917, 'precision': 0.8182099362072299, 'precision_neg': 0.8078484438430311, 'precision_pos': 0.8285714285714286, 'acc': 0.8179291174426685}\n"
     ]
    },
    {
     "name": "stderr",
     "output_type": "stream",
     "text": [
      "Dataloader: loading items from current dataset: 100%|██████████| 6713/6713 [00:08<00:00, 810.56it/s]\n",
      "100%|██████████| 105/105 [01:13<00:00,  1.43it/s]\n"
     ]
    },
    {
     "name": "stdout",
     "output_type": "stream",
     "text": [
      "Training Epoch 10; Loss 0.440696770804269; \n"
     ]
    },
    {
     "name": "stderr",
     "output_type": "stream",
     "text": [
      "100%|██████████| 23/23 [00:15<00:00,  1.52it/s]\n"
     ]
    },
    {
     "name": "stdout",
     "output_type": "stream",
     "text": [
      "curent {'auc': 0.9043065713170837, 'spauc': 0.7254246372895113, 'metric': 0.8261976539702784, 'f1_neg': 0.8226950354609929, 'f1_pos': 0.829700272479564, 'recall': 0.8262081928008747, 'recall_neg': 0.8089260808926081, 'recall_pos': 0.8434903047091413, 'precision': 0.8266473621701504, 'precision_neg': 0.836940836940837, 'precision_pos': 0.8163538873994638, 'acc': 0.8262682418346073}\n",
      "Max {'auc': 0.9043065713170837, 'spauc': 0.7254246372895113, 'metric': 0.8261976539702784, 'f1_neg': 0.8226950354609929, 'f1_pos': 0.829700272479564, 'recall': 0.8262081928008747, 'recall_neg': 0.8089260808926081, 'recall_pos': 0.8434903047091413, 'precision': 0.8266473621701504, 'precision_neg': 0.836940836940837, 'precision_pos': 0.8163538873994638, 'acc': 0.8262682418346073}\n"
     ]
    },
    {
     "name": "stderr",
     "output_type": "stream",
     "text": [
      "Dataloader: loading items from current dataset: 100%|██████████| 6713/6713 [00:08<00:00, 813.93it/s]\n",
      "100%|██████████| 105/105 [01:13<00:00,  1.43it/s]\n"
     ]
    },
    {
     "name": "stdout",
     "output_type": "stream",
     "text": [
      "Training Epoch 11; Loss 0.438485643693379; \n"
     ]
    },
    {
     "name": "stderr",
     "output_type": "stream",
     "text": [
      "100%|██████████| 23/23 [00:15<00:00,  1.51it/s]\n"
     ]
    },
    {
     "name": "stdout",
     "output_type": "stream",
     "text": [
      "curent {'auc': 0.908888605570301, 'spauc': 0.7307236437969598, 'metric': 0.8259461066412905, 'f1_neg': 0.8126410835214447, 'f1_pos': 0.8392511297611362, 'recall': 0.8267075418120284, 'recall_neg': 0.7531380753138075, 'recall_pos': 0.9002770083102493, 'precision': 0.8341631694999645, 'precision_neg': 0.8823529411764706, 'precision_pos': 0.7859733978234583, 'acc': 0.826963168867269}\n",
      "Max {'auc': 0.9043065713170837, 'spauc': 0.7254246372895113, 'metric': 0.8261976539702784, 'f1_neg': 0.8226950354609929, 'f1_pos': 0.829700272479564, 'recall': 0.8262081928008747, 'recall_neg': 0.8089260808926081, 'recall_pos': 0.8434903047091413, 'precision': 0.8266473621701504, 'precision_neg': 0.836940836940837, 'precision_pos': 0.8163538873994638, 'acc': 0.8262682418346073}\n"
     ]
    },
    {
     "name": "stderr",
     "output_type": "stream",
     "text": [
      "Dataloader: loading items from current dataset: 100%|██████████| 6713/6713 [00:08<00:00, 765.59it/s]\n",
      "100%|██████████| 105/105 [01:13<00:00,  1.43it/s]\n"
     ]
    },
    {
     "name": "stdout",
     "output_type": "stream",
     "text": [
      "Training Epoch 12; Loss 0.4279913729145413; \n"
     ]
    },
    {
     "name": "stderr",
     "output_type": "stream",
     "text": [
      "100%|██████████| 23/23 [00:15<00:00,  1.52it/s]\n"
     ]
    },
    {
     "name": "stdout",
     "output_type": "stream",
     "text": [
      "curent {'auc': 0.9036613776237555, 'spauc': 0.7310967703104352, 'metric': 0.8261129736397419, 'f1_neg': 0.8209169054441261, 'f1_pos': 0.8313090418353576, 'recall': 0.8261743877420925, 'recall_neg': 0.799163179916318, 'recall_pos': 0.853185595567867, 'precision': 0.827207193240834, 'precision_neg': 0.8438880706921944, 'precision_pos': 0.8105263157894737, 'acc': 0.8262682418346073}\n",
      "Max {'auc': 0.9043065713170837, 'spauc': 0.7254246372895113, 'metric': 0.8261976539702784, 'f1_neg': 0.8226950354609929, 'f1_pos': 0.829700272479564, 'recall': 0.8262081928008747, 'recall_neg': 0.8089260808926081, 'recall_pos': 0.8434903047091413, 'precision': 0.8266473621701504, 'precision_neg': 0.836940836940837, 'precision_pos': 0.8163538873994638, 'acc': 0.8262682418346073}\n"
     ]
    },
    {
     "name": "stderr",
     "output_type": "stream",
     "text": [
      "Dataloader: loading items from current dataset: 100%|██████████| 6713/6713 [00:08<00:00, 798.09it/s]\n",
      "100%|██████████| 105/105 [01:13<00:00,  1.43it/s]\n"
     ]
    },
    {
     "name": "stdout",
     "output_type": "stream",
     "text": [
      "Training Epoch 13; Loss 0.41984240043730964; \n"
     ]
    },
    {
     "name": "stderr",
     "output_type": "stream",
     "text": [
      "100%|██████████| 23/23 [00:15<00:00,  1.52it/s]\n"
     ]
    },
    {
     "name": "stdout",
     "output_type": "stream",
     "text": [
      "curent {'auc': 0.897812136595618, 'spauc': 0.7233058480413298, 'metric': 0.8203860667634253, 'f1_neg': 0.8127721335268505, 'f1_pos': 0.828, 'recall': 0.8205714407136537, 'recall_neg': 0.7810320781032078, 'recall_pos': 0.8601108033240997, 'precision': 0.8227008622131303, 'precision_neg': 0.8472012102874432, 'precision_pos': 0.7982005141388174, 'acc': 0.8207088255733148}\n",
      "Max {'auc': 0.9043065713170837, 'spauc': 0.7254246372895113, 'metric': 0.8261976539702784, 'f1_neg': 0.8226950354609929, 'f1_pos': 0.829700272479564, 'recall': 0.8262081928008747, 'recall_neg': 0.8089260808926081, 'recall_pos': 0.8434903047091413, 'precision': 0.8266473621701504, 'precision_neg': 0.836940836940837, 'precision_pos': 0.8163538873994638, 'acc': 0.8262682418346073}\n"
     ]
    },
    {
     "name": "stderr",
     "output_type": "stream",
     "text": [
      "Dataloader: loading items from current dataset: 100%|██████████| 6713/6713 [00:08<00:00, 810.02it/s]\n",
      "100%|██████████| 105/105 [01:13<00:00,  1.43it/s]\n"
     ]
    },
    {
     "name": "stdout",
     "output_type": "stream",
     "text": [
      "Training Epoch 14; Loss 0.42212799191474915; \n"
     ]
    },
    {
     "name": "stderr",
     "output_type": "stream",
     "text": [
      "100%|██████████| 23/23 [00:15<00:00,  1.52it/s]\n"
     ]
    },
    {
     "name": "stdout",
     "output_type": "stream",
     "text": [
      "curent {'auc': 0.9102581933803899, 'spauc': 0.724034817278828, 'metric': 0.8387425855439844, 'f1_neg': 0.8410958904109589, 'f1_pos': 0.8363892806770099, 'recall': 0.8388377627618926, 'recall_neg': 0.8563458856345886, 'recall_pos': 0.8213296398891967, 'precision': 0.8391955183242834, 'precision_neg': 0.8263795423956931, 'precision_pos': 0.8520114942528736, 'acc': 0.8387769284225156}\n",
      "Max {'auc': 0.9102581933803899, 'spauc': 0.724034817278828, 'metric': 0.8387425855439844, 'f1_neg': 0.8410958904109589, 'f1_pos': 0.8363892806770099, 'recall': 0.8388377627618926, 'recall_neg': 0.8563458856345886, 'recall_pos': 0.8213296398891967, 'precision': 0.8391955183242834, 'precision_neg': 0.8263795423956931, 'precision_pos': 0.8520114942528736, 'acc': 0.8387769284225156}\n"
     ]
    },
    {
     "name": "stderr",
     "output_type": "stream",
     "text": [
      "Dataloader: loading items from current dataset: 100%|██████████| 6713/6713 [00:08<00:00, 797.56it/s]\n",
      "100%|██████████| 105/105 [01:13<00:00,  1.43it/s]\n"
     ]
    },
    {
     "name": "stdout",
     "output_type": "stream",
     "text": [
      "Training Epoch 15; Loss 0.4192193993500301; \n"
     ]
    },
    {
     "name": "stderr",
     "output_type": "stream",
     "text": [
      "100%|██████████| 23/23 [00:15<00:00,  1.52it/s]\n"
     ]
    },
    {
     "name": "stdout",
     "output_type": "stream",
     "text": [
      "curent {'auc': 0.910422389380189, 'spauc': 0.731790155275531, 'metric': 0.8400721721617244, 'f1_neg': 0.8361823361823362, 'f1_pos': 0.8439620081411127, 'recall': 0.8400924133721221, 'recall_neg': 0.8186889818688982, 'recall_pos': 0.8614958448753463, 'precision': 0.8407836260026634, 'precision_neg': 0.8544395924308588, 'precision_pos': 0.8271276595744681, 'acc': 0.8401667824878388}\n",
      "Max {'auc': 0.910422389380189, 'spauc': 0.731790155275531, 'metric': 0.8400721721617244, 'f1_neg': 0.8361823361823362, 'f1_pos': 0.8439620081411127, 'recall': 0.8400924133721221, 'recall_neg': 0.8186889818688982, 'recall_pos': 0.8614958448753463, 'precision': 0.8407836260026634, 'precision_neg': 0.8544395924308588, 'precision_pos': 0.8271276595744681, 'acc': 0.8401667824878388}\n"
     ]
    },
    {
     "name": "stderr",
     "output_type": "stream",
     "text": [
      "Dataloader: loading items from current dataset: 100%|██████████| 6713/6713 [00:08<00:00, 809.63it/s]\n",
      "100%|██████████| 105/105 [01:13<00:00,  1.43it/s]\n"
     ]
    },
    {
     "name": "stdout",
     "output_type": "stream",
     "text": [
      "Training Epoch 16; Loss 0.40620605448881786; \n"
     ]
    },
    {
     "name": "stderr",
     "output_type": "stream",
     "text": [
      "100%|██████████| 23/23 [00:15<00:00,  1.52it/s]\n"
     ]
    },
    {
     "name": "stdout",
     "output_type": "stream",
     "text": [
      "curent {'auc': 0.9101770612393129, 'spauc': 0.7293338237862764, 'metric': 0.8347119334084547, 'f1_neg': 0.8248337028824834, 'f1_pos': 0.8445901639344262, 'recall': 0.835104718413519, 'recall_neg': 0.7782426778242678, 'recall_pos': 0.8919667590027701, 'precision': 0.8396755092929815, 'precision_neg': 0.8773584905660378, 'precision_pos': 0.8019925280199253, 'acc': 0.8353022932592078}\n",
      "Max {'auc': 0.910422389380189, 'spauc': 0.731790155275531, 'metric': 0.8400721721617244, 'f1_neg': 0.8361823361823362, 'f1_pos': 0.8439620081411127, 'recall': 0.8400924133721221, 'recall_neg': 0.8186889818688982, 'recall_pos': 0.8614958448753463, 'precision': 0.8407836260026634, 'precision_neg': 0.8544395924308588, 'precision_pos': 0.8271276595744681, 'acc': 0.8401667824878388}\n"
     ]
    },
    {
     "name": "stderr",
     "output_type": "stream",
     "text": [
      "Dataloader: loading items from current dataset: 100%|██████████| 6713/6713 [00:08<00:00, 799.73it/s]\n",
      "100%|██████████| 105/105 [01:13<00:00,  1.42it/s]\n"
     ]
    },
    {
     "name": "stdout",
     "output_type": "stream",
     "text": [
      "Training Epoch 17; Loss 0.40783115114484514; \n"
     ]
    },
    {
     "name": "stderr",
     "output_type": "stream",
     "text": [
      "100%|██████████| 23/23 [00:15<00:00,  1.51it/s]\n"
     ]
    },
    {
     "name": "stdout",
     "output_type": "stream",
     "text": [
      "curent {'auc': 0.9110656513558727, 'spauc': 0.7265846845698258, 'metric': 0.8393598343769346, 'f1_neg': 0.8351177730192719, 'f1_pos': 0.8436018957345972, 'recall': 0.8393902340082755, 'recall_neg': 0.8158995815899581, 'recall_pos': 0.8628808864265928, 'precision': 0.8402143604043221, 'precision_neg': 0.8552631578947368, 'precision_pos': 0.8251655629139073, 'acc': 0.8394718554551772}\n",
      "Max {'auc': 0.910422389380189, 'spauc': 0.731790155275531, 'metric': 0.8400721721617244, 'f1_neg': 0.8361823361823362, 'f1_pos': 0.8439620081411127, 'recall': 0.8400924133721221, 'recall_neg': 0.8186889818688982, 'recall_pos': 0.8614958448753463, 'precision': 0.8407836260026634, 'precision_neg': 0.8544395924308588, 'precision_pos': 0.8271276595744681, 'acc': 0.8401667824878388}\n"
     ]
    },
    {
     "name": "stderr",
     "output_type": "stream",
     "text": [
      "Dataloader: loading items from current dataset: 100%|██████████| 6713/6713 [00:08<00:00, 760.36it/s]\n",
      "100%|██████████| 105/105 [01:13<00:00,  1.42it/s]\n"
     ]
    },
    {
     "name": "stdout",
     "output_type": "stream",
     "text": [
      "Training Epoch 18; Loss 0.40843184703872326; \n"
     ]
    },
    {
     "name": "stderr",
     "output_type": "stream",
     "text": [
      "100%|██████████| 23/23 [00:15<00:00,  1.51it/s]\n"
     ]
    },
    {
     "name": "stdout",
     "output_type": "stream",
     "text": [
      "curent {'auc': 0.9100727484864991, 'spauc': 0.7295818969995952, 'metric': 0.8317593290432295, 'f1_neg': 0.8351498637602179, 'f1_pos': 0.8283687943262411, 'recall': 0.8319077257115481, 'recall_neg': 0.8549511854951185, 'recall_pos': 0.8088642659279779, 'precision': 0.8325411079800575, 'precision_neg': 0.8162450066577897, 'precision_pos': 0.8488372093023255, 'acc': 0.8318276580959}\n",
      "Max {'auc': 0.910422389380189, 'spauc': 0.731790155275531, 'metric': 0.8400721721617244, 'f1_neg': 0.8361823361823362, 'f1_pos': 0.8439620081411127, 'recall': 0.8400924133721221, 'recall_neg': 0.8186889818688982, 'recall_pos': 0.8614958448753463, 'precision': 0.8407836260026634, 'precision_neg': 0.8544395924308588, 'precision_pos': 0.8271276595744681, 'acc': 0.8401667824878388}\n"
     ]
    },
    {
     "name": "stderr",
     "output_type": "stream",
     "text": [
      "Dataloader: loading items from current dataset: 100%|██████████| 6713/6713 [00:08<00:00, 808.40it/s]\n",
      "100%|██████████| 105/105 [01:13<00:00,  1.43it/s]\n"
     ]
    },
    {
     "name": "stdout",
     "output_type": "stream",
     "text": [
      "Training Epoch 19; Loss 0.3988901146820613; \n"
     ]
    },
    {
     "name": "stderr",
     "output_type": "stream",
     "text": [
      "100%|██████████| 23/23 [00:15<00:00,  1.51it/s]\n"
     ]
    },
    {
     "name": "stdout",
     "output_type": "stream",
     "text": [
      "curent {'auc': 0.9136077917762918, 'spauc': 0.7288844452605104, 'metric': 0.8412124098358752, 'f1_neg': 0.8338192419825073, 'f1_pos': 0.848605577689243, 'recall': 0.8414050155116927, 'recall_neg': 0.797768479776848, 'recall_pos': 0.8850415512465374, 'precision': 0.8441667315781274, 'precision_neg': 0.8732824427480916, 'precision_pos': 0.8150510204081632, 'acc': 0.8415566365531619}\n",
      "Max {'auc': 0.9136077917762918, 'spauc': 0.7288844452605104, 'metric': 0.8412124098358752, 'f1_neg': 0.8338192419825073, 'f1_pos': 0.848605577689243, 'recall': 0.8414050155116927, 'recall_neg': 0.797768479776848, 'recall_pos': 0.8850415512465374, 'precision': 0.8441667315781274, 'precision_neg': 0.8732824427480916, 'precision_pos': 0.8150510204081632, 'acc': 0.8415566365531619}\n"
     ]
    },
    {
     "name": "stderr",
     "output_type": "stream",
     "text": [
      "Dataloader: loading items from current dataset: 100%|██████████| 6713/6713 [00:08<00:00, 808.57it/s]\n",
      "100%|██████████| 105/105 [01:13<00:00,  1.42it/s]\n"
     ]
    },
    {
     "name": "stdout",
     "output_type": "stream",
     "text": [
      "Training Epoch 20; Loss 0.4015944642680032; \n"
     ]
    },
    {
     "name": "stderr",
     "output_type": "stream",
     "text": [
      "100%|██████████| 23/23 [00:15<00:00,  1.52it/s]\n"
     ]
    },
    {
     "name": "stdout",
     "output_type": "stream",
     "text": [
      "curent {'auc': 0.9169457998663251, 'spauc': 0.7328475165126275, 'metric': 0.8496430022638881, 'f1_neg': 0.8434782608695652, 'f1_pos': 0.855807743658211, 'recall': 0.8497635577602893, 'recall_neg': 0.8117154811715481, 'recall_pos': 0.8878116343490304, 'precision': 0.851929491066847, 'precision_neg': 0.8778280542986425, 'precision_pos': 0.8260309278350515, 'acc': 0.8498957609451008}\n",
      "Max {'auc': 0.9169457998663251, 'spauc': 0.7328475165126275, 'metric': 0.8496430022638881, 'f1_neg': 0.8434782608695652, 'f1_pos': 0.855807743658211, 'recall': 0.8497635577602893, 'recall_neg': 0.8117154811715481, 'recall_pos': 0.8878116343490304, 'precision': 0.851929491066847, 'precision_neg': 0.8778280542986425, 'precision_pos': 0.8260309278350515, 'acc': 0.8498957609451008}\n"
     ]
    },
    {
     "name": "stderr",
     "output_type": "stream",
     "text": [
      "Dataloader: loading items from current dataset: 100%|██████████| 6713/6713 [00:08<00:00, 810.16it/s]\n",
      "100%|██████████| 105/105 [01:13<00:00,  1.42it/s]\n"
     ]
    },
    {
     "name": "stdout",
     "output_type": "stream",
     "text": [
      "Training Epoch 21; Loss 0.38242462078730266; \n"
     ]
    },
    {
     "name": "stderr",
     "output_type": "stream",
     "text": [
      "100%|██████████| 23/23 [00:15<00:00,  1.52it/s]\n"
     ]
    },
    {
     "name": "stdout",
     "output_type": "stream",
     "text": [
      "curent {'auc': 0.9156206415620641, 'spauc': 0.7330447550510858, 'metric': 0.844944710603436, 'f1_neg': 0.8486082824168364, 'f1_pos': 0.8412811387900356, 'recall': 0.8451235719777311, 'recall_neg': 0.8716875871687587, 'recall_pos': 0.8185595567867036, 'precision': 0.8460098615662306, 'precision_neg': 0.8267195767195767, 'precision_pos': 0.8653001464128843, 'acc': 0.8450312717164697}\n",
      "Max {'auc': 0.9169457998663251, 'spauc': 0.7328475165126275, 'metric': 0.8496430022638881, 'f1_neg': 0.8434782608695652, 'f1_pos': 0.855807743658211, 'recall': 0.8497635577602893, 'recall_neg': 0.8117154811715481, 'recall_pos': 0.8878116343490304, 'precision': 0.851929491066847, 'precision_neg': 0.8778280542986425, 'precision_pos': 0.8260309278350515, 'acc': 0.8498957609451008}\n"
     ]
    },
    {
     "name": "stderr",
     "output_type": "stream",
     "text": [
      "Dataloader: loading items from current dataset: 100%|██████████| 6713/6713 [00:08<00:00, 807.24it/s]\n",
      "100%|██████████| 105/105 [01:13<00:00,  1.43it/s]\n"
     ]
    },
    {
     "name": "stdout",
     "output_type": "stream",
     "text": [
      "Training Epoch 22; Loss 0.39244330128033955; \n"
     ]
    },
    {
     "name": "stderr",
     "output_type": "stream",
     "text": [
      "100%|██████████| 23/23 [00:15<00:00,  1.51it/s]\n"
     ]
    },
    {
     "name": "stdout",
     "output_type": "stream",
     "text": [
      "curent {'auc': 0.9154120160564371, 'spauc': 0.7303993185713504, 'metric': 0.8392930439074906, 'f1_neg': 0.8339324227174695, 'f1_pos': 0.8446536650975117, 'recall': 0.8393660875377168, 'recall_neg': 0.8089260808926081, 'recall_pos': 0.8698060941828255, 'precision': 0.8407245786544093, 'precision_neg': 0.8605341246290801, 'precision_pos': 0.8209150326797385, 'acc': 0.8394718554551772}\n",
      "Max {'auc': 0.9169457998663251, 'spauc': 0.7328475165126275, 'metric': 0.8496430022638881, 'f1_neg': 0.8434782608695652, 'f1_pos': 0.855807743658211, 'recall': 0.8497635577602893, 'recall_neg': 0.8117154811715481, 'recall_pos': 0.8878116343490304, 'precision': 0.851929491066847, 'precision_neg': 0.8778280542986425, 'precision_pos': 0.8260309278350515, 'acc': 0.8498957609451008}\n"
     ]
    },
    {
     "name": "stderr",
     "output_type": "stream",
     "text": [
      "Dataloader: loading items from current dataset: 100%|██████████| 6713/6713 [00:08<00:00, 823.84it/s]\n",
      "100%|██████████| 105/105 [01:13<00:00,  1.43it/s]\n"
     ]
    },
    {
     "name": "stdout",
     "output_type": "stream",
     "text": [
      "Training Epoch 23; Loss 0.38275726182120184; \n"
     ]
    },
    {
     "name": "stderr",
     "output_type": "stream",
     "text": [
      "100%|██████████| 23/23 [00:15<00:00,  1.51it/s]\n"
     ]
    },
    {
     "name": "stdout",
     "output_type": "stream",
     "text": [
      "curent {'auc': 0.9141428775638722, 'spauc': 0.7366702840621298, 'metric': 0.8448586527764952, 'f1_neg': 0.8396836808051761, 'f1_pos': 0.8500336247478144, 'recall': 0.8449255709191499, 'recall_neg': 0.8145048814504882, 'recall_pos': 0.8753462603878116, 'precision': 0.8463063167898217, 'precision_neg': 0.8664688427299704, 'precision_pos': 0.8261437908496732, 'acc': 0.8450312717164697}\n",
      "Max {'auc': 0.9169457998663251, 'spauc': 0.7328475165126275, 'metric': 0.8496430022638881, 'f1_neg': 0.8434782608695652, 'f1_pos': 0.855807743658211, 'recall': 0.8497635577602893, 'recall_neg': 0.8117154811715481, 'recall_pos': 0.8878116343490304, 'precision': 0.851929491066847, 'precision_neg': 0.8778280542986425, 'precision_pos': 0.8260309278350515, 'acc': 0.8498957609451008}\n"
     ]
    },
    {
     "name": "stderr",
     "output_type": "stream",
     "text": [
      "Dataloader: loading items from current dataset: 100%|██████████| 6713/6713 [00:08<00:00, 816.78it/s]\n",
      "100%|██████████| 105/105 [01:13<00:00,  1.43it/s]\n"
     ]
    },
    {
     "name": "stdout",
     "output_type": "stream",
     "text": [
      "Training Epoch 24; Loss 0.3825841125987825; \n"
     ]
    },
    {
     "name": "stderr",
     "output_type": "stream",
     "text": [
      "100%|██████████| 23/23 [00:15<00:00,  1.51it/s]\n"
     ]
    },
    {
     "name": "stdout",
     "output_type": "stream",
     "text": [
      "curent {'auc': 0.9087958831233556, 'spauc': 0.7305182717105237, 'metric': 0.8379016416902394, 'f1_neg': 0.8324946081955428, 'f1_pos': 0.8433086751849361, 'recall': 0.8379762166923586, 'recall_neg': 0.8075313807531381, 'recall_pos': 0.868421052631579, 'precision': 0.8393291441205561, 'precision_neg': 0.8590504451038575, 'precision_pos': 0.8196078431372549, 'acc': 0.8380820013898541}\n",
      "Max {'auc': 0.9169457998663251, 'spauc': 0.7328475165126275, 'metric': 0.8496430022638881, 'f1_neg': 0.8434782608695652, 'f1_pos': 0.855807743658211, 'recall': 0.8497635577602893, 'recall_neg': 0.8117154811715481, 'recall_pos': 0.8878116343490304, 'precision': 0.851929491066847, 'precision_neg': 0.8778280542986425, 'precision_pos': 0.8260309278350515, 'acc': 0.8498957609451008}\n"
     ]
    },
    {
     "name": "stderr",
     "output_type": "stream",
     "text": [
      "Dataloader: loading items from current dataset: 100%|██████████| 6713/6713 [00:08<00:00, 822.19it/s]\n",
      "100%|██████████| 105/105 [01:13<00:00,  1.43it/s]\n"
     ]
    },
    {
     "name": "stdout",
     "output_type": "stream",
     "text": [
      "Training Epoch 25; Loss 0.3822655425185249; \n"
     ]
    },
    {
     "name": "stderr",
     "output_type": "stream",
     "text": [
      "100%|██████████| 23/23 [00:15<00:00,  1.52it/s]\n"
     ]
    },
    {
     "name": "stdout",
     "output_type": "stream",
     "text": [
      "curent {'auc': 0.9153907671623454, 'spauc': 0.7333904308401364, 'metric': 0.8478062759790733, 'f1_neg': 0.848652384243262, 'f1_pos': 0.8469601677148847, 'recall': 0.8478405328449952, 'recall_neg': 0.8563458856345886, 'recall_pos': 0.8393351800554016, 'precision': 0.847910427575014, 'precision_neg': 0.8410958904109589, 'precision_pos': 0.8547249647390691, 'acc': 0.8478109798471161}\n",
      "Max {'auc': 0.9169457998663251, 'spauc': 0.7328475165126275, 'metric': 0.8496430022638881, 'f1_neg': 0.8434782608695652, 'f1_pos': 0.855807743658211, 'recall': 0.8497635577602893, 'recall_neg': 0.8117154811715481, 'recall_pos': 0.8878116343490304, 'precision': 0.851929491066847, 'precision_neg': 0.8778280542986425, 'precision_pos': 0.8260309278350515, 'acc': 0.8498957609451008}\n"
     ]
    },
    {
     "name": "stderr",
     "output_type": "stream",
     "text": [
      "Dataloader: loading items from current dataset: 100%|██████████| 1439/1439 [00:01<00:00, 1157.79it/s]\n",
      "100%|██████████| 23/23 [00:15<00:00,  1.50it/s]\n"
     ]
    },
    {
     "name": "stdout",
     "output_type": "stream",
     "text": [
      "test results: {'auc': 0.9153907671623454, 'spauc': 0.7333904308401364, 'metric': 0.8478062759790733, 'f1_neg': 0.848652384243262, 'f1_pos': 0.8469601677148847, 'recall': 0.8478405328449952, 'recall_neg': 0.8563458856345886, 'recall_pos': 0.8393351800554016, 'precision': 0.847910427575014, 'precision_neg': 0.8410958904109589, 'precision_pos': 0.8547249647390691, 'acc': 0.8478109798471161}\n",
      "best model path: ./param_model/flant5_seomis/parameter_bertendef.pkl\n",
      "best metric: {'metric': 0.8478062759790733}\n"
     ]
    },
    {
     "ename": "FileNotFoundError",
     "evalue": "[Errno 2] No such file or directory: './logs/json/flant5_seomis0.1.json'",
     "output_type": "error",
     "traceback": [
      "\u001b[0;31m---------------------------------------------------------------------------\u001b[0m",
      "\u001b[0;31mFileNotFoundError\u001b[0m                         Traceback (most recent call last)",
      "Cell \u001b[0;32mIn[1], line 65\u001b[0m\n\u001b[1;32m     43\u001b[0m config \u001b[38;5;241m=\u001b[39m {\n\u001b[1;32m     44\u001b[0m         \u001b[38;5;124m'\u001b[39m\u001b[38;5;124muse_cuda\u001b[39m\u001b[38;5;124m'\u001b[39m: \u001b[38;5;28;01mTrue\u001b[39;00m,\n\u001b[1;32m     45\u001b[0m         \u001b[38;5;124m'\u001b[39m\u001b[38;5;124mbatchsize\u001b[39m\u001b[38;5;124m'\u001b[39m: args[\u001b[38;5;124m'\u001b[39m\u001b[38;5;124mbatchsize\u001b[39m\u001b[38;5;124m'\u001b[39m],\n\u001b[0;32m   (...)\u001b[0m\n\u001b[1;32m     61\u001b[0m         \u001b[38;5;124m'\u001b[39m\u001b[38;5;124mparam_log_dir\u001b[39m\u001b[38;5;124m'\u001b[39m: args[\u001b[38;5;124m'\u001b[39m\u001b[38;5;124mparam_log_dir\u001b[39m\u001b[38;5;124m'\u001b[39m]\n\u001b[1;32m     62\u001b[0m }\n\u001b[1;32m     64\u001b[0m \u001b[38;5;66;03m# 不需要检查 __name__ == '__main__' 在 Jupyter 中\u001b[39;00m\n\u001b[0;32m---> 65\u001b[0m \u001b[43mRun\u001b[49m\u001b[43m(\u001b[49m\u001b[43mconfig\u001b[49m\u001b[38;5;241;43m=\u001b[39;49m\u001b[43mconfig\u001b[49m\u001b[43m)\u001b[49m\u001b[38;5;241;43m.\u001b[39;49m\u001b[43mmain\u001b[49m\u001b[43m(\u001b[49m\u001b[43m)\u001b[49m\n",
      "File \u001b[0;32m/mySeoSent/mySeoSent_ch/mySeoSent_ch/grid_search.py:106\u001b[0m, in \u001b[0;36mRun.main\u001b[0;34m(self)\u001b[0m\n\u001b[1;32m    104\u001b[0m     logger\u001b[38;5;241m.\u001b[39minfo(\u001b[38;5;124m\"\u001b[39m\u001b[38;5;124mbest metric:\u001b[39m\u001b[38;5;124m\"\u001b[39m \u001b[38;5;241m+\u001b[39m \u001b[38;5;28mstr\u001b[39m(best_metric))\n\u001b[1;32m    105\u001b[0m     logger\u001b[38;5;241m.\u001b[39minfo(\u001b[38;5;124m'\u001b[39m\u001b[38;5;124m--------------------------------------\u001b[39m\u001b[38;5;130;01m\\n\u001b[39;00m\u001b[38;5;124m'\u001b[39m)\n\u001b[0;32m--> 106\u001b[0m \u001b[38;5;28;01mwith\u001b[39;00m \u001b[38;5;28;43mopen\u001b[39;49m\u001b[43m(\u001b[49m\u001b[43mjson_path\u001b[49m\u001b[43m,\u001b[49m\u001b[43m \u001b[49m\u001b[38;5;124;43m'\u001b[39;49m\u001b[38;5;124;43mw\u001b[39;49m\u001b[38;5;124;43m'\u001b[39;49m\u001b[43m)\u001b[49m \u001b[38;5;28;01mas\u001b[39;00m file:\n\u001b[1;32m    107\u001b[0m     json\u001b[38;5;241m.\u001b[39mdump(json_result, file, indent\u001b[38;5;241m=\u001b[39m\u001b[38;5;241m4\u001b[39m, ensure_ascii\u001b[38;5;241m=\u001b[39m\u001b[38;5;28;01mFalse\u001b[39;00m)\n",
      "\u001b[0;31mFileNotFoundError\u001b[0m: [Errno 2] No such file or directory: './logs/json/flant5_seomis0.1.json'"
     ]
    }
   ],
   "source": [
    "import os\n",
    "import torch\n",
    "import numpy as np\n",
    "import random\n",
    "from grid_search import Run\n",
    "import warnings\n",
    "\n",
    "# 忽略特定的警告\n",
    "warnings.filterwarnings(\"ignore\", category=FutureWarning)\n",
    "os.environ[\"TOKENIZERS_PARALLELISM\"] = \"false\"\n",
    "warnings.filterwarnings(\"ignore\", category=UserWarning, message=\".*byte fallback option which is not implemented.*\")\n",
    "# 直接设置参数\n",
    "args = {\n",
    "    'model_name': 'flant5_seomis',\n",
    "    'epoch': 25,\n",
    "    'aug_prob': 0.1,\n",
    "    'max_len': 384,\n",
    "    'early_stop': 10,\n",
    "    'root_path': './data/',\n",
    "    'batchsize':64,\n",
    "    'seed': 2024,\n",
    "    'gpu': '0',\n",
    "    'emb_dim': 768,\n",
    "    'lr': 0.0005,\n",
    "    'emb_type': 'bert',\n",
    "    'save_log_dir': './logs',\n",
    "    'save_param_dir': './param_model',\n",
    "    'param_log_dir': './logs/param'\n",
    "}\n",
    "\n",
    "os.environ[\"CUDA_VISIBLE_DEVICES\"] = args['gpu']\n",
    "\n",
    "seed = args['seed']\n",
    "random.seed(seed)\n",
    "np.random.seed(seed)\n",
    "torch.manual_seed(seed)\n",
    "torch.cuda.manual_seed(seed)\n",
    "torch.backends.cudnn.benchmark = False\n",
    "torch.backends.cudnn.deterministic = True\n",
    "\n",
    "print('lr: {}; model name: {}; batchsize: {}; epoch: {}; gpu: {}'.format(args['lr'], args['model_name'], args['batchsize'], args['epoch'], args['gpu']))\n",
    "\n",
    "config = {\n",
    "        'use_cuda': True,\n",
    "        'batchsize': args['batchsize'],\n",
    "        'max_len': args['max_len'],\n",
    "        'early_stop': args['early_stop'],\n",
    "        'root_path': args['root_path'],\n",
    "        'aug_prob': args['aug_prob'],\n",
    "        'weight_decay': 5e-5,\n",
    "        'model': {\n",
    "            'mlp': {'dims': [384], 'dropout': 0.2}\n",
    "        },\n",
    "        'emb_dim': args['emb_dim'],\n",
    "        'lr': args['lr'],\n",
    "        'epoch': args['epoch'],\n",
    "        'model_name': args['model_name'],\n",
    "        'seed': args['seed'],\n",
    "        'save_log_dir': args['save_log_dir'],\n",
    "        'save_param_dir': args['save_param_dir'],\n",
    "        'param_log_dir': args['param_log_dir']\n",
    "}\n",
    "\n",
    "# 不需要检查 __name__ == '__main__' 在 Jupyter 中\n",
    "Run(config=config).main()"
   ]
  },
  {
   "cell_type": "code",
   "execution_count": 1,
   "id": "6d2758d5-a7bc-4365-9859-a01b7d0face1",
   "metadata": {},
   "outputs": [
    {
     "name": "stderr",
     "output_type": "stream",
     "text": [
      "/usr/local/lib/python3.11/dist-packages/tqdm/auto.py:21: TqdmWarning: IProgress not found. Please update jupyter and ipywidgets. See https://ipywidgets.readthedocs.io/en/stable/user_install.html\n",
      "  from .autonotebook import tqdm as notebook_tqdm\n",
      "You are using a model of type mt5 to instantiate a model of type t5. This is not supported for all configurations of models and can yield errors.\n"
     ]
    },
    {
     "name": "stdout",
     "output_type": "stream",
     "text": [
      "lr: 0.0002; model name: flant5_seomis; batchsize: 64; epoch: 10; gpu: 0\n",
      "{'lr': [0.0002]}\n"
     ]
    },
    {
     "name": "stderr",
     "output_type": "stream",
     "text": [
      "Dataloader: loading items from current dataset: 100%|██████████| 1438/1438 [00:01<00:00, 1185.32it/s]\n",
      "You are using the default legacy behaviour of the <class 'transformers.models.t5.tokenization_t5.T5Tokenizer'>. This is expected, and simply means that the `legacy` (previous) behavior will be used so nothing changes for you. If you want to use the new behaviour, set `legacy=False`. This should only be set if you understand what it means, and thoroughly read the reason why this was added as explained in https://github.com/huggingface/transformers/pull/24565\n",
      "Dataloader: loading items from current dataset:   0%|          | 0/6713 [00:00<?, ?it/s]Building prefix dict from the default dictionary ...\n",
      "Loading model from cache /tmp/jieba.cache\n",
      "Loading model cost 0.744 seconds.\n",
      "Prefix dict has been built successfully.\n",
      "Dataloader: loading items from current dataset: 100%|██████████| 6713/6713 [00:09<00:00, 720.15it/s]\n",
      "100%|██████████| 105/105 [01:17<00:00,  1.35it/s]\n"
     ]
    },
    {
     "name": "stdout",
     "output_type": "stream",
     "text": [
      "Training Epoch 1; Loss 0.6350666988463629; \n"
     ]
    },
    {
     "name": "stderr",
     "output_type": "stream",
     "text": [
      "100%|██████████| 23/23 [00:16<00:00,  1.40it/s]\n"
     ]
    },
    {
     "name": "stdout",
     "output_type": "stream",
     "text": [
      "curent {'auc': 0.923169646312205, 'spauc': 0.7660560735481611, 'metric': 0.8349521929013997, 'f1_neg': 0.8225563909774436, 'f1_pos': 0.8473479948253557, 'recall': 0.83492957201455, 'recall_neg': 0.7725988700564972, 'recall_pos': 0.8972602739726028, 'precision': 0.8410586501481622, 'precision_neg': 0.8794212218649518, 'precision_pos': 0.8026960784313726, 'acc': 0.8358831710709318}\n",
      "Max {'auc': 0.923169646312205, 'spauc': 0.7660560735481611, 'metric': 0.8349521929013997, 'f1_neg': 0.8225563909774436, 'f1_pos': 0.8473479948253557, 'recall': 0.83492957201455, 'recall_neg': 0.7725988700564972, 'recall_pos': 0.8972602739726028, 'precision': 0.8410586501481622, 'precision_neg': 0.8794212218649518, 'precision_pos': 0.8026960784313726, 'acc': 0.8358831710709318}\n"
     ]
    },
    {
     "name": "stderr",
     "output_type": "stream",
     "text": [
      "Dataloader: loading items from current dataset: 100%|██████████| 6713/6713 [00:08<00:00, 790.15it/s]\n",
      "100%|██████████| 105/105 [01:15<00:00,  1.40it/s]\n"
     ]
    },
    {
     "name": "stdout",
     "output_type": "stream",
     "text": [
      "Training Epoch 2; Loss 0.46067281450544084; \n"
     ]
    },
    {
     "name": "stderr",
     "output_type": "stream",
     "text": [
      "100%|██████████| 23/23 [00:16<00:00,  1.38it/s]\n"
     ]
    },
    {
     "name": "stdout",
     "output_type": "stream",
     "text": [
      "curent {'auc': 0.9312185589350669, 'spauc': 0.7851070676458967, 'metric': 0.8578720930232557, 'f1_neg': 0.8517441860465116, 'f1_pos': 0.864, 'recall': 0.8576774243479607, 'recall_neg': 0.827683615819209, 'recall_pos': 0.8876712328767123, 'precision': 0.8594019752702386, 'precision_neg': 0.8772455089820359, 'precision_pos': 0.8415584415584415, 'acc': 0.8581363004172462}\n",
      "Max {'auc': 0.9312185589350669, 'spauc': 0.7851070676458967, 'metric': 0.8578720930232557, 'f1_neg': 0.8517441860465116, 'f1_pos': 0.864, 'recall': 0.8576774243479607, 'recall_neg': 0.827683615819209, 'recall_pos': 0.8876712328767123, 'precision': 0.8594019752702386, 'precision_neg': 0.8772455089820359, 'precision_pos': 0.8415584415584415, 'acc': 0.8581363004172462}\n"
     ]
    },
    {
     "name": "stderr",
     "output_type": "stream",
     "text": [
      "Dataloader: loading items from current dataset: 100%|██████████| 6713/6713 [00:08<00:00, 806.94it/s]\n",
      "100%|██████████| 105/105 [01:15<00:00,  1.40it/s]\n"
     ]
    },
    {
     "name": "stdout",
     "output_type": "stream",
     "text": [
      "Training Epoch 3; Loss 0.43894267876942955; \n"
     ]
    },
    {
     "name": "stderr",
     "output_type": "stream",
     "text": [
      "100%|██████████| 23/23 [00:16<00:00,  1.38it/s]\n"
     ]
    },
    {
     "name": "stdout",
     "output_type": "stream",
     "text": [
      "curent {'auc': 0.9324433093413822, 'spauc': 0.7864614519814744, 'metric': 0.857261348906642, 'f1_neg': 0.852198990627253, 'f1_pos': 0.8623237071860309, 'recall': 0.8570989087531925, 'recall_neg': 0.8347457627118644, 'recall_pos': 0.8794520547945206, 'precision': 0.8581237229825307, 'precision_neg': 0.8703976435935199, 'precision_pos': 0.8458498023715415, 'acc': 0.8574408901251739}\n",
      "Max {'auc': 0.9312185589350669, 'spauc': 0.7851070676458967, 'metric': 0.8578720930232557, 'f1_neg': 0.8517441860465116, 'f1_pos': 0.864, 'recall': 0.8576774243479607, 'recall_neg': 0.827683615819209, 'recall_pos': 0.8876712328767123, 'precision': 0.8594019752702386, 'precision_neg': 0.8772455089820359, 'precision_pos': 0.8415584415584415, 'acc': 0.8581363004172462}\n"
     ]
    },
    {
     "name": "stderr",
     "output_type": "stream",
     "text": [
      "Dataloader: loading items from current dataset: 100%|██████████| 6713/6713 [00:08<00:00, 802.19it/s]\n",
      "100%|██████████| 105/105 [01:15<00:00,  1.40it/s]\n"
     ]
    },
    {
     "name": "stdout",
     "output_type": "stream",
     "text": [
      "Training Epoch 4; Loss 0.4290724618094308; \n"
     ]
    },
    {
     "name": "stderr",
     "output_type": "stream",
     "text": [
      "100%|██████████| 23/23 [00:16<00:00,  1.39it/s]\n"
     ]
    },
    {
     "name": "stdout",
     "output_type": "stream",
     "text": [
      "curent {'auc': 0.9338963702499806, 'spauc': 0.7897588177548585, 'metric': 0.8584466538228965, 'f1_neg': 0.851063829787234, 'f1_pos': 0.8658294778585591, 'recall': 0.8582346567603127, 'recall_neg': 0.8192090395480226, 'recall_pos': 0.8972602739726028, 'precision': 0.8610111822799372, 'precision_neg': 0.8854961832061069, 'precision_pos': 0.8365261813537676, 'acc': 0.8588317107093185}\n",
      "Max {'auc': 0.9338963702499806, 'spauc': 0.7897588177548585, 'metric': 0.8584466538228965, 'f1_neg': 0.851063829787234, 'f1_pos': 0.8658294778585591, 'recall': 0.8582346567603127, 'recall_neg': 0.8192090395480226, 'recall_pos': 0.8972602739726028, 'precision': 0.8610111822799372, 'precision_neg': 0.8854961832061069, 'precision_pos': 0.8365261813537676, 'acc': 0.8588317107093185}\n"
     ]
    },
    {
     "name": "stderr",
     "output_type": "stream",
     "text": [
      "Dataloader: loading items from current dataset: 100%|██████████| 6713/6713 [00:08<00:00, 781.88it/s]\n",
      "100%|██████████| 105/105 [01:15<00:00,  1.40it/s]\n"
     ]
    },
    {
     "name": "stdout",
     "output_type": "stream",
     "text": [
      "Training Epoch 5; Loss 0.43039518878573463; \n"
     ]
    },
    {
     "name": "stderr",
     "output_type": "stream",
     "text": [
      "100%|██████████| 23/23 [00:16<00:00,  1.38it/s]\n"
     ]
    },
    {
     "name": "stdout",
     "output_type": "stream",
     "text": [
      "curent {'auc': 0.9338093026855506, 'spauc': 0.7884370201100616, 'metric': 0.8577176781002638, 'f1_neg': 0.85, 'f1_pos': 0.8654353562005277, 'recall': 0.8575071588886309, 'recall_neg': 0.8163841807909604, 'recall_pos': 0.8986301369863013, 'precision': 0.8605543327245195, 'precision_neg': 0.8865030674846626, 'precision_pos': 0.8346055979643766, 'acc': 0.8581363004172462}\n",
      "Max {'auc': 0.9338963702499806, 'spauc': 0.7897588177548585, 'metric': 0.8584466538228965, 'f1_neg': 0.851063829787234, 'f1_pos': 0.8658294778585591, 'recall': 0.8582346567603127, 'recall_neg': 0.8192090395480226, 'recall_pos': 0.8972602739726028, 'precision': 0.8610111822799372, 'precision_neg': 0.8854961832061069, 'precision_pos': 0.8365261813537676, 'acc': 0.8588317107093185}\n"
     ]
    },
    {
     "name": "stderr",
     "output_type": "stream",
     "text": [
      "Dataloader: loading items from current dataset: 100%|██████████| 6713/6713 [00:08<00:00, 794.86it/s]\n",
      "100%|██████████| 105/105 [01:15<00:00,  1.40it/s]\n"
     ]
    },
    {
     "name": "stdout",
     "output_type": "stream",
     "text": [
      "Training Epoch 6; Loss 0.4237395584583282; \n"
     ]
    },
    {
     "name": "stderr",
     "output_type": "stream",
     "text": [
      "100%|██████████| 23/23 [00:16<00:00,  1.39it/s]\n"
     ]
    },
    {
     "name": "stdout",
     "output_type": "stream",
     "text": [
      "curent {'auc': 0.93379769367696, 'spauc': 0.7887771436950863, 'metric': 0.8562549859568283, 'f1_neg': 0.8478581979320532, 'f1_pos': 0.8646517739816032, 'recall': 0.8560521631452673, 'recall_neg': 0.8107344632768362, 'recall_pos': 0.9013698630136986, 'precision': 0.8596764862244739, 'precision_neg': 0.8885448916408669, 'precision_pos': 0.8308080808080808, 'acc': 0.8567454798331016}\n",
      "Max {'auc': 0.9338963702499806, 'spauc': 0.7897588177548585, 'metric': 0.8584466538228965, 'f1_neg': 0.851063829787234, 'f1_pos': 0.8658294778585591, 'recall': 0.8582346567603127, 'recall_neg': 0.8192090395480226, 'recall_pos': 0.8972602739726028, 'precision': 0.8610111822799372, 'precision_neg': 0.8854961832061069, 'precision_pos': 0.8365261813537676, 'acc': 0.8588317107093185}\n"
     ]
    },
    {
     "name": "stderr",
     "output_type": "stream",
     "text": [
      "Dataloader: loading items from current dataset: 100%|██████████| 6713/6713 [00:08<00:00, 813.88it/s]\n",
      "100%|██████████| 105/105 [01:15<00:00,  1.40it/s]\n"
     ]
    },
    {
     "name": "stdout",
     "output_type": "stream",
     "text": [
      "Training Epoch 7; Loss 0.4287602234454382; \n"
     ]
    },
    {
     "name": "stderr",
     "output_type": "stream",
     "text": [
      "100%|██████████| 23/23 [00:16<00:00,  1.38it/s]\n"
     ]
    },
    {
     "name": "stdout",
     "output_type": "stream",
     "text": [
      "curent {'auc': 0.9336680597476975, 'spauc': 0.7874634927229847, 'metric': 0.8591541373799438, 'f1_neg': 0.8519061583577713, 'f1_pos': 0.8664021164021164, 'recall': 0.8589408714495782, 'recall_neg': 0.8206214689265536, 'recall_pos': 0.8972602739726028, 'precision': 0.861633319817853, 'precision_neg': 0.885670731707317, 'precision_pos': 0.8375959079283888, 'acc': 0.8595271210013908}\n",
      "Max {'auc': 0.9336680597476975, 'spauc': 0.7874634927229847, 'metric': 0.8591541373799438, 'f1_neg': 0.8519061583577713, 'f1_pos': 0.8664021164021164, 'recall': 0.8589408714495782, 'recall_neg': 0.8206214689265536, 'recall_pos': 0.8972602739726028, 'precision': 0.861633319817853, 'precision_neg': 0.885670731707317, 'precision_pos': 0.8375959079283888, 'acc': 0.8595271210013908}\n"
     ]
    },
    {
     "name": "stderr",
     "output_type": "stream",
     "text": [
      "Dataloader: loading items from current dataset: 100%|██████████| 6713/6713 [00:08<00:00, 797.56it/s]\n",
      "100%|██████████| 105/105 [01:15<00:00,  1.40it/s]\n"
     ]
    },
    {
     "name": "stdout",
     "output_type": "stream",
     "text": [
      "Training Epoch 8; Loss 0.42576922149885266; \n"
     ]
    },
    {
     "name": "stderr",
     "output_type": "stream",
     "text": [
      "100%|██████████| 23/23 [00:16<00:00,  1.38it/s]\n"
     ]
    },
    {
     "name": "stdout",
     "output_type": "stream",
     "text": [
      "curent {'auc': 0.9333178546552123, 'spauc': 0.7880398698161704, 'metric': 0.854949497300768, 'f1_neg': 0.8472834067547724, 'f1_pos': 0.8626155878467635, 'recall': 0.8547461496788175, 'recall_neg': 0.8149717514124294, 'recall_pos': 0.8945205479452055, 'precision': 0.8575855801036011, 'precision_neg': 0.882262996941896, 'precision_pos': 0.8329081632653061, 'acc': 0.8553546592489569}\n",
      "Max {'auc': 0.9336680597476975, 'spauc': 0.7874634927229847, 'metric': 0.8591541373799438, 'f1_neg': 0.8519061583577713, 'f1_pos': 0.8664021164021164, 'recall': 0.8589408714495782, 'recall_neg': 0.8206214689265536, 'recall_pos': 0.8972602739726028, 'precision': 0.861633319817853, 'precision_neg': 0.885670731707317, 'precision_pos': 0.8375959079283888, 'acc': 0.8595271210013908}\n"
     ]
    },
    {
     "name": "stderr",
     "output_type": "stream",
     "text": [
      "Dataloader: loading items from current dataset: 100%|██████████| 6713/6713 [00:08<00:00, 799.02it/s]\n",
      "100%|██████████| 105/105 [01:15<00:00,  1.40it/s]\n"
     ]
    },
    {
     "name": "stdout",
     "output_type": "stream",
     "text": [
      "Training Epoch 9; Loss 0.4242172953628358; \n"
     ]
    },
    {
     "name": "stderr",
     "output_type": "stream",
     "text": [
      "100%|██████████| 23/23 [00:16<00:00,  1.38it/s]\n"
     ]
    },
    {
     "name": "stdout",
     "output_type": "stream",
     "text": [
      "curent {'auc': 0.9336525810695766, 'spauc': 0.7882944533378955, 'metric': 0.8550304863271974, 'f1_neg': 0.8481751824817518, 'f1_pos': 0.8618857901726428, 'recall': 0.8548312824084823, 'recall_neg': 0.8206214689265536, 'recall_pos': 0.8890410958904109, 'precision': 0.8569918553586445, 'precision_neg': 0.877643504531722, 'precision_pos': 0.836340206185567, 'acc': 0.8553546592489569}\n",
      "Max {'auc': 0.9336680597476975, 'spauc': 0.7874634927229847, 'metric': 0.8591541373799438, 'f1_neg': 0.8519061583577713, 'f1_pos': 0.8664021164021164, 'recall': 0.8589408714495782, 'recall_neg': 0.8206214689265536, 'recall_pos': 0.8972602739726028, 'precision': 0.861633319817853, 'precision_neg': 0.885670731707317, 'precision_pos': 0.8375959079283888, 'acc': 0.8595271210013908}\n"
     ]
    },
    {
     "name": "stderr",
     "output_type": "stream",
     "text": [
      "Dataloader: loading items from current dataset: 100%|██████████| 6713/6713 [00:08<00:00, 797.80it/s]\n",
      "100%|██████████| 105/105 [01:15<00:00,  1.39it/s]\n"
     ]
    },
    {
     "name": "stdout",
     "output_type": "stream",
     "text": [
      "Training Epoch 10; Loss 0.4217752476533254; \n"
     ]
    },
    {
     "name": "stderr",
     "output_type": "stream",
     "text": [
      "100%|██████████| 23/23 [00:16<00:00,  1.37it/s]\n"
     ]
    },
    {
     "name": "stdout",
     "output_type": "stream",
     "text": [
      "curent {'auc': 0.9334455537497097, 'spauc': 0.7864899653359076, 'metric': 0.8585426864164364, 'f1_neg': 0.8521485797523671, 'f1_pos': 0.8649367930805056, 'recall': 0.8583410726723938, 'recall_neg': 0.826271186440678, 'recall_pos': 0.8904109589041096, 'precision': 0.8602894688208231, 'precision_neg': 0.8796992481203008, 'precision_pos': 0.8408796895213454, 'acc': 0.8588317107093185}\n",
      "Max {'auc': 0.9336680597476975, 'spauc': 0.7874634927229847, 'metric': 0.8591541373799438, 'f1_neg': 0.8519061583577713, 'f1_pos': 0.8664021164021164, 'recall': 0.8589408714495782, 'recall_neg': 0.8206214689265536, 'recall_pos': 0.8972602739726028, 'precision': 0.861633319817853, 'precision_neg': 0.885670731707317, 'precision_pos': 0.8375959079283888, 'acc': 0.8595271210013908}\n"
     ]
    },
    {
     "name": "stderr",
     "output_type": "stream",
     "text": [
      "Dataloader: loading items from current dataset: 100%|██████████| 1439/1439 [00:01<00:00, 1176.41it/s]\n",
      "100%|██████████| 23/23 [00:16<00:00,  1.38it/s]\n"
     ]
    },
    {
     "name": "stdout",
     "output_type": "stream",
     "text": [
      "test results: {'auc': 0.9231041157176139, 'spauc': 0.7392476020775521, 'metric': 0.859567704407985, 'f1_neg': 0.8567375886524823, 'f1_pos': 0.8623978201634878, 'recall': 0.8595650930894733, 'recall_neg': 0.8423988842398884, 'recall_pos': 0.8767313019390581, 'precision': 0.8600491703708861, 'precision_neg': 0.8715728715728716, 'precision_pos': 0.8485254691689008, 'acc': 0.8596247394023627}\n",
      "best model path: ./param_model/flant5_seomis/parameter_t5seomis.pkl\n",
      "best metric: {'metric': 0.859567704407985}\n"
     ]
    },
    {
     "ename": "FileNotFoundError",
     "evalue": "[Errno 2] No such file or directory: './logs/json/flant5_seomis0.1.json'",
     "output_type": "error",
     "traceback": [
      "\u001b[0;31m---------------------------------------------------------------------------\u001b[0m",
      "\u001b[0;31mFileNotFoundError\u001b[0m                         Traceback (most recent call last)",
      "Cell \u001b[0;32mIn[1], line 65\u001b[0m\n\u001b[1;32m     43\u001b[0m config \u001b[38;5;241m=\u001b[39m {\n\u001b[1;32m     44\u001b[0m         \u001b[38;5;124m'\u001b[39m\u001b[38;5;124muse_cuda\u001b[39m\u001b[38;5;124m'\u001b[39m: \u001b[38;5;28;01mTrue\u001b[39;00m,\n\u001b[1;32m     45\u001b[0m         \u001b[38;5;124m'\u001b[39m\u001b[38;5;124mbatchsize\u001b[39m\u001b[38;5;124m'\u001b[39m: args[\u001b[38;5;124m'\u001b[39m\u001b[38;5;124mbatchsize\u001b[39m\u001b[38;5;124m'\u001b[39m],\n\u001b[0;32m   (...)\u001b[0m\n\u001b[1;32m     61\u001b[0m         \u001b[38;5;124m'\u001b[39m\u001b[38;5;124mparam_log_dir\u001b[39m\u001b[38;5;124m'\u001b[39m: args[\u001b[38;5;124m'\u001b[39m\u001b[38;5;124mparam_log_dir\u001b[39m\u001b[38;5;124m'\u001b[39m]\n\u001b[1;32m     62\u001b[0m }\n\u001b[1;32m     64\u001b[0m \u001b[38;5;66;03m# 不需要检查 __name__ == '__main__' 在 Jupyter 中\u001b[39;00m\n\u001b[0;32m---> 65\u001b[0m \u001b[43mRun\u001b[49m\u001b[43m(\u001b[49m\u001b[43mconfig\u001b[49m\u001b[38;5;241;43m=\u001b[39;49m\u001b[43mconfig\u001b[49m\u001b[43m)\u001b[49m\u001b[38;5;241;43m.\u001b[39;49m\u001b[43mmain\u001b[49m\u001b[43m(\u001b[49m\u001b[43m)\u001b[49m\n",
      "File \u001b[0;32m/mySeoSent/mySeoSent_ch/mySeoSent_ch/grid_search.py:106\u001b[0m, in \u001b[0;36mRun.main\u001b[0;34m(self)\u001b[0m\n\u001b[1;32m    104\u001b[0m     logger\u001b[38;5;241m.\u001b[39minfo(\u001b[38;5;124m\"\u001b[39m\u001b[38;5;124mbest metric:\u001b[39m\u001b[38;5;124m\"\u001b[39m \u001b[38;5;241m+\u001b[39m \u001b[38;5;28mstr\u001b[39m(best_metric))\n\u001b[1;32m    105\u001b[0m     logger\u001b[38;5;241m.\u001b[39minfo(\u001b[38;5;124m'\u001b[39m\u001b[38;5;124m--------------------------------------\u001b[39m\u001b[38;5;130;01m\\n\u001b[39;00m\u001b[38;5;124m'\u001b[39m)\n\u001b[0;32m--> 106\u001b[0m \u001b[38;5;28;01mwith\u001b[39;00m \u001b[38;5;28;43mopen\u001b[39;49m\u001b[43m(\u001b[49m\u001b[43mjson_path\u001b[49m\u001b[43m,\u001b[49m\u001b[43m \u001b[49m\u001b[38;5;124;43m'\u001b[39;49m\u001b[38;5;124;43mw\u001b[39;49m\u001b[38;5;124;43m'\u001b[39;49m\u001b[43m)\u001b[49m \u001b[38;5;28;01mas\u001b[39;00m file:\n\u001b[1;32m    107\u001b[0m     json\u001b[38;5;241m.\u001b[39mdump(json_result, file, indent\u001b[38;5;241m=\u001b[39m\u001b[38;5;241m4\u001b[39m, ensure_ascii\u001b[38;5;241m=\u001b[39m\u001b[38;5;28;01mFalse\u001b[39;00m)\n",
      "\u001b[0;31mFileNotFoundError\u001b[0m: [Errno 2] No such file or directory: './logs/json/flant5_seomis0.1.json'"
     ]
    }
   ],
   "source": [
    "import os\n",
    "import torch\n",
    "import numpy as np\n",
    "import random\n",
    "from grid_search import Run\n",
    "import warnings\n",
    "\n",
    "# 忽略特定的警告\n",
    "warnings.filterwarnings(\"ignore\", category=FutureWarning)\n",
    "os.environ[\"TOKENIZERS_PARALLELISM\"] = \"false\"\n",
    "warnings.filterwarnings(\"ignore\", category=UserWarning, message=\".*byte fallback option which is not implemented.*\")\n",
    "# 直接设置参数\n",
    "args = {\n",
    "    'model_name': 'flant5_seomis',\n",
    "    'epoch': 10,\n",
    "    'aug_prob': 0.1,\n",
    "    'max_len': 384,\n",
    "    'early_stop': 10,\n",
    "    'root_path': './data/',\n",
    "    'batchsize':64,\n",
    "    'seed': 2024,\n",
    "    'gpu': '0',\n",
    "    'emb_dim': 768,\n",
    "    'lr': 0.0002,\n",
    "    'emb_type': 'bert',\n",
    "    'save_log_dir': './logs',\n",
    "    'save_param_dir': './param_model',\n",
    "    'param_log_dir': './logs/param'\n",
    "}\n",
    "\n",
    "os.environ[\"CUDA_VISIBLE_DEVICES\"] = args['gpu']\n",
    "\n",
    "seed = args['seed']\n",
    "random.seed(seed)\n",
    "np.random.seed(seed)\n",
    "torch.manual_seed(seed)\n",
    "torch.cuda.manual_seed(seed)\n",
    "torch.backends.cudnn.benchmark = False\n",
    "torch.backends.cudnn.deterministic = True\n",
    "\n",
    "print('lr: {}; model name: {}; batchsize: {}; epoch: {}; gpu: {}'.format(args['lr'], args['model_name'], args['batchsize'], args['epoch'], args['gpu']))\n",
    "\n",
    "config = {\n",
    "        'use_cuda': True,\n",
    "        'batchsize': args['batchsize'],\n",
    "        'max_len': args['max_len'],\n",
    "        'early_stop': args['early_stop'],\n",
    "        'root_path': args['root_path'],\n",
    "        'aug_prob': args['aug_prob'],\n",
    "        'weight_decay': 5e-5,\n",
    "        'model': {\n",
    "            'mlp': {'dims': [384], 'dropout': 0.2}\n",
    "        },\n",
    "        'emb_dim': args['emb_dim'],\n",
    "        'lr': args['lr'],\n",
    "        'epoch': args['epoch'],\n",
    "        'model_name': args['model_name'],\n",
    "        'seed': args['seed'],\n",
    "        'save_log_dir': args['save_log_dir'],\n",
    "        'save_param_dir': args['save_param_dir'],\n",
    "        'param_log_dir': args['param_log_dir']\n",
    "}\n",
    "\n",
    "# 不需要检查 __name__ == '__main__' 在 Jupyter 中\n",
    "Run(config=config).main()"
   ]
  },
  {
   "cell_type": "code",
   "execution_count": 2,
   "id": "8dd8f6ec-7b75-424e-98bc-6a942e09cd2b",
   "metadata": {},
   "outputs": [],
   "source": [
    "arr=np.load('./pred.npy')"
   ]
  },
  {
   "cell_type": "code",
   "execution_count": 3,
   "id": "41ee3ea1-a714-48c5-8923-83f2117c1688",
   "metadata": {},
   "outputs": [
    {
     "data": {
      "text/plain": [
       "(9692,)"
      ]
     },
     "execution_count": 3,
     "metadata": {},
     "output_type": "execute_result"
    }
   ],
   "source": [
    "arr.shape"
   ]
  },
  {
   "cell_type": "code",
   "execution_count": 12,
   "id": "eec1d801-7a16-4762-9f29-a100f712fd9c",
   "metadata": {},
   "outputs": [],
   "source": [
    "import pandas as pd\n",
    "import numpy as np\n",
    "path ='./data/test.json'\n",
    "df = pd.read_json(path,orient='records', lines=True)\n",
    "arr_test= df['label'].values"
   ]
  },
  {
   "cell_type": "code",
   "execution_count": 13,
   "id": "aeb2d4c7-08ca-4ccd-b892-f963a9a475df",
   "metadata": {},
   "outputs": [
    {
     "data": {
      "text/plain": [
       "(9692,)"
      ]
     },
     "execution_count": 13,
     "metadata": {},
     "output_type": "execute_result"
    }
   ],
   "source": [
    "arr_test.shape"
   ]
  },
  {
   "cell_type": "code",
   "execution_count": 22,
   "id": "4d4e1fc7-c65a-4d79-ba1c-a12044f64402",
   "metadata": {},
   "outputs": [],
   "source": [
    "arr_0 = arr[arr_test==0]"
   ]
  },
  {
   "cell_type": "code",
   "execution_count": null,
   "id": "51aa88e5-4520-48f7-8983-c0efc6b8086f",
   "metadata": {},
   "outputs": [],
   "source": []
  },
  {
   "cell_type": "code",
   "execution_count": 23,
   "id": "1d60a05c-d84b-471f-b08d-6c57fe20f966",
   "metadata": {},
   "outputs": [
    {
     "name": "stdout",
     "output_type": "stream",
     "text": [
      "各区间统计结果：\n",
      "区间 0.0 到 0.1: 0.7786802030456853 个元素\n",
      "区间 0.1 到 0.2: 0.0416243654822335 个元素\n",
      "区间 0.2 到 0.3: 0.031878172588832486 个元素\n",
      "区间 0.3 到 0.4: 0.03695431472081218 个元素\n",
      "区间 0.4 到 0.5: 0.02862944162436548 个元素\n",
      "区间 0.5 到 0.6: 0.022944162436548222 个元素\n",
      "区间 0.6 到 0.7: 0.012385786802030457 个元素\n",
      "区间 0.7 到 0.8: 0.007106598984771574 个元素\n",
      "区间 0.8 到 0.9: 0.012588832487309645 个元素\n",
      "区间 0.9 到 1.0: 0.02720812182741117 个元素\n"
     ]
    }
   ],
   "source": [
    "data = arr_0  # 这里用随机数生成一个示例数组\n",
    "\n",
    "# 定义区间的边界\n",
    "bins = np.arange(0, 1.1, 0.1)  # 从0到1，步长为0.1\n",
    "\n",
    "# 使用 numpy 的 histogram 函数进行统计\n",
    "hist, bin_edges = np.histogram(data, bins=bins)\n",
    "\n",
    "# 输出每个区间的统计结果\n",
    "print(\"各区间统计结果：\")\n",
    "for i in range(len(bin_edges)-1):\n",
    "    print(f\"区间 {bin_edges[i]:.1f} 到 {bin_edges[i+1]:.1f}: {hist[i]/data.shape[0]} 个元素\")"
   ]
  },
  {
   "cell_type": "code",
   "execution_count": null,
   "id": "e6c4ccb8-5262-4daf-8cf2-5267694b75f3",
   "metadata": {},
   "outputs": [],
   "source": []
  }
 ],
 "metadata": {
  "kernelspec": {
   "display_name": "Python 3 (ipykernel)",
   "language": "python",
   "name": "python3"
  },
  "language_info": {
   "codemirror_mode": {
    "name": "ipython",
    "version": 3
   },
   "file_extension": ".py",
   "mimetype": "text/x-python",
   "name": "python",
   "nbconvert_exporter": "python",
   "pygments_lexer": "ipython3",
   "version": "3.11.8"
  }
 },
 "nbformat": 4,
 "nbformat_minor": 5
}
