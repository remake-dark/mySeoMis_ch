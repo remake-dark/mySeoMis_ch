{
 "cells": [
  {
   "cell_type": "code",
   "execution_count": null,
   "id": "e309293c-bf0f-496a-926f-3a7e3c68cd39",
   "metadata": {},
   "outputs": [],
   "source": []
  },
  {
   "cell_type": "code",
   "execution_count": 1,
   "id": "02fe378f-7743-4725-a8b0-6170577685b9",
   "metadata": {},
   "outputs": [
    {
     "name": "stderr",
     "output_type": "stream",
     "text": [
      "/usr/local/lib/python3.11/dist-packages/tqdm/auto.py:21: TqdmWarning: IProgress not found. Please update jupyter and ipywidgets. See https://ipywidgets.readthedocs.io/en/stable/user_install.html\n",
      "  from .autonotebook import tqdm as notebook_tqdm\n",
      "You are using a model of type mt5 to instantiate a model of type t5. This is not supported for all configurations of models and can yield errors.\n"
     ]
    },
    {
     "name": "stdout",
     "output_type": "stream",
     "text": [
      "lr: 0.0005; model name: flant5; batchsize: 64; epoch: 20; gpu: 0\n",
      "{'lr': [0.0005]}\n"
     ]
    },
    {
     "name": "stderr",
     "output_type": "stream",
     "text": [
      "Dataloader: loading items from current dataset: 100%|██████████| 1438/1438 [00:01<00:00, 1248.01it/s]\n",
      "You are using the default legacy behaviour of the <class 'transformers.models.t5.tokenization_t5.T5Tokenizer'>. This is expected, and simply means that the `legacy` (previous) behavior will be used so nothing changes for you. If you want to use the new behaviour, set `legacy=False`. This should only be set if you understand what it means, and thoroughly read the reason why this was added as explained in https://github.com/huggingface/transformers/pull/24565\n",
      "Dataloader: loading items from current dataset: 100%|██████████| 6713/6713 [00:05<00:00, 1127.91it/s]\n",
      "100%|██████████| 105/105 [01:00<00:00,  1.75it/s]\n"
     ]
    },
    {
     "name": "stdout",
     "output_type": "stream",
     "text": [
      "Training Epoch 1; Loss 0.5845587662288121; \n"
     ]
    },
    {
     "name": "stderr",
     "output_type": "stream",
     "text": [
      "100%|██████████| 23/23 [00:12<00:00,  1.90it/s]\n"
     ]
    },
    {
     "name": "stdout",
     "output_type": "stream",
     "text": [
      "curent {'auc': 0.834109202074143, 'spauc': 0.6746565159124884, 'metric': 0.7487322089356461, 'f1_neg': 0.7562457798784605, 'f1_pos': 0.7412186379928315, 'recall': 0.7495898150297965, 'recall_neg': 0.7909604519774012, 'recall_pos': 0.7082191780821918, 'precision': 0.7509469015358577, 'precision_neg': 0.7244501940491591, 'precision_pos': 0.7774436090225564, 'acc': 0.7489568845618915}\n",
      "Max {'auc': 0.834109202074143, 'spauc': 0.6746565159124884, 'metric': 0.7487322089356461, 'f1_neg': 0.7562457798784605, 'f1_pos': 0.7412186379928315, 'recall': 0.7495898150297965, 'recall_neg': 0.7909604519774012, 'recall_pos': 0.7082191780821918, 'precision': 0.7509469015358577, 'precision_neg': 0.7244501940491591, 'precision_pos': 0.7774436090225564, 'acc': 0.7489568845618915}\n"
     ]
    },
    {
     "name": "stderr",
     "output_type": "stream",
     "text": [
      "Dataloader: loading items from current dataset: 100%|██████████| 6713/6713 [00:05<00:00, 1131.07it/s]\n",
      "100%|██████████| 105/105 [00:57<00:00,  1.81it/s]\n"
     ]
    },
    {
     "name": "stdout",
     "output_type": "stream",
     "text": [
      "Training Epoch 2; Loss 0.44963360400426955; \n"
     ]
    },
    {
     "name": "stderr",
     "output_type": "stream",
     "text": [
      "100%|██████████| 23/23 [00:12<00:00,  1.88it/s]\n"
     ]
    },
    {
     "name": "stdout",
     "output_type": "stream",
     "text": [
      "curent {'auc': 0.8742221964244252, 'spauc': 0.6989234172033287, 'metric': 0.788201550387597, 'f1_neg': 0.7790697674418605, 'f1_pos': 0.7973333333333333, 'recall': 0.7881201145422181, 'recall_neg': 0.7570621468926554, 'recall_pos': 0.8191780821917808, 'precision': 0.7895092931021075, 'precision_neg': 0.8023952095808383, 'precision_pos': 0.7766233766233767, 'acc': 0.7885952712100139}\n",
      "Max {'auc': 0.8742221964244252, 'spauc': 0.6989234172033287, 'metric': 0.788201550387597, 'f1_neg': 0.7790697674418605, 'f1_pos': 0.7973333333333333, 'recall': 0.7881201145422181, 'recall_neg': 0.7570621468926554, 'recall_pos': 0.8191780821917808, 'precision': 0.7895092931021075, 'precision_neg': 0.8023952095808383, 'precision_pos': 0.7766233766233767, 'acc': 0.7885952712100139}\n"
     ]
    },
    {
     "name": "stderr",
     "output_type": "stream",
     "text": [
      "Dataloader: loading items from current dataset: 100%|██████████| 6713/6713 [00:06<00:00, 1115.60it/s]\n",
      "100%|██████████| 105/105 [00:58<00:00,  1.81it/s]\n"
     ]
    },
    {
     "name": "stdout",
     "output_type": "stream",
     "text": [
      "Training Epoch 3; Loss 0.4116027508463178; \n"
     ]
    },
    {
     "name": "stderr",
     "output_type": "stream",
     "text": [
      "100%|██████████| 23/23 [00:12<00:00,  1.87it/s]\n"
     ]
    },
    {
     "name": "stdout",
     "output_type": "stream",
     "text": [
      "curent {'auc': 0.8836487114000464, 'spauc': 0.7094468816573591, 'metric': 0.796222611612681, 'f1_neg': 0.7940969782150387, 'f1_pos': 0.7983482450103234, 'recall': 0.7962715734076309, 'recall_neg': 0.7980225988700564, 'recall_pos': 0.7945205479452054, 'precision': 0.796211395796458, 'precision_neg': 0.7902097902097902, 'precision_pos': 0.8022130013831259, 'acc': 0.7962447844228094}\n",
      "Max {'auc': 0.8836487114000464, 'spauc': 0.7094468816573591, 'metric': 0.796222611612681, 'f1_neg': 0.7940969782150387, 'f1_pos': 0.7983482450103234, 'recall': 0.7962715734076309, 'recall_neg': 0.7980225988700564, 'recall_pos': 0.7945205479452054, 'precision': 0.796211395796458, 'precision_neg': 0.7902097902097902, 'precision_pos': 0.8022130013831259, 'acc': 0.7962447844228094}\n"
     ]
    },
    {
     "name": "stderr",
     "output_type": "stream",
     "text": [
      "Dataloader: loading items from current dataset: 100%|██████████| 6713/6713 [00:05<00:00, 1129.14it/s]\n",
      "100%|██████████| 105/105 [00:58<00:00,  1.81it/s]\n"
     ]
    },
    {
     "name": "stdout",
     "output_type": "stream",
     "text": [
      "Training Epoch 4; Loss 0.3932000009786515; \n"
     ]
    },
    {
     "name": "stderr",
     "output_type": "stream",
     "text": [
      "100%|██████████| 23/23 [00:12<00:00,  1.87it/s]\n"
     ]
    },
    {
     "name": "stdout",
     "output_type": "stream",
     "text": [
      "curent {'auc': 0.894234192399969, 'spauc': 0.7325447354164376, 'metric': 0.8047397079048799, 'f1_neg': 0.7944199706314243, 'f1_pos': 0.8150594451783355, 'recall': 0.8046648866186827, 'recall_neg': 0.7641242937853108, 'recall_pos': 0.8452054794520548, 'precision': 0.8071034606503151, 'precision_neg': 0.827217125382263, 'precision_pos': 0.7869897959183674, 'acc': 0.8052851182197497}\n",
      "Max {'auc': 0.894234192399969, 'spauc': 0.7325447354164376, 'metric': 0.8047397079048799, 'f1_neg': 0.7944199706314243, 'f1_pos': 0.8150594451783355, 'recall': 0.8046648866186827, 'recall_neg': 0.7641242937853108, 'recall_pos': 0.8452054794520548, 'precision': 0.8071034606503151, 'precision_neg': 0.827217125382263, 'precision_pos': 0.7869897959183674, 'acc': 0.8052851182197497}\n"
     ]
    },
    {
     "name": "stderr",
     "output_type": "stream",
     "text": [
      "Dataloader: loading items from current dataset: 100%|██████████| 6713/6713 [00:05<00:00, 1123.88it/s]\n",
      "100%|██████████| 105/105 [00:58<00:00,  1.80it/s]\n"
     ]
    },
    {
     "name": "stdout",
     "output_type": "stream",
     "text": [
      "Training Epoch 5; Loss 0.3794478585322698; \n"
     ]
    },
    {
     "name": "stderr",
     "output_type": "stream",
     "text": [
      "100%|██████████| 23/23 [00:12<00:00,  1.86it/s]\n"
     ]
    },
    {
     "name": "stdout",
     "output_type": "stream",
     "text": [
      "curent {'auc': 0.8993537651884529, 'spauc': 0.7366689884683848, 'metric': 0.8096351551411368, 'f1_neg': 0.7997065297138665, 'f1_pos': 0.8195637805684072, 'recall': 0.8095445398962928, 'recall_neg': 0.769774011299435, 'recall_pos': 0.8493150684931506, 'precision': 0.8119436888849892, 'precision_neg': 0.8320610687022901, 'precision_pos': 0.7918263090676884, 'acc': 0.8101529902642559}\n",
      "Max {'auc': 0.8993537651884529, 'spauc': 0.7366689884683848, 'metric': 0.8096351551411368, 'f1_neg': 0.7997065297138665, 'f1_pos': 0.8195637805684072, 'recall': 0.8095445398962928, 'recall_neg': 0.769774011299435, 'recall_pos': 0.8493150684931506, 'precision': 0.8119436888849892, 'precision_neg': 0.8320610687022901, 'precision_pos': 0.7918263090676884, 'acc': 0.8101529902642559}\n"
     ]
    },
    {
     "name": "stderr",
     "output_type": "stream",
     "text": [
      "Dataloader: loading items from current dataset: 100%|██████████| 6713/6713 [00:05<00:00, 1133.98it/s]\n",
      "100%|██████████| 105/105 [00:58<00:00,  1.81it/s]\n"
     ]
    },
    {
     "name": "stdout",
     "output_type": "stream",
     "text": [
      "Training Epoch 6; Loss 0.36241158076695035; \n"
     ]
    },
    {
     "name": "stderr",
     "output_type": "stream",
     "text": [
      "100%|██████████| 23/23 [00:12<00:00,  1.88it/s]\n"
     ]
    },
    {
     "name": "stdout",
     "output_type": "stream",
     "text": [
      "curent {'auc': 0.9038058199829736, 'spauc': 0.7457769685416233, 'metric': 0.8132524758470847, 'f1_neg': 0.7990970654627539, 'f1_pos': 0.8274078862314156, 'recall': 0.8133561643835616, 'recall_neg': 0.75, 'recall_pos': 0.8767123287671232, 'precision': 0.8192130984691253, 'precision_neg': 0.855072463768116, 'precision_pos': 0.7833537331701347, 'acc': 0.8143254520166898}\n",
      "Max {'auc': 0.9038058199829736, 'spauc': 0.7457769685416233, 'metric': 0.8132524758470847, 'f1_neg': 0.7990970654627539, 'f1_pos': 0.8274078862314156, 'recall': 0.8133561643835616, 'recall_neg': 0.75, 'recall_pos': 0.8767123287671232, 'precision': 0.8192130984691253, 'precision_neg': 0.855072463768116, 'precision_pos': 0.7833537331701347, 'acc': 0.8143254520166898}\n"
     ]
    },
    {
     "name": "stderr",
     "output_type": "stream",
     "text": [
      "Dataloader: loading items from current dataset: 100%|██████████| 6713/6713 [00:05<00:00, 1119.50it/s]\n",
      "100%|██████████| 105/105 [00:58<00:00,  1.80it/s]\n"
     ]
    },
    {
     "name": "stdout",
     "output_type": "stream",
     "text": [
      "Training Epoch 7; Loss 0.3525363395611445; \n"
     ]
    },
    {
     "name": "stderr",
     "output_type": "stream",
     "text": [
      "100%|██████████| 23/23 [00:12<00:00,  1.87it/s]\n"
     ]
    },
    {
     "name": "stdout",
     "output_type": "stream",
     "text": [
      "curent {'auc': 0.9070466682145344, 'spauc': 0.7465936724793176, 'metric': 0.8163089929394277, 'f1_neg': 0.8206521739130435, 'f1_pos': 0.811965811965812, 'recall': 0.8169646312204938, 'recall_neg': 0.8531073446327684, 'recall_pos': 0.7808219178082192, 'precision': 0.8181366228036105, 'precision_neg': 0.7905759162303665, 'precision_pos': 0.8456973293768546, 'acc': 0.8164116828929068}\n",
      "Max {'auc': 0.9070466682145344, 'spauc': 0.7465936724793176, 'metric': 0.8163089929394277, 'f1_neg': 0.8206521739130435, 'f1_pos': 0.811965811965812, 'recall': 0.8169646312204938, 'recall_neg': 0.8531073446327684, 'recall_pos': 0.7808219178082192, 'precision': 0.8181366228036105, 'precision_neg': 0.7905759162303665, 'precision_pos': 0.8456973293768546, 'acc': 0.8164116828929068}\n"
     ]
    },
    {
     "name": "stderr",
     "output_type": "stream",
     "text": [
      "Dataloader: loading items from current dataset: 100%|██████████| 6713/6713 [00:05<00:00, 1141.84it/s]\n",
      "100%|██████████| 105/105 [00:58<00:00,  1.80it/s]\n"
     ]
    },
    {
     "name": "stdout",
     "output_type": "stream",
     "text": [
      "Training Epoch 8; Loss 0.3461735969498044; \n"
     ]
    },
    {
     "name": "stderr",
     "output_type": "stream",
     "text": [
      "100%|██████████| 23/23 [00:12<00:00,  1.87it/s]\n"
     ]
    },
    {
     "name": "stdout",
     "output_type": "stream",
     "text": [
      "curent {'auc': 0.9129382400742976, 'spauc': 0.7578727408258282, 'metric': 0.8325833735963722, 'f1_neg': 0.8232695139911634, 'f1_pos': 0.841897233201581, 'recall': 0.8324452441761474, 'recall_neg': 0.78954802259887, 'recall_pos': 0.8753424657534247, 'precision': 0.8354568527918782, 'precision_neg': 0.86, 'precision_pos': 0.8109137055837563, 'acc': 0.8331015299026425}\n",
      "Max {'auc': 0.9129382400742976, 'spauc': 0.7578727408258282, 'metric': 0.8325833735963722, 'f1_neg': 0.8232695139911634, 'f1_pos': 0.841897233201581, 'recall': 0.8324452441761474, 'recall_neg': 0.78954802259887, 'recall_pos': 0.8753424657534247, 'precision': 0.8354568527918782, 'precision_neg': 0.86, 'precision_pos': 0.8109137055837563, 'acc': 0.8331015299026425}\n"
     ]
    },
    {
     "name": "stderr",
     "output_type": "stream",
     "text": [
      "Dataloader: loading items from current dataset: 100%|██████████| 6713/6713 [00:06<00:00, 1107.66it/s]\n",
      "100%|██████████| 105/105 [00:58<00:00,  1.81it/s]\n"
     ]
    },
    {
     "name": "stdout",
     "output_type": "stream",
     "text": [
      "Training Epoch 9; Loss 0.3335126116162255; \n"
     ]
    },
    {
     "name": "stderr",
     "output_type": "stream",
     "text": [
      "100%|██████████| 23/23 [00:12<00:00,  1.86it/s]\n"
     ]
    },
    {
     "name": "stdout",
     "output_type": "stream",
     "text": [
      "curent {'auc': 0.914408714495782, 'spauc': 0.75779331076705, 'metric': 0.8298500791017893, 'f1_neg': 0.8157695223654283, 'f1_pos': 0.8439306358381503, 'recall': 0.8299435028248587, 'recall_neg': 0.7598870056497176, 'recall_pos': 0.9, 'precision': 0.8374807291553285, 'precision_neg': 0.8805237315875614, 'precision_pos': 0.7944377267230955, 'acc': 0.8310152990264256}\n",
      "Max {'auc': 0.9129382400742976, 'spauc': 0.7578727408258282, 'metric': 0.8325833735963722, 'f1_neg': 0.8232695139911634, 'f1_pos': 0.841897233201581, 'recall': 0.8324452441761474, 'recall_neg': 0.78954802259887, 'recall_pos': 0.8753424657534247, 'precision': 0.8354568527918782, 'precision_neg': 0.86, 'precision_pos': 0.8109137055837563, 'acc': 0.8331015299026425}\n"
     ]
    },
    {
     "name": "stderr",
     "output_type": "stream",
     "text": [
      "Dataloader: loading items from current dataset: 100%|██████████| 6713/6713 [00:05<00:00, 1119.21it/s]\n",
      "100%|██████████| 105/105 [00:58<00:00,  1.80it/s]\n"
     ]
    },
    {
     "name": "stdout",
     "output_type": "stream",
     "text": [
      "Training Epoch 10; Loss 0.32397767248607817; \n"
     ]
    },
    {
     "name": "stderr",
     "output_type": "stream",
     "text": [
      "100%|██████████| 23/23 [00:12<00:00,  1.87it/s]\n"
     ]
    },
    {
     "name": "stdout",
     "output_type": "stream",
     "text": [
      "curent {'auc': 0.9167324510486805, 'spauc': 0.7590927050619352, 'metric': 0.8344536026623326, 'f1_neg': 0.8319209039548022, 'f1_pos': 0.836986301369863, 'recall': 0.8344536026623326, 'recall_neg': 0.8319209039548022, 'recall_pos': 0.836986301369863, 'precision': 0.8344536026623326, 'precision_neg': 0.8319209039548022, 'precision_pos': 0.836986301369863, 'acc': 0.8344923504867872}\n",
      "Max {'auc': 0.9167324510486805, 'spauc': 0.7590927050619352, 'metric': 0.8344536026623326, 'f1_neg': 0.8319209039548022, 'f1_pos': 0.836986301369863, 'recall': 0.8344536026623326, 'recall_neg': 0.8319209039548022, 'recall_pos': 0.836986301369863, 'precision': 0.8344536026623326, 'precision_neg': 0.8319209039548022, 'precision_pos': 0.836986301369863, 'acc': 0.8344923504867872}\n"
     ]
    },
    {
     "name": "stderr",
     "output_type": "stream",
     "text": [
      "Dataloader: loading items from current dataset: 100%|██████████| 6713/6713 [00:05<00:00, 1124.57it/s]\n",
      "100%|██████████| 105/105 [00:58<00:00,  1.81it/s]\n"
     ]
    },
    {
     "name": "stdout",
     "output_type": "stream",
     "text": [
      "Training Epoch 11; Loss 0.31865225916817075; \n"
     ]
    },
    {
     "name": "stderr",
     "output_type": "stream",
     "text": [
      "100%|██████████| 23/23 [00:12<00:00,  1.87it/s]\n"
     ]
    },
    {
     "name": "stdout",
     "output_type": "stream",
     "text": [
      "curent {'auc': 0.9186982431700333, 'spauc': 0.7583737611965833, 'metric': 0.8399553264671327, 'f1_neg': 0.8359486447931527, 'f1_pos': 0.8439620081411127, 'recall': 0.8398692051698785, 'recall_neg': 0.827683615819209, 'recall_pos': 0.852054794520548, 'precision': 0.8402009544172787, 'precision_neg': 0.8443804034582133, 'precision_pos': 0.8360215053763441, 'acc': 0.8400556328233658}\n",
      "Max {'auc': 0.9186982431700333, 'spauc': 0.7583737611965833, 'metric': 0.8399553264671327, 'f1_neg': 0.8359486447931527, 'f1_pos': 0.8439620081411127, 'recall': 0.8398692051698785, 'recall_neg': 0.827683615819209, 'recall_pos': 0.852054794520548, 'precision': 0.8402009544172787, 'precision_neg': 0.8443804034582133, 'precision_pos': 0.8360215053763441, 'acc': 0.8400556328233658}\n"
     ]
    },
    {
     "name": "stderr",
     "output_type": "stream",
     "text": [
      "Dataloader: loading items from current dataset: 100%|██████████| 6713/6713 [00:05<00:00, 1125.69it/s]\n",
      "100%|██████████| 105/105 [00:58<00:00,  1.81it/s]\n"
     ]
    },
    {
     "name": "stdout",
     "output_type": "stream",
     "text": [
      "Training Epoch 12; Loss 0.3143548106863385; \n"
     ]
    },
    {
     "name": "stderr",
     "output_type": "stream",
     "text": [
      "100%|██████████| 23/23 [00:12<00:00,  1.86it/s]\n"
     ]
    },
    {
     "name": "stdout",
     "output_type": "stream",
     "text": [
      "curent {'auc': 0.9213663803111214, 'spauc': 0.7661192102615489, 'metric': 0.8484892183438915, 'f1_neg': 0.8389012620638456, 'f1_pos': 0.8580771746239372, 'recall': 0.848326367928179, 'recall_neg': 0.7980225988700564, 'recall_pos': 0.8986301369863013, 'precision': 0.8526101680308523, 'precision_neg': 0.8841940532081377, 'precision_pos': 0.8210262828535669, 'acc': 0.849095966620306}\n",
      "Max {'auc': 0.9213663803111214, 'spauc': 0.7661192102615489, 'metric': 0.8484892183438915, 'f1_neg': 0.8389012620638456, 'f1_pos': 0.8580771746239372, 'recall': 0.848326367928179, 'recall_neg': 0.7980225988700564, 'recall_pos': 0.8986301369863013, 'precision': 0.8526101680308523, 'precision_neg': 0.8841940532081377, 'precision_pos': 0.8210262828535669, 'acc': 0.849095966620306}\n"
     ]
    },
    {
     "name": "stderr",
     "output_type": "stream",
     "text": [
      "Dataloader: loading items from current dataset: 100%|██████████| 6713/6713 [00:05<00:00, 1130.28it/s]\n",
      "100%|██████████| 105/105 [00:58<00:00,  1.80it/s]\n"
     ]
    },
    {
     "name": "stdout",
     "output_type": "stream",
     "text": [
      "Training Epoch 13; Loss 0.30884786659762975; \n"
     ]
    },
    {
     "name": "stderr",
     "output_type": "stream",
     "text": [
      "100%|██████████| 23/23 [00:12<00:00,  1.86it/s]\n"
     ]
    },
    {
     "name": "stdout",
     "output_type": "stream",
     "text": [
      "curent {'auc': 0.9244040708923458, 'spauc': 0.7671314343439282, 'metric': 0.8420861925920908, 'f1_neg': 0.8391211906449326, 'f1_pos': 0.8450511945392492, 'recall': 0.8420516987849238, 'recall_neg': 0.8361581920903954, 'recall_pos': 0.8479452054794521, 'precision': 0.842141066953097, 'precision_neg': 0.8421052631578947, 'precision_pos': 0.8421768707482993, 'acc': 0.8421418636995828}\n",
      "Max {'auc': 0.9213663803111214, 'spauc': 0.7661192102615489, 'metric': 0.8484892183438915, 'f1_neg': 0.8389012620638456, 'f1_pos': 0.8580771746239372, 'recall': 0.848326367928179, 'recall_neg': 0.7980225988700564, 'recall_pos': 0.8986301369863013, 'precision': 0.8526101680308523, 'precision_neg': 0.8841940532081377, 'precision_pos': 0.8210262828535669, 'acc': 0.849095966620306}\n"
     ]
    },
    {
     "name": "stderr",
     "output_type": "stream",
     "text": [
      "Dataloader: loading items from current dataset: 100%|██████████| 6713/6713 [00:06<00:00, 1113.84it/s]\n",
      "100%|██████████| 105/105 [00:58<00:00,  1.81it/s]\n"
     ]
    },
    {
     "name": "stdout",
     "output_type": "stream",
     "text": [
      "Training Epoch 14; Loss 0.30065266901538484; \n"
     ]
    },
    {
     "name": "stderr",
     "output_type": "stream",
     "text": [
      "100%|██████████| 23/23 [00:12<00:00,  1.86it/s]\n"
     ]
    },
    {
     "name": "stdout",
     "output_type": "stream",
     "text": [
      "curent {'auc': 0.9237868586022753, 'spauc': 0.7705285968578284, 'metric': 0.8410898885429775, 'f1_neg': 0.8281604844814534, 'f1_pos': 0.8540192926045016, 'recall': 0.8410939555761938, 'recall_neg': 0.7725988700564972, 'recall_pos': 0.9095890410958904, 'precision': 0.848590637204014, 'precision_neg': 0.8923327895595432, 'precision_pos': 0.8048484848484848, 'acc': 0.8421418636995828}\n",
      "Max {'auc': 0.9213663803111214, 'spauc': 0.7661192102615489, 'metric': 0.8484892183438915, 'f1_neg': 0.8389012620638456, 'f1_pos': 0.8580771746239372, 'recall': 0.848326367928179, 'recall_neg': 0.7980225988700564, 'recall_pos': 0.8986301369863013, 'precision': 0.8526101680308523, 'precision_neg': 0.8841940532081377, 'precision_pos': 0.8210262828535669, 'acc': 0.849095966620306}\n"
     ]
    },
    {
     "name": "stderr",
     "output_type": "stream",
     "text": [
      "Dataloader: loading items from current dataset: 100%|██████████| 6713/6713 [00:05<00:00, 1122.69it/s]\n",
      "100%|██████████| 105/105 [00:58<00:00,  1.80it/s]\n"
     ]
    },
    {
     "name": "stdout",
     "output_type": "stream",
     "text": [
      "Training Epoch 15; Loss 0.29434130035695577; \n"
     ]
    },
    {
     "name": "stderr",
     "output_type": "stream",
     "text": [
      "100%|██████████| 23/23 [00:12<00:00,  1.87it/s]\n"
     ]
    },
    {
     "name": "stdout",
     "output_type": "stream",
     "text": [
      "curent {'auc': 0.9250232180171813, 'spauc': 0.7692740092627668, 'metric': 0.8473933415034461, 'f1_neg': 0.8404952658412236, 'f1_pos': 0.8542914171656687, 'recall': 0.847211903103475, 'recall_neg': 0.8149717514124294, 'recall_pos': 0.8794520547945206, 'precision': 0.8490997869836299, 'precision_neg': 0.8676691729323308, 'precision_pos': 0.8305304010349288, 'acc': 0.8477051460361613}\n",
      "Max {'auc': 0.9213663803111214, 'spauc': 0.7661192102615489, 'metric': 0.8484892183438915, 'f1_neg': 0.8389012620638456, 'f1_pos': 0.8580771746239372, 'recall': 0.848326367928179, 'recall_neg': 0.7980225988700564, 'recall_pos': 0.8986301369863013, 'precision': 0.8526101680308523, 'precision_neg': 0.8841940532081377, 'precision_pos': 0.8210262828535669, 'acc': 0.849095966620306}\n"
     ]
    },
    {
     "name": "stderr",
     "output_type": "stream",
     "text": [
      "Dataloader: loading items from current dataset: 100%|██████████| 6713/6713 [00:05<00:00, 1123.92it/s]\n",
      "100%|██████████| 105/105 [00:58<00:00,  1.80it/s]\n"
     ]
    },
    {
     "name": "stdout",
     "output_type": "stream",
     "text": [
      "Training Epoch 16; Loss 0.2887112672839846; \n"
     ]
    },
    {
     "name": "stderr",
     "output_type": "stream",
     "text": [
      "100%|██████████| 23/23 [00:12<00:00,  1.87it/s]\n"
     ]
    },
    {
     "name": "stdout",
     "output_type": "stream",
     "text": [
      "curent {'auc': 0.927248277997059, 'spauc': 0.772314754846252, 'metric': 0.8508287185691905, 'f1_neg': 0.8435672514619883, 'f1_pos': 0.8580901856763926, 'recall': 0.8506365606377215, 'recall_neg': 0.8149717514124294, 'recall_pos': 0.8863013698630137, 'precision': 0.8529309807587442, 'precision_neg': 0.8742424242424243, 'precision_pos': 0.8316195372750642, 'acc': 0.8511821974965229}\n",
      "Max {'auc': 0.927248277997059, 'spauc': 0.772314754846252, 'metric': 0.8508287185691905, 'f1_neg': 0.8435672514619883, 'f1_pos': 0.8580901856763926, 'recall': 0.8506365606377215, 'recall_neg': 0.8149717514124294, 'recall_pos': 0.8863013698630137, 'precision': 0.8529309807587442, 'precision_neg': 0.8742424242424243, 'precision_pos': 0.8316195372750642, 'acc': 0.8511821974965229}\n"
     ]
    },
    {
     "name": "stderr",
     "output_type": "stream",
     "text": [
      "Dataloader: loading items from current dataset: 100%|██████████| 6713/6713 [00:05<00:00, 1121.65it/s]\n",
      "100%|██████████| 105/105 [00:58<00:00,  1.80it/s]\n"
     ]
    },
    {
     "name": "stdout",
     "output_type": "stream",
     "text": [
      "Training Epoch 17; Loss 0.2851491236970538; \n"
     ]
    },
    {
     "name": "stderr",
     "output_type": "stream",
     "text": [
      "100%|██████████| 23/23 [00:12<00:00,  1.87it/s]\n"
     ]
    },
    {
     "name": "stdout",
     "output_type": "stream",
     "text": [
      "curent {'auc': 0.928798080643913, 'spauc': 0.7750948069034904, 'metric': 0.8483345460738172, 'f1_neg': 0.8451704545454546, 'f1_pos': 0.8514986376021798, 'recall': 0.8482799318938163, 'recall_neg': 0.8403954802259888, 'recall_pos': 0.8561643835616438, 'precision': 0.8484417344173442, 'precision_neg': 0.85, 'precision_pos': 0.8468834688346883, 'acc': 0.8484005563282336}\n",
      "Max {'auc': 0.927248277997059, 'spauc': 0.772314754846252, 'metric': 0.8508287185691905, 'f1_neg': 0.8435672514619883, 'f1_pos': 0.8580901856763926, 'recall': 0.8506365606377215, 'recall_neg': 0.8149717514124294, 'recall_pos': 0.8863013698630137, 'precision': 0.8529309807587442, 'precision_neg': 0.8742424242424243, 'precision_pos': 0.8316195372750642, 'acc': 0.8511821974965229}\n"
     ]
    },
    {
     "name": "stderr",
     "output_type": "stream",
     "text": [
      "Dataloader: loading items from current dataset: 100%|██████████| 6713/6713 [00:05<00:00, 1124.00it/s]\n",
      "100%|██████████| 105/105 [00:58<00:00,  1.80it/s]\n"
     ]
    },
    {
     "name": "stdout",
     "output_type": "stream",
     "text": [
      "Training Epoch 18; Loss 0.282716815954163; \n"
     ]
    },
    {
     "name": "stderr",
     "output_type": "stream",
     "text": [
      "100%|██████████| 23/23 [00:12<00:00,  1.86it/s]\n"
     ]
    },
    {
     "name": "stdout",
     "output_type": "stream",
     "text": [
      "curent {'auc': 0.9286104016716973, 'spauc': 0.7730866520841225, 'metric': 0.8532166812199611, 'f1_neg': 0.8504606661941885, 'f1_pos': 0.8559726962457338, 'recall': 0.8531808683538425, 'recall_neg': 0.847457627118644, 'recall_pos': 0.8589041095890411, 'precision': 0.8532731442505879, 'precision_neg': 0.8534850640113798, 'precision_pos': 0.8530612244897959, 'acc': 0.8532684283727399}\n",
      "Max {'auc': 0.9286104016716973, 'spauc': 0.7730866520841225, 'metric': 0.8532166812199611, 'f1_neg': 0.8504606661941885, 'f1_pos': 0.8559726962457338, 'recall': 0.8531808683538425, 'recall_neg': 0.847457627118644, 'recall_pos': 0.8589041095890411, 'precision': 0.8532731442505879, 'precision_neg': 0.8534850640113798, 'precision_pos': 0.8530612244897959, 'acc': 0.8532684283727399}\n"
     ]
    },
    {
     "name": "stderr",
     "output_type": "stream",
     "text": [
      "Dataloader: loading items from current dataset: 100%|██████████| 6713/6713 [00:05<00:00, 1137.38it/s]\n",
      "100%|██████████| 105/105 [00:58<00:00,  1.80it/s]\n"
     ]
    },
    {
     "name": "stdout",
     "output_type": "stream",
     "text": [
      "Training Epoch 19; Loss 0.2740368136337825; \n"
     ]
    },
    {
     "name": "stderr",
     "output_type": "stream",
     "text": [
      "100%|██████████| 23/23 [00:12<00:00,  1.86it/s]\n"
     ]
    },
    {
     "name": "stdout",
     "output_type": "stream",
     "text": [
      "curent {'auc': 0.9295720145499574, 'spauc': 0.7728809485985686, 'metric': 0.8532371289003644, 'f1_neg': 0.8510938602681722, 'f1_pos': 0.8553803975325566, 'recall': 0.8532447179010912, 'recall_neg': 0.8516949152542372, 'recall_pos': 0.8547945205479452, 'precision': 0.8532303656108702, 'precision_neg': 0.8504936530324401, 'precision_pos': 0.8559670781893004, 'acc': 0.8532684283727399}\n",
      "Max {'auc': 0.9295720145499574, 'spauc': 0.7728809485985686, 'metric': 0.8532371289003644, 'f1_neg': 0.8510938602681722, 'f1_pos': 0.8553803975325566, 'recall': 0.8532447179010912, 'recall_neg': 0.8516949152542372, 'recall_pos': 0.8547945205479452, 'precision': 0.8532303656108702, 'precision_neg': 0.8504936530324401, 'precision_pos': 0.8559670781893004, 'acc': 0.8532684283727399}\n"
     ]
    },
    {
     "name": "stderr",
     "output_type": "stream",
     "text": [
      "Dataloader: loading items from current dataset: 100%|██████████| 6713/6713 [00:05<00:00, 1138.14it/s]\n",
      "100%|██████████| 105/105 [00:58<00:00,  1.81it/s]\n"
     ]
    },
    {
     "name": "stdout",
     "output_type": "stream",
     "text": [
      "Training Epoch 20; Loss 0.27428130677768164; \n"
     ]
    },
    {
     "name": "stderr",
     "output_type": "stream",
     "text": [
      "100%|██████████| 23/23 [00:12<00:00,  1.86it/s]\n"
     ]
    },
    {
     "name": "stdout",
     "output_type": "stream",
     "text": [
      "curent {'auc': 0.9302395325439208, 'spauc': 0.77647159458898, 'metric': 0.8520682379749882, 'f1_neg': 0.843426883308715, 'f1_pos': 0.8607095926412615, 'recall': 0.8518787245569228, 'recall_neg': 0.806497175141243, 'recall_pos': 0.8972602739726028, 'precision': 0.8554605654063858, 'precision_neg': 0.8839009287925697, 'precision_pos': 0.827020202020202, 'acc': 0.8525730180806675}\n",
      "Max {'auc': 0.9295720145499574, 'spauc': 0.7728809485985686, 'metric': 0.8532371289003644, 'f1_neg': 0.8510938602681722, 'f1_pos': 0.8553803975325566, 'recall': 0.8532447179010912, 'recall_neg': 0.8516949152542372, 'recall_pos': 0.8547945205479452, 'precision': 0.8532303656108702, 'precision_neg': 0.8504936530324401, 'precision_pos': 0.8559670781893004, 'acc': 0.8532684283727399}\n"
     ]
    },
    {
     "name": "stderr",
     "output_type": "stream",
     "text": [
      "Dataloader: loading items from current dataset: 100%|██████████| 1439/1439 [00:01<00:00, 1249.83it/s]\n",
      "100%|██████████| 23/23 [00:12<00:00,  1.85it/s]\n"
     ]
    },
    {
     "name": "stdout",
     "output_type": "stream",
     "text": [
      "test results: {'auc': 0.9198916692744855, 'spauc': 0.7331047399674211, 'metric': 0.8560388686790188, 'f1_neg': 0.852037169406719, 'f1_pos': 0.8600405679513184, 'recall': 0.856063854858463, 'recall_neg': 0.8312412831241283, 'recall_pos': 0.8808864265927978, 'precision': 0.8570294068653467, 'precision_neg': 0.873900293255132, 'precision_pos': 0.8401585204755614, 'acc': 0.8561501042390549}\n",
      "best model path: ./param_model/flant5/parameter_flant5.pkl\n",
      "best metric: {'metric': 0.8560388686790188}\n"
     ]
    },
    {
     "ename": "FileNotFoundError",
     "evalue": "[Errno 2] No such file or directory: './logs/json/flant50.1.json'",
     "output_type": "error",
     "traceback": [
      "\u001b[0;31m---------------------------------------------------------------------------\u001b[0m",
      "\u001b[0;31mFileNotFoundError\u001b[0m                         Traceback (most recent call last)",
      "Cell \u001b[0;32mIn[1], line 66\u001b[0m\n\u001b[1;32m     44\u001b[0m config \u001b[38;5;241m=\u001b[39m {\n\u001b[1;32m     45\u001b[0m         \u001b[38;5;124m'\u001b[39m\u001b[38;5;124muse_cuda\u001b[39m\u001b[38;5;124m'\u001b[39m: \u001b[38;5;28;01mTrue\u001b[39;00m,\n\u001b[1;32m     46\u001b[0m         \u001b[38;5;124m'\u001b[39m\u001b[38;5;124mbatchsize\u001b[39m\u001b[38;5;124m'\u001b[39m: args[\u001b[38;5;124m'\u001b[39m\u001b[38;5;124mbatchsize\u001b[39m\u001b[38;5;124m'\u001b[39m],\n\u001b[0;32m   (...)\u001b[0m\n\u001b[1;32m     62\u001b[0m         \u001b[38;5;124m'\u001b[39m\u001b[38;5;124mparam_log_dir\u001b[39m\u001b[38;5;124m'\u001b[39m: args[\u001b[38;5;124m'\u001b[39m\u001b[38;5;124mparam_log_dir\u001b[39m\u001b[38;5;124m'\u001b[39m]\n\u001b[1;32m     63\u001b[0m }\n\u001b[1;32m     65\u001b[0m \u001b[38;5;66;03m# 不需要检查 __name__ == '__main__' 在 Jupyter 中\u001b[39;00m\n\u001b[0;32m---> 66\u001b[0m \u001b[43mRun\u001b[49m\u001b[43m(\u001b[49m\u001b[43mconfig\u001b[49m\u001b[38;5;241;43m=\u001b[39;49m\u001b[43mconfig\u001b[49m\u001b[43m)\u001b[49m\u001b[38;5;241;43m.\u001b[39;49m\u001b[43mmain\u001b[49m\u001b[43m(\u001b[49m\u001b[43m)\u001b[49m\n",
      "File \u001b[0;32m/mySeoSent/mySeoSent_ch/mySeoSent_ch/grid_search.py:106\u001b[0m, in \u001b[0;36mRun.main\u001b[0;34m(self)\u001b[0m\n\u001b[1;32m    104\u001b[0m     logger\u001b[38;5;241m.\u001b[39minfo(\u001b[38;5;124m\"\u001b[39m\u001b[38;5;124mbest metric:\u001b[39m\u001b[38;5;124m\"\u001b[39m \u001b[38;5;241m+\u001b[39m \u001b[38;5;28mstr\u001b[39m(best_metric))\n\u001b[1;32m    105\u001b[0m     logger\u001b[38;5;241m.\u001b[39minfo(\u001b[38;5;124m'\u001b[39m\u001b[38;5;124m--------------------------------------\u001b[39m\u001b[38;5;130;01m\\n\u001b[39;00m\u001b[38;5;124m'\u001b[39m)\n\u001b[0;32m--> 106\u001b[0m \u001b[38;5;28;01mwith\u001b[39;00m \u001b[38;5;28;43mopen\u001b[39;49m\u001b[43m(\u001b[49m\u001b[43mjson_path\u001b[49m\u001b[43m,\u001b[49m\u001b[43m \u001b[49m\u001b[38;5;124;43m'\u001b[39;49m\u001b[38;5;124;43mw\u001b[39;49m\u001b[38;5;124;43m'\u001b[39;49m\u001b[43m)\u001b[49m \u001b[38;5;28;01mas\u001b[39;00m file:\n\u001b[1;32m    107\u001b[0m     json\u001b[38;5;241m.\u001b[39mdump(json_result, file, indent\u001b[38;5;241m=\u001b[39m\u001b[38;5;241m4\u001b[39m, ensure_ascii\u001b[38;5;241m=\u001b[39m\u001b[38;5;28;01mFalse\u001b[39;00m)\n",
      "\u001b[0;31mFileNotFoundError\u001b[0m: [Errno 2] No such file or directory: './logs/json/flant50.1.json'"
     ]
    }
   ],
   "source": [
    "import os\n",
    "import torch\n",
    "import numpy as np\n",
    "import random\n",
    "from grid_search import Run\n",
    "\n",
    "import warnings\n",
    "os.environ[\"TOKENIZERS_PARALLELISM\"] = \"false\"\n",
    "warnings.filterwarnings(\"ignore\", category=UserWarning, message=\".*byte fallback option which is not implemented.*\")\n",
    "# 忽略特定的警告\n",
    "warnings.filterwarnings(\"ignore\", category=FutureWarning)\n",
    "\n",
    "# 直接设置参数\n",
    "args = {\n",
    "    'model_name': 'flant5',\n",
    "    'epoch': 20,\n",
    "    'aug_prob': 0.1,\n",
    "    'max_len': 384,\n",
    "    'early_stop': 5,\n",
    "    'root_path': './data/',\n",
    "    'batchsize':64,\n",
    "    'seed': 2023,\n",
    "    'gpu': '0',\n",
    "    'emb_dim': 768,\n",
    "    'lr': 0.0005,\n",
    "    #'emb_type': 'bert',\n",
    "    'save_log_dir': './logs',\n",
    "    'save_param_dir': './param_model',\n",
    "    'param_log_dir': './logs/param'\n",
    "}\n",
    "\n",
    "os.environ[\"CUDA_VISIBLE_DEVICES\"] = args['gpu']\n",
    "\n",
    "seed = args['seed']\n",
    "random.seed(seed)\n",
    "np.random.seed(seed)\n",
    "torch.manual_seed(seed)\n",
    "torch.cuda.manual_seed(seed)\n",
    "torch.backends.cudnn.benchmark = False\n",
    "torch.backends.cudnn.deterministic = True\n",
    "\n",
    "print('lr: {}; model name: {}; batchsize: {}; epoch: {}; gpu: {}'.format(args['lr'], args['model_name'], args['batchsize'], args['epoch'], args['gpu']))\n",
    "\n",
    "config = {\n",
    "        'use_cuda': True,\n",
    "        'batchsize': args['batchsize'],\n",
    "        'max_len': args['max_len'],\n",
    "        'early_stop': args['early_stop'],\n",
    "        'root_path': args['root_path'],\n",
    "        'aug_prob': args['aug_prob'],\n",
    "        'weight_decay': 5e-5,\n",
    "        'model': {\n",
    "            'mlp': {'dims': [384], 'dropout': 0.2}\n",
    "        },\n",
    "        'emb_dim': args['emb_dim'],\n",
    "        'lr': args['lr'],\n",
    "        'epoch': args['epoch'],\n",
    "        'model_name': args['model_name'],\n",
    "        'seed': args['seed'],\n",
    "        'save_log_dir': args['save_log_dir'],\n",
    "        'save_param_dir': args['save_param_dir'],\n",
    "        'param_log_dir': args['param_log_dir']\n",
    "}\n",
    "\n",
    "# 不需要检查 __name__ == '__main__' 在 Jupyter 中\n",
    "Run(config=config).main()"
   ]
  },
  {
   "cell_type": "code",
   "execution_count": null,
   "id": "c750aa13-0c71-48fa-b353-e54d8a20986a",
   "metadata": {},
   "outputs": [],
   "source": []
  }
 ],
 "metadata": {
  "kernelspec": {
   "display_name": "Python 3 (ipykernel)",
   "language": "python",
   "name": "python3"
  },
  "language_info": {
   "codemirror_mode": {
    "name": "ipython",
    "version": 3
   },
   "file_extension": ".py",
   "mimetype": "text/x-python",
   "name": "python",
   "nbconvert_exporter": "python",
   "pygments_lexer": "ipython3",
   "version": "3.11.8"
  }
 },
 "nbformat": 4,
 "nbformat_minor": 5
}
