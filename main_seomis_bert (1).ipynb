{
 "cells": [
  {
   "cell_type": "code",
   "execution_count": 1,
   "id": "5b534cf5-ccce-4554-93c4-d50ddfdb3868",
   "metadata": {},
   "outputs": [
    {
     "name": "stderr",
     "output_type": "stream",
     "text": [
      "/usr/local/lib/python3.11/dist-packages/tqdm/auto.py:21: TqdmWarning: IProgress not found. Please update jupyter and ipywidgets. See https://ipywidgets.readthedocs.io/en/stable/user_install.html\n",
      "  from .autonotebook import tqdm as notebook_tqdm\n"
     ]
    },
    {
     "name": "stdout",
     "output_type": "stream",
     "text": [
      "lr: 0.0001; model name: bert_seosent; batchsize: 64; epoch: 12; gpu: 0\n",
      "{'lr': [0.0001]}\n"
     ]
    },
    {
     "name": "stderr",
     "output_type": "stream",
     "text": [
      "Dataloader: loading items from current dataset: 100%|██████████| 1438/1438 [00:00<00:00, 1459.93it/s]\n",
      "Dataloader: loading items from current dataset:   0%|          | 0/6713 [00:00<?, ?it/s]Building prefix dict from the default dictionary ...\n",
      "Loading model from cache /tmp/jieba.cache\n",
      "Loading model cost 0.772 seconds.\n",
      "Prefix dict has been built successfully.\n",
      "Dataloader: loading items from current dataset: 100%|██████████| 6713/6713 [00:08<00:00, 835.79it/s]\n",
      "100%|██████████| 105/105 [00:50<00:00,  2.07it/s]\n"
     ]
    },
    {
     "name": "stdout",
     "output_type": "stream",
     "text": [
      "Training Epoch 1; Loss 0.5816681535471053; \n"
     ]
    },
    {
     "name": "stderr",
     "output_type": "stream",
     "text": [
      "100%|██████████| 23/23 [00:08<00:00,  2.82it/s]\n"
     ]
    },
    {
     "name": "stdout",
     "output_type": "stream",
     "text": [
      "curent {'auc': 0.9338073678507854, 'spauc': 0.7973331866932248, 'metric': 0.8552916769878622, 'f1_neg': 0.8522727272727273, 'f1_pos': 0.8583106267029973, 'recall': 0.8552356628743905, 'recall_neg': 0.847457627118644, 'recall_pos': 0.863013698630137, 'precision': 0.8554006968641115, 'precision_neg': 0.8571428571428571, 'precision_pos': 0.8536585365853658, 'acc': 0.8553546592489569}\n",
      "Max {'auc': 0.9338073678507854, 'spauc': 0.7973331866932248, 'metric': 0.8552916769878622, 'f1_neg': 0.8522727272727273, 'f1_pos': 0.8583106267029973, 'recall': 0.8552356628743905, 'recall_neg': 0.847457627118644, 'recall_pos': 0.863013698630137, 'precision': 0.8554006968641115, 'precision_neg': 0.8571428571428571, 'precision_pos': 0.8536585365853658, 'acc': 0.8553546592489569}\n"
     ]
    },
    {
     "name": "stderr",
     "output_type": "stream",
     "text": [
      "Dataloader: loading items from current dataset: 100%|██████████| 6713/6713 [00:07<00:00, 957.18it/s] \n",
      "100%|██████████| 105/105 [00:50<00:00,  2.10it/s]\n"
     ]
    },
    {
     "name": "stdout",
     "output_type": "stream",
     "text": [
      "Training Epoch 2; Loss 0.4102685641674768; \n"
     ]
    },
    {
     "name": "stderr",
     "output_type": "stream",
     "text": [
      "100%|██████████| 23/23 [00:08<00:00,  2.79it/s]\n"
     ]
    },
    {
     "name": "stdout",
     "output_type": "stream",
     "text": [
      "curent {'auc': 0.953622010680288, 'spauc': 0.8415003727102758, 'metric': 0.8845475984577198, 'f1_neg': 0.8832630098452883, 'f1_pos': 0.8858321870701513, 'recall': 0.884598715269716, 'recall_neg': 0.8870056497175142, 'recall_pos': 0.8821917808219178, 'precision': 0.8845272915796152, 'precision_neg': 0.8795518207282913, 'precision_pos': 0.8895027624309392, 'acc': 0.8845618915159944}\n",
      "Max {'auc': 0.953622010680288, 'spauc': 0.8415003727102758, 'metric': 0.8845475984577198, 'f1_neg': 0.8832630098452883, 'f1_pos': 0.8858321870701513, 'recall': 0.884598715269716, 'recall_neg': 0.8870056497175142, 'recall_pos': 0.8821917808219178, 'precision': 0.8845272915796152, 'precision_neg': 0.8795518207282913, 'precision_pos': 0.8895027624309392, 'acc': 0.8845618915159944}\n"
     ]
    },
    {
     "name": "stderr",
     "output_type": "stream",
     "text": [
      "Dataloader: loading items from current dataset: 100%|██████████| 6713/6713 [00:07<00:00, 878.24it/s]\n",
      "100%|██████████| 105/105 [00:50<00:00,  2.09it/s]\n"
     ]
    },
    {
     "name": "stdout",
     "output_type": "stream",
     "text": [
      "Training Epoch 3; Loss 0.3611518750588099; \n"
     ]
    },
    {
     "name": "stderr",
     "output_type": "stream",
     "text": [
      "100%|██████████| 23/23 [00:08<00:00,  2.79it/s]\n"
     ]
    },
    {
     "name": "stdout",
     "output_type": "stream",
     "text": [
      "curent {'auc': 0.9560782834145963, 'spauc': 0.8503201642369215, 'metric': 0.8759752248663519, 'f1_neg': 0.8651942117288652, 'f1_pos': 0.8867562380038387, 'recall': 0.8757874777494002, 'recall_neg': 0.8022598870056498, 'recall_pos': 0.9493150684931507, 'precision': 0.8853878741579276, 'precision_neg': 0.9388429752066115, 'precision_pos': 0.8319327731092437, 'acc': 0.8769123783031989}\n",
      "Max {'auc': 0.953622010680288, 'spauc': 0.8415003727102758, 'metric': 0.8845475984577198, 'f1_neg': 0.8832630098452883, 'f1_pos': 0.8858321870701513, 'recall': 0.884598715269716, 'recall_neg': 0.8870056497175142, 'recall_pos': 0.8821917808219178, 'precision': 0.8845272915796152, 'precision_neg': 0.8795518207282913, 'precision_pos': 0.8895027624309392, 'acc': 0.8845618915159944}\n"
     ]
    },
    {
     "name": "stderr",
     "output_type": "stream",
     "text": [
      "Dataloader: loading items from current dataset: 100%|██████████| 6713/6713 [00:06<00:00, 1050.20it/s]\n",
      "100%|██████████| 105/105 [00:50<00:00,  2.09it/s]\n"
     ]
    },
    {
     "name": "stdout",
     "output_type": "stream",
     "text": [
      "Training Epoch 4; Loss 0.3069134961991083; \n"
     ]
    },
    {
     "name": "stderr",
     "output_type": "stream",
     "text": [
      "100%|██████████| 23/23 [00:08<00:00,  2.76it/s]\n"
     ]
    },
    {
     "name": "stdout",
     "output_type": "stream",
     "text": [
      "curent {'auc': 0.9609337512576426, 'spauc': 0.8631073853661319, 'metric': 0.8801053252051437, 'f1_neg': 0.8859416445623343, 'f1_pos': 0.8742690058479532, 'recall': 0.8813404535252689, 'recall_neg': 0.943502824858757, 'recall_pos': 0.8191780821917808, 'precision': 0.8861520376175549, 'precision_neg': 0.835, 'precision_pos': 0.9373040752351097, 'acc': 0.8803894297635605}\n",
      "Max {'auc': 0.953622010680288, 'spauc': 0.8415003727102758, 'metric': 0.8845475984577198, 'f1_neg': 0.8832630098452883, 'f1_pos': 0.8858321870701513, 'recall': 0.884598715269716, 'recall_neg': 0.8870056497175142, 'recall_pos': 0.8821917808219178, 'precision': 0.8845272915796152, 'precision_neg': 0.8795518207282913, 'precision_pos': 0.8895027624309392, 'acc': 0.8845618915159944}\n"
     ]
    },
    {
     "name": "stderr",
     "output_type": "stream",
     "text": [
      "Dataloader: loading items from current dataset: 100%|██████████| 6713/6713 [00:07<00:00, 937.89it/s]\n",
      "100%|██████████| 105/105 [00:50<00:00,  2.08it/s]\n"
     ]
    },
    {
     "name": "stdout",
     "output_type": "stream",
     "text": [
      "Training Epoch 5; Loss 0.26369627884456087; \n"
     ]
    },
    {
     "name": "stderr",
     "output_type": "stream",
     "text": [
      "100%|██████████| 23/23 [00:08<00:00,  2.78it/s]\n"
     ]
    },
    {
     "name": "stdout",
     "output_type": "stream",
     "text": [
      "curent {'auc': 0.9570660165621855, 'spauc': 0.850991246400189, 'metric': 0.8496747606867835, 'f1_neg': 0.8647281921618205, 'f1_pos': 0.8346213292117465, 'recall': 0.8529138611562572, 'recall_neg': 0.9661016949152542, 'recall_pos': 0.7397260273972602, 'precision': 0.8700277520814061, 'precision_neg': 0.782608695652174, 'precision_pos': 0.9574468085106383, 'acc': 0.8511821974965229}\n",
      "Max {'auc': 0.953622010680288, 'spauc': 0.8415003727102758, 'metric': 0.8845475984577198, 'f1_neg': 0.8832630098452883, 'f1_pos': 0.8858321870701513, 'recall': 0.884598715269716, 'recall_neg': 0.8870056497175142, 'recall_pos': 0.8821917808219178, 'precision': 0.8845272915796152, 'precision_neg': 0.8795518207282913, 'precision_pos': 0.8895027624309392, 'acc': 0.8845618915159944}\n"
     ]
    },
    {
     "name": "stderr",
     "output_type": "stream",
     "text": [
      "Dataloader: loading items from current dataset: 100%|██████████| 6713/6713 [00:07<00:00, 916.47it/s]\n",
      "100%|██████████| 105/105 [00:50<00:00,  2.08it/s]\n"
     ]
    },
    {
     "name": "stdout",
     "output_type": "stream",
     "text": [
      "Training Epoch 6; Loss 0.23439062720253354; \n"
     ]
    },
    {
     "name": "stderr",
     "output_type": "stream",
     "text": [
      "100%|██████████| 23/23 [00:08<00:00,  2.76it/s]\n"
     ]
    },
    {
     "name": "stdout",
     "output_type": "stream",
     "text": [
      "curent {'auc': 0.9563849547248664, 'spauc': 0.8609831404608572, 'metric': 0.8796869793487813, 'f1_neg': 0.8787666433076384, 'f1_pos': 0.8806073153899241, 'recall': 0.8797829115393545, 'recall_neg': 0.885593220338983, 'recall_pos': 0.873972602739726, 'precision': 0.8796940194714882, 'precision_neg': 0.8720445062586927, 'precision_pos': 0.8873435326842837, 'acc': 0.8796940194714882}\n",
      "Max {'auc': 0.953622010680288, 'spauc': 0.8415003727102758, 'metric': 0.8845475984577198, 'f1_neg': 0.8832630098452883, 'f1_pos': 0.8858321870701513, 'recall': 0.884598715269716, 'recall_neg': 0.8870056497175142, 'recall_pos': 0.8821917808219178, 'precision': 0.8845272915796152, 'precision_neg': 0.8795518207282913, 'precision_pos': 0.8895027624309392, 'acc': 0.8845618915159944}\n"
     ]
    },
    {
     "name": "stderr",
     "output_type": "stream",
     "text": [
      "Dataloader: loading items from current dataset: 100%|██████████| 6713/6713 [00:07<00:00, 956.41it/s] \n",
      "100%|██████████| 105/105 [00:50<00:00,  2.08it/s]\n"
     ]
    },
    {
     "name": "stdout",
     "output_type": "stream",
     "text": [
      "Training Epoch 7; Loss 0.23204256636755807; \n"
     ]
    },
    {
     "name": "stderr",
     "output_type": "stream",
     "text": [
      "100%|██████████| 23/23 [00:08<00:00,  2.71it/s]\n"
     ]
    },
    {
     "name": "stdout",
     "output_type": "stream",
     "text": [
      "curent {'auc': 0.9572033898305086, 'spauc': 0.8635473056916729, 'metric': 0.8830060902849881, 'f1_neg': 0.8873994638069705, 'f1_pos': 0.8786127167630058, 'recall': 0.8839524804581689, 'recall_neg': 0.9350282485875706, 'recall_pos': 0.8328767123287671, 'precision': 0.887025681832366, 'precision_neg': 0.8443877551020408, 'precision_pos': 0.9296636085626911, 'acc': 0.8831710709318498}\n",
      "Max {'auc': 0.953622010680288, 'spauc': 0.8415003727102758, 'metric': 0.8845475984577198, 'f1_neg': 0.8832630098452883, 'f1_pos': 0.8858321870701513, 'recall': 0.884598715269716, 'recall_neg': 0.8870056497175142, 'recall_pos': 0.8821917808219178, 'precision': 0.8845272915796152, 'precision_neg': 0.8795518207282913, 'precision_pos': 0.8895027624309392, 'acc': 0.8845618915159944}\n"
     ]
    },
    {
     "name": "stderr",
     "output_type": "stream",
     "text": [
      "Dataloader: loading items from current dataset: 100%|██████████| 6713/6713 [00:07<00:00, 888.46it/s]\n",
      "100%|██████████| 105/105 [00:50<00:00,  2.09it/s]\n"
     ]
    },
    {
     "name": "stdout",
     "output_type": "stream",
     "text": [
      "Training Epoch 8; Loss 0.2096373037213371; \n"
     ]
    },
    {
     "name": "stderr",
     "output_type": "stream",
     "text": [
      "100%|██████████| 23/23 [00:08<00:00,  2.73it/s]\n"
     ]
    },
    {
     "name": "stdout",
     "output_type": "stream",
     "text": [
      "curent {'auc': 0.9614522869746922, 'spauc': 0.8655330571611289, 'metric': 0.8886481945017142, 'f1_neg': 0.8855507868383404, 'f1_pos': 0.8917456021650879, 'recall': 0.8885167556690658, 'recall_neg': 0.8742937853107344, 'recall_pos': 0.9027397260273973, 'precision': 0.8890587460280555, 'precision_neg': 0.8971014492753623, 'precision_pos': 0.8810160427807486, 'acc': 0.8887343532684284}\n",
      "Max {'auc': 0.9614522869746922, 'spauc': 0.8655330571611289, 'metric': 0.8886481945017142, 'f1_neg': 0.8855507868383404, 'f1_pos': 0.8917456021650879, 'recall': 0.8885167556690658, 'recall_neg': 0.8742937853107344, 'recall_pos': 0.9027397260273973, 'precision': 0.8890587460280555, 'precision_neg': 0.8971014492753623, 'precision_pos': 0.8810160427807486, 'acc': 0.8887343532684284}\n"
     ]
    },
    {
     "name": "stderr",
     "output_type": "stream",
     "text": [
      "Dataloader: loading items from current dataset: 100%|██████████| 6713/6713 [00:06<00:00, 1012.69it/s]\n",
      "100%|██████████| 105/105 [00:50<00:00,  2.09it/s]\n"
     ]
    },
    {
     "name": "stdout",
     "output_type": "stream",
     "text": [
      "Training Epoch 9; Loss 0.2015493570339112; \n"
     ]
    },
    {
     "name": "stderr",
     "output_type": "stream",
     "text": [
      "100%|██████████| 23/23 [00:08<00:00,  2.74it/s]\n"
     ]
    },
    {
     "name": "stdout",
     "output_type": "stream",
     "text": [
      "curent {'auc': 0.965192322575652, 'spauc': 0.8769221055890248, 'metric': 0.8921320626058946, 'f1_neg': 0.8950575490859851, 'f1_pos': 0.8892065761258041, 'recall': 0.8928353068647938, 'recall_neg': 0.9336158192090396, 'recall_pos': 0.852054794520548, 'precision': 0.8946518783736765, 'precision_neg': 0.8595578673602081, 'precision_pos': 0.929745889387145, 'acc': 0.89221140472879}\n",
      "Max {'auc': 0.965192322575652, 'spauc': 0.8769221055890248, 'metric': 0.8921320626058946, 'f1_neg': 0.8950575490859851, 'f1_pos': 0.8892065761258041, 'recall': 0.8928353068647938, 'recall_neg': 0.9336158192090396, 'recall_pos': 0.852054794520548, 'precision': 0.8946518783736765, 'precision_neg': 0.8595578673602081, 'precision_pos': 0.929745889387145, 'acc': 0.89221140472879}\n"
     ]
    },
    {
     "name": "stderr",
     "output_type": "stream",
     "text": [
      "Dataloader: loading items from current dataset: 100%|██████████| 6713/6713 [00:06<00:00, 981.55it/s] \n",
      "100%|██████████| 105/105 [00:50<00:00,  2.09it/s]\n"
     ]
    },
    {
     "name": "stdout",
     "output_type": "stream",
     "text": [
      "Training Epoch 10; Loss 0.1938015117531731; \n"
     ]
    },
    {
     "name": "stderr",
     "output_type": "stream",
     "text": [
      "100%|██████████| 23/23 [00:08<00:00,  2.70it/s]\n"
     ]
    },
    {
     "name": "stdout",
     "output_type": "stream",
     "text": [
      "curent {'auc': 0.9643052008358486, 'spauc': 0.8686522144693054, 'metric': 0.9018034994834898, 'f1_neg': 0.8980477223427332, 'f1_pos': 0.9055592766242465, 'recall': 0.9015730206640353, 'recall_neg': 0.8771186440677966, 'recall_pos': 0.9260273972602739, 'precision': 0.9029882044560944, 'precision_neg': 0.92, 'precision_pos': 0.8859764089121888, 'acc': 0.9019471488178025}\n",
      "Max {'auc': 0.9643052008358486, 'spauc': 0.8686522144693054, 'metric': 0.9018034994834898, 'f1_neg': 0.8980477223427332, 'f1_pos': 0.9055592766242465, 'recall': 0.9015730206640353, 'recall_neg': 0.8771186440677966, 'recall_pos': 0.9260273972602739, 'precision': 0.9029882044560944, 'precision_neg': 0.92, 'precision_pos': 0.8859764089121888, 'acc': 0.9019471488178025}\n"
     ]
    },
    {
     "name": "stderr",
     "output_type": "stream",
     "text": [
      "Dataloader: loading items from current dataset: 100%|██████████| 6713/6713 [00:06<00:00, 1003.67it/s]\n",
      "100%|██████████| 105/105 [00:50<00:00,  2.08it/s]\n"
     ]
    },
    {
     "name": "stdout",
     "output_type": "stream",
     "text": [
      "Training Epoch 11; Loss 0.1922799118927547; \n"
     ]
    },
    {
     "name": "stderr",
     "output_type": "stream",
     "text": [
      "100%|██████████| 23/23 [00:08<00:00,  2.73it/s]\n"
     ]
    },
    {
     "name": "stdout",
     "output_type": "stream",
     "text": [
      "curent {'auc': 0.9608998916492529, 'spauc': 0.8560167251190434, 'metric': 0.8926807425097698, 'f1_neg': 0.8877551020408163, 'f1_pos': 0.8976063829787234, 'recall': 0.8924135128859996, 'recall_neg': 0.8601694915254238, 'recall_pos': 0.9246575342465754, 'precision': 0.8946308489773045, 'precision_neg': 0.9171686746987951, 'precision_pos': 0.872093023255814, 'acc': 0.8929068150208623}\n",
      "Max {'auc': 0.9643052008358486, 'spauc': 0.8686522144693054, 'metric': 0.9018034994834898, 'f1_neg': 0.8980477223427332, 'f1_pos': 0.9055592766242465, 'recall': 0.9015730206640353, 'recall_neg': 0.8771186440677966, 'recall_pos': 0.9260273972602739, 'precision': 0.9029882044560944, 'precision_neg': 0.92, 'precision_pos': 0.8859764089121888, 'acc': 0.9019471488178025}\n"
     ]
    },
    {
     "name": "stderr",
     "output_type": "stream",
     "text": [
      "Dataloader: loading items from current dataset: 100%|██████████| 6713/6713 [00:06<00:00, 1047.79it/s]\n",
      "100%|██████████| 105/105 [00:50<00:00,  2.09it/s]\n"
     ]
    },
    {
     "name": "stdout",
     "output_type": "stream",
     "text": [
      "Training Epoch 12; Loss 0.18873634678976878; \n"
     ]
    },
    {
     "name": "stderr",
     "output_type": "stream",
     "text": [
      "100%|██████████| 23/23 [00:08<00:00,  2.68it/s]\n"
     ]
    },
    {
     "name": "stdout",
     "output_type": "stream",
     "text": [
      "curent {'auc': 0.9654748084513582, 'spauc': 0.8776267927771599, 'metric': 0.8991479010951964, 'f1_neg': 0.897815362931642, 'f1_pos': 0.9004804392587509, 'recall': 0.8991738255552976, 'recall_neg': 0.8997175141242938, 'recall_pos': 0.8986301369863013, 'precision': 0.8991298072923619, 'precision_neg': 0.8959212376933896, 'precision_pos': 0.9023383768913342, 'acc': 0.8991655076495132}\n",
      "Max {'auc': 0.9643052008358486, 'spauc': 0.8686522144693054, 'metric': 0.9018034994834898, 'f1_neg': 0.8980477223427332, 'f1_pos': 0.9055592766242465, 'recall': 0.9015730206640353, 'recall_neg': 0.8771186440677966, 'recall_pos': 0.9260273972602739, 'precision': 0.9029882044560944, 'precision_neg': 0.92, 'precision_pos': 0.8859764089121888, 'acc': 0.9019471488178025}\n"
     ]
    },
    {
     "name": "stderr",
     "output_type": "stream",
     "text": [
      "Dataloader: loading items from current dataset: 100%|██████████| 1439/1439 [00:00<00:00, 1661.54it/s]\n",
      "100%|██████████| 23/23 [00:08<00:00,  2.72it/s]\n"
     ]
    },
    {
     "name": "stdout",
     "output_type": "stream",
     "text": [
      "test results: {'auc': 0.95088124958951, 'spauc': 0.8114643578777377, 'metric': 0.8797718172470964, 'f1_neg': 0.8806073153899241, 'f1_pos': 0.8789363191042687, 'recall': 0.8798123915823473, 'recall_neg': 0.8898186889818689, 'recall_pos': 0.8698060941828255, 'precision': 0.8799224770252201, 'precision_neg': 0.8715846994535519, 'precision_pos': 0.8882602545968883, 'acc': 0.8797776233495483}\n",
      "best model path: ./param_model/bert_seosent/parameter_bertseomis.pkl\n",
      "best metric: {'metric': 0.8797718172470964}\n"
     ]
    },
    {
     "ename": "FileNotFoundError",
     "evalue": "[Errno 2] No such file or directory: './logs/json/bert_seosent0.1.json'",
     "output_type": "error",
     "traceback": [
      "\u001b[0;31m---------------------------------------------------------------------------\u001b[0m",
      "\u001b[0;31mFileNotFoundError\u001b[0m                         Traceback (most recent call last)",
      "Cell \u001b[0;32mIn[1], line 64\u001b[0m\n\u001b[1;32m     42\u001b[0m config \u001b[38;5;241m=\u001b[39m {\n\u001b[1;32m     43\u001b[0m         \u001b[38;5;124m'\u001b[39m\u001b[38;5;124muse_cuda\u001b[39m\u001b[38;5;124m'\u001b[39m: \u001b[38;5;28;01mTrue\u001b[39;00m,\n\u001b[1;32m     44\u001b[0m         \u001b[38;5;124m'\u001b[39m\u001b[38;5;124mbatchsize\u001b[39m\u001b[38;5;124m'\u001b[39m: args[\u001b[38;5;124m'\u001b[39m\u001b[38;5;124mbatchsize\u001b[39m\u001b[38;5;124m'\u001b[39m],\n\u001b[0;32m   (...)\u001b[0m\n\u001b[1;32m     60\u001b[0m         \u001b[38;5;124m'\u001b[39m\u001b[38;5;124mparam_log_dir\u001b[39m\u001b[38;5;124m'\u001b[39m: args[\u001b[38;5;124m'\u001b[39m\u001b[38;5;124mparam_log_dir\u001b[39m\u001b[38;5;124m'\u001b[39m]\n\u001b[1;32m     61\u001b[0m }\n\u001b[1;32m     63\u001b[0m \u001b[38;5;66;03m# 不需要检查 __name__ == '__main__' 在 Jupyter 中\u001b[39;00m\n\u001b[0;32m---> 64\u001b[0m \u001b[43mRun\u001b[49m\u001b[43m(\u001b[49m\u001b[43mconfig\u001b[49m\u001b[38;5;241;43m=\u001b[39;49m\u001b[43mconfig\u001b[49m\u001b[43m)\u001b[49m\u001b[38;5;241;43m.\u001b[39;49m\u001b[43mmain\u001b[49m\u001b[43m(\u001b[49m\u001b[43m)\u001b[49m\n",
      "File \u001b[0;32m/mySeoMis/mySeoMis_ch/mySeoMis_ch/grid_search.py:106\u001b[0m, in \u001b[0;36mRun.main\u001b[0;34m(self)\u001b[0m\n\u001b[1;32m    104\u001b[0m     logger\u001b[38;5;241m.\u001b[39minfo(\u001b[38;5;124m\"\u001b[39m\u001b[38;5;124mbest metric:\u001b[39m\u001b[38;5;124m\"\u001b[39m \u001b[38;5;241m+\u001b[39m \u001b[38;5;28mstr\u001b[39m(best_metric))\n\u001b[1;32m    105\u001b[0m     logger\u001b[38;5;241m.\u001b[39minfo(\u001b[38;5;124m'\u001b[39m\u001b[38;5;124m--------------------------------------\u001b[39m\u001b[38;5;130;01m\\n\u001b[39;00m\u001b[38;5;124m'\u001b[39m)\n\u001b[0;32m--> 106\u001b[0m \u001b[38;5;28;01mwith\u001b[39;00m \u001b[38;5;28;43mopen\u001b[39;49m\u001b[43m(\u001b[49m\u001b[43mjson_path\u001b[49m\u001b[43m,\u001b[49m\u001b[43m \u001b[49m\u001b[38;5;124;43m'\u001b[39;49m\u001b[38;5;124;43mw\u001b[39;49m\u001b[38;5;124;43m'\u001b[39;49m\u001b[43m)\u001b[49m \u001b[38;5;28;01mas\u001b[39;00m file:\n\u001b[1;32m    107\u001b[0m     json\u001b[38;5;241m.\u001b[39mdump(json_result, file, indent\u001b[38;5;241m=\u001b[39m\u001b[38;5;241m4\u001b[39m, ensure_ascii\u001b[38;5;241m=\u001b[39m\u001b[38;5;28;01mFalse\u001b[39;00m)\n",
      "\u001b[0;31mFileNotFoundError\u001b[0m: [Errno 2] No such file or directory: './logs/json/bert_seosent0.1.json'"
     ]
    }
   ],
   "source": [
    "import os\n",
    "import torch\n",
    "import numpy as np\n",
    "import random\n",
    "from grid_search import Run\n",
    "import warnings\n",
    "\n",
    "# 忽略特定的警告\n",
    "warnings.filterwarnings(\"ignore\", category=FutureWarning)\n",
    "\n",
    "# 直接设置参数\n",
    "args = {\n",
    "    'model_name': 'bert_seomis',\n",
    "    'epoch': 12,\n",
    "    'aug_prob': 0.1,\n",
    "    'max_len': 384,\n",
    "    'early_stop': 12,\n",
    "    'root_path': './data/',\n",
    "    'batchsize':64,\n",
    "    'seed': 2023,\n",
    "    'gpu': '0',\n",
    "    'emb_dim': 768,\n",
    "    'lr': 0.0001,\n",
    "    'emb_type': 'bert',\n",
    "    'save_log_dir': './logs',\n",
    "    'save_param_dir': './param_model',\n",
    "    'param_log_dir': './logs/param'\n",
    "}\n",
    "\n",
    "os.environ[\"CUDA_VISIBLE_DEVICES\"] = args['gpu']\n",
    "\n",
    "seed = args['seed']\n",
    "random.seed(seed)\n",
    "np.random.seed(seed)\n",
    "torch.manual_seed(seed)\n",
    "torch.cuda.manual_seed(seed)\n",
    "torch.backends.cudnn.benchmark = False\n",
    "torch.backends.cudnn.deterministic = True\n",
    "\n",
    "print('lr: {}; model name: {}; batchsize: {}; epoch: {}; gpu: {}'.format(args['lr'], args['model_name'], args['batchsize'], args['epoch'], args['gpu']))\n",
    "\n",
    "config = {\n",
    "        'use_cuda': True,\n",
    "        'batchsize': args['batchsize'],\n",
    "        'max_len': args['max_len'],\n",
    "        'early_stop': args['early_stop'],\n",
    "        'root_path': args['root_path'],\n",
    "        'aug_prob': args['aug_prob'],\n",
    "        'weight_decay': 5e-5,\n",
    "        'model': {\n",
    "            'mlp': {'dims': [384], 'dropout': 0.2}\n",
    "        },\n",
    "        'emb_dim': args['emb_dim'],\n",
    "        'lr': args['lr'],\n",
    "        'epoch': args['epoch'],\n",
    "        'model_name': args['model_name'],\n",
    "        'seed': args['seed'],\n",
    "        'save_log_dir': args['save_log_dir'],\n",
    "        'save_param_dir': args['save_param_dir'],\n",
    "        'param_log_dir': args['param_log_dir']\n",
    "}\n",
    "\n",
    "# 不需要检查 __name__ == '__main__' 在 Jupyter 中\n",
    "Run(config=config).main()"
   ]
  },
  {
   "cell_type": "code",
   "execution_count": null,
   "id": "63dd76e4-a713-4af3-9274-8b52f9c0016f",
   "metadata": {},
   "outputs": [],
   "source": []
  },
  {
   "cell_type": "code",
   "execution_count": 1,
   "id": "1d746d6c-c432-4c1b-9367-e47695c21aa7",
   "metadata": {},
   "outputs": [
    {
     "name": "stderr",
     "output_type": "stream",
     "text": [
      "/usr/local/lib/python3.11/dist-packages/tqdm/auto.py:21: TqdmWarning: IProgress not found. Please update jupyter and ipywidgets. See https://ipywidgets.readthedocs.io/en/stable/user_install.html\n",
      "  from .autonotebook import tqdm as notebook_tqdm\n"
     ]
    },
    {
     "name": "stdout",
     "output_type": "stream",
     "text": [
      "lr: 0.0001; model name: bert_seomis; batchsize: 64; epoch: 12; gpu: 0\n",
      "{'lr': [0.0001]}\n"
     ]
    },
    {
     "name": "stderr",
     "output_type": "stream",
     "text": [
      "Dataloader: loading items from current dataset: 100%|██████████| 1438/1438 [00:01<00:00, 1209.18it/s]\n",
      "Dataloader: loading items from current dataset:   0%|          | 0/6713 [00:00<?, ?it/s]Building prefix dict from the default dictionary ...\n",
      "Loading model from cache /tmp/jieba.cache\n",
      "Loading model cost 0.783 seconds.\n",
      "Prefix dict has been built successfully.\n",
      "Dataloader: loading items from current dataset: 100%|██████████| 6713/6713 [00:09<00:00, 735.54it/s]\n",
      "  5%|▍         | 5/105 [00:07<02:35,  1.55s/it]\n"
     ]
    },
    {
     "ename": "OutOfMemoryError",
     "evalue": "CUDA out of memory. Tried to allocate 38.00 MiB. GPU 0 has a total capacity of 15.77 GiB of which 17.38 MiB is free. Process 2258304 has 6.92 GiB memory in use. Process 2262549 has 4.54 GiB memory in use. Process 2272868 has 4.30 GiB memory in use. Of the allocated memory 3.76 GiB is allocated by PyTorch, and 153.46 MiB is reserved by PyTorch but unallocated. If reserved but unallocated memory is large try setting PYTORCH_CUDA_ALLOC_CONF=expandable_segments:True to avoid fragmentation.  See documentation for Memory Management  (https://pytorch.org/docs/stable/notes/cuda.html#environment-variables)",
     "output_type": "error",
     "traceback": [
      "\u001b[0;31m---------------------------------------------------------------------------\u001b[0m",
      "\u001b[0;31mOutOfMemoryError\u001b[0m                          Traceback (most recent call last)",
      "Cell \u001b[0;32mIn[1], line 64\u001b[0m\n\u001b[1;32m     42\u001b[0m config \u001b[38;5;241m=\u001b[39m {\n\u001b[1;32m     43\u001b[0m         \u001b[38;5;124m'\u001b[39m\u001b[38;5;124muse_cuda\u001b[39m\u001b[38;5;124m'\u001b[39m: \u001b[38;5;28;01mTrue\u001b[39;00m,\n\u001b[1;32m     44\u001b[0m         \u001b[38;5;124m'\u001b[39m\u001b[38;5;124mbatchsize\u001b[39m\u001b[38;5;124m'\u001b[39m: args[\u001b[38;5;124m'\u001b[39m\u001b[38;5;124mbatchsize\u001b[39m\u001b[38;5;124m'\u001b[39m],\n\u001b[0;32m   (...)\u001b[0m\n\u001b[1;32m     60\u001b[0m         \u001b[38;5;124m'\u001b[39m\u001b[38;5;124mparam_log_dir\u001b[39m\u001b[38;5;124m'\u001b[39m: args[\u001b[38;5;124m'\u001b[39m\u001b[38;5;124mparam_log_dir\u001b[39m\u001b[38;5;124m'\u001b[39m]\n\u001b[1;32m     61\u001b[0m }\n\u001b[1;32m     63\u001b[0m \u001b[38;5;66;03m# 不需要检查 __name__ == '__main__' 在 Jupyter 中\u001b[39;00m\n\u001b[0;32m---> 64\u001b[0m \u001b[43mRun\u001b[49m\u001b[43m(\u001b[49m\u001b[43mconfig\u001b[49m\u001b[38;5;241;43m=\u001b[39;49m\u001b[43mconfig\u001b[49m\u001b[43m)\u001b[49m\u001b[38;5;241;43m.\u001b[39;49m\u001b[43mmain\u001b[49m\u001b[43m(\u001b[49m\u001b[43m)\u001b[49m\n",
      "File \u001b[0;32m/mySeoSent/mySeoSent_ch/mySeoSent_ch/grid_search.py:93\u001b[0m, in \u001b[0;36mRun.main\u001b[0;34m(self)\u001b[0m\n\u001b[1;32m     90\u001b[0m \u001b[38;5;28;01melif\u001b[39;00m \u001b[38;5;28mself\u001b[39m\u001b[38;5;241m.\u001b[39mconfig[\u001b[38;5;124m'\u001b[39m\u001b[38;5;124mmodel_name\u001b[39m\u001b[38;5;124m'\u001b[39m] \u001b[38;5;241m==\u001b[39m \u001b[38;5;124m'\u001b[39m\u001b[38;5;124mflant5_seomis\u001b[39m\u001b[38;5;124m'\u001b[39m:\n\u001b[1;32m     91\u001b[0m     trainer \u001b[38;5;241m=\u001b[39m FlanT5SEOMISTrainer(\u001b[38;5;28mself\u001b[39m\u001b[38;5;241m.\u001b[39mconfig)\n\u001b[0;32m---> 93\u001b[0m metrics, model_path \u001b[38;5;241m=\u001b[39m \u001b[43mtrainer\u001b[49m\u001b[38;5;241;43m.\u001b[39;49m\u001b[43mtrain\u001b[49m\u001b[43m(\u001b[49m\u001b[43mlogger\u001b[49m\u001b[43m)\u001b[49m\n\u001b[1;32m     94\u001b[0m json_result\u001b[38;5;241m.\u001b[39mappend(metrics)\n\u001b[1;32m     95\u001b[0m \u001b[38;5;28;01mif\u001b[39;00m metrics[\u001b[38;5;124m'\u001b[39m\u001b[38;5;124mmetric\u001b[39m\u001b[38;5;124m'\u001b[39m] \u001b[38;5;241m>\u001b[39m best_metric[\u001b[38;5;124m'\u001b[39m\u001b[38;5;124mmetric\u001b[39m\u001b[38;5;124m'\u001b[39m]:\n",
      "File \u001b[0;32m/mySeoSent/mySeoSent_ch/mySeoSent_ch/models/bertseomis.py:191\u001b[0m, in \u001b[0;36mTrainer.train\u001b[0;34m(self, logger)\u001b[0m\n\u001b[1;32m    189\u001b[0m loss \u001b[38;5;241m=\u001b[39m loss_fn(pred, label\u001b[38;5;241m.\u001b[39mfloat()) \u001b[38;5;241m+\u001b[39m \u001b[38;5;241m0.2\u001b[39m \u001b[38;5;241m*\u001b[39m loss_fn(entity_pred, label\u001b[38;5;241m.\u001b[39mfloat()) \u001b[38;5;241m+\u001b[39m \u001b[38;5;241m0.02\u001b[39m \u001b[38;5;241m*\u001b[39m loss_fn(soc_pred, label\u001b[38;5;241m.\u001b[39mfloat())\n\u001b[1;32m    190\u001b[0m optimizer\u001b[38;5;241m.\u001b[39mzero_grad()\n\u001b[0;32m--> 191\u001b[0m \u001b[43mloss\u001b[49m\u001b[38;5;241;43m.\u001b[39;49m\u001b[43mbackward\u001b[49m\u001b[43m(\u001b[49m\u001b[43m)\u001b[49m\n\u001b[1;32m    192\u001b[0m optimizer\u001b[38;5;241m.\u001b[39mstep()\n\u001b[1;32m    193\u001b[0m avg_loss\u001b[38;5;241m.\u001b[39madd(loss\u001b[38;5;241m.\u001b[39mitem())\n",
      "File \u001b[0;32m/usr/local/lib/python3.11/dist-packages/torch/_tensor.py:522\u001b[0m, in \u001b[0;36mTensor.backward\u001b[0;34m(self, gradient, retain_graph, create_graph, inputs)\u001b[0m\n\u001b[1;32m    512\u001b[0m \u001b[38;5;28;01mif\u001b[39;00m has_torch_function_unary(\u001b[38;5;28mself\u001b[39m):\n\u001b[1;32m    513\u001b[0m     \u001b[38;5;28;01mreturn\u001b[39;00m handle_torch_function(\n\u001b[1;32m    514\u001b[0m         Tensor\u001b[38;5;241m.\u001b[39mbackward,\n\u001b[1;32m    515\u001b[0m         (\u001b[38;5;28mself\u001b[39m,),\n\u001b[0;32m   (...)\u001b[0m\n\u001b[1;32m    520\u001b[0m         inputs\u001b[38;5;241m=\u001b[39minputs,\n\u001b[1;32m    521\u001b[0m     )\n\u001b[0;32m--> 522\u001b[0m \u001b[43mtorch\u001b[49m\u001b[38;5;241;43m.\u001b[39;49m\u001b[43mautograd\u001b[49m\u001b[38;5;241;43m.\u001b[39;49m\u001b[43mbackward\u001b[49m\u001b[43m(\u001b[49m\n\u001b[1;32m    523\u001b[0m \u001b[43m    \u001b[49m\u001b[38;5;28;43mself\u001b[39;49m\u001b[43m,\u001b[49m\u001b[43m \u001b[49m\u001b[43mgradient\u001b[49m\u001b[43m,\u001b[49m\u001b[43m \u001b[49m\u001b[43mretain_graph\u001b[49m\u001b[43m,\u001b[49m\u001b[43m \u001b[49m\u001b[43mcreate_graph\u001b[49m\u001b[43m,\u001b[49m\u001b[43m \u001b[49m\u001b[43minputs\u001b[49m\u001b[38;5;241;43m=\u001b[39;49m\u001b[43minputs\u001b[49m\n\u001b[1;32m    524\u001b[0m \u001b[43m\u001b[49m\u001b[43m)\u001b[49m\n",
      "File \u001b[0;32m/usr/local/lib/python3.11/dist-packages/torch/autograd/__init__.py:266\u001b[0m, in \u001b[0;36mbackward\u001b[0;34m(tensors, grad_tensors, retain_graph, create_graph, grad_variables, inputs)\u001b[0m\n\u001b[1;32m    261\u001b[0m     retain_graph \u001b[38;5;241m=\u001b[39m create_graph\n\u001b[1;32m    263\u001b[0m \u001b[38;5;66;03m# The reason we repeat the same comment below is that\u001b[39;00m\n\u001b[1;32m    264\u001b[0m \u001b[38;5;66;03m# some Python versions print out the first line of a multi-line function\u001b[39;00m\n\u001b[1;32m    265\u001b[0m \u001b[38;5;66;03m# calls in the traceback and some print out the last line\u001b[39;00m\n\u001b[0;32m--> 266\u001b[0m \u001b[43mVariable\u001b[49m\u001b[38;5;241;43m.\u001b[39;49m\u001b[43m_execution_engine\u001b[49m\u001b[38;5;241;43m.\u001b[39;49m\u001b[43mrun_backward\u001b[49m\u001b[43m(\u001b[49m\u001b[43m  \u001b[49m\u001b[38;5;66;43;03m# Calls into the C++ engine to run the backward pass\u001b[39;49;00m\n\u001b[1;32m    267\u001b[0m \u001b[43m    \u001b[49m\u001b[43mtensors\u001b[49m\u001b[43m,\u001b[49m\n\u001b[1;32m    268\u001b[0m \u001b[43m    \u001b[49m\u001b[43mgrad_tensors_\u001b[49m\u001b[43m,\u001b[49m\n\u001b[1;32m    269\u001b[0m \u001b[43m    \u001b[49m\u001b[43mretain_graph\u001b[49m\u001b[43m,\u001b[49m\n\u001b[1;32m    270\u001b[0m \u001b[43m    \u001b[49m\u001b[43mcreate_graph\u001b[49m\u001b[43m,\u001b[49m\n\u001b[1;32m    271\u001b[0m \u001b[43m    \u001b[49m\u001b[43minputs\u001b[49m\u001b[43m,\u001b[49m\n\u001b[1;32m    272\u001b[0m \u001b[43m    \u001b[49m\u001b[43mallow_unreachable\u001b[49m\u001b[38;5;241;43m=\u001b[39;49m\u001b[38;5;28;43;01mTrue\u001b[39;49;00m\u001b[43m,\u001b[49m\n\u001b[1;32m    273\u001b[0m \u001b[43m    \u001b[49m\u001b[43maccumulate_grad\u001b[49m\u001b[38;5;241;43m=\u001b[39;49m\u001b[38;5;28;43;01mTrue\u001b[39;49;00m\u001b[43m,\u001b[49m\n\u001b[1;32m    274\u001b[0m \u001b[43m\u001b[49m\u001b[43m)\u001b[49m\n",
      "\u001b[0;31mOutOfMemoryError\u001b[0m: CUDA out of memory. Tried to allocate 38.00 MiB. GPU 0 has a total capacity of 15.77 GiB of which 17.38 MiB is free. Process 2258304 has 6.92 GiB memory in use. Process 2262549 has 4.54 GiB memory in use. Process 2272868 has 4.30 GiB memory in use. Of the allocated memory 3.76 GiB is allocated by PyTorch, and 153.46 MiB is reserved by PyTorch but unallocated. If reserved but unallocated memory is large try setting PYTORCH_CUDA_ALLOC_CONF=expandable_segments:True to avoid fragmentation.  See documentation for Memory Management  (https://pytorch.org/docs/stable/notes/cuda.html#environment-variables)"
     ]
    }
   ],
   "source": [
    "import os\n",
    "import torch\n",
    "import numpy as np\n",
    "import random\n",
    "from grid_search import Run\n",
    "import warnings\n",
    "\n",
    "# 忽略特定的警告\n",
    "warnings.filterwarnings(\"ignore\", category=FutureWarning)\n",
    "\n",
    "# 直接设置参数\n",
    "args = {\n",
    "    'model_name': 'bert_seomis',\n",
    "    'epoch': 12,\n",
    "    'aug_prob': 0.1,\n",
    "    'max_len': 384,\n",
    "    'early_stop': 12,\n",
    "    'root_path': './data/',\n",
    "    'batchsize':64,\n",
    "    'seed': 2023,\n",
    "    'gpu': '0',\n",
    "    'emb_dim': 768,\n",
    "    'lr': 0.0001,\n",
    "    'emb_type': 'bert',\n",
    "    'save_log_dir': './logs',\n",
    "    'save_param_dir': './param_model',\n",
    "    'param_log_dir': './logs/param'\n",
    "}\n",
    "\n",
    "os.environ[\"CUDA_VISIBLE_DEVICES\"] = args['gpu']\n",
    "\n",
    "seed = args['seed']\n",
    "random.seed(seed)\n",
    "np.random.seed(seed)\n",
    "torch.manual_seed(seed)\n",
    "torch.cuda.manual_seed(seed)\n",
    "torch.backends.cudnn.benchmark = False\n",
    "torch.backends.cudnn.deterministic = True\n",
    "\n",
    "print('lr: {}; model name: {}; batchsize: {}; epoch: {}; gpu: {}'.format(args['lr'], args['model_name'], args['batchsize'], args['epoch'], args['gpu']))\n",
    "\n",
    "config = {\n",
    "        'use_cuda': True,\n",
    "        'batchsize': args['batchsize'],\n",
    "        'max_len': args['max_len'],\n",
    "        'early_stop': args['early_stop'],\n",
    "        'root_path': args['root_path'],\n",
    "        'aug_prob': args['aug_prob'],\n",
    "        'weight_decay': 5e-5,\n",
    "        'model': {\n",
    "            'mlp': {'dims': [384], 'dropout': 0.2}\n",
    "        },\n",
    "        'emb_dim': args['emb_dim'],\n",
    "        'lr': args['lr'],\n",
    "        'epoch': args['epoch'],\n",
    "        'model_name': args['model_name'],\n",
    "        'seed': args['seed'],\n",
    "        'save_log_dir': args['save_log_dir'],\n",
    "        'save_param_dir': args['save_param_dir'],\n",
    "        'param_log_dir': args['param_log_dir']\n",
    "}\n",
    "\n",
    "# 不需要检查 __name__ == '__main__' 在 Jupyter 中\n",
    "Run(config=config).main()"
   ]
  },
  {
   "cell_type": "code",
   "execution_count": null,
   "id": "8dd8f6ec-7b75-424e-98bc-6a942e09cd2b",
   "metadata": {},
   "outputs": [],
   "source": []
  }
 ],
 "metadata": {
  "kernelspec": {
   "display_name": "Python 3 (ipykernel)",
   "language": "python",
   "name": "python3"
  },
  "language_info": {
   "codemirror_mode": {
    "name": "ipython",
    "version": 3
   },
   "file_extension": ".py",
   "mimetype": "text/x-python",
   "name": "python",
   "nbconvert_exporter": "python",
   "pygments_lexer": "ipython3",
   "version": "3.11.8"
  }
 },
 "nbformat": 4,
 "nbformat_minor": 5
}
