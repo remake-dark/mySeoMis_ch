{
 "cells": [
  {
   "cell_type": "code",
   "execution_count": 1,
   "id": "5b534cf5-ccce-4554-93c4-d50ddfdb3868",
   "metadata": {},
   "outputs": [
    {
     "name": "stderr",
     "output_type": "stream",
     "text": [
      "/usr/local/lib/python3.11/dist-packages/tqdm/auto.py:21: TqdmWarning: IProgress not found. Please update jupyter and ipywidgets. See https://ipywidgets.readthedocs.io/en/stable/user_install.html\n",
      "  from .autonotebook import tqdm as notebook_tqdm\n"
     ]
    },
    {
     "name": "stdout",
     "output_type": "stream",
     "text": [
      "lr: 0.0001; model name: mdfend; batchsize: 64; epoch: 20; gpu: 0\n",
      "{'lr': [0.0001]}\n"
     ]
    },
    {
     "name": "stderr",
     "output_type": "stream",
     "text": [
      "Dataloader: loading items from current dataset: 100%|██████████| 1438/1438 [00:01<00:00, 1229.27it/s]\n",
      "Dataloader: loading items from current dataset: 100%|██████████| 6713/6713 [00:05<00:00, 1121.07it/s]\n",
      "100%|██████████| 105/105 [00:58<00:00,  1.79it/s]\n"
     ]
    },
    {
     "name": "stdout",
     "output_type": "stream",
     "text": [
      "Training Epoch 1; Loss 0.5230816120193118; \n"
     ]
    },
    {
     "name": "stderr",
     "output_type": "stream",
     "text": [
      "100%|██████████| 23/23 [00:09<00:00,  2.37it/s]\n"
     ]
    },
    {
     "name": "stdout",
     "output_type": "stream",
     "text": [
      "curent {'auc': 0.8779351443386736, 'spauc': 0.6924508857469888, 'metric': 0.7980711599216956, 'f1_neg': 0.7763055339049104, 'f1_pos': 0.8198367859384809, 'recall': 0.7989551892268401, 'recall_neg': 0.7033898305084746, 'recall_pos': 0.8945205479452055, 'precision': 0.811374880346617, 'precision_neg': 0.8660869565217392, 'precision_pos': 0.7566628041714948, 'acc': 0.8004172461752433}\n",
      "Max {'auc': 0.8779351443386736, 'spauc': 0.6924508857469888, 'metric': 0.7980711599216956, 'f1_neg': 0.7763055339049104, 'f1_pos': 0.8198367859384809, 'recall': 0.7989551892268401, 'recall_neg': 0.7033898305084746, 'recall_pos': 0.8945205479452055, 'precision': 0.811374880346617, 'precision_neg': 0.8660869565217392, 'precision_pos': 0.7566628041714948, 'acc': 0.8004172461752433}\n"
     ]
    },
    {
     "name": "stderr",
     "output_type": "stream",
     "text": [
      "Dataloader: loading items from current dataset: 100%|██████████| 6713/6713 [00:06<00:00, 1043.64it/s]\n",
      "100%|██████████| 105/105 [00:57<00:00,  1.82it/s]\n"
     ]
    },
    {
     "name": "stdout",
     "output_type": "stream",
     "text": [
      "Training Epoch 2; Loss 0.31600769843374005; \n"
     ]
    },
    {
     "name": "stderr",
     "output_type": "stream",
     "text": [
      "100%|██████████| 23/23 [00:09<00:00,  2.36it/s]\n"
     ]
    },
    {
     "name": "stdout",
     "output_type": "stream",
     "text": [
      "curent {'auc': 0.9263234269793359, 'spauc': 0.7673819445293056, 'metric': 0.8481361699489014, 'f1_neg': 0.841799709724238, 'f1_pos': 0.8544726301735648, 'recall': 0.8479606841575729, 'recall_neg': 0.8192090395480226, 'recall_pos': 0.8767123287671232, 'precision': 0.849502487562189, 'precision_neg': 0.8656716417910447, 'precision_pos': 0.8333333333333334, 'acc': 0.8484005563282336}\n",
      "Max {'auc': 0.9263234269793359, 'spauc': 0.7673819445293056, 'metric': 0.8481361699489014, 'f1_neg': 0.841799709724238, 'f1_pos': 0.8544726301735648, 'recall': 0.8479606841575729, 'recall_neg': 0.8192090395480226, 'recall_pos': 0.8767123287671232, 'precision': 0.849502487562189, 'precision_neg': 0.8656716417910447, 'precision_pos': 0.8333333333333334, 'acc': 0.8484005563282336}\n"
     ]
    },
    {
     "name": "stderr",
     "output_type": "stream",
     "text": [
      "Dataloader: loading items from current dataset: 100%|██████████| 6713/6713 [00:05<00:00, 1144.32it/s]\n",
      "100%|██████████| 105/105 [00:57<00:00,  1.81it/s]\n"
     ]
    },
    {
     "name": "stdout",
     "output_type": "stream",
     "text": [
      "Training Epoch 3; Loss 0.2078526653704189; \n"
     ]
    },
    {
     "name": "stderr",
     "output_type": "stream",
     "text": [
      "100%|██████████| 23/23 [00:09<00:00,  2.36it/s]\n"
     ]
    },
    {
     "name": "stdout",
     "output_type": "stream",
     "text": [
      "curent {'auc': 0.9421735933751257, 'spauc': 0.7919299060281305, 'metric': 0.8808104181945176, 'f1_neg': 0.87509130752374, 'f1_pos': 0.8865295288652952, 'recall': 0.8805568454453989, 'recall_neg': 0.846045197740113, 'recall_pos': 0.915068493150685, 'precision': 0.8829597914318035, 'precision_neg': 0.9062027231467473, 'precision_pos': 0.8597168597168597, 'acc': 0.8810848400556328}\n",
      "Max {'auc': 0.9421735933751257, 'spauc': 0.7919299060281305, 'metric': 0.8808104181945176, 'f1_neg': 0.87509130752374, 'f1_pos': 0.8865295288652952, 'recall': 0.8805568454453989, 'recall_neg': 0.846045197740113, 'recall_pos': 0.915068493150685, 'precision': 0.8829597914318035, 'precision_neg': 0.9062027231467473, 'precision_pos': 0.8597168597168597, 'acc': 0.8810848400556328}\n"
     ]
    },
    {
     "name": "stderr",
     "output_type": "stream",
     "text": [
      "Dataloader: loading items from current dataset: 100%|██████████| 6713/6713 [00:05<00:00, 1127.30it/s]\n",
      "100%|██████████| 105/105 [00:57<00:00,  1.81it/s]\n"
     ]
    },
    {
     "name": "stdout",
     "output_type": "stream",
     "text": [
      "Training Epoch 4; Loss 0.11990083459587324; \n"
     ]
    },
    {
     "name": "stderr",
     "output_type": "stream",
     "text": [
      "100%|██████████| 23/23 [00:09<00:00,  2.36it/s]\n"
     ]
    },
    {
     "name": "stdout",
     "output_type": "stream",
     "text": [
      "curent {'auc': 0.9457878647163532, 'spauc': 0.7993026448172905, 'metric': 0.8840874437937631, 'f1_neg': 0.8766716196136701, 'f1_pos': 0.8915032679738563, 'recall': 0.8837899543378995, 'recall_neg': 0.8333333333333334, 'recall_pos': 0.9342465753424658, 'precision': 0.8886324451410659, 'precision_neg': 0.9247648902821317, 'precision_pos': 0.8525, 'acc': 0.8845618915159944}\n",
      "Max {'auc': 0.9457878647163532, 'spauc': 0.7993026448172905, 'metric': 0.8840874437937631, 'f1_neg': 0.8766716196136701, 'f1_pos': 0.8915032679738563, 'recall': 0.8837899543378995, 'recall_neg': 0.8333333333333334, 'recall_pos': 0.9342465753424658, 'precision': 0.8886324451410659, 'precision_neg': 0.9247648902821317, 'precision_pos': 0.8525, 'acc': 0.8845618915159944}\n"
     ]
    },
    {
     "name": "stderr",
     "output_type": "stream",
     "text": [
      "Dataloader: loading items from current dataset: 100%|██████████| 6713/6713 [00:05<00:00, 1126.55it/s]\n",
      "100%|██████████| 105/105 [00:57<00:00,  1.81it/s]\n"
     ]
    },
    {
     "name": "stdout",
     "output_type": "stream",
     "text": [
      "Training Epoch 5; Loss 0.0701304360159806; \n"
     ]
    },
    {
     "name": "stderr",
     "output_type": "stream",
     "text": [
      "100%|██████████| 23/23 [00:09<00:00,  2.35it/s]\n"
     ]
    },
    {
     "name": "stdout",
     "output_type": "stream",
     "text": [
      "curent {'auc': 0.9506307561334262, 'spauc': 0.8118016773999079, 'metric': 0.8866239431789544, 'f1_neg': 0.884968242766408, 'f1_pos': 0.888279643591501, 'recall': 0.8866322266078477, 'recall_neg': 0.885593220338983, 'recall_pos': 0.8876712328767123, 'precision': 0.8866165177871806, 'precision_neg': 0.8843441466854725, 'precision_pos': 0.8888888888888888, 'acc': 0.8866481223922114}\n",
      "Max {'auc': 0.9506307561334262, 'spauc': 0.8118016773999079, 'metric': 0.8866239431789544, 'f1_neg': 0.884968242766408, 'f1_pos': 0.888279643591501, 'recall': 0.8866322266078477, 'recall_neg': 0.885593220338983, 'recall_pos': 0.8876712328767123, 'precision': 0.8866165177871806, 'precision_neg': 0.8843441466854725, 'precision_pos': 0.8888888888888888, 'acc': 0.8866481223922114}\n"
     ]
    },
    {
     "name": "stderr",
     "output_type": "stream",
     "text": [
      "Dataloader: loading items from current dataset: 100%|██████████| 6713/6713 [00:05<00:00, 1148.17it/s]\n",
      "100%|██████████| 105/105 [00:57<00:00,  1.81it/s]\n"
     ]
    },
    {
     "name": "stdout",
     "output_type": "stream",
     "text": [
      "Training Epoch 6; Loss 0.035181660781658824; \n"
     ]
    },
    {
     "name": "stderr",
     "output_type": "stream",
     "text": [
      "100%|██████████| 23/23 [00:09<00:00,  2.35it/s]\n"
     ]
    },
    {
     "name": "stdout",
     "output_type": "stream",
     "text": [
      "curent {'auc': 0.9518264840182648, 'spauc': 0.8188485492812598, 'metric': 0.891447960560316, 'f1_neg': 0.8887303851640513, 'f1_pos': 0.8941655359565808, 'recall': 0.891341614426128, 'recall_neg': 0.8799435028248588, 'recall_pos': 0.9027397260273973, 'precision': 0.89172360633386, 'precision_neg': 0.8976945244956772, 'precision_pos': 0.885752688172043, 'acc': 0.8915159944367177}\n",
      "Max {'auc': 0.9518264840182648, 'spauc': 0.8188485492812598, 'metric': 0.891447960560316, 'f1_neg': 0.8887303851640513, 'f1_pos': 0.8941655359565808, 'recall': 0.891341614426128, 'recall_neg': 0.8799435028248588, 'recall_pos': 0.9027397260273973, 'precision': 0.89172360633386, 'precision_neg': 0.8976945244956772, 'precision_pos': 0.885752688172043, 'acc': 0.8915159944367177}\n"
     ]
    },
    {
     "name": "stderr",
     "output_type": "stream",
     "text": [
      "Dataloader: loading items from current dataset: 100%|██████████| 6713/6713 [00:05<00:00, 1127.01it/s]\n",
      "100%|██████████| 105/105 [00:57<00:00,  1.81it/s]\n"
     ]
    },
    {
     "name": "stdout",
     "output_type": "stream",
     "text": [
      "Training Epoch 7; Loss 0.017676692105652318; \n"
     ]
    },
    {
     "name": "stderr",
     "output_type": "stream",
     "text": [
      "100%|██████████| 23/23 [00:09<00:00,  2.35it/s]\n"
     ]
    },
    {
     "name": "stdout",
     "output_type": "stream",
     "text": [
      "curent {'auc': 0.9522289296494079, 'spauc': 0.8235613994354355, 'metric': 0.894179730240034, 'f1_neg': 0.8906474820143885, 'f1_pos': 0.8977119784656796, 'recall': 0.8939962077238603, 'recall_neg': 0.8742937853107344, 'recall_pos': 0.9136986301369863, 'precision': 0.8949498828531086, 'precision_neg': 0.907624633431085, 'precision_pos': 0.8822751322751323, 'acc': 0.894297635605007}\n",
      "Max {'auc': 0.9522289296494079, 'spauc': 0.8235613994354355, 'metric': 0.894179730240034, 'f1_neg': 0.8906474820143885, 'f1_pos': 0.8977119784656796, 'recall': 0.8939962077238603, 'recall_neg': 0.8742937853107344, 'recall_pos': 0.9136986301369863, 'precision': 0.8949498828531086, 'precision_neg': 0.907624633431085, 'precision_pos': 0.8822751322751323, 'acc': 0.894297635605007}\n"
     ]
    },
    {
     "name": "stderr",
     "output_type": "stream",
     "text": [
      "Dataloader: loading items from current dataset: 100%|██████████| 6713/6713 [00:06<00:00, 1018.69it/s]\n",
      "100%|██████████| 105/105 [00:57<00:00,  1.81it/s]\n"
     ]
    },
    {
     "name": "stdout",
     "output_type": "stream",
     "text": [
      "Training Epoch 8; Loss 0.010451496334835182; \n"
     ]
    },
    {
     "name": "stderr",
     "output_type": "stream",
     "text": [
      "100%|██████████| 23/23 [00:09<00:00,  2.35it/s]\n"
     ]
    },
    {
     "name": "stdout",
     "output_type": "stream",
     "text": [
      "curent {'auc': 0.9538619301911617, 'spauc': 0.8237996896117703, 'metric': 0.8838637292381498, 'f1_neg': 0.8844290657439446, 'f1_pos': 0.883298392732355, 'recall': 0.8841478987694451, 'recall_neg': 0.902542372881356, 'recall_pos': 0.8657534246575342, 'precision': 0.8842988403850286, 'precision_neg': 0.8670284938941656, 'precision_pos': 0.9015691868758916, 'acc': 0.8838664812239221}\n",
      "Max {'auc': 0.9522289296494079, 'spauc': 0.8235613994354355, 'metric': 0.894179730240034, 'f1_neg': 0.8906474820143885, 'f1_pos': 0.8977119784656796, 'recall': 0.8939962077238603, 'recall_neg': 0.8742937853107344, 'recall_pos': 0.9136986301369863, 'precision': 0.8949498828531086, 'precision_neg': 0.907624633431085, 'precision_pos': 0.8822751322751323, 'acc': 0.894297635605007}\n"
     ]
    },
    {
     "name": "stderr",
     "output_type": "stream",
     "text": [
      "Dataloader: loading items from current dataset: 100%|██████████| 6713/6713 [00:05<00:00, 1135.99it/s]\n",
      "100%|██████████| 105/105 [00:57<00:00,  1.81it/s]\n"
     ]
    },
    {
     "name": "stdout",
     "output_type": "stream",
     "text": [
      "Training Epoch 9; Loss 0.0061141114925876965; \n"
     ]
    },
    {
     "name": "stderr",
     "output_type": "stream",
     "text": [
      "100%|██████████| 23/23 [00:09<00:00,  2.33it/s]\n"
     ]
    },
    {
     "name": "stdout",
     "output_type": "stream",
     "text": [
      "curent {'auc': 0.9532485875706214, 'spauc': 0.8266897217503941, 'metric': 0.8873295840370519, 'f1_neg': 0.8860759493670886, 'f1_pos': 0.8885832187070152, 'recall': 0.8873810076619457, 'recall_neg': 0.8898305084745762, 'recall_pos': 0.8849315068493151, 'precision': 0.8873090672733182, 'precision_neg': 0.8823529411764706, 'precision_pos': 0.8922651933701657, 'acc': 0.8873435326842837}\n",
      "Max {'auc': 0.9522289296494079, 'spauc': 0.8235613994354355, 'metric': 0.894179730240034, 'f1_neg': 0.8906474820143885, 'f1_pos': 0.8977119784656796, 'recall': 0.8939962077238603, 'recall_neg': 0.8742937853107344, 'recall_pos': 0.9136986301369863, 'precision': 0.8949498828531086, 'precision_neg': 0.907624633431085, 'precision_pos': 0.8822751322751323, 'acc': 0.894297635605007}\n"
     ]
    },
    {
     "name": "stderr",
     "output_type": "stream",
     "text": [
      "Dataloader: loading items from current dataset: 100%|██████████| 6713/6713 [00:06<00:00, 1102.62it/s]\n",
      "100%|██████████| 105/105 [00:57<00:00,  1.81it/s]\n"
     ]
    },
    {
     "name": "stdout",
     "output_type": "stream",
     "text": [
      "Training Epoch 10; Loss 0.004141350182527231; \n"
     ]
    },
    {
     "name": "stderr",
     "output_type": "stream",
     "text": [
      "100%|██████████| 23/23 [00:09<00:00,  2.37it/s]\n"
     ]
    },
    {
     "name": "stdout",
     "output_type": "stream",
     "text": [
      "curent {'auc': 0.9525984830895442, 'spauc': 0.8272966488661868, 'metric': 0.8935239069593669, 'f1_neg': 0.8906361686919227, 'f1_pos': 0.896411645226811, 'recall': 0.8933964089466759, 'recall_neg': 0.8799435028248588, 'recall_pos': 0.9068493150684932, 'precision': 0.8939017042603603, 'precision_neg': 0.9015918958031838, 'precision_pos': 0.8862115127175368, 'acc': 0.8936022253129347}\n",
      "Max {'auc': 0.9522289296494079, 'spauc': 0.8235613994354355, 'metric': 0.894179730240034, 'f1_neg': 0.8906474820143885, 'f1_pos': 0.8977119784656796, 'recall': 0.8939962077238603, 'recall_neg': 0.8742937853107344, 'recall_pos': 0.9136986301369863, 'precision': 0.8949498828531086, 'precision_neg': 0.907624633431085, 'precision_pos': 0.8822751322751323, 'acc': 0.894297635605007}\n"
     ]
    },
    {
     "name": "stderr",
     "output_type": "stream",
     "text": [
      "Dataloader: loading items from current dataset: 100%|██████████| 6713/6713 [00:05<00:00, 1145.38it/s]\n",
      "100%|██████████| 105/105 [00:57<00:00,  1.81it/s]\n"
     ]
    },
    {
     "name": "stdout",
     "output_type": "stream",
     "text": [
      "Training Epoch 11; Loss 0.0032764015115043592; \n"
     ]
    },
    {
     "name": "stderr",
     "output_type": "stream",
     "text": [
      "100%|██████████| 23/23 [00:09<00:00,  2.36it/s]\n"
     ]
    },
    {
     "name": "stdout",
     "output_type": "stream",
     "text": [
      "curent {'auc': 0.9526042875938395, 'spauc': 0.8262212880704198, 'metric': 0.8893907692605394, 'f1_neg': 0.88731396172927, 'f1_pos': 0.8914675767918089, 'recall': 0.8893506694528288, 'recall_neg': 0.884180790960452, 'recall_pos': 0.8945205479452055, 'precision': 0.8894523954674332, 'precision_neg': 0.8904694167852063, 'precision_pos': 0.8884353741496599, 'acc': 0.8894297635605007}\n",
      "Max {'auc': 0.9522289296494079, 'spauc': 0.8235613994354355, 'metric': 0.894179730240034, 'f1_neg': 0.8906474820143885, 'f1_pos': 0.8977119784656796, 'recall': 0.8939962077238603, 'recall_neg': 0.8742937853107344, 'recall_pos': 0.9136986301369863, 'precision': 0.8949498828531086, 'precision_neg': 0.907624633431085, 'precision_pos': 0.8822751322751323, 'acc': 0.894297635605007}\n"
     ]
    },
    {
     "name": "stderr",
     "output_type": "stream",
     "text": [
      "Dataloader: loading items from current dataset: 100%|██████████| 6713/6713 [00:05<00:00, 1126.44it/s]\n",
      "100%|██████████| 105/105 [00:57<00:00,  1.81it/s]\n"
     ]
    },
    {
     "name": "stdout",
     "output_type": "stream",
     "text": [
      "Training Epoch 12; Loss 0.002635121566709131; \n"
     ]
    },
    {
     "name": "stderr",
     "output_type": "stream",
     "text": [
      "100%|██████████| 23/23 [00:09<00:00,  2.35it/s]\n"
     ]
    },
    {
     "name": "stdout",
     "output_type": "stream",
     "text": [
      "curent {'auc': 0.9525191548641745, 'spauc': 0.8253231174057736, 'metric': 0.8893213781071817, 'f1_neg': 0.8858578607322326, 'f1_pos': 0.8927848954821308, 'recall': 0.8891591208110827, 'recall_neg': 0.8714689265536724, 'recall_pos': 0.9068493150684932, 'precision': 0.8899399967041808, 'precision_neg': 0.9007299270072993, 'precision_pos': 0.8791500664010624, 'acc': 0.8894297635605007}\n",
      "Max {'auc': 0.9522289296494079, 'spauc': 0.8235613994354355, 'metric': 0.894179730240034, 'f1_neg': 0.8906474820143885, 'f1_pos': 0.8977119784656796, 'recall': 0.8939962077238603, 'recall_neg': 0.8742937853107344, 'recall_pos': 0.9136986301369863, 'precision': 0.8949498828531086, 'precision_neg': 0.907624633431085, 'precision_pos': 0.8822751322751323, 'acc': 0.894297635605007}\n"
     ]
    },
    {
     "name": "stderr",
     "output_type": "stream",
     "text": [
      "Dataloader: loading items from current dataset: 100%|██████████| 1439/1439 [00:01<00:00, 1250.64it/s]\n",
      "100%|██████████| 23/23 [00:09<00:00,  2.37it/s]\n"
     ]
    },
    {
     "name": "stdout",
     "output_type": "stream",
     "text": [
      "test results: {'auc': 0.9413163496718013, 'spauc': 0.811905602855526, 'metric': 0.8637652877871592, 'f1_neg': 0.8617771509167842, 'f1_pos': 0.8657534246575342, 'recall': 0.8637540228019951, 'recall_neg': 0.8521617852161785, 'recall_pos': 0.8753462603878116, 'precision': 0.8639902732836173, 'precision_neg': 0.8716119828815977, 'precision_pos': 0.8563685636856369, 'acc': 0.8637943015983321}\n",
      "best model path: ./param_model/mdfend/parameter_mdfend.pkl\n",
      "best metric: {'metric': 0.8637652877871592}\n"
     ]
    },
    {
     "ename": "FileNotFoundError",
     "evalue": "[Errno 2] No such file or directory: './logs/json/mdfend0.1.json'",
     "output_type": "error",
     "traceback": [
      "\u001b[0;31m---------------------------------------------------------------------------\u001b[0m",
      "\u001b[0;31mFileNotFoundError\u001b[0m                         Traceback (most recent call last)",
      "Cell \u001b[0;32mIn[1], line 64\u001b[0m\n\u001b[1;32m     42\u001b[0m config \u001b[38;5;241m=\u001b[39m {\n\u001b[1;32m     43\u001b[0m         \u001b[38;5;124m'\u001b[39m\u001b[38;5;124muse_cuda\u001b[39m\u001b[38;5;124m'\u001b[39m: \u001b[38;5;28;01mTrue\u001b[39;00m,\n\u001b[1;32m     44\u001b[0m         \u001b[38;5;124m'\u001b[39m\u001b[38;5;124mbatchsize\u001b[39m\u001b[38;5;124m'\u001b[39m: args[\u001b[38;5;124m'\u001b[39m\u001b[38;5;124mbatchsize\u001b[39m\u001b[38;5;124m'\u001b[39m],\n\u001b[0;32m   (...)\u001b[0m\n\u001b[1;32m     60\u001b[0m         \u001b[38;5;124m'\u001b[39m\u001b[38;5;124mparam_log_dir\u001b[39m\u001b[38;5;124m'\u001b[39m: args[\u001b[38;5;124m'\u001b[39m\u001b[38;5;124mparam_log_dir\u001b[39m\u001b[38;5;124m'\u001b[39m]\n\u001b[1;32m     61\u001b[0m }\n\u001b[1;32m     63\u001b[0m \u001b[38;5;66;03m# 不需要检查 __name__ == '__main__' 在 Jupyter 中\u001b[39;00m\n\u001b[0;32m---> 64\u001b[0m \u001b[43mRun\u001b[49m\u001b[43m(\u001b[49m\u001b[43mconfig\u001b[49m\u001b[38;5;241;43m=\u001b[39;49m\u001b[43mconfig\u001b[49m\u001b[43m)\u001b[49m\u001b[38;5;241;43m.\u001b[39;49m\u001b[43mmain\u001b[49m\u001b[43m(\u001b[49m\u001b[43m)\u001b[49m\n",
      "File \u001b[0;32m/mySeoSent/mySeoSent_ch/mySeoSent_ch/grid_search.py:99\u001b[0m, in \u001b[0;36mRun.main\u001b[0;34m(self)\u001b[0m\n\u001b[1;32m     97\u001b[0m     logger\u001b[38;5;241m.\u001b[39minfo(\u001b[38;5;124m\"\u001b[39m\u001b[38;5;124mbest metric:\u001b[39m\u001b[38;5;124m\"\u001b[39m \u001b[38;5;241m+\u001b[39m \u001b[38;5;28mstr\u001b[39m(best_metric))\n\u001b[1;32m     98\u001b[0m     logger\u001b[38;5;241m.\u001b[39minfo(\u001b[38;5;124m'\u001b[39m\u001b[38;5;124m--------------------------------------\u001b[39m\u001b[38;5;130;01m\\n\u001b[39;00m\u001b[38;5;124m'\u001b[39m)\n\u001b[0;32m---> 99\u001b[0m \u001b[38;5;28;01mwith\u001b[39;00m \u001b[38;5;28;43mopen\u001b[39;49m\u001b[43m(\u001b[49m\u001b[43mjson_path\u001b[49m\u001b[43m,\u001b[49m\u001b[43m \u001b[49m\u001b[38;5;124;43m'\u001b[39;49m\u001b[38;5;124;43mw\u001b[39;49m\u001b[38;5;124;43m'\u001b[39;49m\u001b[43m)\u001b[49m \u001b[38;5;28;01mas\u001b[39;00m file:\n\u001b[1;32m    100\u001b[0m     json\u001b[38;5;241m.\u001b[39mdump(json_result, file, indent\u001b[38;5;241m=\u001b[39m\u001b[38;5;241m4\u001b[39m, ensure_ascii\u001b[38;5;241m=\u001b[39m\u001b[38;5;28;01mFalse\u001b[39;00m)\n",
      "\u001b[0;31mFileNotFoundError\u001b[0m: [Errno 2] No such file or directory: './logs/json/mdfend0.1.json'"
     ]
    }
   ],
   "source": [
    "import os\n",
    "import torch\n",
    "import numpy as np\n",
    "import random\n",
    "from grid_search import Run\n",
    "import warnings\n",
    "\n",
    "# 忽略特定的警告\n",
    "warnings.filterwarnings(\"ignore\", category=FutureWarning)\n",
    "\n",
    "# 直接设置参数\n",
    "args = {\n",
    "    'model_name': 'mdfend',\n",
    "    'epoch': 20,\n",
    "    'aug_prob': 0.1,\n",
    "    'max_len': 384,\n",
    "    'early_stop': 5,\n",
    "    'root_path': './data/',\n",
    "    'batchsize':64,\n",
    "    'seed': 2023,\n",
    "    'gpu': '0',\n",
    "    'emb_dim': 768,\n",
    "    'lr': 0.0001,\n",
    "    'emb_type': 'bert',\n",
    "    'save_log_dir': './logs',\n",
    "    'save_param_dir': './param_model',\n",
    "    'param_log_dir': './logs/param'\n",
    "}\n",
    "\n",
    "os.environ[\"CUDA_VISIBLE_DEVICES\"] = args['gpu']\n",
    "\n",
    "seed = args['seed']\n",
    "random.seed(seed)\n",
    "np.random.seed(seed)\n",
    "torch.manual_seed(seed)\n",
    "torch.cuda.manual_seed(seed)\n",
    "torch.backends.cudnn.benchmark = False\n",
    "torch.backends.cudnn.deterministic = True\n",
    "\n",
    "print('lr: {}; model name: {}; batchsize: {}; epoch: {}; gpu: {}'.format(args['lr'], args['model_name'], args['batchsize'], args['epoch'], args['gpu']))\n",
    "\n",
    "config = {\n",
    "        'use_cuda': True,\n",
    "        'batchsize': args['batchsize'],\n",
    "        'max_len': args['max_len'],\n",
    "        'early_stop': args['early_stop'],\n",
    "        'root_path': args['root_path'],\n",
    "        'aug_prob': args['aug_prob'],\n",
    "        'weight_decay': 5e-5,\n",
    "        'model': {\n",
    "            'mlp': {'dims': [384], 'dropout': 0.2}\n",
    "        },\n",
    "        'emb_dim': args['emb_dim'],\n",
    "        'lr': args['lr'],\n",
    "        'epoch': args['epoch'],\n",
    "        'model_name': args['model_name'],\n",
    "        'seed': args['seed'],\n",
    "        'save_log_dir': args['save_log_dir'],\n",
    "        'save_param_dir': args['save_param_dir'],\n",
    "        'param_log_dir': args['param_log_dir']\n",
    "}\n",
    "\n",
    "# 不需要检查 __name__ == '__main__' 在 Jupyter 中\n",
    "Run(config=config).main()"
   ]
  },
  {
   "cell_type": "code",
   "execution_count": null,
   "id": "63dd76e4-a713-4af3-9274-8b52f9c0016f",
   "metadata": {},
   "outputs": [],
   "source": []
  },
  {
   "cell_type": "code",
   "execution_count": null,
   "id": "8dd8f6ec-7b75-424e-98bc-6a942e09cd2b",
   "metadata": {},
   "outputs": [],
   "source": []
  }
 ],
 "metadata": {
  "kernelspec": {
   "display_name": "Python 3 (ipykernel)",
   "language": "python",
   "name": "python3"
  },
  "language_info": {
   "codemirror_mode": {
    "name": "ipython",
    "version": 3
   },
   "file_extension": ".py",
   "mimetype": "text/x-python",
   "name": "python",
   "nbconvert_exporter": "python",
   "pygments_lexer": "ipython3",
   "version": "3.11.8"
  }
 },
 "nbformat": 4,
 "nbformat_minor": 5
}
