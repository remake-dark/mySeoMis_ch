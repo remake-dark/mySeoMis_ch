{
 "cells": [
  {
   "cell_type": "code",
   "execution_count": null,
   "id": "f1324ca7-4984-4114-88e4-8c097ec63695",
   "metadata": {},
   "outputs": [],
   "source": [
    "1.8848"
   ]
  },
  {
   "cell_type": "code",
   "execution_count": 1,
   "id": "a1ddec54-bf7a-45f5-a953-8ced86aafc70",
   "metadata": {},
   "outputs": [
    {
     "name": "stderr",
     "output_type": "stream",
     "text": [
      "/usr/local/lib/python3.11/dist-packages/tqdm/auto.py:21: TqdmWarning: IProgress not found. Please update jupyter and ipywidgets. See https://ipywidgets.readthedocs.io/en/stable/user_install.html\n",
      "  from .autonotebook import tqdm as notebook_tqdm\n"
     ]
    },
    {
     "name": "stdout",
     "output_type": "stream",
     "text": [
      "lr: 0.0001; model name: eann_seomis; batchsize: 128; epoch: 15; gpu: 0\n",
      "{'lr': [0.0001]}\n",
      "lr: 0.0001\n"
     ]
    },
    {
     "name": "stderr",
     "output_type": "stream",
     "text": [
      "Dataloader: loading items from current dataset: 100%|██████████| 1438/1438 [00:01<00:00, 1212.52it/s]\n",
      "Dataloader: loading items from current dataset:   0%|          | 0/6713 [00:00<?, ?it/s]Building prefix dict from the default dictionary ...\n",
      "Loading model from cache /tmp/jieba.cache\n",
      "Loading model cost 0.771 seconds.\n",
      "Prefix dict has been built successfully.\n",
      "Dataloader: loading items from current dataset: 100%|██████████| 6713/6713 [00:09<00:00, 728.28it/s]\n",
      "100%|██████████| 53/53 [00:10<00:00,  5.28it/s]\n"
     ]
    },
    {
     "name": "stdout",
     "output_type": "stream",
     "text": [
      "Training Epoch 1; Loss 2.8510132510707065; \n"
     ]
    },
    {
     "name": "stderr",
     "output_type": "stream",
     "text": [
      "100%|██████████| 12/12 [00:01<00:00, 11.35it/s]\n"
     ]
    },
    {
     "name": "stdout",
     "output_type": "stream",
     "text": [
      "curent {'auc': 0.7242879808064391, 'spauc': 0.570874015780105, 'metric': 0.6623764700860174, 'f1_neg': 0.6435935198821797, 'f1_pos': 0.6811594202898551, 'recall': 0.6627254082501355, 'recall_neg': 0.617231638418079, 'recall_pos': 0.7082191780821918, 'precision': 0.664199531433034, 'precision_neg': 0.6723076923076923, 'precision_pos': 0.6560913705583756, 'acc': 0.6634214186369958}\n",
      "Max {'auc': 0.7242879808064391, 'spauc': 0.570874015780105, 'metric': 0.6623764700860174, 'f1_neg': 0.6435935198821797, 'f1_pos': 0.6811594202898551, 'recall': 0.6627254082501355, 'recall_neg': 0.617231638418079, 'recall_pos': 0.7082191780821918, 'precision': 0.664199531433034, 'precision_neg': 0.6723076923076923, 'precision_pos': 0.6560913705583756, 'acc': 0.6634214186369958}\n"
     ]
    },
    {
     "name": "stderr",
     "output_type": "stream",
     "text": [
      "Dataloader: loading items from current dataset: 100%|██████████| 6713/6713 [00:08<00:00, 804.16it/s]\n",
      "100%|██████████| 53/53 [00:06<00:00,  7.57it/s]\n"
     ]
    },
    {
     "name": "stdout",
     "output_type": "stream",
     "text": [
      "Training Epoch 2; Loss 2.7196516945676983; \n"
     ]
    },
    {
     "name": "stderr",
     "output_type": "stream",
     "text": [
      "100%|██████████| 12/12 [00:01<00:00, 11.33it/s]\n"
     ]
    },
    {
     "name": "stdout",
     "output_type": "stream",
     "text": [
      "curent {'auc': 0.8208768671155482, 'spauc': 0.6369353846655179, 'metric': 0.7274301036017496, 'f1_neg': 0.7139722019019751, 'f1_pos': 0.7408880053015242, 'recall': 0.727509480690349, 'recall_neg': 0.6892655367231638, 'recall_pos': 0.7657534246575343, 'precision': 0.729051291391438, 'precision_neg': 0.7405159332321699, 'precision_pos': 0.7175866495507061, 'acc': 0.7280945757997218}\n",
      "Max {'auc': 0.8208768671155482, 'spauc': 0.6369353846655179, 'metric': 0.7274301036017496, 'f1_neg': 0.7139722019019751, 'f1_pos': 0.7408880053015242, 'recall': 0.727509480690349, 'recall_neg': 0.6892655367231638, 'recall_pos': 0.7657534246575343, 'precision': 0.729051291391438, 'precision_neg': 0.7405159332321699, 'precision_pos': 0.7175866495507061, 'acc': 0.7280945757997218}\n"
     ]
    },
    {
     "name": "stderr",
     "output_type": "stream",
     "text": [
      "Dataloader: loading items from current dataset: 100%|██████████| 6713/6713 [00:08<00:00, 810.94it/s]\n",
      "100%|██████████| 53/53 [00:07<00:00,  7.46it/s]\n"
     ]
    },
    {
     "name": "stdout",
     "output_type": "stream",
     "text": [
      "Training Epoch 3; Loss 2.6380481674986065; \n"
     ]
    },
    {
     "name": "stderr",
     "output_type": "stream",
     "text": [
      "100%|██████████| 12/12 [00:01<00:00, 10.69it/s]\n"
     ]
    },
    {
     "name": "stdout",
     "output_type": "stream",
     "text": [
      "curent {'auc': 0.8777745530531692, 'spauc': 0.6988297304673339, 'metric': 0.7821148225265648, 'f1_neg': 0.7596899224806202, 'f1_pos': 0.8045397225725095, 'recall': 0.783031499109976, 'recall_neg': 0.692090395480226, 'recall_pos': 0.873972602739726, 'precision': 0.793625750714584, 'precision_neg': 0.8419243986254296, 'precision_pos': 0.7453271028037384, 'acc': 0.7844228094575799}\n",
      "Max {'auc': 0.8777745530531692, 'spauc': 0.6988297304673339, 'metric': 0.7821148225265648, 'f1_neg': 0.7596899224806202, 'f1_pos': 0.8045397225725095, 'recall': 0.783031499109976, 'recall_neg': 0.692090395480226, 'recall_pos': 0.873972602739726, 'precision': 0.793625750714584, 'precision_neg': 0.8419243986254296, 'precision_pos': 0.7453271028037384, 'acc': 0.7844228094575799}\n"
     ]
    },
    {
     "name": "stderr",
     "output_type": "stream",
     "text": [
      "Dataloader: loading items from current dataset: 100%|██████████| 6713/6713 [00:08<00:00, 831.80it/s]\n",
      "100%|██████████| 53/53 [00:07<00:00,  7.54it/s]\n"
     ]
    },
    {
     "name": "stdout",
     "output_type": "stream",
     "text": [
      "Training Epoch 4; Loss 2.5631847786453537; \n"
     ]
    },
    {
     "name": "stderr",
     "output_type": "stream",
     "text": [
      "100%|██████████| 12/12 [00:01<00:00, 11.66it/s]\n"
     ]
    },
    {
     "name": "stdout",
     "output_type": "stream",
     "text": [
      "curent {'auc': 0.9106899620772385, 'spauc': 0.7400641143141113, 'metric': 0.8412840412677758, 'f1_neg': 0.8362068965517241, 'f1_pos': 0.8463611859838275, 'recall': 0.8411539354539123, 'recall_neg': 0.8220338983050848, 'recall_pos': 0.8602739726027397, 'precision': 0.8418842198334031, 'precision_neg': 0.8508771929824561, 'precision_pos': 0.8328912466843501, 'acc': 0.8414464534075105}\n",
      "Max {'auc': 0.9106899620772385, 'spauc': 0.7400641143141113, 'metric': 0.8412840412677758, 'f1_neg': 0.8362068965517241, 'f1_pos': 0.8463611859838275, 'recall': 0.8411539354539123, 'recall_neg': 0.8220338983050848, 'recall_pos': 0.8602739726027397, 'precision': 0.8418842198334031, 'precision_neg': 0.8508771929824561, 'precision_pos': 0.8328912466843501, 'acc': 0.8414464534075105}\n"
     ]
    },
    {
     "name": "stderr",
     "output_type": "stream",
     "text": [
      "Dataloader: loading items from current dataset: 100%|██████████| 6713/6713 [00:08<00:00, 760.24it/s]\n",
      "100%|██████████| 53/53 [00:07<00:00,  7.44it/s]\n"
     ]
    },
    {
     "name": "stdout",
     "output_type": "stream",
     "text": [
      "Training Epoch 5; Loss 2.4812119951787985; \n"
     ]
    },
    {
     "name": "stderr",
     "output_type": "stream",
     "text": [
      "100%|██████████| 12/12 [00:01<00:00, 10.71it/s]\n"
     ]
    },
    {
     "name": "stdout",
     "output_type": "stream",
     "text": [
      "curent {'auc': 0.9239784072440214, 'spauc': 0.7564816964631221, 'metric': 0.8541003717129232, 'f1_neg': 0.8450704225352113, 'f1_pos': 0.8631303208906352, 'recall': 0.8539122358950546, 'recall_neg': 0.8050847457627118, 'recall_pos': 0.9027397260273973, 'precision': 0.8580431297553032, 'precision_neg': 0.8892355694227769, 'precision_pos': 0.8268506900878294, 'acc': 0.8546592489568846}\n",
      "Max {'auc': 0.9239784072440214, 'spauc': 0.7564816964631221, 'metric': 0.8541003717129232, 'f1_neg': 0.8450704225352113, 'f1_pos': 0.8631303208906352, 'recall': 0.8539122358950546, 'recall_neg': 0.8050847457627118, 'recall_pos': 0.9027397260273973, 'precision': 0.8580431297553032, 'precision_neg': 0.8892355694227769, 'precision_pos': 0.8268506900878294, 'acc': 0.8546592489568846}\n"
     ]
    },
    {
     "name": "stderr",
     "output_type": "stream",
     "text": [
      "Dataloader: loading items from current dataset: 100%|██████████| 6713/6713 [00:08<00:00, 818.32it/s]\n",
      "100%|██████████| 53/53 [00:07<00:00,  7.55it/s]\n"
     ]
    },
    {
     "name": "stdout",
     "output_type": "stream",
     "text": [
      "Training Epoch 6; Loss 2.4156007181923345; \n"
     ]
    },
    {
     "name": "stderr",
     "output_type": "stream",
     "text": [
      "100%|██████████| 12/12 [00:01<00:00, 11.27it/s]\n"
     ]
    },
    {
     "name": "stdout",
     "output_type": "stream",
     "text": [
      "curent {'auc': 0.9311721229007043, 'spauc': 0.7730133320298658, 'metric': 0.8632764217703707, 'f1_neg': 0.8556701030927835, 'f1_pos': 0.8708827404479579, 'recall': 0.8630504604906741, 'recall_neg': 0.8206214689265536, 'recall_pos': 0.9054794520547945, 'precision': 0.8663393205778993, 'precision_neg': 0.8938461538461538, 'precision_pos': 0.8388324873096447, 'acc': 0.8636995827538247}\n",
      "Max {'auc': 0.9311721229007043, 'spauc': 0.7730133320298658, 'metric': 0.8632764217703707, 'f1_neg': 0.8556701030927835, 'f1_pos': 0.8708827404479579, 'recall': 0.8630504604906741, 'recall_neg': 0.8206214689265536, 'recall_pos': 0.9054794520547945, 'precision': 0.8663393205778993, 'precision_neg': 0.8938461538461538, 'precision_pos': 0.8388324873096447, 'acc': 0.8636995827538247}\n"
     ]
    },
    {
     "name": "stderr",
     "output_type": "stream",
     "text": [
      "Dataloader: loading items from current dataset: 100%|██████████| 6713/6713 [00:08<00:00, 817.48it/s]\n",
      "100%|██████████| 53/53 [00:07<00:00,  7.52it/s]\n"
     ]
    },
    {
     "name": "stdout",
     "output_type": "stream",
     "text": [
      "Training Epoch 7; Loss 2.334306869866713; \n"
     ]
    },
    {
     "name": "stderr",
     "output_type": "stream",
     "text": [
      "100%|██████████| 12/12 [00:01<00:00, 11.61it/s]\n"
     ]
    },
    {
     "name": "stdout",
     "output_type": "stream",
     "text": [
      "curent {'auc': 0.937872455692284, 'spauc': 0.7925307231394018, 'metric': 0.8712229871058403, 'f1_neg': 0.8671931083991385, 'f1_pos': 0.8752528658125421, 'recall': 0.8710742202615896, 'recall_neg': 0.8531073446327684, 'recall_pos': 0.8890410958904109, 'precision': 0.8718188074950806, 'precision_neg': 0.8817518248175182, 'precision_pos': 0.8618857901726428, 'acc': 0.8713490959666204}\n",
      "Max {'auc': 0.937872455692284, 'spauc': 0.7925307231394018, 'metric': 0.8712229871058403, 'f1_neg': 0.8671931083991385, 'f1_pos': 0.8752528658125421, 'recall': 0.8710742202615896, 'recall_neg': 0.8531073446327684, 'recall_pos': 0.8890410958904109, 'precision': 0.8718188074950806, 'precision_neg': 0.8817518248175182, 'precision_pos': 0.8618857901726428, 'acc': 0.8713490959666204}\n"
     ]
    },
    {
     "name": "stderr",
     "output_type": "stream",
     "text": [
      "Dataloader: loading items from current dataset: 100%|██████████| 6713/6713 [00:08<00:00, 798.95it/s]\n",
      "100%|██████████| 53/53 [00:07<00:00,  7.54it/s]\n"
     ]
    },
    {
     "name": "stdout",
     "output_type": "stream",
     "text": [
      "Training Epoch 8; Loss 2.2979659719287224; \n"
     ]
    },
    {
     "name": "stderr",
     "output_type": "stream",
     "text": [
      "100%|██████████| 12/12 [00:01<00:00, 11.25it/s]\n"
     ]
    },
    {
     "name": "stdout",
     "output_type": "stream",
     "text": [
      "curent {'auc': 0.9398130949616903, 'spauc': 0.7977140436417256, 'metric': 0.8725105044612167, 'f1_neg': 0.8671023965141612, 'f1_pos': 0.8779186124082722, 'recall': 0.8722951009983747, 'recall_neg': 0.8432203389830508, 'recall_pos': 0.9013698630136986, 'precision': 0.8740166893117263, 'precision_neg': 0.8923766816143498, 'precision_pos': 0.8556566970091027, 'acc': 0.872739916550765}\n",
      "Max {'auc': 0.9398130949616903, 'spauc': 0.7977140436417256, 'metric': 0.8725105044612167, 'f1_neg': 0.8671023965141612, 'f1_pos': 0.8779186124082722, 'recall': 0.8722951009983747, 'recall_neg': 0.8432203389830508, 'recall_pos': 0.9013698630136986, 'precision': 0.8740166893117263, 'precision_neg': 0.8923766816143498, 'precision_pos': 0.8556566970091027, 'acc': 0.872739916550765}\n"
     ]
    },
    {
     "name": "stderr",
     "output_type": "stream",
     "text": [
      "Dataloader: loading items from current dataset: 100%|██████████| 6713/6713 [00:08<00:00, 811.15it/s]\n",
      "100%|██████████| 53/53 [00:06<00:00,  7.60it/s]\n"
     ]
    },
    {
     "name": "stdout",
     "output_type": "stream",
     "text": [
      "Training Epoch 9; Loss 2.284537373848681; \n"
     ]
    },
    {
     "name": "stderr",
     "output_type": "stream",
     "text": [
      "100%|██████████| 12/12 [00:01<00:00, 11.53it/s]\n"
     ]
    },
    {
     "name": "stdout",
     "output_type": "stream",
     "text": [
      "curent {'auc': 0.9405889637024998, 'spauc': 0.800015478678121, 'metric': 0.8660872264473072, 'f1_neg': 0.8588235294117647, 'f1_pos': 0.8733509234828496, 'recall': 0.86585403606532, 'recall_neg': 0.8248587570621468, 'recall_pos': 0.9068493150684932, 'precision': 0.8689723536115144, 'precision_neg': 0.8957055214723927, 'precision_pos': 0.8422391857506362, 'acc': 0.866481223922114}\n",
      "Max {'auc': 0.9398130949616903, 'spauc': 0.7977140436417256, 'metric': 0.8725105044612167, 'f1_neg': 0.8671023965141612, 'f1_pos': 0.8779186124082722, 'recall': 0.8722951009983747, 'recall_neg': 0.8432203389830508, 'recall_pos': 0.9013698630136986, 'precision': 0.8740166893117263, 'precision_neg': 0.8923766816143498, 'precision_pos': 0.8556566970091027, 'acc': 0.872739916550765}\n"
     ]
    },
    {
     "name": "stderr",
     "output_type": "stream",
     "text": [
      "Dataloader: loading items from current dataset: 100%|██████████| 6713/6713 [00:08<00:00, 763.64it/s]\n",
      "100%|██████████| 53/53 [00:07<00:00,  7.56it/s]\n"
     ]
    },
    {
     "name": "stdout",
     "output_type": "stream",
     "text": [
      "Training Epoch 10; Loss 2.2483037057912574; \n"
     ]
    },
    {
     "name": "stderr",
     "output_type": "stream",
     "text": [
      "100%|██████████| 12/12 [00:01<00:00, 10.91it/s]\n"
     ]
    },
    {
     "name": "stdout",
     "output_type": "stream",
     "text": [
      "curent {'auc': 0.943293862704125, 'spauc': 0.8112721436747197, 'metric': 0.8732821263673267, 'f1_neg': 0.8688760806916427, 'f1_pos': 0.8776881720430108, 'recall': 0.8731077315997213, 'recall_neg': 0.8516949152542372, 'recall_pos': 0.8945205479452055, 'precision': 0.8741211392208599, 'precision_neg': 0.8867647058823529, 'precision_pos': 0.8614775725593667, 'acc': 0.8734353268428373}\n",
      "Max {'auc': 0.943293862704125, 'spauc': 0.8112721436747197, 'metric': 0.8732821263673267, 'f1_neg': 0.8688760806916427, 'f1_pos': 0.8776881720430108, 'recall': 0.8731077315997213, 'recall_neg': 0.8516949152542372, 'recall_pos': 0.8945205479452055, 'precision': 0.8741211392208599, 'precision_neg': 0.8867647058823529, 'precision_pos': 0.8614775725593667, 'acc': 0.8734353268428373}\n"
     ]
    },
    {
     "name": "stderr",
     "output_type": "stream",
     "text": [
      "Dataloader: loading items from current dataset: 100%|██████████| 6713/6713 [00:08<00:00, 811.04it/s]\n",
      "100%|██████████| 53/53 [00:07<00:00,  7.55it/s]\n"
     ]
    },
    {
     "name": "stdout",
     "output_type": "stream",
     "text": [
      "Training Epoch 11; Loss 2.235612824278058; \n"
     ]
    },
    {
     "name": "stderr",
     "output_type": "stream",
     "text": [
      "100%|██████████| 12/12 [00:01<00:00, 11.74it/s]\n"
     ]
    },
    {
     "name": "stdout",
     "output_type": "stream",
     "text": [
      "curent {'auc': 0.9419414132033125, 'spauc': 0.8094819123499485, 'metric': 0.8739326599163516, 'f1_neg': 0.8689355539464156, 'f1_pos': 0.8789297658862876, 'recall': 0.873728813559322, 'recall_neg': 0.847457627118644, 'recall_pos': 0.9, 'precision': 0.875176995017918, 'precision_neg': 0.8915304606240714, 'precision_pos': 0.8588235294117647, 'acc': 0.8741307371349096}\n",
      "Max {'auc': 0.9419414132033125, 'spauc': 0.8094819123499485, 'metric': 0.8739326599163516, 'f1_neg': 0.8689355539464156, 'f1_pos': 0.8789297658862876, 'recall': 0.873728813559322, 'recall_neg': 0.847457627118644, 'recall_pos': 0.9, 'precision': 0.875176995017918, 'precision_neg': 0.8915304606240714, 'precision_pos': 0.8588235294117647, 'acc': 0.8741307371349096}\n"
     ]
    },
    {
     "name": "stderr",
     "output_type": "stream",
     "text": [
      "Dataloader: loading items from current dataset: 100%|██████████| 6713/6713 [00:08<00:00, 809.91it/s]\n",
      "100%|██████████| 53/53 [00:07<00:00,  7.49it/s]\n"
     ]
    },
    {
     "name": "stdout",
     "output_type": "stream",
     "text": [
      "Training Epoch 12; Loss 2.2232255215914742; \n"
     ]
    },
    {
     "name": "stderr",
     "output_type": "stream",
     "text": [
      "100%|██████████| 12/12 [00:01<00:00, 11.39it/s]\n"
     ]
    },
    {
     "name": "stdout",
     "output_type": "stream",
     "text": [
      "curent {'auc': 0.9432532311740578, 'spauc': 0.8131336583855739, 'metric': 0.8690642938371915, 'f1_neg': 0.8639652677279306, 'f1_pos': 0.8741633199464525, 'recall': 0.8688704434641281, 'recall_neg': 0.8432203389830508, 'recall_pos': 0.8945205479452055, 'precision': 0.8702343592213402, 'precision_neg': 0.8857566765578635, 'precision_pos': 0.8547120418848168, 'acc': 0.8692628650904033}\n",
      "Max {'auc': 0.9419414132033125, 'spauc': 0.8094819123499485, 'metric': 0.8739326599163516, 'f1_neg': 0.8689355539464156, 'f1_pos': 0.8789297658862876, 'recall': 0.873728813559322, 'recall_neg': 0.847457627118644, 'recall_pos': 0.9, 'precision': 0.875176995017918, 'precision_neg': 0.8915304606240714, 'precision_pos': 0.8588235294117647, 'acc': 0.8741307371349096}\n"
     ]
    },
    {
     "name": "stderr",
     "output_type": "stream",
     "text": [
      "Dataloader: loading items from current dataset: 100%|██████████| 6713/6713 [00:08<00:00, 805.87it/s]\n",
      "100%|██████████| 53/53 [00:07<00:00,  7.45it/s]\n"
     ]
    },
    {
     "name": "stdout",
     "output_type": "stream",
     "text": [
      "Training Epoch 13; Loss 2.202086187758536; \n"
     ]
    },
    {
     "name": "stderr",
     "output_type": "stream",
     "text": [
      "100%|██████████| 12/12 [00:01<00:00, 11.44it/s]\n"
     ]
    },
    {
     "name": "stdout",
     "output_type": "stream",
     "text": [
      "curent {'auc': 0.9435453912235895, 'spauc': 0.8151234831913776, 'metric': 0.8741170399382091, 'f1_neg': 0.8728039353478566, 'f1_pos': 0.8754301445285616, 'recall': 0.8741757603900626, 'recall_neg': 0.8771186440677966, 'recall_pos': 0.8712328767123287, 'precision': 0.8740997591619999, 'precision_neg': 0.8685314685314686, 'precision_pos': 0.8796680497925311, 'acc': 0.8741307371349096}\n",
      "Max {'auc': 0.9435453912235895, 'spauc': 0.8151234831913776, 'metric': 0.8741170399382091, 'f1_neg': 0.8728039353478566, 'f1_pos': 0.8754301445285616, 'recall': 0.8741757603900626, 'recall_neg': 0.8771186440677966, 'recall_pos': 0.8712328767123287, 'precision': 0.8740997591619999, 'precision_neg': 0.8685314685314686, 'precision_pos': 0.8796680497925311, 'acc': 0.8741307371349096}\n"
     ]
    },
    {
     "name": "stderr",
     "output_type": "stream",
     "text": [
      "Dataloader: loading items from current dataset: 100%|██████████| 6713/6713 [00:08<00:00, 757.23it/s]\n",
      "100%|██████████| 53/53 [00:07<00:00,  7.54it/s]\n"
     ]
    },
    {
     "name": "stdout",
     "output_type": "stream",
     "text": [
      "Training Epoch 14; Loss 2.199389214785594; \n"
     ]
    },
    {
     "name": "stderr",
     "output_type": "stream",
     "text": [
      "100%|██████████| 12/12 [00:01<00:00, 10.89it/s]\n"
     ]
    },
    {
     "name": "stdout",
     "output_type": "stream",
     "text": [
      "curent {'auc': 0.9445282872842657, 'spauc': 0.8187467158725696, 'metric': 0.8658323954585478, 'f1_neg': 0.8565022421524664, 'f1_pos': 0.8751625487646294, 'recall': 0.8656199210587416, 'recall_neg': 0.809322033898305, 'recall_pos': 0.9219178082191781, 'precision': 0.8712223008015088, 'precision_neg': 0.9095238095238095, 'precision_pos': 0.8329207920792079, 'acc': 0.866481223922114}\n",
      "Max {'auc': 0.9435453912235895, 'spauc': 0.8151234831913776, 'metric': 0.8741170399382091, 'f1_neg': 0.8728039353478566, 'f1_pos': 0.8754301445285616, 'recall': 0.8741757603900626, 'recall_neg': 0.8771186440677966, 'recall_pos': 0.8712328767123287, 'precision': 0.8740997591619999, 'precision_neg': 0.8685314685314686, 'precision_pos': 0.8796680497925311, 'acc': 0.8741307371349096}\n"
     ]
    },
    {
     "name": "stderr",
     "output_type": "stream",
     "text": [
      "Dataloader: loading items from current dataset: 100%|██████████| 6713/6713 [00:08<00:00, 812.19it/s]\n",
      "100%|██████████| 53/53 [00:07<00:00,  7.56it/s]\n"
     ]
    },
    {
     "name": "stdout",
     "output_type": "stream",
     "text": [
      "Training Epoch 15; Loss 2.206374816174777; \n"
     ]
    },
    {
     "name": "stderr",
     "output_type": "stream",
     "text": [
      "100%|██████████| 12/12 [00:01<00:00, 10.81it/s]\n"
     ]
    },
    {
     "name": "stdout",
     "output_type": "stream",
     "text": [
      "curent {'auc': 0.9453796145809148, 'spauc': 0.82433533334148, 'metric': 0.8739463362163947, 'f1_neg': 0.8691250903832248, 'f1_pos': 0.8787675820495646, 'recall': 0.8737500967417382, 'recall_neg': 0.8488700564971752, 'recall_pos': 0.8986301369863013, 'precision': 0.8750672297461288, 'precision_neg': 0.8903703703703704, 'precision_pos': 0.8597640891218873, 'acc': 0.8741307371349096}\n",
      "Max {'auc': 0.9435453912235895, 'spauc': 0.8151234831913776, 'metric': 0.8741170399382091, 'f1_neg': 0.8728039353478566, 'f1_pos': 0.8754301445285616, 'recall': 0.8741757603900626, 'recall_neg': 0.8771186440677966, 'recall_pos': 0.8712328767123287, 'precision': 0.8740997591619999, 'precision_neg': 0.8685314685314686, 'precision_pos': 0.8796680497925311, 'acc': 0.8741307371349096}\n"
     ]
    },
    {
     "name": "stderr",
     "output_type": "stream",
     "text": [
      "Dataloader: loading items from current dataset: 100%|██████████| 1439/1439 [00:01<00:00, 1240.94it/s]\n",
      "100%|██████████| 12/12 [00:01<00:00,  9.53it/s]\n"
     ]
    },
    {
     "name": "stdout",
     "output_type": "stream",
     "text": [
      "future results: {'auc': 0.9270390245598582, 'spauc': 0.7816111867192175, 'metric': 0.8526070655534941, 'f1_neg': 0.8494318181818182, 'f1_pos': 0.85578231292517, 'recall': 0.8526109095685701, 'recall_neg': 0.8340306834030683, 'recall_pos': 0.871191135734072, 'precision': 0.8531607683199579, 'precision_neg': 0.8654124457308249, 'precision_pos': 0.8409090909090909, 'acc': 0.8526754690757471}\n",
      "best model path: ./param_model/eann_seomis/parameter_eannseomis.pkl\n",
      "best metric: {'metric': 0.8526070655534941}\n"
     ]
    },
    {
     "ename": "FileNotFoundError",
     "evalue": "[Errno 2] No such file or directory: './logs/json/eann_seomis0.1.json'",
     "output_type": "error",
     "traceback": [
      "\u001b[0;31m---------------------------------------------------------------------------\u001b[0m",
      "\u001b[0;31mFileNotFoundError\u001b[0m                         Traceback (most recent call last)",
      "Cell \u001b[0;32mIn[1], line 65\u001b[0m\n\u001b[1;32m     43\u001b[0m config \u001b[38;5;241m=\u001b[39m {\n\u001b[1;32m     44\u001b[0m         \u001b[38;5;124m'\u001b[39m\u001b[38;5;124muse_cuda\u001b[39m\u001b[38;5;124m'\u001b[39m: \u001b[38;5;28;01mTrue\u001b[39;00m,\n\u001b[1;32m     45\u001b[0m         \u001b[38;5;124m'\u001b[39m\u001b[38;5;124mbatchsize\u001b[39m\u001b[38;5;124m'\u001b[39m: args[\u001b[38;5;124m'\u001b[39m\u001b[38;5;124mbatchsize\u001b[39m\u001b[38;5;124m'\u001b[39m],\n\u001b[0;32m   (...)\u001b[0m\n\u001b[1;32m     61\u001b[0m         \u001b[38;5;124m'\u001b[39m\u001b[38;5;124mparam_log_dir\u001b[39m\u001b[38;5;124m'\u001b[39m: args[\u001b[38;5;124m'\u001b[39m\u001b[38;5;124mparam_log_dir\u001b[39m\u001b[38;5;124m'\u001b[39m]\n\u001b[1;32m     62\u001b[0m }\n\u001b[1;32m     64\u001b[0m \u001b[38;5;66;03m# 不需要检查 __name__ == '__main__' 在 Jupyter 中\u001b[39;00m\n\u001b[0;32m---> 65\u001b[0m \u001b[43mRun\u001b[49m\u001b[43m(\u001b[49m\u001b[43mconfig\u001b[49m\u001b[38;5;241;43m=\u001b[39;49m\u001b[43mconfig\u001b[49m\u001b[43m)\u001b[49m\u001b[38;5;241;43m.\u001b[39;49m\u001b[43mmain\u001b[49m\u001b[43m(\u001b[49m\u001b[43m)\u001b[49m\n",
      "File \u001b[0;32m/mySeoSent/mySeoSent_ch/mySeoSent_ch/grid_search.py:106\u001b[0m, in \u001b[0;36mRun.main\u001b[0;34m(self)\u001b[0m\n\u001b[1;32m    104\u001b[0m     logger\u001b[38;5;241m.\u001b[39minfo(\u001b[38;5;124m\"\u001b[39m\u001b[38;5;124mbest metric:\u001b[39m\u001b[38;5;124m\"\u001b[39m \u001b[38;5;241m+\u001b[39m \u001b[38;5;28mstr\u001b[39m(best_metric))\n\u001b[1;32m    105\u001b[0m     logger\u001b[38;5;241m.\u001b[39minfo(\u001b[38;5;124m'\u001b[39m\u001b[38;5;124m--------------------------------------\u001b[39m\u001b[38;5;130;01m\\n\u001b[39;00m\u001b[38;5;124m'\u001b[39m)\n\u001b[0;32m--> 106\u001b[0m \u001b[38;5;28;01mwith\u001b[39;00m \u001b[38;5;28;43mopen\u001b[39;49m\u001b[43m(\u001b[49m\u001b[43mjson_path\u001b[49m\u001b[43m,\u001b[49m\u001b[43m \u001b[49m\u001b[38;5;124;43m'\u001b[39;49m\u001b[38;5;124;43mw\u001b[39;49m\u001b[38;5;124;43m'\u001b[39;49m\u001b[43m)\u001b[49m \u001b[38;5;28;01mas\u001b[39;00m file:\n\u001b[1;32m    107\u001b[0m     json\u001b[38;5;241m.\u001b[39mdump(json_result, file, indent\u001b[38;5;241m=\u001b[39m\u001b[38;5;241m4\u001b[39m, ensure_ascii\u001b[38;5;241m=\u001b[39m\u001b[38;5;28;01mFalse\u001b[39;00m)\n",
      "\u001b[0;31mFileNotFoundError\u001b[0m: [Errno 2] No such file or directory: './logs/json/eann_seomis0.1.json'"
     ]
    }
   ],
   "source": [
    "import os\n",
    "import torch\n",
    "import numpy as np\n",
    "import random\n",
    "from grid_search import Run\n",
    "\n",
    "import warnings\n",
    "\n",
    "# 忽略特定的警告\n",
    "warnings.filterwarnings(\"ignore\", category=FutureWarning)\n",
    "\n",
    "# 直接设置参数\n",
    "args = {\n",
    "    'model_name': 'eann_seomis',\n",
    "    'epoch': 15,\n",
    "    'aug_prob': 0.1,\n",
    "    'max_len': 384,\n",
    "    'early_stop': 2,\n",
    "    'root_path': './data/',\n",
    "    'batchsize':128,\n",
    "    'seed': 2024,\n",
    "    'gpu': '0',\n",
    "    'emb_dim': 768,\n",
    "    'lr': 0.0001,\n",
    "    'emb_type': 'bert',\n",
    "    'save_log_dir': './logs',\n",
    "    'save_param_dir': './param_model',\n",
    "    'param_log_dir': './logs/param'\n",
    "}\n",
    "\n",
    "os.environ[\"CUDA_VISIBLE_DEVICES\"] = args['gpu']\n",
    "\n",
    "seed = args['seed']\n",
    "random.seed(seed)\n",
    "np.random.seed(seed)\n",
    "torch.manual_seed(seed)\n",
    "torch.cuda.manual_seed(seed)\n",
    "torch.backends.cudnn.benchmark = False\n",
    "torch.backends.cudnn.deterministic = True\n",
    "\n",
    "print('lr: {}; model name: {}; batchsize: {}; epoch: {}; gpu: {}'.format(args['lr'], args['model_name'], args['batchsize'], args['epoch'], args['gpu']))\n",
    "\n",
    "config = {\n",
    "        'use_cuda': True,\n",
    "        'batchsize': args['batchsize'],\n",
    "        'max_len': args['max_len'],\n",
    "        'early_stop': args['early_stop'],\n",
    "        'root_path': args['root_path'],\n",
    "        'aug_prob': args['aug_prob'],\n",
    "        'weight_decay': 5e-5,\n",
    "        'model': {\n",
    "            'mlp': {'dims': [384], 'dropout': 0.2}\n",
    "        },\n",
    "        'emb_dim': args['emb_dim'],\n",
    "        'lr': args['lr'],\n",
    "        'epoch': args['epoch'],\n",
    "        'model_name': args['model_name'],\n",
    "        'seed': args['seed'],\n",
    "        'save_log_dir': args['save_log_dir'],\n",
    "        'save_param_dir': args['save_param_dir'],\n",
    "        'param_log_dir': args['param_log_dir']\n",
    "}\n",
    "\n",
    "# 不需要检查 __name__ == '__main__' 在 Jupyter 中\n",
    "Run(config=config).main()"
   ]
  },
  {
   "cell_type": "code",
   "execution_count": null,
   "id": "c4d96fb5-49d0-4a6b-9f03-396385847ec7",
   "metadata": {},
   "outputs": [],
   "source": []
  }
 ],
 "metadata": {
  "kernelspec": {
   "display_name": "Python 3 (ipykernel)",
   "language": "python",
   "name": "python3"
  },
  "language_info": {
   "codemirror_mode": {
    "name": "ipython",
    "version": 3
   },
   "file_extension": ".py",
   "mimetype": "text/x-python",
   "name": "python",
   "nbconvert_exporter": "python",
   "pygments_lexer": "ipython3",
   "version": "3.11.8"
  }
 },
 "nbformat": 4,
 "nbformat_minor": 5
}
