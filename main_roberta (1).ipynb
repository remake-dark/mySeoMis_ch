{
 "cells": [
  {
   "cell_type": "code",
   "execution_count": 1,
   "id": "02fe378f-7743-4725-a8b0-6170577685b9",
   "metadata": {},
   "outputs": [
    {
     "name": "stderr",
     "output_type": "stream",
     "text": [
      "/usr/local/lib/python3.11/dist-packages/tqdm/auto.py:21: TqdmWarning: IProgress not found. Please update jupyter and ipywidgets. See https://ipywidgets.readthedocs.io/en/stable/user_install.html\n",
      "  from .autonotebook import tqdm as notebook_tqdm\n"
     ]
    },
    {
     "name": "stdout",
     "output_type": "stream",
     "text": [
      "lr: 0.0001; model name: roberta; batchsize: 64; epoch: 20; gpu: 1\n",
      "{'lr': [0.0001]}\n"
     ]
    },
    {
     "name": "stderr",
     "output_type": "stream",
     "text": [
      "Dataloader: loading items from current dataset: 100%|██████████| 1438/1438 [00:01<00:00, 1255.24it/s]\n",
      "Dataloader: loading items from current dataset: 100%|██████████| 6713/6713 [00:05<00:00, 1137.99it/s]\n",
      "100%|██████████| 105/105 [00:56<00:00,  1.86it/s]\n"
     ]
    },
    {
     "name": "stdout",
     "output_type": "stream",
     "text": [
      "Training Epoch 1; Loss 0.38566527565320335; \n"
     ]
    },
    {
     "name": "stderr",
     "output_type": "stream",
     "text": [
      "100%|██████████| 23/23 [00:09<00:00,  2.52it/s]\n"
     ]
    },
    {
     "name": "stdout",
     "output_type": "stream",
     "text": [
      "curent {'auc': 0.9484347186750252, 'spauc': 0.8215919413113699, 'metric': 0.8768551485497729, 'f1_neg': 0.8742004264392325, 'f1_pos': 0.8795098706603132, 'recall': 0.8767877873229626, 'recall_neg': 0.8686440677966102, 'recall_pos': 0.8849315068493151, 'precision': 0.8769912943485861, 'precision_neg': 0.8798283261802575, 'precision_pos': 0.8741542625169147, 'acc': 0.8769123783031989}\n",
      "Max {'auc': 0.9484347186750252, 'spauc': 0.8215919413113699, 'metric': 0.8768551485497729, 'f1_neg': 0.8742004264392325, 'f1_pos': 0.8795098706603132, 'recall': 0.8767877873229626, 'recall_neg': 0.8686440677966102, 'recall_pos': 0.8849315068493151, 'precision': 0.8769912943485861, 'precision_neg': 0.8798283261802575, 'precision_pos': 0.8741542625169147, 'acc': 0.8769123783031989}\n"
     ]
    },
    {
     "name": "stderr",
     "output_type": "stream",
     "text": [
      "Dataloader: loading items from current dataset: 100%|██████████| 6713/6713 [00:05<00:00, 1147.65it/s]\n",
      "100%|██████████| 105/105 [00:55<00:00,  1.89it/s]\n"
     ]
    },
    {
     "name": "stdout",
     "output_type": "stream",
     "text": [
      "Training Epoch 2; Loss 0.21272010675498418; \n"
     ]
    },
    {
     "name": "stderr",
     "output_type": "stream",
     "text": [
      "100%|██████████| 23/23 [00:09<00:00,  2.50it/s]\n"
     ]
    },
    {
     "name": "stdout",
     "output_type": "stream",
     "text": [
      "curent {'auc': 0.9565436111756056, 'spauc': 0.8423292966570128, 'metric': 0.8767807478087852, 'f1_neg': 0.8808080808080808, 'f1_pos': 0.8727534148094895, 'recall': 0.8776178314371952, 'recall_neg': 0.923728813559322, 'recall_pos': 0.8315068493150685, 'precision': 0.8800022196391334, 'precision_neg': 0.8416988416988417, 'precision_pos': 0.9183055975794251, 'acc': 0.8769123783031989}\n",
      "Max {'auc': 0.9484347186750252, 'spauc': 0.8215919413113699, 'metric': 0.8768551485497729, 'f1_neg': 0.8742004264392325, 'f1_pos': 0.8795098706603132, 'recall': 0.8767877873229626, 'recall_neg': 0.8686440677966102, 'recall_pos': 0.8849315068493151, 'precision': 0.8769912943485861, 'precision_neg': 0.8798283261802575, 'precision_pos': 0.8741542625169147, 'acc': 0.8769123783031989}\n"
     ]
    },
    {
     "name": "stderr",
     "output_type": "stream",
     "text": [
      "Dataloader: loading items from current dataset: 100%|██████████| 6713/6713 [00:06<00:00, 1102.59it/s]\n",
      "100%|██████████| 105/105 [00:55<00:00,  1.89it/s]\n"
     ]
    },
    {
     "name": "stdout",
     "output_type": "stream",
     "text": [
      "Training Epoch 3; Loss 0.12274491857914697; \n"
     ]
    },
    {
     "name": "stderr",
     "output_type": "stream",
     "text": [
      "100%|██████████| 23/23 [00:09<00:00,  2.51it/s]\n"
     ]
    },
    {
     "name": "stdout",
     "output_type": "stream",
     "text": [
      "curent {'auc': 0.9586951474344092, 'spauc': 0.8574271178294004, 'metric': 0.8805635658112734, 'f1_neg': 0.8726731198808637, 'f1_pos': 0.8884540117416829, 'recall': 0.8802801640739881, 'recall_neg': 0.827683615819209, 'recall_pos': 0.9328767123287671, 'precision': 0.8854521920749943, 'precision_neg': 0.9228346456692913, 'precision_pos': 0.8480697384806973, 'acc': 0.8810848400556328}\n",
      "Max {'auc': 0.9586951474344092, 'spauc': 0.8574271178294004, 'metric': 0.8805635658112734, 'f1_neg': 0.8726731198808637, 'f1_pos': 0.8884540117416829, 'recall': 0.8802801640739881, 'recall_neg': 0.827683615819209, 'recall_pos': 0.9328767123287671, 'precision': 0.8854521920749943, 'precision_neg': 0.9228346456692913, 'precision_pos': 0.8480697384806973, 'acc': 0.8810848400556328}\n"
     ]
    },
    {
     "name": "stderr",
     "output_type": "stream",
     "text": [
      "Dataloader: loading items from current dataset: 100%|██████████| 6713/6713 [00:05<00:00, 1130.43it/s]\n",
      "100%|██████████| 105/105 [00:55<00:00,  1.88it/s]\n"
     ]
    },
    {
     "name": "stdout",
     "output_type": "stream",
     "text": [
      "Training Epoch 4; Loss 0.06222418908561979; \n"
     ]
    },
    {
     "name": "stderr",
     "output_type": "stream",
     "text": [
      "100%|██████████| 23/23 [00:09<00:00,  2.49it/s]\n"
     ]
    },
    {
     "name": "stdout",
     "output_type": "stream",
     "text": [
      "curent {'auc': 0.9591691819518613, 'spauc': 0.8473659770508231, 'metric': 0.8831629346617014, 'f1_neg': 0.8841379310344828, 'f1_pos': 0.8821879382889201, 'recall': 0.8835055336274282, 'recall_neg': 0.905367231638418, 'recall_pos': 0.8616438356164383, 'precision': 0.8838085169005794, 'precision_neg': 0.8638814016172507, 'precision_pos': 0.9037356321839081, 'acc': 0.8831710709318498}\n",
      "Max {'auc': 0.9591691819518613, 'spauc': 0.8473659770508231, 'metric': 0.8831629346617014, 'f1_neg': 0.8841379310344828, 'f1_pos': 0.8821879382889201, 'recall': 0.8835055336274282, 'recall_neg': 0.905367231638418, 'recall_pos': 0.8616438356164383, 'precision': 0.8838085169005794, 'precision_neg': 0.8638814016172507, 'precision_pos': 0.9037356321839081, 'acc': 0.8831710709318498}\n"
     ]
    },
    {
     "name": "stderr",
     "output_type": "stream",
     "text": [
      "Dataloader: loading items from current dataset: 100%|██████████| 6713/6713 [00:06<00:00, 1063.84it/s]\n",
      "100%|██████████| 105/105 [00:55<00:00,  1.88it/s]\n"
     ]
    },
    {
     "name": "stdout",
     "output_type": "stream",
     "text": [
      "Training Epoch 5; Loss 0.044276645121031556; \n"
     ]
    },
    {
     "name": "stderr",
     "output_type": "stream",
     "text": [
      "100%|██████████| 23/23 [00:09<00:00,  2.49it/s]\n"
     ]
    },
    {
     "name": "stdout",
     "output_type": "stream",
     "text": [
      "curent {'auc': 0.9560715114929186, 'spauc': 0.8374331463671949, 'metric': 0.8900773315580877, 'f1_neg': 0.8877840909090909, 'f1_pos': 0.8923705722070845, 'recall': 0.8900143177772619, 'recall_neg': 0.882768361581921, 'recall_pos': 0.8972602739726028, 'precision': 0.8901955090979481, 'precision_neg': 0.8928571428571429, 'precision_pos': 0.8875338753387534, 'acc': 0.8901251738525731}\n",
      "Max {'auc': 0.9560715114929186, 'spauc': 0.8374331463671949, 'metric': 0.8900773315580877, 'f1_neg': 0.8877840909090909, 'f1_pos': 0.8923705722070845, 'recall': 0.8900143177772619, 'recall_neg': 0.882768361581921, 'recall_pos': 0.8972602739726028, 'precision': 0.8901955090979481, 'precision_neg': 0.8928571428571429, 'precision_pos': 0.8875338753387534, 'acc': 0.8901251738525731}\n"
     ]
    },
    {
     "name": "stderr",
     "output_type": "stream",
     "text": [
      "Dataloader: loading items from current dataset: 100%|██████████| 6713/6713 [00:06<00:00, 1098.94it/s]\n",
      "100%|██████████| 105/105 [00:55<00:00,  1.88it/s]\n"
     ]
    },
    {
     "name": "stdout",
     "output_type": "stream",
     "text": [
      "Training Epoch 6; Loss 0.03061120782180556; \n"
     ]
    },
    {
     "name": "stderr",
     "output_type": "stream",
     "text": [
      "100%|██████████| 23/23 [00:09<00:00,  2.50it/s]\n"
     ]
    },
    {
     "name": "stdout",
     "output_type": "stream",
     "text": [
      "curent {'auc': 0.9575110285581613, 'spauc': 0.8459525293382051, 'metric': 0.8710522068186302, 'f1_neg': 0.8772395487723955, 'f1_pos': 0.8648648648648649, 'recall': 0.8722873616593143, 'recall_neg': 0.9336158192090396, 'recall_pos': 0.810958904109589, 'precision': 0.8768658397331563, 'precision_neg': 0.8272841051314143, 'precision_pos': 0.9264475743348983, 'acc': 0.8713490959666204}\n",
      "Max {'auc': 0.9560715114929186, 'spauc': 0.8374331463671949, 'metric': 0.8900773315580877, 'f1_neg': 0.8877840909090909, 'f1_pos': 0.8923705722070845, 'recall': 0.8900143177772619, 'recall_neg': 0.882768361581921, 'recall_pos': 0.8972602739726028, 'precision': 0.8901955090979481, 'precision_neg': 0.8928571428571429, 'precision_pos': 0.8875338753387534, 'acc': 0.8901251738525731}\n"
     ]
    },
    {
     "name": "stderr",
     "output_type": "stream",
     "text": [
      "Dataloader: loading items from current dataset: 100%|██████████| 6713/6713 [00:06<00:00, 1117.69it/s]\n",
      "100%|██████████| 105/105 [00:55<00:00,  1.88it/s]\n"
     ]
    },
    {
     "name": "stdout",
     "output_type": "stream",
     "text": [
      "Training Epoch 7; Loss 0.0349647135939449; \n"
     ]
    },
    {
     "name": "stderr",
     "output_type": "stream",
     "text": [
      "100%|██████████| 23/23 [00:09<00:00,  2.49it/s]\n"
     ]
    },
    {
     "name": "stdout",
     "output_type": "stream",
     "text": [
      "curent {'auc': 0.9604113458710626, 'spauc': 0.8561379068753845, 'metric': 0.8948807509555172, 'f1_neg': 0.8914450035945363, 'f1_pos': 0.8983164983164983, 'recall': 0.8947024224131259, 'recall_neg': 0.8757062146892656, 'recall_pos': 0.9136986301369863, 'precision': 0.8956017957394821, 'precision_neg': 0.9077598828696926, 'precision_pos': 0.8834437086092716, 'acc': 0.8949930458970793}\n",
      "Max {'auc': 0.9604113458710626, 'spauc': 0.8561379068753845, 'metric': 0.8948807509555172, 'f1_neg': 0.8914450035945363, 'f1_pos': 0.8983164983164983, 'recall': 0.8947024224131259, 'recall_neg': 0.8757062146892656, 'recall_pos': 0.9136986301369863, 'precision': 0.8956017957394821, 'precision_neg': 0.9077598828696926, 'precision_pos': 0.8834437086092716, 'acc': 0.8949930458970793}\n"
     ]
    },
    {
     "name": "stderr",
     "output_type": "stream",
     "text": [
      "Dataloader: loading items from current dataset: 100%|██████████| 6713/6713 [00:05<00:00, 1131.84it/s]\n",
      "100%|██████████| 105/105 [00:55<00:00,  1.88it/s]\n"
     ]
    },
    {
     "name": "stdout",
     "output_type": "stream",
     "text": [
      "Training Epoch 8; Loss 0.012549789814234132; \n"
     ]
    },
    {
     "name": "stderr",
     "output_type": "stream",
     "text": [
      "100%|██████████| 23/23 [00:09<00:00,  2.48it/s]\n"
     ]
    },
    {
     "name": "stdout",
     "output_type": "stream",
     "text": [
      "curent {'auc': 0.9610633851869052, 'spauc': 0.8520686438641298, 'metric': 0.8976356332943509, 'f1_neg': 0.8938628158844766, 'f1_pos': 0.9014084507042254, 'recall': 0.8974208652581069, 'recall_neg': 0.8742937853107344, 'recall_pos': 0.9205479452054794, 'precision': 0.898688268759329, 'precision_neg': 0.914327917282127, 'precision_pos': 0.8830486202365309, 'acc': 0.8977746870653686}\n",
      "Max {'auc': 0.9610633851869052, 'spauc': 0.8520686438641298, 'metric': 0.8976356332943509, 'f1_neg': 0.8938628158844766, 'f1_pos': 0.9014084507042254, 'recall': 0.8974208652581069, 'recall_neg': 0.8742937853107344, 'recall_pos': 0.9205479452054794, 'precision': 0.898688268759329, 'precision_neg': 0.914327917282127, 'precision_pos': 0.8830486202365309, 'acc': 0.8977746870653686}\n"
     ]
    },
    {
     "name": "stderr",
     "output_type": "stream",
     "text": [
      "Dataloader: loading items from current dataset: 100%|██████████| 6713/6713 [00:06<00:00, 1056.61it/s]\n",
      "100%|██████████| 105/105 [00:55<00:00,  1.88it/s]\n"
     ]
    },
    {
     "name": "stdout",
     "output_type": "stream",
     "text": [
      "Training Epoch 9; Loss 0.01649835506215735; \n"
     ]
    },
    {
     "name": "stderr",
     "output_type": "stream",
     "text": [
      "100%|██████████| 23/23 [00:09<00:00,  2.50it/s]\n"
     ]
    },
    {
     "name": "stdout",
     "output_type": "stream",
     "text": [
      "curent {'auc': 0.9597912313288445, 'spauc': 0.8470411284771018, 'metric': 0.898399148277197, 'f1_neg': 0.8957142857142857, 'f1_pos': 0.9010840108401084, 'recall': 0.898276062224286, 'recall_neg': 0.885593220338983, 'recall_pos': 0.910958904109589, 'precision': 0.898745137845, 'precision_neg': 0.9060693641618497, 'precision_pos': 0.8914209115281502, 'acc': 0.8984700973574409}\n",
      "Max {'auc': 0.9597912313288445, 'spauc': 0.8470411284771018, 'metric': 0.898399148277197, 'f1_neg': 0.8957142857142857, 'f1_pos': 0.9010840108401084, 'recall': 0.898276062224286, 'recall_neg': 0.885593220338983, 'recall_pos': 0.910958904109589, 'precision': 0.898745137845, 'precision_neg': 0.9060693641618497, 'precision_pos': 0.8914209115281502, 'acc': 0.8984700973574409}\n"
     ]
    },
    {
     "name": "stderr",
     "output_type": "stream",
     "text": [
      "Dataloader: loading items from current dataset: 100%|██████████| 6713/6713 [00:05<00:00, 1137.13it/s]\n",
      "100%|██████████| 105/105 [00:55<00:00,  1.88it/s]\n"
     ]
    },
    {
     "name": "stdout",
     "output_type": "stream",
     "text": [
      "Training Epoch 10; Loss 0.02678441216038274; \n"
     ]
    },
    {
     "name": "stderr",
     "output_type": "stream",
     "text": [
      "100%|██████████| 23/23 [00:09<00:00,  2.49it/s]\n"
     ]
    },
    {
     "name": "stdout",
     "output_type": "stream",
     "text": [
      "curent {'auc': 0.9610140469003946, 'spauc': 0.8573874028000115, 'metric': 0.888588667112157, 'f1_neg': 0.8845598845598845, 'f1_pos': 0.8926174496644296, 'recall': 0.8883890565745685, 'recall_neg': 0.865819209039548, 'recall_pos': 0.910958904109589, 'precision': 0.8895648967551623, 'precision_neg': 0.9041297935103245, 'precision_pos': 0.875, 'acc': 0.8887343532684284}\n",
      "Max {'auc': 0.9597912313288445, 'spauc': 0.8470411284771018, 'metric': 0.898399148277197, 'f1_neg': 0.8957142857142857, 'f1_pos': 0.9010840108401084, 'recall': 0.898276062224286, 'recall_neg': 0.885593220338983, 'recall_pos': 0.910958904109589, 'precision': 0.898745137845, 'precision_neg': 0.9060693641618497, 'precision_pos': 0.8914209115281502, 'acc': 0.8984700973574409}\n"
     ]
    },
    {
     "name": "stderr",
     "output_type": "stream",
     "text": [
      "Dataloader: loading items from current dataset: 100%|██████████| 6713/6713 [00:05<00:00, 1125.32it/s]\n",
      "100%|██████████| 105/105 [00:55<00:00,  1.88it/s]\n"
     ]
    },
    {
     "name": "stdout",
     "output_type": "stream",
     "text": [
      "Training Epoch 11; Loss 0.010999794633659929; \n"
     ]
    },
    {
     "name": "stderr",
     "output_type": "stream",
     "text": [
      "100%|██████████| 23/23 [00:09<00:00,  2.49it/s]\n"
     ]
    },
    {
     "name": "stdout",
     "output_type": "stream",
     "text": [
      "curent {'auc': 0.9576629130872223, 'spauc': 0.8445075132688933, 'metric': 0.8906237661224646, 'f1_neg': 0.8859840232389252, 'f1_pos': 0.895263509006004, 'recall': 0.8903800015478678, 'recall_neg': 0.8615819209039548, 'recall_pos': 0.9191780821917809, 'precision': 0.8921852190933812, 'precision_neg': 0.9118086696562033, 'precision_pos': 0.8725617685305592, 'acc': 0.8908205841446454}\n",
      "Max {'auc': 0.9597912313288445, 'spauc': 0.8470411284771018, 'metric': 0.898399148277197, 'f1_neg': 0.8957142857142857, 'f1_pos': 0.9010840108401084, 'recall': 0.898276062224286, 'recall_neg': 0.885593220338983, 'recall_pos': 0.910958904109589, 'precision': 0.898745137845, 'precision_neg': 0.9060693641618497, 'precision_pos': 0.8914209115281502, 'acc': 0.8984700973574409}\n"
     ]
    },
    {
     "name": "stderr",
     "output_type": "stream",
     "text": [
      "Dataloader: loading items from current dataset: 100%|██████████| 6713/6713 [00:06<00:00, 1101.16it/s]\n",
      "100%|██████████| 105/105 [00:55<00:00,  1.88it/s]\n"
     ]
    },
    {
     "name": "stdout",
     "output_type": "stream",
     "text": [
      "Training Epoch 12; Loss 0.01002983921817282; \n"
     ]
    },
    {
     "name": "stderr",
     "output_type": "stream",
     "text": [
      "100%|██████████| 23/23 [00:09<00:00,  2.49it/s]\n"
     ]
    },
    {
     "name": "stdout",
     "output_type": "stream",
     "text": [
      "curent {'auc': 0.962195263524495, 'spauc': 0.8631420087250865, 'metric': 0.8914319896391714, 'f1_neg': 0.8884120171673819, 'f1_pos': 0.8944519621109608, 'recall': 0.8912990480612956, 'recall_neg': 0.8771186440677966, 'recall_pos': 0.9054794520547945, 'precision': 0.8918449197860963, 'precision_neg': 0.9, 'precision_pos': 0.8836898395721925, 'acc': 0.8915159944367177}\n",
      "Max {'auc': 0.9597912313288445, 'spauc': 0.8470411284771018, 'metric': 0.898399148277197, 'f1_neg': 0.8957142857142857, 'f1_pos': 0.9010840108401084, 'recall': 0.898276062224286, 'recall_neg': 0.885593220338983, 'recall_pos': 0.910958904109589, 'precision': 0.898745137845, 'precision_neg': 0.9060693641618497, 'precision_pos': 0.8914209115281502, 'acc': 0.8984700973574409}\n"
     ]
    },
    {
     "name": "stderr",
     "output_type": "stream",
     "text": [
      "Dataloader: loading items from current dataset: 100%|██████████| 6713/6713 [00:05<00:00, 1140.20it/s]\n",
      "100%|██████████| 105/105 [00:55<00:00,  1.88it/s]\n"
     ]
    },
    {
     "name": "stdout",
     "output_type": "stream",
     "text": [
      "Training Epoch 13; Loss 0.009838468853766763; \n"
     ]
    },
    {
     "name": "stderr",
     "output_type": "stream",
     "text": [
      "100%|██████████| 23/23 [00:09<00:00,  2.48it/s]\n"
     ]
    },
    {
     "name": "stdout",
     "output_type": "stream",
     "text": [
      "curent {'auc': 0.9612965327761009, 'spauc': 0.8589271239394051, 'metric': 0.8970073557878435, 'f1_neg': 0.8942857142857142, 'f1_pos': 0.8997289972899729, 'recall': 0.8968849160281712, 'recall_neg': 0.884180790960452, 'recall_pos': 0.9095890410958904, 'precision': 0.8973523532055355, 'precision_neg': 0.9046242774566474, 'precision_pos': 0.8900804289544236, 'acc': 0.8970792767732962}\n",
      "Max {'auc': 0.9597912313288445, 'spauc': 0.8470411284771018, 'metric': 0.898399148277197, 'f1_neg': 0.8957142857142857, 'f1_pos': 0.9010840108401084, 'recall': 0.898276062224286, 'recall_neg': 0.885593220338983, 'recall_pos': 0.910958904109589, 'precision': 0.898745137845, 'precision_neg': 0.9060693641618497, 'precision_pos': 0.8914209115281502, 'acc': 0.8984700973574409}\n"
     ]
    },
    {
     "name": "stderr",
     "output_type": "stream",
     "text": [
      "Dataloader: loading items from current dataset: 100%|██████████| 6713/6713 [00:05<00:00, 1130.46it/s]\n",
      "100%|██████████| 105/105 [00:55<00:00,  1.88it/s]\n"
     ]
    },
    {
     "name": "stdout",
     "output_type": "stream",
     "text": [
      "Training Epoch 14; Loss 0.006531195863776484; \n"
     ]
    },
    {
     "name": "stderr",
     "output_type": "stream",
     "text": [
      "100%|██████████| 23/23 [00:09<00:00,  2.48it/s]\n"
     ]
    },
    {
     "name": "stdout",
     "output_type": "stream",
     "text": [
      "curent {'auc': 0.95801408559709, 'spauc': 0.8430054704907148, 'metric': 0.8859507265664897, 'f1_neg': 0.8864265927977839, 'f1_pos': 0.8854748603351955, 'recall': 0.8862239764724092, 'recall_neg': 0.903954802259887, 'recall_pos': 0.8684931506849315, 'precision': 0.8863495602626037, 'precision_neg': 0.8695652173913043, 'precision_pos': 0.9031339031339032, 'acc': 0.885952712100139}\n",
      "Max {'auc': 0.9597912313288445, 'spauc': 0.8470411284771018, 'metric': 0.898399148277197, 'f1_neg': 0.8957142857142857, 'f1_pos': 0.9010840108401084, 'recall': 0.898276062224286, 'recall_neg': 0.885593220338983, 'recall_pos': 0.910958904109589, 'precision': 0.898745137845, 'precision_neg': 0.9060693641618497, 'precision_pos': 0.8914209115281502, 'acc': 0.8984700973574409}\n"
     ]
    },
    {
     "name": "stderr",
     "output_type": "stream",
     "text": [
      "Dataloader: loading items from current dataset: 100%|██████████| 1439/1439 [00:01<00:00, 1243.62it/s]\n",
      "100%|██████████| 23/23 [00:09<00:00,  2.47it/s]\n"
     ]
    },
    {
     "name": "stdout",
     "output_type": "stream",
     "text": [
      "test results: {'auc': 0.9441269988448329, 'spauc': 0.7937352566734236, 'metric': 0.8776927831865244, 'f1_neg': 0.8776077885952712, 'f1_pos': 0.8777777777777778, 'recall': 0.8777010241966952, 'recall_neg': 0.8800557880055788, 'recall_pos': 0.8753462603878116, 'precision': 0.8776981057723141, 'precision_neg': 0.8751733703190014, 'precision_pos': 0.8802228412256268, 'acc': 0.8776928422515636}\n",
      "best model path: ./param_model/roberta/parameter_roberta.pkl\n",
      "best metric: {'metric': 0.8776927831865244}\n"
     ]
    },
    {
     "ename": "FileNotFoundError",
     "evalue": "[Errno 2] No such file or directory: './logs/json/roberta0.1.json'",
     "output_type": "error",
     "traceback": [
      "\u001b[0;31m---------------------------------------------------------------------------\u001b[0m",
      "\u001b[0;31mFileNotFoundError\u001b[0m                         Traceback (most recent call last)",
      "Cell \u001b[0;32mIn[1], line 65\u001b[0m\n\u001b[1;32m     43\u001b[0m config \u001b[38;5;241m=\u001b[39m {\n\u001b[1;32m     44\u001b[0m         \u001b[38;5;124m'\u001b[39m\u001b[38;5;124muse_cuda\u001b[39m\u001b[38;5;124m'\u001b[39m: \u001b[38;5;28;01mTrue\u001b[39;00m,\n\u001b[1;32m     45\u001b[0m         \u001b[38;5;124m'\u001b[39m\u001b[38;5;124mbatchsize\u001b[39m\u001b[38;5;124m'\u001b[39m: args[\u001b[38;5;124m'\u001b[39m\u001b[38;5;124mbatchsize\u001b[39m\u001b[38;5;124m'\u001b[39m],\n\u001b[0;32m   (...)\u001b[0m\n\u001b[1;32m     61\u001b[0m         \u001b[38;5;124m'\u001b[39m\u001b[38;5;124mparam_log_dir\u001b[39m\u001b[38;5;124m'\u001b[39m: args[\u001b[38;5;124m'\u001b[39m\u001b[38;5;124mparam_log_dir\u001b[39m\u001b[38;5;124m'\u001b[39m]\n\u001b[1;32m     62\u001b[0m }\n\u001b[1;32m     64\u001b[0m \u001b[38;5;66;03m# 不需要检查 __name__ == '__main__' 在 Jupyter 中\u001b[39;00m\n\u001b[0;32m---> 65\u001b[0m \u001b[43mRun\u001b[49m\u001b[43m(\u001b[49m\u001b[43mconfig\u001b[49m\u001b[38;5;241;43m=\u001b[39;49m\u001b[43mconfig\u001b[49m\u001b[43m)\u001b[49m\u001b[38;5;241;43m.\u001b[39;49m\u001b[43mmain\u001b[49m\u001b[43m(\u001b[49m\u001b[43m)\u001b[49m\n",
      "File \u001b[0;32m/mySeoSent/mySeoSent_ch/mySeoSent_ch/grid_search.py:99\u001b[0m, in \u001b[0;36mRun.main\u001b[0;34m(self)\u001b[0m\n\u001b[1;32m     97\u001b[0m     logger\u001b[38;5;241m.\u001b[39minfo(\u001b[38;5;124m\"\u001b[39m\u001b[38;5;124mbest metric:\u001b[39m\u001b[38;5;124m\"\u001b[39m \u001b[38;5;241m+\u001b[39m \u001b[38;5;28mstr\u001b[39m(best_metric))\n\u001b[1;32m     98\u001b[0m     logger\u001b[38;5;241m.\u001b[39minfo(\u001b[38;5;124m'\u001b[39m\u001b[38;5;124m--------------------------------------\u001b[39m\u001b[38;5;130;01m\\n\u001b[39;00m\u001b[38;5;124m'\u001b[39m)\n\u001b[0;32m---> 99\u001b[0m \u001b[38;5;28;01mwith\u001b[39;00m \u001b[38;5;28;43mopen\u001b[39;49m\u001b[43m(\u001b[49m\u001b[43mjson_path\u001b[49m\u001b[43m,\u001b[49m\u001b[43m \u001b[49m\u001b[38;5;124;43m'\u001b[39;49m\u001b[38;5;124;43mw\u001b[39;49m\u001b[38;5;124;43m'\u001b[39;49m\u001b[43m)\u001b[49m \u001b[38;5;28;01mas\u001b[39;00m file:\n\u001b[1;32m    100\u001b[0m     json\u001b[38;5;241m.\u001b[39mdump(json_result, file, indent\u001b[38;5;241m=\u001b[39m\u001b[38;5;241m4\u001b[39m, ensure_ascii\u001b[38;5;241m=\u001b[39m\u001b[38;5;28;01mFalse\u001b[39;00m)\n",
      "\u001b[0;31mFileNotFoundError\u001b[0m: [Errno 2] No such file or directory: './logs/json/roberta0.1.json'"
     ]
    }
   ],
   "source": [
    "import os\n",
    "import torch\n",
    "import numpy as np\n",
    "import random\n",
    "from grid_search import Run\n",
    "\n",
    "import warnings\n",
    "\n",
    "# 忽略特定的警告\n",
    "warnings.filterwarnings(\"ignore\", category=FutureWarning)\n",
    "\n",
    "# 直接设置参数\n",
    "args = {\n",
    "    'model_name': 'roberta',\n",
    "    'epoch': 20,\n",
    "    'aug_prob': 0.1,\n",
    "    'max_len': 384,\n",
    "    'early_stop': 5,\n",
    "    'root_path': './data/',\n",
    "    'batchsize':64,\n",
    "    'seed': 2024,\n",
    "    'gpu': '1',\n",
    "    'emb_dim': 768,\n",
    "    'lr': 0.0001,\n",
    "    'emb_type': 'bert',\n",
    "    'save_log_dir': './logs',\n",
    "    'save_param_dir': './param_model',\n",
    "    'param_log_dir': './logs/param'\n",
    "}\n",
    "\n",
    "os.environ[\"CUDA_VISIBLE_DEVICES\"] = args['gpu']\n",
    "\n",
    "seed = args['seed']\n",
    "random.seed(seed)\n",
    "np.random.seed(seed)\n",
    "torch.manual_seed(seed)\n",
    "torch.cuda.manual_seed(seed)\n",
    "torch.backends.cudnn.benchmark = False\n",
    "torch.backends.cudnn.deterministic = True\n",
    "\n",
    "print('lr: {}; model name: {}; batchsize: {}; epoch: {}; gpu: {}'.format(args['lr'], args['model_name'], args['batchsize'], args['epoch'], args['gpu']))\n",
    "\n",
    "config = {\n",
    "        'use_cuda': True,\n",
    "        'batchsize': args['batchsize'],\n",
    "        'max_len': args['max_len'],\n",
    "        'early_stop': args['early_stop'],\n",
    "        'root_path': args['root_path'],\n",
    "        'aug_prob': args['aug_prob'],\n",
    "        'weight_decay': 5e-5,\n",
    "        'model': {\n",
    "            'mlp': {'dims': [384], 'dropout': 0.2}\n",
    "        },\n",
    "        'emb_dim': args['emb_dim'],\n",
    "        'lr': args['lr'],\n",
    "        'epoch': args['epoch'],\n",
    "        'model_name': args['model_name'],\n",
    "        'seed': args['seed'],\n",
    "        'save_log_dir': args['save_log_dir'],\n",
    "        'save_param_dir': args['save_param_dir'],\n",
    "        'param_log_dir': args['param_log_dir']\n",
    "}\n",
    "\n",
    "# 不需要检查 __name__ == '__main__' 在 Jupyter 中\n",
    "Run(config=config).main()"
   ]
  },
  {
   "cell_type": "code",
   "execution_count": null,
   "id": "4088947d-bcb4-4b74-9226-ba8587d6a2e0",
   "metadata": {},
   "outputs": [],
   "source": []
  }
 ],
 "metadata": {
  "kernelspec": {
   "display_name": "Python 3 (ipykernel)",
   "language": "python",
   "name": "python3"
  },
  "language_info": {
   "codemirror_mode": {
    "name": "ipython",
    "version": 3
   },
   "file_extension": ".py",
   "mimetype": "text/x-python",
   "name": "python",
   "nbconvert_exporter": "python",
   "pygments_lexer": "ipython3",
   "version": "3.11.8"
  }
 },
 "nbformat": 4,
 "nbformat_minor": 5
}
