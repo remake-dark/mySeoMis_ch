{
 "cells": [
  {
   "cell_type": "code",
   "execution_count": 1,
   "id": "1d746d6c-c432-4c1b-9367-e47695c21aa7",
   "metadata": {},
   "outputs": [
    {
     "name": "stderr",
     "output_type": "stream",
     "text": [
      "/usr/local/lib/python3.11/dist-packages/tqdm/auto.py:21: TqdmWarning: IProgress not found. Please update jupyter and ipywidgets. See https://ipywidgets.readthedocs.io/en/stable/user_install.html\n",
      "  from .autonotebook import tqdm as notebook_tqdm\n"
     ]
    },
    {
     "name": "stdout",
     "output_type": "stream",
     "text": [
      "lr: 0.0001; model name: mdfend_seomis; batchsize: 64; epoch: 13; gpu: 0\n",
      "{'lr': [0.0001]}\n",
      "lr: 0.0001\n"
     ]
    },
    {
     "name": "stderr",
     "output_type": "stream",
     "text": [
      "Dataloader: loading items from current dataset: 100%|██████████| 1438/1438 [00:01<00:00, 1240.36it/s]\n",
      "Dataloader: loading items from current dataset:   0%|          | 0/6713 [00:00<?, ?it/s]Building prefix dict from the default dictionary ...\n",
      "Loading model from cache /tmp/jieba.cache\n",
      "Loading model cost 0.764 seconds.\n",
      "Prefix dict has been built successfully.\n",
      "Dataloader: loading items from current dataset: 100%|██████████| 6713/6713 [00:09<00:00, 745.59it/s]\n",
      "100%|██████████| 105/105 [01:13<00:00,  1.43it/s]\n"
     ]
    },
    {
     "name": "stdout",
     "output_type": "stream",
     "text": [
      "Training Epoch 1; Loss 0.6941003816468375; \n"
     ]
    },
    {
     "name": "stderr",
     "output_type": "stream",
     "text": [
      "100%|██████████| 23/23 [00:12<00:00,  1.87it/s]\n"
     ]
    },
    {
     "name": "stdout",
     "output_type": "stream",
     "text": [
      "curent {'auc': 0.8725601733611948, 'spauc': 0.6856361940374502, 'metric': 0.7680049918515073, 'f1_neg': 0.7307373653686827, 'f1_pos': 0.805272618334332, 'recall': 0.7717146505688415, 'recall_neg': 0.6228813559322034, 'recall_pos': 0.9205479452054794, 'precision': 0.7997112435734088, 'precision_neg': 0.8837675350701403, 'precision_pos': 0.7156549520766773, 'acc': 0.7739916550764951}\n",
      "Max {'auc': 0.8725601733611948, 'spauc': 0.6856361940374502, 'metric': 0.7680049918515073, 'f1_neg': 0.7307373653686827, 'f1_pos': 0.805272618334332, 'recall': 0.7717146505688415, 'recall_neg': 0.6228813559322034, 'recall_pos': 0.9205479452054794, 'precision': 0.7997112435734088, 'precision_neg': 0.8837675350701403, 'precision_pos': 0.7156549520766773, 'acc': 0.7739916550764951}\n"
     ]
    },
    {
     "name": "stderr",
     "output_type": "stream",
     "text": [
      "Dataloader: loading items from current dataset: 100%|██████████| 6713/6713 [00:08<00:00, 823.77it/s]\n",
      "100%|██████████| 105/105 [01:11<00:00,  1.47it/s]\n"
     ]
    },
    {
     "name": "stdout",
     "output_type": "stream",
     "text": [
      "Training Epoch 2; Loss 0.4978967709200723; \n"
     ]
    },
    {
     "name": "stderr",
     "output_type": "stream",
     "text": [
      "100%|██████████| 23/23 [00:12<00:00,  1.87it/s]\n"
     ]
    },
    {
     "name": "stdout",
     "output_type": "stream",
     "text": [
      "curent {'auc': 0.9254179243092641, 'spauc': 0.7622637974085434, 'metric': 0.8479470270960361, 'f1_neg': 0.8347296268088348, 'f1_pos': 0.8611644273832374, 'recall': 0.8479645538271032, 'recall_neg': 0.7740112994350282, 'recall_pos': 0.9219178082191781, 'precision': 0.8568541466173246, 'precision_neg': 0.9057851239669421, 'precision_pos': 0.8079231692677071, 'acc': 0.849095966620306}\n",
      "Max {'auc': 0.9254179243092641, 'spauc': 0.7622637974085434, 'metric': 0.8479470270960361, 'f1_neg': 0.8347296268088348, 'f1_pos': 0.8611644273832374, 'recall': 0.8479645538271032, 'recall_neg': 0.7740112994350282, 'recall_pos': 0.9219178082191781, 'precision': 0.8568541466173246, 'precision_neg': 0.9057851239669421, 'precision_pos': 0.8079231692677071, 'acc': 0.849095966620306}\n"
     ]
    },
    {
     "name": "stderr",
     "output_type": "stream",
     "text": [
      "Dataloader: loading items from current dataset: 100%|██████████| 6713/6713 [00:08<00:00, 825.51it/s]\n",
      "100%|██████████| 105/105 [01:11<00:00,  1.47it/s]\n"
     ]
    },
    {
     "name": "stdout",
     "output_type": "stream",
     "text": [
      "Training Epoch 3; Loss 0.40410488219488233; \n"
     ]
    },
    {
     "name": "stderr",
     "output_type": "stream",
     "text": [
      "100%|██████████| 23/23 [00:12<00:00,  1.87it/s]\n"
     ]
    },
    {
     "name": "stdout",
     "output_type": "stream",
     "text": [
      "curent {'auc': 0.9344284498103861, 'spauc': 0.7807241577358768, 'metric': 0.8557743242190543, 'f1_neg': 0.843939393939394, 'f1_pos': 0.8676092544987146, 'recall': 0.8556903490441916, 'recall_neg': 0.786723163841808, 'recall_pos': 0.9246575342465754, 'precision': 0.8636610011236132, 'precision_neg': 0.9101307189542484, 'precision_pos': 0.8171912832929782, 'acc': 0.8567454798331016}\n",
      "Max {'auc': 0.9344284498103861, 'spauc': 0.7807241577358768, 'metric': 0.8557743242190543, 'f1_neg': 0.843939393939394, 'f1_pos': 0.8676092544987146, 'recall': 0.8556903490441916, 'recall_neg': 0.786723163841808, 'recall_pos': 0.9246575342465754, 'precision': 0.8636610011236132, 'precision_neg': 0.9101307189542484, 'precision_pos': 0.8171912832929782, 'acc': 0.8567454798331016}\n"
     ]
    },
    {
     "name": "stderr",
     "output_type": "stream",
     "text": [
      "Dataloader: loading items from current dataset: 100%|██████████| 6713/6713 [00:08<00:00, 811.97it/s]\n",
      "100%|██████████| 105/105 [01:11<00:00,  1.46it/s]\n"
     ]
    },
    {
     "name": "stdout",
     "output_type": "stream",
     "text": [
      "Training Epoch 4; Loss 0.3256780806041899; \n"
     ]
    },
    {
     "name": "stderr",
     "output_type": "stream",
     "text": [
      "100%|██████████| 23/23 [00:12<00:00,  1.86it/s]\n"
     ]
    },
    {
     "name": "stdout",
     "output_type": "stream",
     "text": [
      "curent {'auc': 0.9407921213528365, 'spauc': 0.7929910101466808, 'metric': 0.8720577746510509, 'f1_neg': 0.8627156789197299, 'f1_pos': 0.881399870382372, 'recall': 0.8718268709852178, 'recall_neg': 0.8121468926553672, 'recall_pos': 0.9315068493150684, 'precision': 0.8782041820418205, 'precision_neg': 0.92, 'precision_pos': 0.8364083640836408, 'acc': 0.872739916550765}\n",
      "Max {'auc': 0.9407921213528365, 'spauc': 0.7929910101466808, 'metric': 0.8720577746510509, 'f1_neg': 0.8627156789197299, 'f1_pos': 0.881399870382372, 'recall': 0.8718268709852178, 'recall_neg': 0.8121468926553672, 'recall_pos': 0.9315068493150684, 'precision': 0.8782041820418205, 'precision_neg': 0.92, 'precision_pos': 0.8364083640836408, 'acc': 0.872739916550765}\n"
     ]
    },
    {
     "name": "stderr",
     "output_type": "stream",
     "text": [
      "Dataloader: loading items from current dataset: 100%|██████████| 6713/6713 [00:08<00:00, 825.27it/s]\n",
      "100%|██████████| 105/105 [01:11<00:00,  1.47it/s]\n"
     ]
    },
    {
     "name": "stdout",
     "output_type": "stream",
     "text": [
      "Training Epoch 5; Loss 0.2606149571282523; \n"
     ]
    },
    {
     "name": "stderr",
     "output_type": "stream",
     "text": [
      "100%|██████████| 23/23 [00:12<00:00,  1.86it/s]\n"
     ]
    },
    {
     "name": "stdout",
     "output_type": "stream",
     "text": [
      "curent {'auc': 0.943084900549493, 'spauc': 0.793512397199174, 'metric': 0.8850638187179289, 'f1_neg': 0.8803480783176215, 'f1_pos': 0.8897795591182365, 'recall': 0.8848366999458246, 'recall_neg': 0.8573446327683616, 'recall_pos': 0.9123287671232877, 'precision': 0.8864690463745757, 'precision_neg': 0.9046199701937406, 'precision_pos': 0.8683181225554107, 'acc': 0.8852573018080667}\n",
      "Max {'auc': 0.943084900549493, 'spauc': 0.793512397199174, 'metric': 0.8850638187179289, 'f1_neg': 0.8803480783176215, 'f1_pos': 0.8897795591182365, 'recall': 0.8848366999458246, 'recall_neg': 0.8573446327683616, 'recall_pos': 0.9123287671232877, 'precision': 0.8864690463745757, 'precision_neg': 0.9046199701937406, 'precision_pos': 0.8683181225554107, 'acc': 0.8852573018080667}\n"
     ]
    },
    {
     "name": "stderr",
     "output_type": "stream",
     "text": [
      "Dataloader: loading items from current dataset: 100%|██████████| 6713/6713 [00:08<00:00, 808.01it/s]\n",
      "100%|██████████| 105/105 [01:11<00:00,  1.47it/s]\n"
     ]
    },
    {
     "name": "stdout",
     "output_type": "stream",
     "text": [
      "Training Epoch 6; Loss 0.21865166652770268; \n"
     ]
    },
    {
     "name": "stderr",
     "output_type": "stream",
     "text": [
      "100%|██████████| 23/23 [00:12<00:00,  1.87it/s]\n"
     ]
    },
    {
     "name": "stdout",
     "output_type": "stream",
     "text": [
      "curent {'auc': 0.9458052782292392, 'spauc': 0.8051152957853189, 'metric': 0.8886921521387865, 'f1_neg': 0.8865248226950354, 'f1_pos': 0.8908594815825375, 'recall': 0.8886444547635632, 'recall_neg': 0.882768361581921, 'recall_pos': 0.8945205479452055, 'precision': 0.8887708255914777, 'precision_neg': 0.8903133903133903, 'precision_pos': 0.8872282608695652, 'acc': 0.8887343532684284}\n",
      "Max {'auc': 0.9458052782292392, 'spauc': 0.8051152957853189, 'metric': 0.8886921521387865, 'f1_neg': 0.8865248226950354, 'f1_pos': 0.8908594815825375, 'recall': 0.8886444547635632, 'recall_neg': 0.882768361581921, 'recall_pos': 0.8945205479452055, 'precision': 0.8887708255914777, 'precision_neg': 0.8903133903133903, 'precision_pos': 0.8872282608695652, 'acc': 0.8887343532684284}\n"
     ]
    },
    {
     "name": "stderr",
     "output_type": "stream",
     "text": [
      "Dataloader: loading items from current dataset: 100%|██████████| 6713/6713 [00:08<00:00, 823.03it/s]\n",
      "100%|██████████| 105/105 [01:11<00:00,  1.47it/s]\n"
     ]
    },
    {
     "name": "stdout",
     "output_type": "stream",
     "text": [
      "Training Epoch 7; Loss 0.2051451332512356; \n"
     ]
    },
    {
     "name": "stderr",
     "output_type": "stream",
     "text": [
      "100%|██████████| 23/23 [00:12<00:00,  1.87it/s]\n"
     ]
    },
    {
     "name": "stdout",
     "output_type": "stream",
     "text": [
      "curent {'auc': 0.9481638418079096, 'spauc': 0.8147181862247911, 'metric': 0.8877000081975046, 'f1_neg': 0.8815305371596762, 'f1_pos': 0.8938694792353329, 'recall': 0.8874061605138921, 'recall_neg': 0.846045197740113, 'recall_pos': 0.9287671232876712, 'precision': 0.890811126270404, 'precision_neg': 0.9201228878648233, 'precision_pos': 0.8614993646759848, 'acc': 0.8880389429763561}\n",
      "Max {'auc': 0.9458052782292392, 'spauc': 0.8051152957853189, 'metric': 0.8886921521387865, 'f1_neg': 0.8865248226950354, 'f1_pos': 0.8908594815825375, 'recall': 0.8886444547635632, 'recall_neg': 0.882768361581921, 'recall_pos': 0.8945205479452055, 'precision': 0.8887708255914777, 'precision_neg': 0.8903133903133903, 'precision_pos': 0.8872282608695652, 'acc': 0.8887343532684284}\n"
     ]
    },
    {
     "name": "stderr",
     "output_type": "stream",
     "text": [
      "Dataloader: loading items from current dataset: 100%|██████████| 6713/6713 [00:08<00:00, 797.61it/s]\n",
      "100%|██████████| 105/105 [01:11<00:00,  1.47it/s]\n"
     ]
    },
    {
     "name": "stdout",
     "output_type": "stream",
     "text": [
      "Training Epoch 8; Loss 0.19084669479301997; \n"
     ]
    },
    {
     "name": "stderr",
     "output_type": "stream",
     "text": [
      "100%|██████████| 23/23 [00:12<00:00,  1.86it/s]\n"
     ]
    },
    {
     "name": "stdout",
     "output_type": "stream",
     "text": [
      "curent {'auc': 0.9495801408559709, 'spauc': 0.8219666882553494, 'metric': 0.8848160829312552, 'f1_neg': 0.8776871756856931, 'f1_pos': 0.8919449901768173, 'recall': 0.8845174522095813, 'recall_neg': 0.8361581920903954, 'recall_pos': 0.9328767123287671, 'precision': 0.8890055727699623, 'precision_neg': 0.9235569422776911, 'precision_pos': 0.8544542032622334, 'acc': 0.8852573018080667}\n",
      "Max {'auc': 0.9458052782292392, 'spauc': 0.8051152957853189, 'metric': 0.8886921521387865, 'f1_neg': 0.8865248226950354, 'f1_pos': 0.8908594815825375, 'recall': 0.8886444547635632, 'recall_neg': 0.882768361581921, 'recall_pos': 0.8945205479452055, 'precision': 0.8887708255914777, 'precision_neg': 0.8903133903133903, 'precision_pos': 0.8872282608695652, 'acc': 0.8887343532684284}\n"
     ]
    },
    {
     "name": "stderr",
     "output_type": "stream",
     "text": [
      "Dataloader: loading items from current dataset: 100%|██████████| 6713/6713 [00:08<00:00, 811.30it/s]\n",
      "100%|██████████| 105/105 [01:11<00:00,  1.47it/s]\n"
     ]
    },
    {
     "name": "stdout",
     "output_type": "stream",
     "text": [
      "Training Epoch 9; Loss 0.18884002239931197; \n"
     ]
    },
    {
     "name": "stderr",
     "output_type": "stream",
     "text": [
      "100%|██████████| 23/23 [00:12<00:00,  1.87it/s]\n"
     ]
    },
    {
     "name": "stdout",
     "output_type": "stream",
     "text": [
      "curent {'auc': 0.9493498955189228, 'spauc': 0.8174860182729868, 'metric': 0.8898334341882729, 'f1_neg': 0.8841642228739003, 'f1_pos': 0.8955026455026455, 'recall': 0.8895460877641049, 'recall_neg': 0.8516949152542372, 'recall_pos': 0.9273972602739726, 'precision': 0.8924681086644626, 'precision_neg': 0.9192073170731707, 'precision_pos': 0.8657289002557544, 'acc': 0.8901251738525731}\n",
      "Max {'auc': 0.9493498955189228, 'spauc': 0.8174860182729868, 'metric': 0.8898334341882729, 'f1_neg': 0.8841642228739003, 'f1_pos': 0.8955026455026455, 'recall': 0.8895460877641049, 'recall_neg': 0.8516949152542372, 'recall_pos': 0.9273972602739726, 'precision': 0.8924681086644626, 'precision_neg': 0.9192073170731707, 'precision_pos': 0.8657289002557544, 'acc': 0.8901251738525731}\n"
     ]
    },
    {
     "name": "stderr",
     "output_type": "stream",
     "text": [
      "Dataloader: loading items from current dataset: 100%|██████████| 6713/6713 [00:08<00:00, 825.99it/s]\n",
      "100%|██████████| 105/105 [01:11<00:00,  1.47it/s]\n"
     ]
    },
    {
     "name": "stdout",
     "output_type": "stream",
     "text": [
      "Training Epoch 10; Loss 0.19290913939476012; \n"
     ]
    },
    {
     "name": "stderr",
     "output_type": "stream",
     "text": [
      "100%|██████████| 23/23 [00:12<00:00,  1.87it/s]\n"
     ]
    },
    {
     "name": "stdout",
     "output_type": "stream",
     "text": [
      "curent {'auc': 0.944267084590976, 'spauc': 0.8016651798988998, 'metric': 0.8812510079528696, 'f1_neg': 0.8733233979135618, 'f1_pos': 0.8891786179921773, 'recall': 0.8809650955808375, 'recall_neg': 0.827683615819209, 'recall_pos': 0.9342465753424658, 'precision': 0.8862744636439255, 'precision_neg': 0.9242902208201893, 'precision_pos': 0.8482587064676617, 'acc': 0.8817802503477051}\n",
      "Max {'auc': 0.9493498955189228, 'spauc': 0.8174860182729868, 'metric': 0.8898334341882729, 'f1_neg': 0.8841642228739003, 'f1_pos': 0.8955026455026455, 'recall': 0.8895460877641049, 'recall_neg': 0.8516949152542372, 'recall_pos': 0.9273972602739726, 'precision': 0.8924681086644626, 'precision_neg': 0.9192073170731707, 'precision_pos': 0.8657289002557544, 'acc': 0.8901251738525731}\n"
     ]
    },
    {
     "name": "stderr",
     "output_type": "stream",
     "text": [
      "Dataloader: loading items from current dataset: 100%|██████████| 6713/6713 [00:08<00:00, 829.22it/s]\n",
      "100%|██████████| 105/105 [01:11<00:00,  1.47it/s]\n"
     ]
    },
    {
     "name": "stdout",
     "output_type": "stream",
     "text": [
      "Training Epoch 11; Loss 0.17762707287356966; \n"
     ]
    },
    {
     "name": "stderr",
     "output_type": "stream",
     "text": [
      "100%|██████████| 23/23 [00:12<00:00,  1.86it/s]\n"
     ]
    },
    {
     "name": "stdout",
     "output_type": "stream",
     "text": [
      "curent {'auc': 0.9474111910842813, 'spauc': 0.8115083971828805, 'metric': 0.8855622218297079, 'f1_neg': 0.8788774002954209, 'f1_pos': 0.8922470433639947, 'recall': 0.8852662332636794, 'recall_neg': 0.8403954802259888, 'recall_pos': 0.9301369863013699, 'precision': 0.8891879319510898, 'precision_neg': 0.9210526315789473, 'precision_pos': 0.8573232323232324, 'acc': 0.885952712100139}\n",
      "Max {'auc': 0.9493498955189228, 'spauc': 0.8174860182729868, 'metric': 0.8898334341882729, 'f1_neg': 0.8841642228739003, 'f1_pos': 0.8955026455026455, 'recall': 0.8895460877641049, 'recall_neg': 0.8516949152542372, 'recall_pos': 0.9273972602739726, 'precision': 0.8924681086644626, 'precision_neg': 0.9192073170731707, 'precision_pos': 0.8657289002557544, 'acc': 0.8901251738525731}\n"
     ]
    },
    {
     "name": "stderr",
     "output_type": "stream",
     "text": [
      "Dataloader: loading items from current dataset: 100%|██████████| 6713/6713 [00:08<00:00, 789.81it/s]\n",
      "100%|██████████| 105/105 [01:11<00:00,  1.47it/s]\n"
     ]
    },
    {
     "name": "stdout",
     "output_type": "stream",
     "text": [
      "Training Epoch 12; Loss 0.17327055590493337; \n"
     ]
    },
    {
     "name": "stderr",
     "output_type": "stream",
     "text": [
      "100%|██████████| 23/23 [00:12<00:00,  1.87it/s]\n"
     ]
    },
    {
     "name": "stdout",
     "output_type": "stream",
     "text": [
      "curent {'auc': 0.9467804349508551, 'spauc': 0.8155756235259614, 'metric': 0.8783122100205235, 'f1_neg': 0.869172932330827, 'f1_pos': 0.88745148771022, 'recall': 0.8780551040941104, 'recall_neg': 0.8163841807909604, 'recall_pos': 0.9397260273972603, 'precision': 0.8849733623352878, 'precision_neg': 0.9292604501607717, 'precision_pos': 0.8406862745098039, 'acc': 0.8789986091794159}\n",
      "Max {'auc': 0.9493498955189228, 'spauc': 0.8174860182729868, 'metric': 0.8898334341882729, 'f1_neg': 0.8841642228739003, 'f1_pos': 0.8955026455026455, 'recall': 0.8895460877641049, 'recall_neg': 0.8516949152542372, 'recall_pos': 0.9273972602739726, 'precision': 0.8924681086644626, 'precision_neg': 0.9192073170731707, 'precision_pos': 0.8657289002557544, 'acc': 0.8901251738525731}\n"
     ]
    },
    {
     "name": "stderr",
     "output_type": "stream",
     "text": [
      "Dataloader: loading items from current dataset: 100%|██████████| 6713/6713 [00:08<00:00, 821.13it/s]\n",
      "100%|██████████| 105/105 [01:11<00:00,  1.47it/s]\n"
     ]
    },
    {
     "name": "stdout",
     "output_type": "stream",
     "text": [
      "Training Epoch 13; Loss 0.17383420424801962; \n"
     ]
    },
    {
     "name": "stderr",
     "output_type": "stream",
     "text": [
      "100%|██████████| 23/23 [00:12<00:00,  1.86it/s]\n"
     ]
    },
    {
     "name": "stdout",
     "output_type": "stream",
     "text": [
      "curent {'auc': 0.9478291153935454, 'spauc': 0.8103393496511188, 'metric': 0.881774533017627, 'f1_neg': 0.8809523809523809, 'f1_pos': 0.8825966850828729, 'recall': 0.881880272424735, 'recall_neg': 0.8884180790960452, 'recall_pos': 0.8753424657534247, 'precision': 0.8817916279789539, 'precision_neg': 0.8736111111111111, 'precision_pos': 0.8899721448467967, 'acc': 0.8817802503477051}\n",
      "Max {'auc': 0.9493498955189228, 'spauc': 0.8174860182729868, 'metric': 0.8898334341882729, 'f1_neg': 0.8841642228739003, 'f1_pos': 0.8955026455026455, 'recall': 0.8895460877641049, 'recall_neg': 0.8516949152542372, 'recall_pos': 0.9273972602739726, 'precision': 0.8924681086644626, 'precision_neg': 0.9192073170731707, 'precision_pos': 0.8657289002557544, 'acc': 0.8901251738525731}\n"
     ]
    },
    {
     "name": "stderr",
     "output_type": "stream",
     "text": [
      "Dataloader: loading items from current dataset: 100%|██████████| 1439/1439 [00:01<00:00, 1274.27it/s]\n",
      "100%|██████████| 23/23 [00:12<00:00,  1.83it/s]\n"
     ]
    },
    {
     "name": "stdout",
     "output_type": "stream",
     "text": [
      "future results: {'auc': 0.947322059829159, 'spauc': 0.8116148285153245, 'metric': 0.8742094594888286, 'f1_neg': 0.8752584424534804, 'f1_pos': 0.8731604765241766, 'recall': 0.8742577374950258, 'recall_neg': 0.8856345885634589, 'recall_pos': 0.8628808864265928, 'precision': 0.874405279533113, 'precision_neg': 0.8651226158038147, 'precision_pos': 0.8836879432624114, 'acc': 0.8742182070882557}\n",
      "best model path: ./param_model/mdfend_seomis/parameter_mdfendseomis.pkl\n",
      "best metric: {'metric': 0.8742094594888286}\n"
     ]
    },
    {
     "ename": "FileNotFoundError",
     "evalue": "[Errno 2] No such file or directory: './logs/json/mdfend_seomis0.1.json'",
     "output_type": "error",
     "traceback": [
      "\u001b[0;31m---------------------------------------------------------------------------\u001b[0m",
      "\u001b[0;31mFileNotFoundError\u001b[0m                         Traceback (most recent call last)",
      "Cell \u001b[0;32mIn[1], line 64\u001b[0m\n\u001b[1;32m     42\u001b[0m config \u001b[38;5;241m=\u001b[39m {\n\u001b[1;32m     43\u001b[0m         \u001b[38;5;124m'\u001b[39m\u001b[38;5;124muse_cuda\u001b[39m\u001b[38;5;124m'\u001b[39m: \u001b[38;5;28;01mTrue\u001b[39;00m,\n\u001b[1;32m     44\u001b[0m         \u001b[38;5;124m'\u001b[39m\u001b[38;5;124mbatchsize\u001b[39m\u001b[38;5;124m'\u001b[39m: args[\u001b[38;5;124m'\u001b[39m\u001b[38;5;124mbatchsize\u001b[39m\u001b[38;5;124m'\u001b[39m],\n\u001b[0;32m   (...)\u001b[0m\n\u001b[1;32m     60\u001b[0m         \u001b[38;5;124m'\u001b[39m\u001b[38;5;124mparam_log_dir\u001b[39m\u001b[38;5;124m'\u001b[39m: args[\u001b[38;5;124m'\u001b[39m\u001b[38;5;124mparam_log_dir\u001b[39m\u001b[38;5;124m'\u001b[39m]\n\u001b[1;32m     61\u001b[0m }\n\u001b[1;32m     63\u001b[0m \u001b[38;5;66;03m# 不需要检查 __name__ == '__main__' 在 Jupyter 中\u001b[39;00m\n\u001b[0;32m---> 64\u001b[0m \u001b[43mRun\u001b[49m\u001b[43m(\u001b[49m\u001b[43mconfig\u001b[49m\u001b[38;5;241;43m=\u001b[39;49m\u001b[43mconfig\u001b[49m\u001b[43m)\u001b[49m\u001b[38;5;241;43m.\u001b[39;49m\u001b[43mmain\u001b[49m\u001b[43m(\u001b[49m\u001b[43m)\u001b[49m\n",
      "File \u001b[0;32m/mySeoSent/mySeoSent_ch/mySeoSent_ch/grid_search.py:106\u001b[0m, in \u001b[0;36mRun.main\u001b[0;34m(self)\u001b[0m\n\u001b[1;32m    104\u001b[0m     logger\u001b[38;5;241m.\u001b[39minfo(\u001b[38;5;124m\"\u001b[39m\u001b[38;5;124mbest metric:\u001b[39m\u001b[38;5;124m\"\u001b[39m \u001b[38;5;241m+\u001b[39m \u001b[38;5;28mstr\u001b[39m(best_metric))\n\u001b[1;32m    105\u001b[0m     logger\u001b[38;5;241m.\u001b[39minfo(\u001b[38;5;124m'\u001b[39m\u001b[38;5;124m--------------------------------------\u001b[39m\u001b[38;5;130;01m\\n\u001b[39;00m\u001b[38;5;124m'\u001b[39m)\n\u001b[0;32m--> 106\u001b[0m \u001b[38;5;28;01mwith\u001b[39;00m \u001b[38;5;28;43mopen\u001b[39;49m\u001b[43m(\u001b[49m\u001b[43mjson_path\u001b[49m\u001b[43m,\u001b[49m\u001b[43m \u001b[49m\u001b[38;5;124;43m'\u001b[39;49m\u001b[38;5;124;43mw\u001b[39;49m\u001b[38;5;124;43m'\u001b[39;49m\u001b[43m)\u001b[49m \u001b[38;5;28;01mas\u001b[39;00m file:\n\u001b[1;32m    107\u001b[0m     json\u001b[38;5;241m.\u001b[39mdump(json_result, file, indent\u001b[38;5;241m=\u001b[39m\u001b[38;5;241m4\u001b[39m, ensure_ascii\u001b[38;5;241m=\u001b[39m\u001b[38;5;28;01mFalse\u001b[39;00m)\n",
      "\u001b[0;31mFileNotFoundError\u001b[0m: [Errno 2] No such file or directory: './logs/json/mdfend_seomis0.1.json'"
     ]
    }
   ],
   "source": [
    "import os\n",
    "import torch\n",
    "import numpy as np\n",
    "import random\n",
    "from grid_search import Run\n",
    "import warnings\n",
    "\n",
    "# 忽略特定的警告\n",
    "warnings.filterwarnings(\"ignore\", category=FutureWarning)\n",
    "\n",
    "# 直接设置参数\n",
    "args = {\n",
    "    'model_name': 'mdfend_seomis',\n",
    "    'epoch': 13,\n",
    "    'aug_prob': 0.1,\n",
    "    'max_len': 384,\n",
    "    'early_stop': 5,\n",
    "    'root_path': './data/',\n",
    "    'batchsize':64,\n",
    "    'seed': 2023,\n",
    "    'gpu': '0',\n",
    "    'emb_dim': 768,\n",
    "    'lr': 0.0001,\n",
    "    'emb_type': 'bert',\n",
    "    'save_log_dir': './logs',\n",
    "    'save_param_dir': './param_model',\n",
    "    'param_log_dir': './logs/param'\n",
    "}\n",
    "\n",
    "os.environ[\"CUDA_VISIBLE_DEVICES\"] = args['gpu']\n",
    "\n",
    "seed = args['seed']\n",
    "random.seed(seed)\n",
    "np.random.seed(seed)\n",
    "torch.manual_seed(seed)\n",
    "torch.cuda.manual_seed(seed)\n",
    "torch.backends.cudnn.benchmark = False\n",
    "torch.backends.cudnn.deterministic = True\n",
    "\n",
    "print('lr: {}; model name: {}; batchsize: {}; epoch: {}; gpu: {}'.format(args['lr'], args['model_name'], args['batchsize'], args['epoch'], args['gpu']))\n",
    "\n",
    "config = {\n",
    "        'use_cuda': True,\n",
    "        'batchsize': args['batchsize'],\n",
    "        'max_len': args['max_len'],\n",
    "        'early_stop': args['early_stop'],\n",
    "        'root_path': args['root_path'],\n",
    "        'aug_prob': args['aug_prob'],\n",
    "        'weight_decay': 5e-5,\n",
    "        'model': {\n",
    "            'mlp': {'dims': [384], 'dropout': 0.2}\n",
    "        },\n",
    "        'emb_dim': args['emb_dim'],\n",
    "        'lr': args['lr'],\n",
    "        'epoch': args['epoch'],\n",
    "        'model_name': args['model_name'],\n",
    "        'seed': args['seed'],\n",
    "        'save_log_dir': args['save_log_dir'],\n",
    "        'save_param_dir': args['save_param_dir'],\n",
    "        'param_log_dir': args['param_log_dir']\n",
    "}\n",
    "\n",
    "# 不需要检查 __name__ == '__main__' 在 Jupyter 中\n",
    "Run(config=config).main()"
   ]
  },
  {
   "cell_type": "code",
   "execution_count": null,
   "id": "80d616a2-604c-4b46-a158-e3b8b1559f34",
   "metadata": {},
   "outputs": [],
   "source": []
  }
 ],
 "metadata": {
  "kernelspec": {
   "display_name": "Python 3 (ipykernel)",
   "language": "python",
   "name": "python3"
  },
  "language_info": {
   "codemirror_mode": {
    "name": "ipython",
    "version": 3
   },
   "file_extension": ".py",
   "mimetype": "text/x-python",
   "name": "python",
   "nbconvert_exporter": "python",
   "pygments_lexer": "ipython3",
   "version": "3.11.8"
  }
 },
 "nbformat": 4,
 "nbformat_minor": 5
}
