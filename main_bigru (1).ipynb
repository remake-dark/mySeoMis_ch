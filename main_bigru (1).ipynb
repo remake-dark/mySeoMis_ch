{
 "cells": [
  {
   "cell_type": "code",
   "execution_count": 1,
   "id": "f1324ca7-4984-4114-88e4-8c097ec63695",
   "metadata": {},
   "outputs": [
    {
     "name": "stderr",
     "output_type": "stream",
     "text": [
      "/usr/local/lib/python3.11/dist-packages/tqdm/auto.py:21: TqdmWarning: IProgress not found. Please update jupyter and ipywidgets. See https://ipywidgets.readthedocs.io/en/stable/user_install.html\n",
      "  from .autonotebook import tqdm as notebook_tqdm\n"
     ]
    },
    {
     "name": "stdout",
     "output_type": "stream",
     "text": [
      "lr: 0.0001; model name: bigru; batchsize: 64; epoch: 20; gpu: 0\n",
      "{'lr': [0.0001]}\n"
     ]
    },
    {
     "name": "stderr",
     "output_type": "stream",
     "text": [
      "Dataloader: loading items from current dataset: 100%|██████████| 1438/1438 [00:01<00:00, 1242.29it/s]\n",
      "Dataloader: loading items from current dataset: 100%|██████████| 6713/6713 [00:05<00:00, 1123.56it/s]\n",
      "100%|██████████| 105/105 [00:14<00:00,  7.02it/s]\n"
     ]
    },
    {
     "name": "stdout",
     "output_type": "stream",
     "text": [
      "Training Epoch 1; Loss 0.5428631149587178; \n"
     ]
    },
    {
     "name": "stderr",
     "output_type": "stream",
     "text": [
      "100%|██████████| 23/23 [00:01<00:00, 14.11it/s]\n"
     ]
    },
    {
     "name": "stdout",
     "output_type": "stream",
     "text": [
      "curent {'auc': 0.8614464824703971, 'spauc': 0.6699294090810961, 'metric': 0.7844190563147062, 'f1_neg': 0.7835195530726257, 'f1_pos': 0.7853185595567868, 'recall': 0.7845426050615277, 'recall_neg': 0.7923728813559322, 'recall_pos': 0.7767123287671233, 'precision': 0.7844897627559311, 'precision_neg': 0.7748618784530387, 'precision_pos': 0.7941176470588235, 'acc': 0.7844228094575799}\n",
      "Max {'auc': 0.8614464824703971, 'spauc': 0.6699294090810961, 'metric': 0.7844190563147062, 'f1_neg': 0.7835195530726257, 'f1_pos': 0.7853185595567868, 'recall': 0.7845426050615277, 'recall_neg': 0.7923728813559322, 'recall_pos': 0.7767123287671233, 'precision': 0.7844897627559311, 'precision_neg': 0.7748618784530387, 'precision_pos': 0.7941176470588235, 'acc': 0.7844228094575799}\n"
     ]
    },
    {
     "name": "stderr",
     "output_type": "stream",
     "text": [
      "Dataloader: loading items from current dataset: 100%|██████████| 6713/6713 [00:05<00:00, 1130.14it/s]\n",
      "100%|██████████| 105/105 [00:13<00:00,  7.51it/s]\n"
     ]
    },
    {
     "name": "stdout",
     "output_type": "stream",
     "text": [
      "Training Epoch 2; Loss 0.38584367973463884; \n"
     ]
    },
    {
     "name": "stderr",
     "output_type": "stream",
     "text": [
      "100%|██████████| 23/23 [00:01<00:00, 14.17it/s]\n"
     ]
    },
    {
     "name": "stdout",
     "output_type": "stream",
     "text": [
      "curent {'auc': 0.8942303227304388, 'spauc': 0.7092045181446768, 'metric': 0.8244302325581395, 'f1_neg': 0.8168604651162791, 'f1_pos': 0.832, 'recall': 0.8242899156412042, 'recall_neg': 0.7937853107344632, 'recall_pos': 0.8547945205479452, 'precision': 0.8258534878295358, 'precision_neg': 0.8413173652694611, 'precision_pos': 0.8103896103896104, 'acc': 0.8247566063977747}\n",
      "Max {'auc': 0.8942303227304388, 'spauc': 0.7092045181446768, 'metric': 0.8244302325581395, 'f1_neg': 0.8168604651162791, 'f1_pos': 0.832, 'recall': 0.8242899156412042, 'recall_neg': 0.7937853107344632, 'recall_pos': 0.8547945205479452, 'precision': 0.8258534878295358, 'precision_neg': 0.8413173652694611, 'precision_pos': 0.8103896103896104, 'acc': 0.8247566063977747}\n"
     ]
    },
    {
     "name": "stderr",
     "output_type": "stream",
     "text": [
      "Dataloader: loading items from current dataset: 100%|██████████| 6713/6713 [00:06<00:00, 1033.48it/s]\n",
      "100%|██████████| 105/105 [00:13<00:00,  7.53it/s]\n"
     ]
    },
    {
     "name": "stdout",
     "output_type": "stream",
     "text": [
      "Training Epoch 3; Loss 0.3115831778163002; \n"
     ]
    },
    {
     "name": "stderr",
     "output_type": "stream",
     "text": [
      "100%|██████████| 23/23 [00:01<00:00, 14.08it/s]\n"
     ]
    },
    {
     "name": "stdout",
     "output_type": "stream",
     "text": [
      "curent {'auc': 0.909529061218172, 'spauc': 0.7368970953038506, 'metric': 0.8226682316005415, 'f1_neg': 0.8220516399162596, 'f1_pos': 0.8232848232848233, 'recall': 0.8228097670458943, 'recall_neg': 0.8319209039548022, 'recall_pos': 0.8136986301369863, 'precision': 0.8227566861730425, 'precision_neg': 0.8124137931034483, 'precision_pos': 0.8330995792426368, 'acc': 0.8226703755215578}\n",
      "Max {'auc': 0.8942303227304388, 'spauc': 0.7092045181446768, 'metric': 0.8244302325581395, 'f1_neg': 0.8168604651162791, 'f1_pos': 0.832, 'recall': 0.8242899156412042, 'recall_neg': 0.7937853107344632, 'recall_pos': 0.8547945205479452, 'precision': 0.8258534878295358, 'precision_neg': 0.8413173652694611, 'precision_pos': 0.8103896103896104, 'acc': 0.8247566063977747}\n"
     ]
    },
    {
     "name": "stderr",
     "output_type": "stream",
     "text": [
      "Dataloader: loading items from current dataset: 100%|██████████| 6713/6713 [00:05<00:00, 1124.71it/s]\n",
      "100%|██████████| 105/105 [00:14<00:00,  7.47it/s]\n"
     ]
    },
    {
     "name": "stdout",
     "output_type": "stream",
     "text": [
      "Training Epoch 4; Loss 0.24865087504897798; \n"
     ]
    },
    {
     "name": "stderr",
     "output_type": "stream",
     "text": [
      "100%|██████████| 23/23 [00:01<00:00, 14.39it/s]\n"
     ]
    },
    {
     "name": "stdout",
     "output_type": "stream",
     "text": [
      "curent {'auc': 0.9228620075845524, 'spauc': 0.7590641917075018, 'metric': 0.8414157771625254, 'f1_neg': 0.8436213991769548, 'f1_pos': 0.8392101551480959, 'recall': 0.8418562804736476, 'recall_neg': 0.8686440677966102, 'recall_pos': 0.815068493150685, 'precision': 0.8424127906976744, 'precision_neg': 0.82, 'precision_pos': 0.8648255813953488, 'acc': 0.8414464534075105}\n",
      "Max {'auc': 0.9228620075845524, 'spauc': 0.7590641917075018, 'metric': 0.8414157771625254, 'f1_neg': 0.8436213991769548, 'f1_pos': 0.8392101551480959, 'recall': 0.8418562804736476, 'recall_neg': 0.8686440677966102, 'recall_pos': 0.815068493150685, 'precision': 0.8424127906976744, 'precision_neg': 0.82, 'precision_pos': 0.8648255813953488, 'acc': 0.8414464534075105}\n"
     ]
    },
    {
     "name": "stderr",
     "output_type": "stream",
     "text": [
      "Dataloader: loading items from current dataset: 100%|██████████| 6713/6713 [00:05<00:00, 1142.11it/s]\n",
      "100%|██████████| 105/105 [00:14<00:00,  7.49it/s]\n"
     ]
    },
    {
     "name": "stdout",
     "output_type": "stream",
     "text": [
      "Training Epoch 5; Loss 0.20247319780644912; \n"
     ]
    },
    {
     "name": "stderr",
     "output_type": "stream",
     "text": [
      "100%|██████████| 23/23 [00:01<00:00, 13.74it/s]\n"
     ]
    },
    {
     "name": "stdout",
     "output_type": "stream",
     "text": [
      "curent {'auc': 0.9235314604132806, 'spauc': 0.7634022949176982, 'metric': 0.8462011989413079, 'f1_neg': 0.8420300214438885, 'f1_pos': 0.8503723764387271, 'recall': 0.8460974382787709, 'recall_neg': 0.8319209039548022, 'recall_pos': 0.8602739726027397, 'precision': 0.8465419807546637, 'precision_neg': 0.8523878437047757, 'precision_pos': 0.8406961178045516, 'acc': 0.8463143254520167}\n",
      "Max {'auc': 0.9235314604132806, 'spauc': 0.7634022949176982, 'metric': 0.8462011989413079, 'f1_neg': 0.8420300214438885, 'f1_pos': 0.8503723764387271, 'recall': 0.8460974382787709, 'recall_neg': 0.8319209039548022, 'recall_pos': 0.8602739726027397, 'precision': 0.8465419807546637, 'precision_neg': 0.8523878437047757, 'precision_pos': 0.8406961178045516, 'acc': 0.8463143254520167}\n"
     ]
    },
    {
     "name": "stderr",
     "output_type": "stream",
     "text": [
      "Dataloader: loading items from current dataset: 100%|██████████| 6713/6713 [00:06<00:00, 1118.82it/s]\n",
      "100%|██████████| 105/105 [00:14<00:00,  7.48it/s]\n"
     ]
    },
    {
     "name": "stdout",
     "output_type": "stream",
     "text": [
      "Training Epoch 6; Loss 0.1585995765136821; \n"
     ]
    },
    {
     "name": "stderr",
     "output_type": "stream",
     "text": [
      "100%|██████████| 23/23 [00:01<00:00, 13.47it/s]\n"
     ]
    },
    {
     "name": "stdout",
     "output_type": "stream",
     "text": [
      "curent {'auc': 0.9278751644609549, 'spauc': 0.7615346702023226, 'metric': 0.8559831398293953, 'f1_neg': 0.8528784648187633, 'f1_pos': 0.8590878148400273, 'recall': 0.8559205943812398, 'recall_neg': 0.847457627118644, 'recall_pos': 0.8643835616438356, 'precision': 0.8561128308176575, 'precision_neg': 0.8583690987124464, 'precision_pos': 0.8538565629228687, 'acc': 0.8560500695410292}\n",
      "Max {'auc': 0.9278751644609549, 'spauc': 0.7615346702023226, 'metric': 0.8559831398293953, 'f1_neg': 0.8528784648187633, 'f1_pos': 0.8590878148400273, 'recall': 0.8559205943812398, 'recall_neg': 0.847457627118644, 'recall_pos': 0.8643835616438356, 'precision': 0.8561128308176575, 'precision_neg': 0.8583690987124464, 'precision_pos': 0.8538565629228687, 'acc': 0.8560500695410292}\n"
     ]
    },
    {
     "name": "stderr",
     "output_type": "stream",
     "text": [
      "Dataloader: loading items from current dataset: 100%|██████████| 6713/6713 [00:05<00:00, 1137.27it/s]\n",
      "100%|██████████| 105/105 [00:14<00:00,  7.49it/s]\n"
     ]
    },
    {
     "name": "stdout",
     "output_type": "stream",
     "text": [
      "Training Epoch 7; Loss 0.11501594086488089; \n"
     ]
    },
    {
     "name": "stderr",
     "output_type": "stream",
     "text": [
      "100%|██████████| 23/23 [00:01<00:00, 13.74it/s]\n"
     ]
    },
    {
     "name": "stdout",
     "output_type": "stream",
     "text": [
      "curent {'auc': 0.9219565049144803, 'spauc': 0.7555407557668259, 'metric': 0.8446620095399888, 'f1_neg': 0.8382886149383612, 'f1_pos': 0.8510354041416166, 'recall': 0.8444934602584939, 'recall_neg': 0.8163841807909604, 'recall_pos': 0.8726027397260274, 'precision': 0.8459546843820254, 'precision_neg': 0.8614008941877794, 'precision_pos': 0.8305084745762712, 'acc': 0.844923504867872}\n",
      "Max {'auc': 0.9278751644609549, 'spauc': 0.7615346702023226, 'metric': 0.8559831398293953, 'f1_neg': 0.8528784648187633, 'f1_pos': 0.8590878148400273, 'recall': 0.8559205943812398, 'recall_neg': 0.847457627118644, 'recall_pos': 0.8643835616438356, 'precision': 0.8561128308176575, 'precision_neg': 0.8583690987124464, 'precision_pos': 0.8538565629228687, 'acc': 0.8560500695410292}\n"
     ]
    },
    {
     "name": "stderr",
     "output_type": "stream",
     "text": [
      "Dataloader: loading items from current dataset: 100%|██████████| 6713/6713 [00:05<00:00, 1127.63it/s]\n",
      "100%|██████████| 105/105 [00:14<00:00,  7.48it/s]\n"
     ]
    },
    {
     "name": "stdout",
     "output_type": "stream",
     "text": [
      "Training Epoch 8; Loss 0.09379455610400157; \n"
     ]
    },
    {
     "name": "stderr",
     "output_type": "stream",
     "text": [
      "100%|██████████| 23/23 [00:01<00:00, 13.84it/s]\n"
     ]
    },
    {
     "name": "stdout",
     "output_type": "stream",
     "text": [
      "curent {'auc': 0.9211728968346102, 'spauc': 0.7579277308665209, 'metric': 0.839795008912656, 'f1_neg': 0.8333333333333334, 'f1_pos': 0.8462566844919787, 'recall': 0.8396350901633001, 'recall_neg': 0.8121468926553672, 'recall_pos': 0.8671232876712329, 'precision': 0.8410127595424592, 'precision_neg': 0.8556547619047619, 'precision_pos': 0.8263707571801566, 'acc': 0.8400556328233658}\n",
      "Max {'auc': 0.9278751644609549, 'spauc': 0.7615346702023226, 'metric': 0.8559831398293953, 'f1_neg': 0.8528784648187633, 'f1_pos': 0.8590878148400273, 'recall': 0.8559205943812398, 'recall_neg': 0.847457627118644, 'recall_pos': 0.8643835616438356, 'precision': 0.8561128308176575, 'precision_neg': 0.8583690987124464, 'precision_pos': 0.8538565629228687, 'acc': 0.8560500695410292}\n"
     ]
    },
    {
     "name": "stderr",
     "output_type": "stream",
     "text": [
      "Dataloader: loading items from current dataset: 100%|██████████| 6713/6713 [00:05<00:00, 1127.90it/s]\n",
      "100%|██████████| 105/105 [00:14<00:00,  7.48it/s]\n"
     ]
    },
    {
     "name": "stdout",
     "output_type": "stream",
     "text": [
      "Training Epoch 9; Loss 0.0686439677895535; \n"
     ]
    },
    {
     "name": "stderr",
     "output_type": "stream",
     "text": [
      "100%|██████████| 23/23 [00:01<00:00, 13.64it/s]\n"
     ]
    },
    {
     "name": "stdout",
     "output_type": "stream",
     "text": [
      "curent {'auc': 0.9272947140314217, 'spauc': 0.7749481667949767, 'metric': 0.8518397051247633, 'f1_neg': 0.8494699646643109, 'f1_pos': 0.8542094455852156, 'recall': 0.8518322885225602, 'recall_neg': 0.8488700564971752, 'recall_pos': 0.8547945205479452, 'precision': 0.8518479461782411, 'precision_neg': 0.8500707213578501, 'precision_pos': 0.853625170998632, 'acc': 0.8518776077885952}\n",
      "Max {'auc': 0.9278751644609549, 'spauc': 0.7615346702023226, 'metric': 0.8559831398293953, 'f1_neg': 0.8528784648187633, 'f1_pos': 0.8590878148400273, 'recall': 0.8559205943812398, 'recall_neg': 0.847457627118644, 'recall_pos': 0.8643835616438356, 'precision': 0.8561128308176575, 'precision_neg': 0.8583690987124464, 'precision_pos': 0.8538565629228687, 'acc': 0.8560500695410292}\n"
     ]
    },
    {
     "name": "stderr",
     "output_type": "stream",
     "text": [
      "Dataloader: loading items from current dataset: 100%|██████████| 6713/6713 [00:05<00:00, 1141.75it/s]\n",
      "100%|██████████| 105/105 [00:14<00:00,  7.45it/s]\n"
     ]
    },
    {
     "name": "stdout",
     "output_type": "stream",
     "text": [
      "Training Epoch 10; Loss 0.05279907215209234; \n"
     ]
    },
    {
     "name": "stderr",
     "output_type": "stream",
     "text": [
      "100%|██████████| 23/23 [00:01<00:00, 14.43it/s]\n"
     ]
    },
    {
     "name": "stdout",
     "output_type": "stream",
     "text": [
      "curent {'auc': 0.9278867734695457, 'spauc': 0.7734695457007972, 'metric': 0.8470094398019189, 'f1_neg': 0.8467966573816156, 'f1_pos': 0.8472222222222222, 'recall': 0.8471867502515285, 'recall_neg': 0.8587570621468926, 'recall_pos': 0.8356164383561644, 'precision': 0.8471598823711499, 'precision_neg': 0.8351648351648352, 'precision_pos': 0.8591549295774648, 'acc': 0.847009735744089}\n",
      "Max {'auc': 0.9278751644609549, 'spauc': 0.7615346702023226, 'metric': 0.8559831398293953, 'f1_neg': 0.8528784648187633, 'f1_pos': 0.8590878148400273, 'recall': 0.8559205943812398, 'recall_neg': 0.847457627118644, 'recall_pos': 0.8643835616438356, 'precision': 0.8561128308176575, 'precision_neg': 0.8583690987124464, 'precision_pos': 0.8538565629228687, 'acc': 0.8560500695410292}\n"
     ]
    },
    {
     "name": "stderr",
     "output_type": "stream",
     "text": [
      "Dataloader: loading items from current dataset: 100%|██████████| 6713/6713 [00:05<00:00, 1150.65it/s]\n",
      "100%|██████████| 105/105 [00:13<00:00,  7.52it/s]\n"
     ]
    },
    {
     "name": "stdout",
     "output_type": "stream",
     "text": [
      "Training Epoch 11; Loss 0.03688921790481327; \n"
     ]
    },
    {
     "name": "stderr",
     "output_type": "stream",
     "text": [
      "100%|██████████| 23/23 [00:01<00:00, 13.74it/s]\n"
     ]
    },
    {
     "name": "stdout",
     "output_type": "stream",
     "text": [
      "curent {'auc': 0.9287168175837784, 'spauc': 0.7785062260946074, 'metric': 0.8517898074100742, 'f1_neg': 0.8553971486761711, 'f1_pos': 0.8481824661439772, 'recall': 0.8524495008126306, 'recall_neg': 0.8898305084745762, 'recall_pos': 0.815068493150685, 'precision': 0.8538152259417883, 'precision_neg': 0.8235294117647058, 'precision_pos': 0.8841010401188707, 'acc': 0.8518776077885952}\n",
      "Max {'auc': 0.9278751644609549, 'spauc': 0.7615346702023226, 'metric': 0.8559831398293953, 'f1_neg': 0.8528784648187633, 'f1_pos': 0.8590878148400273, 'recall': 0.8559205943812398, 'recall_neg': 0.847457627118644, 'recall_pos': 0.8643835616438356, 'precision': 0.8561128308176575, 'precision_neg': 0.8583690987124464, 'precision_pos': 0.8538565629228687, 'acc': 0.8560500695410292}\n"
     ]
    },
    {
     "name": "stderr",
     "output_type": "stream",
     "text": [
      "Dataloader: loading items from current dataset: 100%|██████████| 1439/1439 [00:01<00:00, 1239.83it/s]\n",
      "100%|██████████| 23/23 [00:01<00:00, 13.51it/s]\n"
     ]
    },
    {
     "name": "stdout",
     "output_type": "stream",
     "text": [
      "test results: {'auc': 0.885621066539946, 'spauc': 0.713508989502233, 'metric': 0.7942728860450379, 'f1_neg': 0.7918424753867792, 'f1_pos': 0.7967032967032966, 'recall': 0.7942701391223048, 'recall_neg': 0.7852161785216178, 'recall_pos': 0.8033240997229917, 'precision': 0.7943861479892554, 'precision_neg': 0.798581560283688, 'precision_pos': 0.7901907356948229, 'acc': 0.7943015983321752}\n",
      "best model path: ./param_model/bigru/parameter_bigru.pkl\n",
      "best metric: {'metric': 0.7942728860450379}\n"
     ]
    },
    {
     "ename": "FileNotFoundError",
     "evalue": "[Errno 2] No such file or directory: './logs/json/bigru0.1.json'",
     "output_type": "error",
     "traceback": [
      "\u001b[0;31m---------------------------------------------------------------------------\u001b[0m",
      "\u001b[0;31mFileNotFoundError\u001b[0m                         Traceback (most recent call last)",
      "Cell \u001b[0;32mIn[1], line 65\u001b[0m\n\u001b[1;32m     43\u001b[0m config \u001b[38;5;241m=\u001b[39m {\n\u001b[1;32m     44\u001b[0m         \u001b[38;5;124m'\u001b[39m\u001b[38;5;124muse_cuda\u001b[39m\u001b[38;5;124m'\u001b[39m: \u001b[38;5;28;01mTrue\u001b[39;00m,\n\u001b[1;32m     45\u001b[0m         \u001b[38;5;124m'\u001b[39m\u001b[38;5;124mbatchsize\u001b[39m\u001b[38;5;124m'\u001b[39m: args[\u001b[38;5;124m'\u001b[39m\u001b[38;5;124mbatchsize\u001b[39m\u001b[38;5;124m'\u001b[39m],\n\u001b[0;32m   (...)\u001b[0m\n\u001b[1;32m     61\u001b[0m         \u001b[38;5;124m'\u001b[39m\u001b[38;5;124mparam_log_dir\u001b[39m\u001b[38;5;124m'\u001b[39m: args[\u001b[38;5;124m'\u001b[39m\u001b[38;5;124mparam_log_dir\u001b[39m\u001b[38;5;124m'\u001b[39m]\n\u001b[1;32m     62\u001b[0m }\n\u001b[1;32m     64\u001b[0m \u001b[38;5;66;03m# 不需要检查 __name__ == '__main__' 在 Jupyter 中\u001b[39;00m\n\u001b[0;32m---> 65\u001b[0m \u001b[43mRun\u001b[49m\u001b[43m(\u001b[49m\u001b[43mconfig\u001b[49m\u001b[38;5;241;43m=\u001b[39;49m\u001b[43mconfig\u001b[49m\u001b[43m)\u001b[49m\u001b[38;5;241;43m.\u001b[39;49m\u001b[43mmain\u001b[49m\u001b[43m(\u001b[49m\u001b[43m)\u001b[49m\n",
      "File \u001b[0;32m/mySeoSent/mySeoSent_ch/mySeoSent_ch/grid_search.py:99\u001b[0m, in \u001b[0;36mRun.main\u001b[0;34m(self)\u001b[0m\n\u001b[1;32m     97\u001b[0m     logger\u001b[38;5;241m.\u001b[39minfo(\u001b[38;5;124m\"\u001b[39m\u001b[38;5;124mbest metric:\u001b[39m\u001b[38;5;124m\"\u001b[39m \u001b[38;5;241m+\u001b[39m \u001b[38;5;28mstr\u001b[39m(best_metric))\n\u001b[1;32m     98\u001b[0m     logger\u001b[38;5;241m.\u001b[39minfo(\u001b[38;5;124m'\u001b[39m\u001b[38;5;124m--------------------------------------\u001b[39m\u001b[38;5;130;01m\\n\u001b[39;00m\u001b[38;5;124m'\u001b[39m)\n\u001b[0;32m---> 99\u001b[0m \u001b[38;5;28;01mwith\u001b[39;00m \u001b[38;5;28;43mopen\u001b[39;49m\u001b[43m(\u001b[49m\u001b[43mjson_path\u001b[49m\u001b[43m,\u001b[49m\u001b[43m \u001b[49m\u001b[38;5;124;43m'\u001b[39;49m\u001b[38;5;124;43mw\u001b[39;49m\u001b[38;5;124;43m'\u001b[39;49m\u001b[43m)\u001b[49m \u001b[38;5;28;01mas\u001b[39;00m file:\n\u001b[1;32m    100\u001b[0m     json\u001b[38;5;241m.\u001b[39mdump(json_result, file, indent\u001b[38;5;241m=\u001b[39m\u001b[38;5;241m4\u001b[39m, ensure_ascii\u001b[38;5;241m=\u001b[39m\u001b[38;5;28;01mFalse\u001b[39;00m)\n",
      "\u001b[0;31mFileNotFoundError\u001b[0m: [Errno 2] No such file or directory: './logs/json/bigru0.1.json'"
     ]
    }
   ],
   "source": [
    "import os\n",
    "import torch\n",
    "import numpy as np\n",
    "import random\n",
    "from grid_search import Run\n",
    "\n",
    "import warnings\n",
    "\n",
    "# 忽略特定的警告\n",
    "warnings.filterwarnings(\"ignore\", category=FutureWarning)\n",
    "\n",
    "# 直接设置参数\n",
    "args = {\n",
    "    'model_name': 'bigru',\n",
    "    'epoch': 20,\n",
    "    'aug_prob': 0.1,\n",
    "    'max_len': 384,\n",
    "    'early_stop': 5,\n",
    "    'root_path': './data/',\n",
    "    'batchsize':64,\n",
    "    'seed': 2023,\n",
    "    'gpu': '0',\n",
    "    'emb_dim': 768,\n",
    "    'lr': 0.0001,\n",
    "    'emb_type': 'bert',\n",
    "    'save_log_dir': './logs',\n",
    "    'save_param_dir': './param_model',\n",
    "    'param_log_dir': './logs/param'\n",
    "}\n",
    "\n",
    "os.environ[\"CUDA_VISIBLE_DEVICES\"] = args['gpu']\n",
    "\n",
    "seed = args['seed']\n",
    "random.seed(seed)\n",
    "np.random.seed(seed)\n",
    "torch.manual_seed(seed)\n",
    "torch.cuda.manual_seed(seed)\n",
    "torch.backends.cudnn.benchmark = False\n",
    "torch.backends.cudnn.deterministic = True\n",
    "\n",
    "print('lr: {}; model name: {}; batchsize: {}; epoch: {}; gpu: {}'.format(args['lr'], args['model_name'], args['batchsize'], args['epoch'], args['gpu']))\n",
    "\n",
    "config = {\n",
    "        'use_cuda': True,\n",
    "        'batchsize': args['batchsize'],\n",
    "        'max_len': args['max_len'],\n",
    "        'early_stop': args['early_stop'],\n",
    "        'root_path': args['root_path'],\n",
    "        'aug_prob': args['aug_prob'],\n",
    "        'weight_decay': 5e-5,\n",
    "        'model': {\n",
    "            'mlp': {'dims': [384], 'dropout': 0.05}\n",
    "        },\n",
    "        'emb_dim': args['emb_dim'],\n",
    "        'lr': args['lr'],\n",
    "        'epoch': args['epoch'],\n",
    "        'model_name': args['model_name'],\n",
    "        'seed': args['seed'],\n",
    "        'save_log_dir': args['save_log_dir'],\n",
    "        'save_param_dir': args['save_param_dir'],\n",
    "        'param_log_dir': args['param_log_dir']\n",
    "}\n",
    "\n",
    "# 不需要检查 __name__ == '__main__' 在 Jupyter 中\n",
    "Run(config=config).main()"
   ]
  },
  {
   "cell_type": "code",
   "execution_count": null,
   "id": "947aed1d-34ed-48a6-9589-0fce5203a89e",
   "metadata": {},
   "outputs": [
    {
     "name": "stderr",
     "output_type": "stream",
     "text": [
      "/usr/local/lib/python3.11/dist-packages/tqdm/auto.py:21: TqdmWarning: IProgress not found. Please update jupyter and ipywidgets. See https://ipywidgets.readthedocs.io/en/stable/user_install.html\n",
      "  from .autonotebook import tqdm as notebook_tqdm\n"
     ]
    },
    {
     "name": "stdout",
     "output_type": "stream",
     "text": [
      "lr: 0.0001; model name: bigru; batchsize: 64; epoch: 20; gpu: 0\n",
      "{'lr': [0.0001]}\n"
     ]
    },
    {
     "name": "stderr",
     "output_type": "stream",
     "text": [
      "Dataloader: loading items from current dataset: 100%|██████████| 1438/1438 [00:01<00:00, 1408.75it/s]\n",
      "Dataloader: loading items from current dataset:  66%|██████▌   | 4406/6713 [00:03<00:01, 1288.79it/s]"
     ]
    }
   ],
   "source": [
    "import os\n",
    "import torch\n",
    "import numpy as np\n",
    "import random\n",
    "from grid_search import Run\n",
    "\n",
    "import warnings\n",
    "\n",
    "# 忽略特定的警告\n",
    "warnings.filterwarnings(\"ignore\", category=FutureWarning)\n",
    "\n",
    "# 直接设置参数\n",
    "args = {\n",
    "    'model_name': 'bigru',\n",
    "    'epoch': 20,\n",
    "    'aug_prob': 0.1,\n",
    "    'max_len': 384,\n",
    "    'early_stop': 5,\n",
    "    'root_path': './data/',\n",
    "    'batchsize':64,\n",
    "    'seed': 2024,\n",
    "    'gpu': '0',\n",
    "    'emb_dim': 768,\n",
    "    'lr': 0.0001,\n",
    "    'emb_type': 'bert',\n",
    "    'save_log_dir': './logs',\n",
    "    'save_param_dir': './param_model',\n",
    "    'param_log_dir': './logs/param'\n",
    "}\n",
    "\n",
    "os.environ[\"CUDA_VISIBLE_DEVICES\"] = args['gpu']\n",
    "\n",
    "seed = args['seed']\n",
    "random.seed(seed)\n",
    "np.random.seed(seed)\n",
    "torch.manual_seed(seed)\n",
    "torch.cuda.manual_seed(seed)\n",
    "torch.backends.cudnn.benchmark = False\n",
    "torch.backends.cudnn.deterministic = True\n",
    "\n",
    "print('lr: {}; model name: {}; batchsize: {}; epoch: {}; gpu: {}'.format(args['lr'], args['model_name'], args['batchsize'], args['epoch'], args['gpu']))\n",
    "\n",
    "config = {\n",
    "        'use_cuda': True,\n",
    "        'batchsize': args['batchsize'],\n",
    "        'max_len': args['max_len'],\n",
    "        'early_stop': args['early_stop'],\n",
    "        'root_path': args['root_path'],\n",
    "        'aug_prob': args['aug_prob'],\n",
    "        'weight_decay': 5e-5,\n",
    "        'model': {\n",
    "            'mlp': {'dims': [384], 'dropout': 0.05}\n",
    "        },\n",
    "        'emb_dim': args['emb_dim'],\n",
    "        'lr': args['lr'],\n",
    "        'epoch': args['epoch'],\n",
    "        'model_name': args['model_name'],\n",
    "        'seed': args['seed'],\n",
    "        'save_log_dir': args['save_log_dir'],\n",
    "        'save_param_dir': args['save_param_dir'],\n",
    "        'param_log_dir': args['param_log_dir']\n",
    "}\n",
    "\n",
    "# 不需要检查 __name__ == '__main__' 在 Jupyter 中\n",
    "Run(config=config).main()"
   ]
  },
  {
   "cell_type": "code",
   "execution_count": null,
   "id": "0a673566-55c5-466c-b51d-6523bc265286",
   "metadata": {},
   "outputs": [],
   "source": []
  }
 ],
 "metadata": {
  "kernelspec": {
   "display_name": "Python 3 (ipykernel)",
   "language": "python",
   "name": "python3"
  },
  "language_info": {
   "codemirror_mode": {
    "name": "ipython",
    "version": 3
   },
   "file_extension": ".py",
   "mimetype": "text/x-python",
   "name": "python",
   "nbconvert_exporter": "python",
   "pygments_lexer": "ipython3",
   "version": "3.11.8"
  }
 },
 "nbformat": 4,
 "nbformat_minor": 5
}
