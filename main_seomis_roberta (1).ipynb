{
 "cells": [
  {
   "cell_type": "code",
   "execution_count": 1,
   "id": "5b534cf5-ccce-4554-93c4-d50ddfdb3868",
   "metadata": {},
   "outputs": [
    {
     "name": "stderr",
     "output_type": "stream",
     "text": [
      "/usr/local/lib/python3.11/dist-packages/tqdm/auto.py:21: TqdmWarning: IProgress not found. Please update jupyter and ipywidgets. See https://ipywidgets.readthedocs.io/en/stable/user_install.html\n",
      "  from .autonotebook import tqdm as notebook_tqdm\n"
     ]
    },
    {
     "name": "stdout",
     "output_type": "stream",
     "text": [
      "lr: 0.0001; model name: roberta_sentobl; batchsize: 64; epoch: 15; gpu: 0\n",
      "{'lr': [0.0001]}\n"
     ]
    },
    {
     "ename": "RuntimeError",
     "evalue": "CUDA error: out of memory\nCUDA kernel errors might be asynchronously reported at some other API call, so the stacktrace below might be incorrect.\nFor debugging consider passing CUDA_LAUNCH_BLOCKING=1.\nCompile with `TORCH_USE_CUDA_DSA` to enable device-side assertions.\n",
     "output_type": "error",
     "traceback": [
      "\u001b[0;31m---------------------------------------------------------------------------\u001b[0m",
      "\u001b[0;31mRuntimeError\u001b[0m                              Traceback (most recent call last)",
      "Cell \u001b[0;32mIn[1], line 64\u001b[0m\n\u001b[1;32m     42\u001b[0m config \u001b[38;5;241m=\u001b[39m {\n\u001b[1;32m     43\u001b[0m         \u001b[38;5;124m'\u001b[39m\u001b[38;5;124muse_cuda\u001b[39m\u001b[38;5;124m'\u001b[39m: \u001b[38;5;28;01mTrue\u001b[39;00m,\n\u001b[1;32m     44\u001b[0m         \u001b[38;5;124m'\u001b[39m\u001b[38;5;124mbatchsize\u001b[39m\u001b[38;5;124m'\u001b[39m: args[\u001b[38;5;124m'\u001b[39m\u001b[38;5;124mbatchsize\u001b[39m\u001b[38;5;124m'\u001b[39m],\n\u001b[0;32m   (...)\u001b[0m\n\u001b[1;32m     60\u001b[0m         \u001b[38;5;124m'\u001b[39m\u001b[38;5;124mparam_log_dir\u001b[39m\u001b[38;5;124m'\u001b[39m: args[\u001b[38;5;124m'\u001b[39m\u001b[38;5;124mparam_log_dir\u001b[39m\u001b[38;5;124m'\u001b[39m]\n\u001b[1;32m     61\u001b[0m }\n\u001b[1;32m     63\u001b[0m \u001b[38;5;66;03m# 不需要检查 __name__ == '__main__' 在 Jupyter 中\u001b[39;00m\n\u001b[0;32m---> 64\u001b[0m \u001b[43mRun\u001b[49m\u001b[43m(\u001b[49m\u001b[43mconfig\u001b[49m\u001b[38;5;241;43m=\u001b[39;49m\u001b[43mconfig\u001b[49m\u001b[43m)\u001b[49m\u001b[38;5;241;43m.\u001b[39;49m\u001b[43mmain\u001b[49m\u001b[43m(\u001b[49m\u001b[43m)\u001b[49m\n",
      "File \u001b[0;32m/mySeoSent/mySeoSent_ch/mySeoSent_ch/grid_search.py:93\u001b[0m, in \u001b[0;36mRun.main\u001b[0;34m(self)\u001b[0m\n\u001b[1;32m     90\u001b[0m \u001b[38;5;28;01melif\u001b[39;00m \u001b[38;5;28mself\u001b[39m\u001b[38;5;241m.\u001b[39mconfig[\u001b[38;5;124m'\u001b[39m\u001b[38;5;124mmodel_name\u001b[39m\u001b[38;5;124m'\u001b[39m] \u001b[38;5;241m==\u001b[39m \u001b[38;5;124m'\u001b[39m\u001b[38;5;124mflant5_seomis\u001b[39m\u001b[38;5;124m'\u001b[39m:\n\u001b[1;32m     91\u001b[0m     trainer \u001b[38;5;241m=\u001b[39m FlanT5SEOMISTrainer(\u001b[38;5;28mself\u001b[39m\u001b[38;5;241m.\u001b[39mconfig)\n\u001b[0;32m---> 93\u001b[0m metrics, model_path \u001b[38;5;241m=\u001b[39m \u001b[43mtrainer\u001b[49m\u001b[38;5;241;43m.\u001b[39;49m\u001b[43mtrain\u001b[49m\u001b[43m(\u001b[49m\u001b[43mlogger\u001b[49m\u001b[43m)\u001b[49m\n\u001b[1;32m     94\u001b[0m json_result\u001b[38;5;241m.\u001b[39mappend(metrics)\n\u001b[1;32m     95\u001b[0m \u001b[38;5;28;01mif\u001b[39;00m metrics[\u001b[38;5;124m'\u001b[39m\u001b[38;5;124mmetric\u001b[39m\u001b[38;5;124m'\u001b[39m] \u001b[38;5;241m>\u001b[39m best_metric[\u001b[38;5;124m'\u001b[39m\u001b[38;5;124mmetric\u001b[39m\u001b[38;5;124m'\u001b[39m]:\n",
      "File \u001b[0;32m/mySeoSent/mySeoSent_ch/mySeoSent_ch/models/robertasentobl.py:159\u001b[0m, in \u001b[0;36mTrainer.train\u001b[0;34m(self, logger)\u001b[0m\n\u001b[1;32m    157\u001b[0m \u001b[38;5;28mself\u001b[39m\u001b[38;5;241m.\u001b[39mmodel \u001b[38;5;241m=\u001b[39m ROBERTA_SENTOBLModel(\u001b[38;5;28mself\u001b[39m\u001b[38;5;241m.\u001b[39mconfig[\u001b[38;5;124m'\u001b[39m\u001b[38;5;124memb_dim\u001b[39m\u001b[38;5;124m'\u001b[39m], \u001b[38;5;28mself\u001b[39m\u001b[38;5;241m.\u001b[39mconfig[\u001b[38;5;124m'\u001b[39m\u001b[38;5;124mmodel\u001b[39m\u001b[38;5;124m'\u001b[39m][\u001b[38;5;124m'\u001b[39m\u001b[38;5;124mmlp\u001b[39m\u001b[38;5;124m'\u001b[39m][\u001b[38;5;124m'\u001b[39m\u001b[38;5;124mdims\u001b[39m\u001b[38;5;124m'\u001b[39m], \u001b[38;5;28mself\u001b[39m\u001b[38;5;241m.\u001b[39mconfig[\u001b[38;5;124m'\u001b[39m\u001b[38;5;124mmodel\u001b[39m\u001b[38;5;124m'\u001b[39m][\u001b[38;5;124m'\u001b[39m\u001b[38;5;124mmlp\u001b[39m\u001b[38;5;124m'\u001b[39m][\u001b[38;5;124m'\u001b[39m\u001b[38;5;124mdropout\u001b[39m\u001b[38;5;124m'\u001b[39m])\n\u001b[1;32m    158\u001b[0m \u001b[38;5;28;01mif\u001b[39;00m \u001b[38;5;28mself\u001b[39m\u001b[38;5;241m.\u001b[39mconfig[\u001b[38;5;124m'\u001b[39m\u001b[38;5;124muse_cuda\u001b[39m\u001b[38;5;124m'\u001b[39m]:\n\u001b[0;32m--> 159\u001b[0m     \u001b[38;5;28mself\u001b[39m\u001b[38;5;241m.\u001b[39mmodel \u001b[38;5;241m=\u001b[39m \u001b[38;5;28;43mself\u001b[39;49m\u001b[38;5;241;43m.\u001b[39;49m\u001b[43mmodel\u001b[49m\u001b[38;5;241;43m.\u001b[39;49m\u001b[43mcuda\u001b[49m\u001b[43m(\u001b[49m\u001b[43m)\u001b[49m\n\u001b[1;32m    160\u001b[0m loss_fn \u001b[38;5;241m=\u001b[39m torch\u001b[38;5;241m.\u001b[39mnn\u001b[38;5;241m.\u001b[39mBCELoss()\n\u001b[1;32m    161\u001b[0m optimizer \u001b[38;5;241m=\u001b[39m torch\u001b[38;5;241m.\u001b[39moptim\u001b[38;5;241m.\u001b[39mAdam(params\u001b[38;5;241m=\u001b[39m\u001b[38;5;28mself\u001b[39m\u001b[38;5;241m.\u001b[39mmodel\u001b[38;5;241m.\u001b[39mparameters(), lr\u001b[38;5;241m=\u001b[39m\u001b[38;5;28mself\u001b[39m\u001b[38;5;241m.\u001b[39mconfig[\u001b[38;5;124m'\u001b[39m\u001b[38;5;124mlr\u001b[39m\u001b[38;5;124m'\u001b[39m], weight_decay\u001b[38;5;241m=\u001b[39m\u001b[38;5;28mself\u001b[39m\u001b[38;5;241m.\u001b[39mconfig[\u001b[38;5;124m'\u001b[39m\u001b[38;5;124mweight_decay\u001b[39m\u001b[38;5;124m'\u001b[39m])\n",
      "File \u001b[0;32m/usr/local/lib/python3.11/dist-packages/torch/nn/modules/module.py:911\u001b[0m, in \u001b[0;36mModule.cuda\u001b[0;34m(self, device)\u001b[0m\n\u001b[1;32m    894\u001b[0m \u001b[38;5;28;01mdef\u001b[39;00m \u001b[38;5;21mcuda\u001b[39m(\u001b[38;5;28mself\u001b[39m: T, device: Optional[Union[\u001b[38;5;28mint\u001b[39m, device]] \u001b[38;5;241m=\u001b[39m \u001b[38;5;28;01mNone\u001b[39;00m) \u001b[38;5;241m-\u001b[39m\u001b[38;5;241m>\u001b[39m T:\n\u001b[1;32m    895\u001b[0m \u001b[38;5;250m    \u001b[39m\u001b[38;5;124mr\u001b[39m\u001b[38;5;124;03m\"\"\"Move all model parameters and buffers to the GPU.\u001b[39;00m\n\u001b[1;32m    896\u001b[0m \n\u001b[1;32m    897\u001b[0m \u001b[38;5;124;03m    This also makes associated parameters and buffers different objects. So\u001b[39;00m\n\u001b[0;32m   (...)\u001b[0m\n\u001b[1;32m    909\u001b[0m \u001b[38;5;124;03m        Module: self\u001b[39;00m\n\u001b[1;32m    910\u001b[0m \u001b[38;5;124;03m    \"\"\"\u001b[39;00m\n\u001b[0;32m--> 911\u001b[0m     \u001b[38;5;28;01mreturn\u001b[39;00m \u001b[38;5;28;43mself\u001b[39;49m\u001b[38;5;241;43m.\u001b[39;49m\u001b[43m_apply\u001b[49m\u001b[43m(\u001b[49m\u001b[38;5;28;43;01mlambda\u001b[39;49;00m\u001b[43m \u001b[49m\u001b[43mt\u001b[49m\u001b[43m:\u001b[49m\u001b[43m \u001b[49m\u001b[43mt\u001b[49m\u001b[38;5;241;43m.\u001b[39;49m\u001b[43mcuda\u001b[49m\u001b[43m(\u001b[49m\u001b[43mdevice\u001b[49m\u001b[43m)\u001b[49m\u001b[43m)\u001b[49m\n",
      "File \u001b[0;32m/usr/local/lib/python3.11/dist-packages/torch/nn/modules/module.py:802\u001b[0m, in \u001b[0;36mModule._apply\u001b[0;34m(self, fn, recurse)\u001b[0m\n\u001b[1;32m    800\u001b[0m \u001b[38;5;28;01mif\u001b[39;00m recurse:\n\u001b[1;32m    801\u001b[0m     \u001b[38;5;28;01mfor\u001b[39;00m module \u001b[38;5;129;01min\u001b[39;00m \u001b[38;5;28mself\u001b[39m\u001b[38;5;241m.\u001b[39mchildren():\n\u001b[0;32m--> 802\u001b[0m         \u001b[43mmodule\u001b[49m\u001b[38;5;241;43m.\u001b[39;49m\u001b[43m_apply\u001b[49m\u001b[43m(\u001b[49m\u001b[43mfn\u001b[49m\u001b[43m)\u001b[49m\n\u001b[1;32m    804\u001b[0m \u001b[38;5;28;01mdef\u001b[39;00m \u001b[38;5;21mcompute_should_use_set_data\u001b[39m(tensor, tensor_applied):\n\u001b[1;32m    805\u001b[0m     \u001b[38;5;28;01mif\u001b[39;00m torch\u001b[38;5;241m.\u001b[39m_has_compatible_shallow_copy_type(tensor, tensor_applied):\n\u001b[1;32m    806\u001b[0m         \u001b[38;5;66;03m# If the new tensor has compatible tensor type as the existing tensor,\u001b[39;00m\n\u001b[1;32m    807\u001b[0m         \u001b[38;5;66;03m# the current behavior is to change the tensor in-place using `.data =`,\u001b[39;00m\n\u001b[0;32m   (...)\u001b[0m\n\u001b[1;32m    812\u001b[0m         \u001b[38;5;66;03m# global flag to let the user control whether they want the future\u001b[39;00m\n\u001b[1;32m    813\u001b[0m         \u001b[38;5;66;03m# behavior of overwriting the existing tensor or not.\u001b[39;00m\n",
      "File \u001b[0;32m/usr/local/lib/python3.11/dist-packages/torch/nn/modules/module.py:802\u001b[0m, in \u001b[0;36mModule._apply\u001b[0;34m(self, fn, recurse)\u001b[0m\n\u001b[1;32m    800\u001b[0m \u001b[38;5;28;01mif\u001b[39;00m recurse:\n\u001b[1;32m    801\u001b[0m     \u001b[38;5;28;01mfor\u001b[39;00m module \u001b[38;5;129;01min\u001b[39;00m \u001b[38;5;28mself\u001b[39m\u001b[38;5;241m.\u001b[39mchildren():\n\u001b[0;32m--> 802\u001b[0m         \u001b[43mmodule\u001b[49m\u001b[38;5;241;43m.\u001b[39;49m\u001b[43m_apply\u001b[49m\u001b[43m(\u001b[49m\u001b[43mfn\u001b[49m\u001b[43m)\u001b[49m\n\u001b[1;32m    804\u001b[0m \u001b[38;5;28;01mdef\u001b[39;00m \u001b[38;5;21mcompute_should_use_set_data\u001b[39m(tensor, tensor_applied):\n\u001b[1;32m    805\u001b[0m     \u001b[38;5;28;01mif\u001b[39;00m torch\u001b[38;5;241m.\u001b[39m_has_compatible_shallow_copy_type(tensor, tensor_applied):\n\u001b[1;32m    806\u001b[0m         \u001b[38;5;66;03m# If the new tensor has compatible tensor type as the existing tensor,\u001b[39;00m\n\u001b[1;32m    807\u001b[0m         \u001b[38;5;66;03m# the current behavior is to change the tensor in-place using `.data =`,\u001b[39;00m\n\u001b[0;32m   (...)\u001b[0m\n\u001b[1;32m    812\u001b[0m         \u001b[38;5;66;03m# global flag to let the user control whether they want the future\u001b[39;00m\n\u001b[1;32m    813\u001b[0m         \u001b[38;5;66;03m# behavior of overwriting the existing tensor or not.\u001b[39;00m\n",
      "File \u001b[0;32m/usr/local/lib/python3.11/dist-packages/torch/nn/modules/module.py:802\u001b[0m, in \u001b[0;36mModule._apply\u001b[0;34m(self, fn, recurse)\u001b[0m\n\u001b[1;32m    800\u001b[0m \u001b[38;5;28;01mif\u001b[39;00m recurse:\n\u001b[1;32m    801\u001b[0m     \u001b[38;5;28;01mfor\u001b[39;00m module \u001b[38;5;129;01min\u001b[39;00m \u001b[38;5;28mself\u001b[39m\u001b[38;5;241m.\u001b[39mchildren():\n\u001b[0;32m--> 802\u001b[0m         \u001b[43mmodule\u001b[49m\u001b[38;5;241;43m.\u001b[39;49m\u001b[43m_apply\u001b[49m\u001b[43m(\u001b[49m\u001b[43mfn\u001b[49m\u001b[43m)\u001b[49m\n\u001b[1;32m    804\u001b[0m \u001b[38;5;28;01mdef\u001b[39;00m \u001b[38;5;21mcompute_should_use_set_data\u001b[39m(tensor, tensor_applied):\n\u001b[1;32m    805\u001b[0m     \u001b[38;5;28;01mif\u001b[39;00m torch\u001b[38;5;241m.\u001b[39m_has_compatible_shallow_copy_type(tensor, tensor_applied):\n\u001b[1;32m    806\u001b[0m         \u001b[38;5;66;03m# If the new tensor has compatible tensor type as the existing tensor,\u001b[39;00m\n\u001b[1;32m    807\u001b[0m         \u001b[38;5;66;03m# the current behavior is to change the tensor in-place using `.data =`,\u001b[39;00m\n\u001b[0;32m   (...)\u001b[0m\n\u001b[1;32m    812\u001b[0m         \u001b[38;5;66;03m# global flag to let the user control whether they want the future\u001b[39;00m\n\u001b[1;32m    813\u001b[0m         \u001b[38;5;66;03m# behavior of overwriting the existing tensor or not.\u001b[39;00m\n",
      "File \u001b[0;32m/usr/local/lib/python3.11/dist-packages/torch/nn/modules/module.py:825\u001b[0m, in \u001b[0;36mModule._apply\u001b[0;34m(self, fn, recurse)\u001b[0m\n\u001b[1;32m    821\u001b[0m \u001b[38;5;66;03m# Tensors stored in modules are graph leaves, and we don't want to\u001b[39;00m\n\u001b[1;32m    822\u001b[0m \u001b[38;5;66;03m# track autograd history of `param_applied`, so we have to use\u001b[39;00m\n\u001b[1;32m    823\u001b[0m \u001b[38;5;66;03m# `with torch.no_grad():`\u001b[39;00m\n\u001b[1;32m    824\u001b[0m \u001b[38;5;28;01mwith\u001b[39;00m torch\u001b[38;5;241m.\u001b[39mno_grad():\n\u001b[0;32m--> 825\u001b[0m     param_applied \u001b[38;5;241m=\u001b[39m \u001b[43mfn\u001b[49m\u001b[43m(\u001b[49m\u001b[43mparam\u001b[49m\u001b[43m)\u001b[49m\n\u001b[1;32m    826\u001b[0m should_use_set_data \u001b[38;5;241m=\u001b[39m compute_should_use_set_data(param, param_applied)\n\u001b[1;32m    827\u001b[0m \u001b[38;5;28;01mif\u001b[39;00m should_use_set_data:\n",
      "File \u001b[0;32m/usr/local/lib/python3.11/dist-packages/torch/nn/modules/module.py:911\u001b[0m, in \u001b[0;36mModule.cuda.<locals>.<lambda>\u001b[0;34m(t)\u001b[0m\n\u001b[1;32m    894\u001b[0m \u001b[38;5;28;01mdef\u001b[39;00m \u001b[38;5;21mcuda\u001b[39m(\u001b[38;5;28mself\u001b[39m: T, device: Optional[Union[\u001b[38;5;28mint\u001b[39m, device]] \u001b[38;5;241m=\u001b[39m \u001b[38;5;28;01mNone\u001b[39;00m) \u001b[38;5;241m-\u001b[39m\u001b[38;5;241m>\u001b[39m T:\n\u001b[1;32m    895\u001b[0m \u001b[38;5;250m    \u001b[39m\u001b[38;5;124mr\u001b[39m\u001b[38;5;124;03m\"\"\"Move all model parameters and buffers to the GPU.\u001b[39;00m\n\u001b[1;32m    896\u001b[0m \n\u001b[1;32m    897\u001b[0m \u001b[38;5;124;03m    This also makes associated parameters and buffers different objects. So\u001b[39;00m\n\u001b[0;32m   (...)\u001b[0m\n\u001b[1;32m    909\u001b[0m \u001b[38;5;124;03m        Module: self\u001b[39;00m\n\u001b[1;32m    910\u001b[0m \u001b[38;5;124;03m    \"\"\"\u001b[39;00m\n\u001b[0;32m--> 911\u001b[0m     \u001b[38;5;28;01mreturn\u001b[39;00m \u001b[38;5;28mself\u001b[39m\u001b[38;5;241m.\u001b[39m_apply(\u001b[38;5;28;01mlambda\u001b[39;00m t: \u001b[43mt\u001b[49m\u001b[38;5;241;43m.\u001b[39;49m\u001b[43mcuda\u001b[49m\u001b[43m(\u001b[49m\u001b[43mdevice\u001b[49m\u001b[43m)\u001b[49m)\n",
      "\u001b[0;31mRuntimeError\u001b[0m: CUDA error: out of memory\nCUDA kernel errors might be asynchronously reported at some other API call, so the stacktrace below might be incorrect.\nFor debugging consider passing CUDA_LAUNCH_BLOCKING=1.\nCompile with `TORCH_USE_CUDA_DSA` to enable device-side assertions.\n"
     ]
    }
   ],
   "source": [
    "import os\n",
    "import torch\n",
    "import numpy as np\n",
    "import random\n",
    "from grid_search import Run\n",
    "import warnings\n",
    "\n",
    "# 忽略特定的警告\n",
    "warnings.filterwarnings(\"ignore\", category=FutureWarning)\n",
    "\n",
    "# 直接设置参数\n",
    "args = {\n",
    "    'model_name': 'roberta_sentobl',\n",
    "    'epoch': 15,\n",
    "    'aug_prob': 0.1,\n",
    "    'max_len': 384,\n",
    "    'early_stop': 15,\n",
    "    'root_path': './data/',\n",
    "    'batchsize':64,\n",
    "    'seed': 2024,\n",
    "    'gpu': '0',\n",
    "    'emb_dim': 768,\n",
    "    'lr': 0.0001,\n",
    "    'emb_type': 'bert',\n",
    "    'save_log_dir': './logs',\n",
    "    'save_param_dir': './param_model',\n",
    "    'param_log_dir': './logs/param'\n",
    "}\n",
    "\n",
    "os.environ[\"CUDA_VISIBLE_DEVICES\"] = args['gpu']\n",
    "\n",
    "seed = args['seed']\n",
    "random.seed(seed)\n",
    "np.random.seed(seed)\n",
    "torch.manual_seed(seed)\n",
    "torch.cuda.manual_seed(seed)\n",
    "torch.backends.cudnn.benchmark = False\n",
    "torch.backends.cudnn.deterministic = True\n",
    "\n",
    "print('lr: {}; model name: {}; batchsize: {}; epoch: {}; gpu: {}'.format(args['lr'], args['model_name'], args['batchsize'], args['epoch'], args['gpu']))\n",
    "\n",
    "config = {\n",
    "        'use_cuda': True,\n",
    "        'batchsize': args['batchsize'],\n",
    "        'max_len': args['max_len'],\n",
    "        'early_stop': args['early_stop'],\n",
    "        'root_path': args['root_path'],\n",
    "        'aug_prob': args['aug_prob'],\n",
    "        'weight_decay': 5e-5,\n",
    "        'model': {\n",
    "            'mlp': {'dims': [384], 'dropout': 0.2}\n",
    "        },\n",
    "        'emb_dim': args['emb_dim'],\n",
    "        'lr': args['lr'],\n",
    "        'epoch': args['epoch'],\n",
    "        'model_name': args['model_name'],\n",
    "        'seed': args['seed'],\n",
    "        'save_log_dir': args['save_log_dir'],\n",
    "        'save_param_dir': args['save_param_dir'],\n",
    "        'param_log_dir': args['param_log_dir']\n",
    "}\n",
    "\n",
    "# 不需要检查 __name__ == '__main__' 在 Jupyter 中\n",
    "Run(config=config).main()"
   ]
  },
  {
   "cell_type": "code",
   "execution_count": 1,
   "id": "6d2758d5-a7bc-4365-9859-a01b7d0face1",
   "metadata": {},
   "outputs": [
    {
     "name": "stderr",
     "output_type": "stream",
     "text": [
      "/usr/local/lib/python3.11/dist-packages/tqdm/auto.py:21: TqdmWarning: IProgress not found. Please update jupyter and ipywidgets. See https://ipywidgets.readthedocs.io/en/stable/user_install.html\n",
      "  from .autonotebook import tqdm as notebook_tqdm\n"
     ]
    },
    {
     "name": "stdout",
     "output_type": "stream",
     "text": [
      "lr: 0.0001; model name: roberta_sentobl; batchsize: 64; epoch: 13; gpu: 0, 1\n",
      "{'lr': [0.0001]}\n"
     ]
    },
    {
     "name": "stderr",
     "output_type": "stream",
     "text": [
      "Dataloader: loading items from current dataset: 100%|██████████| 1438/1438 [00:01<00:00, 1248.80it/s]\n",
      "Dataloader: loading items from current dataset:   0%|          | 0/6713 [00:00<?, ?it/s]Building prefix dict from the default dictionary ...\n",
      "Loading model from cache /tmp/jieba.cache\n",
      "Loading model cost 0.769 seconds.\n",
      "Prefix dict has been built successfully.\n",
      "Dataloader: loading items from current dataset: 100%|██████████| 6713/6713 [00:09<00:00, 734.94it/s]\n",
      "100%|██████████| 105/105 [01:12<00:00,  1.44it/s]\n"
     ]
    },
    {
     "name": "stdout",
     "output_type": "stream",
     "text": [
      "Training Epoch 1; Loss 0.5772483431157609; \n"
     ]
    },
    {
     "name": "stderr",
     "output_type": "stream",
     "text": [
      "100%|██████████| 23/23 [00:11<00:00,  1.99it/s]\n"
     ]
    },
    {
     "name": "stdout",
     "output_type": "stream",
     "text": [
      "curent {'auc': 0.9401594303846451, 'spauc': 0.7997303451337887, 'metric': 0.8451396205766444, 'f1_neg': 0.8537549407114624, 'f1_pos': 0.8365243004418262, 'recall': 0.8466682145344788, 'recall_neg': 0.9152542372881356, 'recall_pos': 0.7780821917808219, 'precision': 0.8522292993630574, 'precision_neg': 0.8, 'precision_pos': 0.9044585987261147, 'acc': 0.8456189151599444}\n",
      "Max {'auc': 0.9401594303846451, 'spauc': 0.7997303451337887, 'metric': 0.8451396205766444, 'f1_neg': 0.8537549407114624, 'f1_pos': 0.8365243004418262, 'recall': 0.8466682145344788, 'recall_neg': 0.9152542372881356, 'recall_pos': 0.7780821917808219, 'precision': 0.8522292993630574, 'precision_neg': 0.8, 'precision_pos': 0.9044585987261147, 'acc': 0.8456189151599444}\n"
     ]
    },
    {
     "name": "stderr",
     "output_type": "stream",
     "text": [
      "Dataloader: loading items from current dataset: 100%|██████████| 6713/6713 [00:08<00:00, 812.42it/s]\n",
      "100%|██████████| 105/105 [01:12<00:00,  1.46it/s]\n"
     ]
    },
    {
     "name": "stdout",
     "output_type": "stream",
     "text": [
      "Training Epoch 2; Loss 0.41142296705927167; \n"
     ]
    },
    {
     "name": "stderr",
     "output_type": "stream",
     "text": [
      "100%|██████████| 23/23 [00:11<00:00,  1.98it/s]\n"
     ]
    },
    {
     "name": "stdout",
     "output_type": "stream",
     "text": [
      "curent {'auc': 0.9583159198204473, 'spauc': 0.8474291137642109, 'metric': 0.890763056095183, 'f1_neg': 0.8882562277580072, 'f1_pos': 0.8932698844323589, 'recall': 0.8906779661016949, 'recall_neg': 0.8813559322033898, 'recall_pos': 0.9, 'precision': 0.890952549677914, 'precision_neg': 0.8952654232424677, 'precision_pos': 0.8866396761133604, 'acc': 0.8908205841446454}\n",
      "Max {'auc': 0.9583159198204473, 'spauc': 0.8474291137642109, 'metric': 0.890763056095183, 'f1_neg': 0.8882562277580072, 'f1_pos': 0.8932698844323589, 'recall': 0.8906779661016949, 'recall_neg': 0.8813559322033898, 'recall_pos': 0.9, 'precision': 0.890952549677914, 'precision_neg': 0.8952654232424677, 'precision_pos': 0.8866396761133604, 'acc': 0.8908205841446454}\n"
     ]
    },
    {
     "name": "stderr",
     "output_type": "stream",
     "text": [
      "Dataloader: loading items from current dataset: 100%|██████████| 6713/6713 [00:08<00:00, 815.18it/s]\n",
      "100%|██████████| 105/105 [01:12<00:00,  1.45it/s]\n"
     ]
    },
    {
     "name": "stdout",
     "output_type": "stream",
     "text": [
      "Training Epoch 3; Loss 0.32327428928443364; \n"
     ]
    },
    {
     "name": "stderr",
     "output_type": "stream",
     "text": [
      "100%|██████████| 23/23 [00:11<00:00,  1.98it/s]\n"
     ]
    },
    {
     "name": "stdout",
     "output_type": "stream",
     "text": [
      "curent {'auc': 0.963013698630137, 'spauc': 0.8658548507325895, 'metric': 0.8859385912473858, 'f1_neg': 0.8872077028885832, 'f1_pos': 0.8846694796061885, 'recall': 0.8863303923844903, 'recall_neg': 0.9110169491525424, 'recall_pos': 0.8616438356164383, 'precision': 0.8867853988129368, 'precision_neg': 0.8646112600536193, 'precision_pos': 0.9089595375722543, 'acc': 0.885952712100139}\n",
      "Max {'auc': 0.9583159198204473, 'spauc': 0.8474291137642109, 'metric': 0.890763056095183, 'f1_neg': 0.8882562277580072, 'f1_pos': 0.8932698844323589, 'recall': 0.8906779661016949, 'recall_neg': 0.8813559322033898, 'recall_pos': 0.9, 'precision': 0.890952549677914, 'precision_neg': 0.8952654232424677, 'precision_pos': 0.8866396761133604, 'acc': 0.8908205841446454}\n"
     ]
    },
    {
     "name": "stderr",
     "output_type": "stream",
     "text": [
      "Dataloader: loading items from current dataset: 100%|██████████| 6713/6713 [00:08<00:00, 822.92it/s]\n",
      "100%|██████████| 105/105 [01:12<00:00,  1.45it/s]\n"
     ]
    },
    {
     "name": "stdout",
     "output_type": "stream",
     "text": [
      "Training Epoch 4; Loss 0.2725326078278677; \n"
     ]
    },
    {
     "name": "stderr",
     "output_type": "stream",
     "text": [
      "100%|██████████| 23/23 [00:11<00:00,  1.98it/s]\n"
     ]
    },
    {
     "name": "stdout",
     "output_type": "stream",
     "text": [
      "curent {'auc': 0.9652755204705519, 'spauc': 0.8630788720116986, 'metric': 0.899354537677891, 'f1_neg': 0.8922155688622755, 'f1_pos': 0.9064935064935065, 'recall': 0.8989861465830817, 'recall_neg': 0.8418079096045198, 'recall_pos': 0.9561643835616438, 'precision': 0.9053864905244948, 'precision_neg': 0.9490445859872612, 'precision_pos': 0.8617283950617284, 'acc': 0.8998609179415855}\n",
      "Max {'auc': 0.9652755204705519, 'spauc': 0.8630788720116986, 'metric': 0.899354537677891, 'f1_neg': 0.8922155688622755, 'f1_pos': 0.9064935064935065, 'recall': 0.8989861465830817, 'recall_neg': 0.8418079096045198, 'recall_pos': 0.9561643835616438, 'precision': 0.9053864905244948, 'precision_neg': 0.9490445859872612, 'precision_pos': 0.8617283950617284, 'acc': 0.8998609179415855}\n"
     ]
    },
    {
     "name": "stderr",
     "output_type": "stream",
     "text": [
      "Dataloader: loading items from current dataset: 100%|██████████| 6713/6713 [00:08<00:00, 826.45it/s]\n",
      "100%|██████████| 105/105 [01:12<00:00,  1.45it/s]\n"
     ]
    },
    {
     "name": "stdout",
     "output_type": "stream",
     "text": [
      "Training Epoch 5; Loss 0.23902116815249125; \n"
     ]
    },
    {
     "name": "stderr",
     "output_type": "stream",
     "text": [
      "100%|██████████| 23/23 [00:11<00:00,  1.97it/s]\n"
     ]
    },
    {
     "name": "stdout",
     "output_type": "stream",
     "text": [
      "curent {'auc': 0.9606309496169028, 'spauc': 0.8459861343630728, 'metric': 0.8922101015611135, 'f1_neg': 0.8925848925848926, 'f1_pos': 0.8918353105373342, 'recall': 0.8924734927637179, 'recall_neg': 0.9096045197740112, 'recall_pos': 0.8753424657534247, 'precision': 0.8925760346812979, 'precision_neg': 0.8761904761904762, 'precision_pos': 0.9089615931721194, 'acc': 0.89221140472879}\n",
      "Max {'auc': 0.9652755204705519, 'spauc': 0.8630788720116986, 'metric': 0.899354537677891, 'f1_neg': 0.8922155688622755, 'f1_pos': 0.9064935064935065, 'recall': 0.8989861465830817, 'recall_neg': 0.8418079096045198, 'recall_pos': 0.9561643835616438, 'precision': 0.9053864905244948, 'precision_neg': 0.9490445859872612, 'precision_pos': 0.8617283950617284, 'acc': 0.8998609179415855}\n"
     ]
    },
    {
     "name": "stderr",
     "output_type": "stream",
     "text": [
      "Dataloader: loading items from current dataset: 100%|██████████| 6713/6713 [00:08<00:00, 796.29it/s]\n",
      "100%|██████████| 105/105 [01:12<00:00,  1.45it/s]\n"
     ]
    },
    {
     "name": "stdout",
     "output_type": "stream",
     "text": [
      "Training Epoch 6; Loss 0.21350210365794953; \n"
     ]
    },
    {
     "name": "stderr",
     "output_type": "stream",
     "text": [
      "100%|██████████| 23/23 [00:11<00:00,  1.98it/s]\n"
     ]
    },
    {
     "name": "stdout",
     "output_type": "stream",
     "text": [
      "curent {'auc': 0.9648072904573949, 'spauc': 0.863351785546988, 'metric': 0.8997909407665505, 'f1_neg': 0.8971428571428571, 'f1_pos': 0.9024390243902439, 'recall': 0.8996672084204009, 'recall_neg': 0.8870056497175142, 'recall_pos': 0.9123287671232877, 'precision': 0.9001379224844643, 'precision_neg': 0.9075144508670521, 'precision_pos': 0.8927613941018767, 'acc': 0.8998609179415855}\n",
      "Max {'auc': 0.9648072904573949, 'spauc': 0.863351785546988, 'metric': 0.8997909407665505, 'f1_neg': 0.8971428571428571, 'f1_pos': 0.9024390243902439, 'recall': 0.8996672084204009, 'recall_neg': 0.8870056497175142, 'recall_pos': 0.9123287671232877, 'precision': 0.9001379224844643, 'precision_neg': 0.9075144508670521, 'precision_pos': 0.8927613941018767, 'acc': 0.8998609179415855}\n"
     ]
    },
    {
     "name": "stderr",
     "output_type": "stream",
     "text": [
      "Dataloader: loading items from current dataset: 100%|██████████| 6713/6713 [00:08<00:00, 811.87it/s]\n",
      "100%|██████████| 105/105 [01:12<00:00,  1.45it/s]\n"
     ]
    },
    {
     "name": "stdout",
     "output_type": "stream",
     "text": [
      "Training Epoch 7; Loss 0.20308655514603569; \n"
     ]
    },
    {
     "name": "stderr",
     "output_type": "stream",
     "text": [
      "100%|██████████| 23/23 [00:11<00:00,  1.97it/s]\n"
     ]
    },
    {
     "name": "stdout",
     "output_type": "stream",
     "text": [
      "curent {'auc': 0.9617589582849625, 'spauc': 0.8552753779037796, 'metric': 0.89429252363929, 'f1_neg': 0.8935574229691877, 'f1_pos': 0.8950276243093923, 'recall': 0.8944005881897685, 'recall_neg': 0.9011299435028248, 'recall_pos': 0.8876712328767123, 'precision': 0.894309037449706, 'precision_neg': 0.8861111111111111, 'precision_pos': 0.9025069637883009, 'acc': 0.894297635605007}\n",
      "Max {'auc': 0.9648072904573949, 'spauc': 0.863351785546988, 'metric': 0.8997909407665505, 'f1_neg': 0.8971428571428571, 'f1_pos': 0.9024390243902439, 'recall': 0.8996672084204009, 'recall_neg': 0.8870056497175142, 'recall_pos': 0.9123287671232877, 'precision': 0.9001379224844643, 'precision_neg': 0.9075144508670521, 'precision_pos': 0.8927613941018767, 'acc': 0.8998609179415855}\n"
     ]
    },
    {
     "name": "stderr",
     "output_type": "stream",
     "text": [
      "Dataloader: loading items from current dataset: 100%|██████████| 6713/6713 [00:08<00:00, 807.82it/s]\n",
      "100%|██████████| 105/105 [01:12<00:00,  1.45it/s]\n"
     ]
    },
    {
     "name": "stdout",
     "output_type": "stream",
     "text": [
      "Training Epoch 8; Loss 0.19718763445104873; \n"
     ]
    },
    {
     "name": "stderr",
     "output_type": "stream",
     "text": [
      "100%|██████████| 23/23 [00:11<00:00,  1.99it/s]\n"
     ]
    },
    {
     "name": "stdout",
     "output_type": "stream",
     "text": [
      "curent {'auc': 0.9624467920439594, 'spauc': 0.8573171377480153, 'metric': 0.892904950556338, 'f1_neg': 0.8924581005586593, 'f1_pos': 0.8933518005540166, 'recall': 0.8930520083584862, 'recall_neg': 0.902542372881356, 'recall_pos': 0.8835616438356164, 'precision': 0.892979014810344, 'precision_neg': 0.8825966850828729, 'precision_pos': 0.9033613445378151, 'acc': 0.8929068150208623}\n",
      "Max {'auc': 0.9648072904573949, 'spauc': 0.863351785546988, 'metric': 0.8997909407665505, 'f1_neg': 0.8971428571428571, 'f1_pos': 0.9024390243902439, 'recall': 0.8996672084204009, 'recall_neg': 0.8870056497175142, 'recall_pos': 0.9123287671232877, 'precision': 0.9001379224844643, 'precision_neg': 0.9075144508670521, 'precision_pos': 0.8927613941018767, 'acc': 0.8998609179415855}\n"
     ]
    },
    {
     "name": "stderr",
     "output_type": "stream",
     "text": [
      "Dataloader: loading items from current dataset: 100%|██████████| 6713/6713 [00:08<00:00, 808.89it/s]\n",
      "100%|██████████| 105/105 [01:12<00:00,  1.45it/s]\n"
     ]
    },
    {
     "name": "stdout",
     "output_type": "stream",
     "text": [
      "Training Epoch 9; Loss 0.19235776449952807; \n"
     ]
    },
    {
     "name": "stderr",
     "output_type": "stream",
     "text": [
      "100%|██████████| 23/23 [00:11<00:00,  1.99it/s]\n"
     ]
    },
    {
     "name": "stdout",
     "output_type": "stream",
     "text": [
      "curent {'auc': 0.9639936924386656, 'spauc': 0.8583324168326552, 'metric': 0.8928817428991564, 'f1_neg': 0.8912429378531074, 'f1_pos': 0.8945205479452055, 'recall': 0.8928817428991564, 'recall_neg': 0.8912429378531074, 'recall_pos': 0.8945205479452055, 'precision': 0.8928817428991564, 'precision_neg': 0.8912429378531074, 'precision_pos': 0.8945205479452055, 'acc': 0.8929068150208623}\n",
      "Max {'auc': 0.9648072904573949, 'spauc': 0.863351785546988, 'metric': 0.8997909407665505, 'f1_neg': 0.8971428571428571, 'f1_pos': 0.9024390243902439, 'recall': 0.8996672084204009, 'recall_neg': 0.8870056497175142, 'recall_pos': 0.9123287671232877, 'precision': 0.9001379224844643, 'precision_neg': 0.9075144508670521, 'precision_pos': 0.8927613941018767, 'acc': 0.8998609179415855}\n"
     ]
    },
    {
     "name": "stderr",
     "output_type": "stream",
     "text": [
      "Dataloader: loading items from current dataset: 100%|██████████| 6713/6713 [00:08<00:00, 813.72it/s]\n",
      "100%|██████████| 105/105 [01:12<00:00,  1.45it/s]\n"
     ]
    },
    {
     "name": "stdout",
     "output_type": "stream",
     "text": [
      "Training Epoch 10; Loss 0.18277344320501604; \n"
     ]
    },
    {
     "name": "stderr",
     "output_type": "stream",
     "text": [
      "100%|██████████| 23/23 [00:11<00:00,  1.97it/s]\n"
     ]
    },
    {
     "name": "stdout",
     "output_type": "stream",
     "text": [
      "curent {'auc': 0.9602439826638804, 'spauc': 0.8484627228624149, 'metric': 0.89625337066873, 'f1_neg': 0.8925739005046863, 'f1_pos': 0.8999328408327737, 'recall': 0.8960510022444084, 'recall_neg': 0.8742937853107344, 'recall_pos': 0.9178082191780822, 'precision': 0.8971876024767105, 'precision_neg': 0.9116347569955817, 'precision_pos': 0.8827404479578392, 'acc': 0.8963838664812239}\n",
      "Max {'auc': 0.9648072904573949, 'spauc': 0.863351785546988, 'metric': 0.8997909407665505, 'f1_neg': 0.8971428571428571, 'f1_pos': 0.9024390243902439, 'recall': 0.8996672084204009, 'recall_neg': 0.8870056497175142, 'recall_pos': 0.9123287671232877, 'precision': 0.9001379224844643, 'precision_neg': 0.9075144508670521, 'precision_pos': 0.8927613941018767, 'acc': 0.8998609179415855}\n"
     ]
    },
    {
     "name": "stderr",
     "output_type": "stream",
     "text": [
      "Dataloader: loading items from current dataset: 100%|██████████| 6713/6713 [00:08<00:00, 807.56it/s]\n",
      "100%|██████████| 105/105 [01:12<00:00,  1.45it/s]\n"
     ]
    },
    {
     "name": "stdout",
     "output_type": "stream",
     "text": [
      "Training Epoch 11; Loss 0.18912920511904222; \n"
     ]
    },
    {
     "name": "stderr",
     "output_type": "stream",
     "text": [
      "100%|██████████| 23/23 [00:11<00:00,  1.99it/s]\n"
     ]
    },
    {
     "name": "stdout",
     "output_type": "stream",
     "text": [
      "curent {'auc': 0.9654873848773314, 'spauc': 0.8707784960427538, 'metric': 0.8880232932134816, 'f1_neg': 0.8893470790378006, 'f1_pos': 0.8866995073891626, 'recall': 0.8884277532698708, 'recall_neg': 0.9138418079096046, 'recall_pos': 0.863013698630137, 'precision': 0.8889266666279203, 'precision_neg': 0.8661311914323963, 'precision_pos': 0.9117221418234442, 'acc': 0.8880389429763561}\n",
      "Max {'auc': 0.9648072904573949, 'spauc': 0.863351785546988, 'metric': 0.8997909407665505, 'f1_neg': 0.8971428571428571, 'f1_pos': 0.9024390243902439, 'recall': 0.8996672084204009, 'recall_neg': 0.8870056497175142, 'recall_pos': 0.9123287671232877, 'precision': 0.9001379224844643, 'precision_neg': 0.9075144508670521, 'precision_pos': 0.8927613941018767, 'acc': 0.8998609179415855}\n"
     ]
    },
    {
     "name": "stderr",
     "output_type": "stream",
     "text": [
      "Dataloader: loading items from current dataset: 100%|██████████| 6713/6713 [00:08<00:00, 831.01it/s]\n",
      "100%|██████████| 105/105 [01:12<00:00,  1.45it/s]\n"
     ]
    },
    {
     "name": "stdout",
     "output_type": "stream",
     "text": [
      "Training Epoch 12; Loss 0.17618828401679085; \n"
     ]
    },
    {
     "name": "stderr",
     "output_type": "stream",
     "text": [
      "100%|██████████| 23/23 [00:11<00:00,  1.98it/s]\n"
     ]
    },
    {
     "name": "stdout",
     "output_type": "stream",
     "text": [
      "curent {'auc': 0.954544926863246, 'spauc': 0.8344046207927527, 'metric': 0.8731095849606304, 'f1_neg': 0.8617265087853323, 'f1_pos': 0.8844926611359285, 'recall': 0.8729626189923381, 'recall_neg': 0.7966101694915254, 'recall_pos': 0.9493150684931507, 'precision': 0.8831964646735728, 'precision_neg': 0.9384359400998337, 'precision_pos': 0.8279569892473119, 'acc': 0.8741307371349096}\n",
      "Max {'auc': 0.9648072904573949, 'spauc': 0.863351785546988, 'metric': 0.8997909407665505, 'f1_neg': 0.8971428571428571, 'f1_pos': 0.9024390243902439, 'recall': 0.8996672084204009, 'recall_neg': 0.8870056497175142, 'recall_pos': 0.9123287671232877, 'precision': 0.9001379224844643, 'precision_neg': 0.9075144508670521, 'precision_pos': 0.8927613941018767, 'acc': 0.8998609179415855}\n"
     ]
    },
    {
     "name": "stderr",
     "output_type": "stream",
     "text": [
      "Dataloader: loading items from current dataset: 100%|██████████| 6713/6713 [00:08<00:00, 813.08it/s]\n",
      "100%|██████████| 105/105 [01:12<00:00,  1.45it/s]\n"
     ]
    },
    {
     "name": "stdout",
     "output_type": "stream",
     "text": [
      "Training Epoch 13; Loss 0.17599365214506785; \n"
     ]
    },
    {
     "name": "stderr",
     "output_type": "stream",
     "text": [
      "100%|██████████| 23/23 [00:11<00:00,  1.97it/s]\n"
     ]
    },
    {
     "name": "stdout",
     "output_type": "stream",
     "text": [
      "curent {'auc': 0.9585142403838712, 'spauc': 0.8478720890920126, 'metric': 0.8857794903686138, 'f1_neg': 0.8813314037626628, 'f1_pos': 0.8902275769745649, 'recall': 0.8855641978175064, 'recall_neg': 0.8601694915254238, 'recall_pos': 0.910958904109589, 'precision': 0.8869898395140366, 'precision_neg': 0.9035608308605341, 'precision_pos': 0.8704188481675392, 'acc': 0.885952712100139}\n",
      "Max {'auc': 0.9648072904573949, 'spauc': 0.863351785546988, 'metric': 0.8997909407665505, 'f1_neg': 0.8971428571428571, 'f1_pos': 0.9024390243902439, 'recall': 0.8996672084204009, 'recall_neg': 0.8870056497175142, 'recall_pos': 0.9123287671232877, 'precision': 0.9001379224844643, 'precision_neg': 0.9075144508670521, 'precision_pos': 0.8927613941018767, 'acc': 0.8998609179415855}\n"
     ]
    },
    {
     "name": "stderr",
     "output_type": "stream",
     "text": [
      "Dataloader: loading items from current dataset: 100%|██████████| 1439/1439 [00:01<00:00, 1259.17it/s]\n",
      "100%|██████████| 23/23 [00:11<00:00,  1.97it/s]\n"
     ]
    },
    {
     "name": "stdout",
     "output_type": "stream",
     "text": [
      "test results: {'auc': 0.954223121114833, 'spauc': 0.8334269708044262, 'metric': 0.885335046132077, 'f1_neg': 0.8848569434752268, 'f1_pos': 0.8858131487889274, 'recall': 0.8853332406108864, 'recall_neg': 0.8842398884239888, 'recall_pos': 0.8864265927977839, 'precision': 0.8853377067927706, 'precision_neg': 0.8854748603351955, 'precision_pos': 0.8852005532503457, 'acc': 0.8853370396108409}\n",
      "best model path: ./param_model/roberta_sentobl/parameter_bertendef.pkl\n",
      "best metric: {'metric': 0.885335046132077}\n"
     ]
    },
    {
     "ename": "FileNotFoundError",
     "evalue": "[Errno 2] No such file or directory: './logs/json/roberta_sentobl0.1.json'",
     "output_type": "error",
     "traceback": [
      "\u001b[0;31m---------------------------------------------------------------------------\u001b[0m",
      "\u001b[0;31mFileNotFoundError\u001b[0m                         Traceback (most recent call last)",
      "Cell \u001b[0;32mIn[1], line 64\u001b[0m\n\u001b[1;32m     42\u001b[0m config \u001b[38;5;241m=\u001b[39m {\n\u001b[1;32m     43\u001b[0m         \u001b[38;5;124m'\u001b[39m\u001b[38;5;124muse_cuda\u001b[39m\u001b[38;5;124m'\u001b[39m: \u001b[38;5;28;01mTrue\u001b[39;00m,\n\u001b[1;32m     44\u001b[0m         \u001b[38;5;124m'\u001b[39m\u001b[38;5;124mbatchsize\u001b[39m\u001b[38;5;124m'\u001b[39m: args[\u001b[38;5;124m'\u001b[39m\u001b[38;5;124mbatchsize\u001b[39m\u001b[38;5;124m'\u001b[39m],\n\u001b[0;32m   (...)\u001b[0m\n\u001b[1;32m     60\u001b[0m         \u001b[38;5;124m'\u001b[39m\u001b[38;5;124mparam_log_dir\u001b[39m\u001b[38;5;124m'\u001b[39m: args[\u001b[38;5;124m'\u001b[39m\u001b[38;5;124mparam_log_dir\u001b[39m\u001b[38;5;124m'\u001b[39m]\n\u001b[1;32m     61\u001b[0m }\n\u001b[1;32m     63\u001b[0m \u001b[38;5;66;03m# 不需要检查 __name__ == '__main__' 在 Jupyter 中\u001b[39;00m\n\u001b[0;32m---> 64\u001b[0m \u001b[43mRun\u001b[49m\u001b[43m(\u001b[49m\u001b[43mconfig\u001b[49m\u001b[38;5;241;43m=\u001b[39;49m\u001b[43mconfig\u001b[49m\u001b[43m)\u001b[49m\u001b[38;5;241;43m.\u001b[39;49m\u001b[43mmain\u001b[49m\u001b[43m(\u001b[49m\u001b[43m)\u001b[49m\n",
      "File \u001b[0;32m/mySeoSent/mySeoSent_ch/mySeoSent_ch/grid_search.py:99\u001b[0m, in \u001b[0;36mRun.main\u001b[0;34m(self)\u001b[0m\n\u001b[1;32m     97\u001b[0m     logger\u001b[38;5;241m.\u001b[39minfo(\u001b[38;5;124m\"\u001b[39m\u001b[38;5;124mbest metric:\u001b[39m\u001b[38;5;124m\"\u001b[39m \u001b[38;5;241m+\u001b[39m \u001b[38;5;28mstr\u001b[39m(best_metric))\n\u001b[1;32m     98\u001b[0m     logger\u001b[38;5;241m.\u001b[39minfo(\u001b[38;5;124m'\u001b[39m\u001b[38;5;124m--------------------------------------\u001b[39m\u001b[38;5;130;01m\\n\u001b[39;00m\u001b[38;5;124m'\u001b[39m)\n\u001b[0;32m---> 99\u001b[0m \u001b[38;5;28;01mwith\u001b[39;00m \u001b[38;5;28;43mopen\u001b[39;49m\u001b[43m(\u001b[49m\u001b[43mjson_path\u001b[49m\u001b[43m,\u001b[49m\u001b[43m \u001b[49m\u001b[38;5;124;43m'\u001b[39;49m\u001b[38;5;124;43mw\u001b[39;49m\u001b[38;5;124;43m'\u001b[39;49m\u001b[43m)\u001b[49m \u001b[38;5;28;01mas\u001b[39;00m file:\n\u001b[1;32m    100\u001b[0m     json\u001b[38;5;241m.\u001b[39mdump(json_result, file, indent\u001b[38;5;241m=\u001b[39m\u001b[38;5;241m4\u001b[39m, ensure_ascii\u001b[38;5;241m=\u001b[39m\u001b[38;5;28;01mFalse\u001b[39;00m)\n",
      "\u001b[0;31mFileNotFoundError\u001b[0m: [Errno 2] No such file or directory: './logs/json/roberta_sentobl0.1.json'"
     ]
    }
   ],
   "source": [
    "import os\n",
    "import torch\n",
    "import numpy as np\n",
    "import random\n",
    "from grid_search import Run\n",
    "import warnings\n",
    "\n",
    "# 忽略特定的警告\n",
    "warnings.filterwarnings(\"ignore\", category=FutureWarning)\n",
    "\n",
    "# 直接设置参数\n",
    "args = {\n",
    "    'model_name': 'roberta_sentobl',\n",
    "    'epoch': 13,\n",
    "    'aug_prob': 0.1,\n",
    "    'max_len': 384,\n",
    "    'early_stop': 15,\n",
    "    'root_path': './data/',\n",
    "    'batchsize':64,\n",
    "    'seed': 2024,\n",
    "    'gpu': '0, 1',\n",
    "    'emb_dim': 768,\n",
    "    'lr': 0.0001,\n",
    "    'emb_type': 'bert',\n",
    "    'save_log_dir': './logs',\n",
    "    'save_param_dir': './param_model',\n",
    "    'param_log_dir': './logs/param'\n",
    "}\n",
    "\n",
    "os.environ[\"CUDA_VISIBLE_DEVICES\"] = args['gpu']\n",
    "\n",
    "seed = args['seed']\n",
    "random.seed(seed)\n",
    "np.random.seed(seed)\n",
    "torch.manual_seed(seed)\n",
    "torch.cuda.manual_seed(seed)\n",
    "torch.backends.cudnn.benchmark = False\n",
    "torch.backends.cudnn.deterministic = True\n",
    "\n",
    "print('lr: {}; model name: {}; batchsize: {}; epoch: {}; gpu: {}'.format(args['lr'], args['model_name'], args['batchsize'], args['epoch'], args['gpu']))\n",
    "\n",
    "config = {\n",
    "        'use_cuda': True,\n",
    "        'batchsize': args['batchsize'],\n",
    "        'max_len': args['max_len'],\n",
    "        'early_stop': args['early_stop'],\n",
    "        'root_path': args['root_path'],\n",
    "        'aug_prob': args['aug_prob'],\n",
    "        'weight_decay': 5e-5,\n",
    "        'model': {\n",
    "            'mlp': {'dims': [384], 'dropout': 0.2}\n",
    "        },\n",
    "        'emb_dim': args['emb_dim'],\n",
    "        'lr': args['lr'],\n",
    "        'epoch': args['epoch'],\n",
    "        'model_name': args['model_name'],\n",
    "        'seed': args['seed'],\n",
    "        'save_log_dir': args['save_log_dir'],\n",
    "        'save_param_dir': args['save_param_dir'],\n",
    "        'param_log_dir': args['param_log_dir']\n",
    "}\n",
    "\n",
    "# 不需要检查 __name__ == '__main__' 在 Jupyter 中\n",
    "Run(config=config).main()"
   ]
  },
  {
   "cell_type": "code",
   "execution_count": 2,
   "id": "8dd8f6ec-7b75-424e-98bc-6a942e09cd2b",
   "metadata": {},
   "outputs": [],
   "source": [
    "arr=np.load('./pred.npy')"
   ]
  },
  {
   "cell_type": "code",
   "execution_count": 3,
   "id": "41ee3ea1-a714-48c5-8923-83f2117c1688",
   "metadata": {},
   "outputs": [
    {
     "data": {
      "text/plain": [
       "(9692,)"
      ]
     },
     "execution_count": 3,
     "metadata": {},
     "output_type": "execute_result"
    }
   ],
   "source": [
    "arr.shape"
   ]
  },
  {
   "cell_type": "code",
   "execution_count": 12,
   "id": "eec1d801-7a16-4762-9f29-a100f712fd9c",
   "metadata": {},
   "outputs": [],
   "source": [
    "import pandas as pd\n",
    "import numpy as np\n",
    "path ='./data/test.json'\n",
    "df = pd.read_json(path,orient='records', lines=True)\n",
    "arr_test= df['label'].values"
   ]
  },
  {
   "cell_type": "code",
   "execution_count": 13,
   "id": "aeb2d4c7-08ca-4ccd-b892-f963a9a475df",
   "metadata": {},
   "outputs": [
    {
     "data": {
      "text/plain": [
       "(9692,)"
      ]
     },
     "execution_count": 13,
     "metadata": {},
     "output_type": "execute_result"
    }
   ],
   "source": [
    "arr_test.shape"
   ]
  },
  {
   "cell_type": "code",
   "execution_count": 22,
   "id": "4d4e1fc7-c65a-4d79-ba1c-a12044f64402",
   "metadata": {},
   "outputs": [],
   "source": [
    "arr_0 = arr[arr_test==0]"
   ]
  },
  {
   "cell_type": "code",
   "execution_count": null,
   "id": "51aa88e5-4520-48f7-8983-c0efc6b8086f",
   "metadata": {},
   "outputs": [],
   "source": []
  },
  {
   "cell_type": "code",
   "execution_count": 23,
   "id": "1d60a05c-d84b-471f-b08d-6c57fe20f966",
   "metadata": {},
   "outputs": [
    {
     "name": "stdout",
     "output_type": "stream",
     "text": [
      "各区间统计结果：\n",
      "区间 0.0 到 0.1: 0.7786802030456853 个元素\n",
      "区间 0.1 到 0.2: 0.0416243654822335 个元素\n",
      "区间 0.2 到 0.3: 0.031878172588832486 个元素\n",
      "区间 0.3 到 0.4: 0.03695431472081218 个元素\n",
      "区间 0.4 到 0.5: 0.02862944162436548 个元素\n",
      "区间 0.5 到 0.6: 0.022944162436548222 个元素\n",
      "区间 0.6 到 0.7: 0.012385786802030457 个元素\n",
      "区间 0.7 到 0.8: 0.007106598984771574 个元素\n",
      "区间 0.8 到 0.9: 0.012588832487309645 个元素\n",
      "区间 0.9 到 1.0: 0.02720812182741117 个元素\n"
     ]
    }
   ],
   "source": [
    "data = arr_0  # 这里用随机数生成一个示例数组\n",
    "\n",
    "# 定义区间的边界\n",
    "bins = np.arange(0, 1.1, 0.1)  # 从0到1，步长为0.1\n",
    "\n",
    "# 使用 numpy 的 histogram 函数进行统计\n",
    "hist, bin_edges = np.histogram(data, bins=bins)\n",
    "\n",
    "# 输出每个区间的统计结果\n",
    "print(\"各区间统计结果：\")\n",
    "for i in range(len(bin_edges)-1):\n",
    "    print(f\"区间 {bin_edges[i]:.1f} 到 {bin_edges[i+1]:.1f}: {hist[i]/data.shape[0]} 个元素\")"
   ]
  },
  {
   "cell_type": "code",
   "execution_count": null,
   "id": "e6c4ccb8-5262-4daf-8cf2-5267694b75f3",
   "metadata": {},
   "outputs": [],
   "source": []
  }
 ],
 "metadata": {
  "kernelspec": {
   "display_name": "Python 3 (ipykernel)",
   "language": "python",
   "name": "python3"
  },
  "language_info": {
   "codemirror_mode": {
    "name": "ipython",
    "version": 3
   },
   "file_extension": ".py",
   "mimetype": "text/x-python",
   "name": "python",
   "nbconvert_exporter": "python",
   "pygments_lexer": "ipython3",
   "version": "3.11.8"
  }
 },
 "nbformat": 4,
 "nbformat_minor": 5
}
