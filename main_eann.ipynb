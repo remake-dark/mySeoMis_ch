{
 "cells": [
  {
   "cell_type": "code",
   "execution_count": 1,
   "id": "50274e25-e7c2-4f2b-9de3-d94bedbc67d7",
   "metadata": {},
   "outputs": [
    {
     "name": "stderr",
     "output_type": "stream",
     "text": [
      "/usr/local/lib/python3.11/dist-packages/tqdm/auto.py:21: TqdmWarning: IProgress not found. Please update jupyter and ipywidgets. See https://ipywidgets.readthedocs.io/en/stable/user_install.html\n",
      "  from .autonotebook import tqdm as notebook_tqdm\n"
     ]
    },
    {
     "name": "stdout",
     "output_type": "stream",
     "text": [
      "lr: 0.0001; model name: eann; batchsize: 64; epoch: 20; gpu: 0\n",
      "{'lr': [0.0001]}\n"
     ]
    },
    {
     "name": "stderr",
     "output_type": "stream",
     "text": [
      "Dataloader: loading items from current dataset: 100%|██████████| 1438/1438 [00:01<00:00, 1226.11it/s]\n",
      "Dataloader: loading items from current dataset: 100%|██████████| 6713/6713 [00:06<00:00, 1114.63it/s]\n",
      "100%|██████████| 105/105 [00:06<00:00, 15.01it/s]\n"
     ]
    },
    {
     "name": "stdout",
     "output_type": "stream",
     "text": [
      "Training Epoch 1; Loss 2.6335301694415865; \n"
     ]
    },
    {
     "name": "stderr",
     "output_type": "stream",
     "text": [
      "100%|██████████| 23/23 [00:00<00:00, 26.41it/s]\n"
     ]
    },
    {
     "name": "stdout",
     "output_type": "stream",
     "text": [
      "curent {'auc': 0.800383097283492, 'spauc': 0.6165646295911592, 'metric': 0.7252745392504674, 'f1_neg': 0.7220267417311752, 'f1_pos': 0.7285223367697594, 'recall': 0.7253018342233573, 'recall_neg': 0.7245762711864406, 'recall_pos': 0.726027397260274, 'precision': 0.725264786961358, 'precision_neg': 0.7194950911640954, 'precision_pos': 0.7310344827586207, 'acc': 0.7253129346314325}\n",
      "Max {'auc': 0.800383097283492, 'spauc': 0.6165646295911592, 'metric': 0.7252745392504674, 'f1_neg': 0.7220267417311752, 'f1_pos': 0.7285223367697594, 'recall': 0.7253018342233573, 'recall_neg': 0.7245762711864406, 'recall_pos': 0.726027397260274, 'precision': 0.725264786961358, 'precision_neg': 0.7194950911640954, 'precision_pos': 0.7310344827586207, 'acc': 0.7253129346314325}\n"
     ]
    },
    {
     "name": "stderr",
     "output_type": "stream",
     "text": [
      "Dataloader: loading items from current dataset: 100%|██████████| 6713/6713 [00:05<00:00, 1121.19it/s]\n",
      "100%|██████████| 105/105 [00:04<00:00, 24.22it/s]\n"
     ]
    },
    {
     "name": "stdout",
     "output_type": "stream",
     "text": [
      "Training Epoch 2; Loss 2.4236309278578987; \n"
     ]
    },
    {
     "name": "stderr",
     "output_type": "stream",
     "text": [
      "100%|██████████| 23/23 [00:00<00:00, 27.48it/s]\n"
     ]
    },
    {
     "name": "stdout",
     "output_type": "stream",
     "text": [
      "curent {'auc': 0.8912971132265305, 'spauc': 0.7112493329911731, 'metric': 0.8108392528282031, 'f1_neg': 0.8121546961325967, 'f1_pos': 0.8095238095238095, 'recall': 0.8111446482470397, 'recall_neg': 0.8305084745762712, 'recall_pos': 0.7917808219178082, 'precision': 0.8113374119104778, 'precision_neg': 0.7945945945945946, 'precision_pos': 0.828080229226361, 'acc': 0.8108484005563282}\n",
      "Max {'auc': 0.8912971132265305, 'spauc': 0.7112493329911731, 'metric': 0.8108392528282031, 'f1_neg': 0.8121546961325967, 'f1_pos': 0.8095238095238095, 'recall': 0.8111446482470397, 'recall_neg': 0.8305084745762712, 'recall_pos': 0.7917808219178082, 'precision': 0.8113374119104778, 'precision_neg': 0.7945945945945946, 'precision_pos': 0.828080229226361, 'acc': 0.8108484005563282}\n"
     ]
    },
    {
     "name": "stderr",
     "output_type": "stream",
     "text": [
      "Dataloader: loading items from current dataset: 100%|██████████| 6713/6713 [00:05<00:00, 1127.44it/s]\n",
      "100%|██████████| 105/105 [00:04<00:00, 24.07it/s]\n"
     ]
    },
    {
     "name": "stdout",
     "output_type": "stream",
     "text": [
      "Training Epoch 3; Loss 2.2905653249649776; \n"
     ]
    },
    {
     "name": "stderr",
     "output_type": "stream",
     "text": [
      "100%|██████████| 23/23 [00:00<00:00, 27.15it/s]\n"
     ]
    },
    {
     "name": "stdout",
     "output_type": "stream",
     "text": [
      "curent {'auc': 0.9243615045275132, 'spauc': 0.7609766231227011, 'metric': 0.8572469716009656, 'f1_neg': 0.851985559566787, 'f1_pos': 0.8625083836351441, 'recall': 0.8570776255707763, 'recall_neg': 0.8333333333333334, 'recall_pos': 0.8808219178082192, 'precision': 0.8582163716015427, 'precision_neg': 0.8714918759231906, 'precision_pos': 0.8449408672798949, 'acc': 0.8574408901251739}\n",
      "Max {'auc': 0.9243615045275132, 'spauc': 0.7609766231227011, 'metric': 0.8572469716009656, 'f1_neg': 0.851985559566787, 'f1_pos': 0.8625083836351441, 'recall': 0.8570776255707763, 'recall_neg': 0.8333333333333334, 'recall_pos': 0.8808219178082192, 'precision': 0.8582163716015427, 'precision_neg': 0.8714918759231906, 'precision_pos': 0.8449408672798949, 'acc': 0.8574408901251739}\n"
     ]
    },
    {
     "name": "stderr",
     "output_type": "stream",
     "text": [
      "Dataloader: loading items from current dataset: 100%|██████████| 6713/6713 [00:05<00:00, 1121.93it/s]\n",
      "100%|██████████| 105/105 [00:04<00:00, 23.64it/s]\n"
     ]
    },
    {
     "name": "stdout",
     "output_type": "stream",
     "text": [
      "Training Epoch 4; Loss 2.2132957004365466; \n"
     ]
    },
    {
     "name": "stderr",
     "output_type": "stream",
     "text": [
      "100%|██████████| 23/23 [00:00<00:00, 24.83it/s]\n"
     ]
    },
    {
     "name": "stdout",
     "output_type": "stream",
     "text": [
      "curent {'auc': 0.9349160281711941, 'spauc': 0.7968077263043841, 'metric': 0.8505995888115776, 'f1_neg': 0.8367816091954023, 'f1_pos': 0.864417568427753, 'recall': 0.850661713489668, 'recall_neg': 0.7711864406779662, 'recall_pos': 0.9301369863013699, 'precision': 0.8609725201512914, 'precision_neg': 0.914572864321608, 'precision_pos': 0.807372175980975, 'acc': 0.8518776077885952}\n",
      "Max {'auc': 0.9243615045275132, 'spauc': 0.7609766231227011, 'metric': 0.8572469716009656, 'f1_neg': 0.851985559566787, 'f1_pos': 0.8625083836351441, 'recall': 0.8570776255707763, 'recall_neg': 0.8333333333333334, 'recall_pos': 0.8808219178082192, 'precision': 0.8582163716015427, 'precision_neg': 0.8714918759231906, 'precision_pos': 0.8449408672798949, 'acc': 0.8574408901251739}\n"
     ]
    },
    {
     "name": "stderr",
     "output_type": "stream",
     "text": [
      "Dataloader: loading items from current dataset: 100%|██████████| 6713/6713 [00:05<00:00, 1134.32it/s]\n",
      "100%|██████████| 105/105 [00:04<00:00, 24.68it/s]\n"
     ]
    },
    {
     "name": "stdout",
     "output_type": "stream",
     "text": [
      "Training Epoch 5; Loss 2.114606423605056; \n"
     ]
    },
    {
     "name": "stderr",
     "output_type": "stream",
     "text": [
      "100%|██████████| 23/23 [00:00<00:00, 25.95it/s]\n"
     ]
    },
    {
     "name": "stdout",
     "output_type": "stream",
     "text": [
      "curent {'auc': 0.9419123906818357, 'spauc': 0.8050053157039336, 'metric': 0.8597718904075391, 'f1_neg': 0.8470948012232415, 'f1_pos': 0.8724489795918368, 'recall': 0.8597360885380388, 'recall_neg': 0.7824858757062146, 'recall_pos': 0.936986301369863, 'precision': 0.8697812251392203, 'precision_neg': 0.9233333333333333, 'precision_pos': 0.8162291169451074, 'acc': 0.8609179415855355}\n",
      "Max {'auc': 0.9419123906818357, 'spauc': 0.8050053157039336, 'metric': 0.8597718904075391, 'f1_neg': 0.8470948012232415, 'f1_pos': 0.8724489795918368, 'recall': 0.8597360885380388, 'recall_neg': 0.7824858757062146, 'recall_pos': 0.936986301369863, 'precision': 0.8697812251392203, 'precision_neg': 0.9233333333333333, 'precision_pos': 0.8162291169451074, 'acc': 0.8609179415855355}\n"
     ]
    },
    {
     "name": "stderr",
     "output_type": "stream",
     "text": [
      "Dataloader: loading items from current dataset: 100%|██████████| 6713/6713 [00:05<00:00, 1124.12it/s]\n",
      "100%|██████████| 105/105 [00:04<00:00, 23.92it/s]\n"
     ]
    },
    {
     "name": "stdout",
     "output_type": "stream",
     "text": [
      "Training Epoch 6; Loss 2.068996655373346; \n"
     ]
    },
    {
     "name": "stderr",
     "output_type": "stream",
     "text": [
      "100%|██████████| 23/23 [00:00<00:00, 24.98it/s]\n"
     ]
    },
    {
     "name": "stdout",
     "output_type": "stream",
     "text": [
      "curent {'auc': 0.9398672703351133, 'spauc': 0.8086753917531232, 'metric': 0.8664440217717296, 'f1_neg': 0.8642149929278642, 'f1_pos': 0.8686730506155951, 'recall': 0.866428681990558, 'recall_neg': 0.8629943502824858, 'recall_pos': 0.8698630136986302, 'precision': 0.8664627161411167, 'precision_neg': 0.8654390934844193, 'precision_pos': 0.8674863387978142, 'acc': 0.866481223922114}\n",
      "Max {'auc': 0.9398672703351133, 'spauc': 0.8086753917531232, 'metric': 0.8664440217717296, 'f1_neg': 0.8642149929278642, 'f1_pos': 0.8686730506155951, 'recall': 0.866428681990558, 'recall_neg': 0.8629943502824858, 'recall_pos': 0.8698630136986302, 'precision': 0.8664627161411167, 'precision_neg': 0.8654390934844193, 'precision_pos': 0.8674863387978142, 'acc': 0.866481223922114}\n"
     ]
    },
    {
     "name": "stderr",
     "output_type": "stream",
     "text": [
      "Dataloader: loading items from current dataset: 100%|██████████| 6713/6713 [00:05<00:00, 1133.96it/s]\n",
      "100%|██████████| 105/105 [00:04<00:00, 24.00it/s]\n"
     ]
    },
    {
     "name": "stdout",
     "output_type": "stream",
     "text": [
      "Training Epoch 7; Loss 2.0787918420065017; \n"
     ]
    },
    {
     "name": "stderr",
     "output_type": "stream",
     "text": [
      "100%|██████████| 23/23 [00:00<00:00, 26.94it/s]\n"
     ]
    },
    {
     "name": "stdout",
     "output_type": "stream",
     "text": [
      "curent {'auc': 0.9394648247039703, 'spauc': 0.8117222473411296, 'metric': 0.8463101643424471, 'f1_neg': 0.8316679477325134, 'f1_pos': 0.8609523809523809, 'recall': 0.8464457085364909, 'recall_neg': 0.7641242937853108, 'recall_pos': 0.9287671232876712, 'precision': 0.8573385752916172, 'precision_neg': 0.9123102866779089, 'precision_pos': 0.8023668639053254, 'acc': 0.8477051460361613}\n",
      "Max {'auc': 0.9398672703351133, 'spauc': 0.8086753917531232, 'metric': 0.8664440217717296, 'f1_neg': 0.8642149929278642, 'f1_pos': 0.8686730506155951, 'recall': 0.866428681990558, 'recall_neg': 0.8629943502824858, 'recall_pos': 0.8698630136986302, 'precision': 0.8664627161411167, 'precision_neg': 0.8654390934844193, 'precision_pos': 0.8674863387978142, 'acc': 0.866481223922114}\n"
     ]
    },
    {
     "name": "stderr",
     "output_type": "stream",
     "text": [
      "Dataloader: loading items from current dataset: 100%|██████████| 6713/6713 [00:06<00:00, 1108.72it/s]\n",
      "100%|██████████| 105/105 [00:04<00:00, 24.71it/s]\n"
     ]
    },
    {
     "name": "stdout",
     "output_type": "stream",
     "text": [
      "Training Epoch 8; Loss 2.046299622172401; \n"
     ]
    },
    {
     "name": "stderr",
     "output_type": "stream",
     "text": [
      "100%|██████████| 23/23 [00:00<00:00, 25.52it/s]\n"
     ]
    },
    {
     "name": "stdout",
     "output_type": "stream",
     "text": [
      "curent {'auc': 0.9392316771147744, 'spauc': 0.8066438152497566, 'metric': 0.8507498468730676, 'f1_neg': 0.8377760853008378, 'f1_pos': 0.8637236084452975, 'recall': 0.8507468462193328, 'recall_neg': 0.7768361581920904, 'recall_pos': 0.9246575342465754, 'precision': 0.8597075193713849, 'precision_neg': 0.9090909090909091, 'precision_pos': 0.8103241296518607, 'acc': 0.8518776077885952}\n",
      "Max {'auc': 0.9398672703351133, 'spauc': 0.8086753917531232, 'metric': 0.8664440217717296, 'f1_neg': 0.8642149929278642, 'f1_pos': 0.8686730506155951, 'recall': 0.866428681990558, 'recall_neg': 0.8629943502824858, 'recall_pos': 0.8698630136986302, 'precision': 0.8664627161411167, 'precision_neg': 0.8654390934844193, 'precision_pos': 0.8674863387978142, 'acc': 0.866481223922114}\n"
     ]
    },
    {
     "name": "stderr",
     "output_type": "stream",
     "text": [
      "Dataloader: loading items from current dataset: 100%|██████████| 6713/6713 [00:05<00:00, 1145.37it/s]\n",
      "100%|██████████| 105/105 [00:04<00:00, 24.39it/s]\n"
     ]
    },
    {
     "name": "stdout",
     "output_type": "stream",
     "text": [
      "Training Epoch 9; Loss 2.052237141700018; \n"
     ]
    },
    {
     "name": "stderr",
     "output_type": "stream",
     "text": [
      "100%|██████████| 23/23 [00:00<00:00, 26.09it/s]\n"
     ]
    },
    {
     "name": "stdout",
     "output_type": "stream",
     "text": [
      "curent {'auc': 0.9406083120501509, 'spauc': 0.8090542120334503, 'metric': 0.866356101046126, 'f1_neg': 0.8622668579626973, 'f1_pos': 0.8704453441295547, 'recall': 0.8662158501663958, 'recall_neg': 0.8488700564971752, 'recall_pos': 0.8835616438356164, 'precision': 0.8669030302090441, 'precision_neg': 0.8760932944606414, 'precision_pos': 0.8577127659574468, 'acc': 0.866481223922114}\n",
      "Max {'auc': 0.9398672703351133, 'spauc': 0.8086753917531232, 'metric': 0.8664440217717296, 'f1_neg': 0.8642149929278642, 'f1_pos': 0.8686730506155951, 'recall': 0.866428681990558, 'recall_neg': 0.8629943502824858, 'recall_pos': 0.8698630136986302, 'precision': 0.8664627161411167, 'precision_neg': 0.8654390934844193, 'precision_pos': 0.8674863387978142, 'acc': 0.866481223922114}\n"
     ]
    },
    {
     "name": "stderr",
     "output_type": "stream",
     "text": [
      "Dataloader: loading items from current dataset: 100%|██████████| 6713/6713 [00:05<00:00, 1126.63it/s]\n",
      "100%|██████████| 105/105 [00:04<00:00, 24.61it/s]\n"
     ]
    },
    {
     "name": "stdout",
     "output_type": "stream",
     "text": [
      "Training Epoch 10; Loss 2.050233208565485; \n"
     ]
    },
    {
     "name": "stderr",
     "output_type": "stream",
     "text": [
      "100%|██████████| 23/23 [00:00<00:00, 26.71it/s]\n"
     ]
    },
    {
     "name": "stdout",
     "output_type": "stream",
     "text": [
      "curent {'auc': 0.9373287671232876, 'spauc': 0.8041825017617179, 'metric': 0.8638735525551198, 'f1_neg': 0.8554484803558191, 'f1_pos': 0.8722986247544204, 'recall': 0.8636502592678585, 'recall_neg': 0.8149717514124294, 'recall_pos': 0.9123287671232877, 'precision': 0.8678948161690583, 'precision_neg': 0.9001560062402496, 'precision_pos': 0.835633626097867, 'acc': 0.8643949930458971}\n",
      "Max {'auc': 0.9398672703351133, 'spauc': 0.8086753917531232, 'metric': 0.8664440217717296, 'f1_neg': 0.8642149929278642, 'f1_pos': 0.8686730506155951, 'recall': 0.866428681990558, 'recall_neg': 0.8629943502824858, 'recall_pos': 0.8698630136986302, 'precision': 0.8664627161411167, 'precision_neg': 0.8654390934844193, 'precision_pos': 0.8674863387978142, 'acc': 0.866481223922114}\n"
     ]
    },
    {
     "name": "stderr",
     "output_type": "stream",
     "text": [
      "Dataloader: loading items from current dataset: 100%|██████████| 6713/6713 [00:06<00:00, 1117.55it/s]\n",
      "100%|██████████| 105/105 [00:04<00:00, 23.96it/s]\n"
     ]
    },
    {
     "name": "stdout",
     "output_type": "stream",
     "text": [
      "Training Epoch 11; Loss 2.043532471429734; \n"
     ]
    },
    {
     "name": "stderr",
     "output_type": "stream",
     "text": [
      "100%|██████████| 23/23 [00:00<00:00, 24.62it/s]\n"
     ]
    },
    {
     "name": "stdout",
     "output_type": "stream",
     "text": [
      "curent {'auc': 0.9385902793901401, 'spauc': 0.8124024945111793, 'metric': 0.850890512157067, 'f1_neg': 0.8387585162755489, 'f1_pos': 0.8630225080385852, 'recall': 0.8508319789489978, 'recall_neg': 0.7824858757062146, 'recall_pos': 0.9191780821917809, 'precision': 0.8585426862425232, 'precision_neg': 0.9037520391517129, 'precision_pos': 0.8133333333333334, 'acc': 0.8518776077885952}\n",
      "Max {'auc': 0.9398672703351133, 'spauc': 0.8086753917531232, 'metric': 0.8664440217717296, 'f1_neg': 0.8642149929278642, 'f1_pos': 0.8686730506155951, 'recall': 0.866428681990558, 'recall_neg': 0.8629943502824858, 'recall_pos': 0.8698630136986302, 'precision': 0.8664627161411167, 'precision_neg': 0.8654390934844193, 'precision_pos': 0.8674863387978142, 'acc': 0.866481223922114}\n"
     ]
    },
    {
     "name": "stderr",
     "output_type": "stream",
     "text": [
      "Dataloader: loading items from current dataset: 100%|██████████| 1439/1439 [00:01<00:00, 1250.86it/s]\n",
      "100%|██████████| 23/23 [00:01<00:00, 21.92it/s]\n"
     ]
    },
    {
     "name": "stdout",
     "output_type": "stream",
     "text": [
      "test results: {'auc': 0.9185781012760927, 'spauc': 0.7672066732507739, 'metric': 0.8339008884962984, 'f1_neg': 0.8325157673440785, 'f1_pos': 0.8352860096485183, 'recall': 0.833893531450295, 'recall_neg': 0.8284518828451883, 'recall_pos': 0.8393351800554016, 'precision': 0.8339477192372341, 'precision_neg': 0.8366197183098592, 'precision_pos': 0.831275720164609, 'acc': 0.8339124391938847}\n",
      "best model path: ./param_model/eann/parameter_eann.pkl\n",
      "best metric: {'metric': 0.8339008884962984}\n"
     ]
    },
    {
     "ename": "FileNotFoundError",
     "evalue": "[Errno 2] No such file or directory: './logs/json/eann0.1.json'",
     "output_type": "error",
     "traceback": [
      "\u001b[0;31m---------------------------------------------------------------------------\u001b[0m",
      "\u001b[0;31mFileNotFoundError\u001b[0m                         Traceback (most recent call last)",
      "Cell \u001b[0;32mIn[1], line 65\u001b[0m\n\u001b[1;32m     43\u001b[0m config \u001b[38;5;241m=\u001b[39m {\n\u001b[1;32m     44\u001b[0m         \u001b[38;5;124m'\u001b[39m\u001b[38;5;124muse_cuda\u001b[39m\u001b[38;5;124m'\u001b[39m: \u001b[38;5;28;01mTrue\u001b[39;00m,\n\u001b[1;32m     45\u001b[0m         \u001b[38;5;124m'\u001b[39m\u001b[38;5;124mbatchsize\u001b[39m\u001b[38;5;124m'\u001b[39m: args[\u001b[38;5;124m'\u001b[39m\u001b[38;5;124mbatchsize\u001b[39m\u001b[38;5;124m'\u001b[39m],\n\u001b[0;32m   (...)\u001b[0m\n\u001b[1;32m     61\u001b[0m         \u001b[38;5;124m'\u001b[39m\u001b[38;5;124mparam_log_dir\u001b[39m\u001b[38;5;124m'\u001b[39m: args[\u001b[38;5;124m'\u001b[39m\u001b[38;5;124mparam_log_dir\u001b[39m\u001b[38;5;124m'\u001b[39m]\n\u001b[1;32m     62\u001b[0m }\n\u001b[1;32m     64\u001b[0m \u001b[38;5;66;03m# 不需要检查 __name__ == '__main__' 在 Jupyter 中\u001b[39;00m\n\u001b[0;32m---> 65\u001b[0m \u001b[43mRun\u001b[49m\u001b[43m(\u001b[49m\u001b[43mconfig\u001b[49m\u001b[38;5;241;43m=\u001b[39;49m\u001b[43mconfig\u001b[49m\u001b[43m)\u001b[49m\u001b[38;5;241;43m.\u001b[39;49m\u001b[43mmain\u001b[49m\u001b[43m(\u001b[49m\u001b[43m)\u001b[49m\n",
      "File \u001b[0;32m/mySeoSent/mySeoSent_ch/mySeoSent_ch/grid_search.py:106\u001b[0m, in \u001b[0;36mRun.main\u001b[0;34m(self)\u001b[0m\n\u001b[1;32m    104\u001b[0m     logger\u001b[38;5;241m.\u001b[39minfo(\u001b[38;5;124m\"\u001b[39m\u001b[38;5;124mbest metric:\u001b[39m\u001b[38;5;124m\"\u001b[39m \u001b[38;5;241m+\u001b[39m \u001b[38;5;28mstr\u001b[39m(best_metric))\n\u001b[1;32m    105\u001b[0m     logger\u001b[38;5;241m.\u001b[39minfo(\u001b[38;5;124m'\u001b[39m\u001b[38;5;124m--------------------------------------\u001b[39m\u001b[38;5;130;01m\\n\u001b[39;00m\u001b[38;5;124m'\u001b[39m)\n\u001b[0;32m--> 106\u001b[0m \u001b[38;5;28;01mwith\u001b[39;00m \u001b[38;5;28;43mopen\u001b[39;49m\u001b[43m(\u001b[49m\u001b[43mjson_path\u001b[49m\u001b[43m,\u001b[49m\u001b[43m \u001b[49m\u001b[38;5;124;43m'\u001b[39;49m\u001b[38;5;124;43mw\u001b[39;49m\u001b[38;5;124;43m'\u001b[39;49m\u001b[43m)\u001b[49m \u001b[38;5;28;01mas\u001b[39;00m file:\n\u001b[1;32m    107\u001b[0m     json\u001b[38;5;241m.\u001b[39mdump(json_result, file, indent\u001b[38;5;241m=\u001b[39m\u001b[38;5;241m4\u001b[39m, ensure_ascii\u001b[38;5;241m=\u001b[39m\u001b[38;5;28;01mFalse\u001b[39;00m)\n",
      "\u001b[0;31mFileNotFoundError\u001b[0m: [Errno 2] No such file or directory: './logs/json/eann0.1.json'"
     ]
    }
   ],
   "source": [
    "import os\n",
    "import torch\n",
    "import numpy as np\n",
    "import random\n",
    "from grid_search import Run\n",
    "\n",
    "import warnings\n",
    "\n",
    "# 忽略特定的警告\n",
    "warnings.filterwarnings(\"ignore\", category=FutureWarning)\n",
    "\n",
    "# 直接设置参数\n",
    "args = {\n",
    "    'model_name': 'eann',\n",
    "    'epoch': 20,\n",
    "    'aug_prob': 0.1,\n",
    "    'max_len': 384,\n",
    "    'early_stop': 5,\n",
    "    'root_path': './data/',\n",
    "    'batchsize': 64,\n",
    "    'seed': 2023,\n",
    "    'gpu': '0',\n",
    "    'emb_dim': 768,\n",
    "    'lr': 0.0001,\n",
    "    'emb_type': 'bert',\n",
    "    'save_log_dir': './logs',\n",
    "    'save_param_dir': './param_model',\n",
    "    'param_log_dir': './logs/param'\n",
    "}\n",
    "\n",
    "os.environ[\"CUDA_VISIBLE_DEVICES\"] = args['gpu']\n",
    "\n",
    "seed = args['seed']\n",
    "random.seed(seed)\n",
    "np.random.seed(seed)\n",
    "torch.manual_seed(seed)\n",
    "torch.cuda.manual_seed(seed)\n",
    "torch.backends.cudnn.benchmark = False\n",
    "torch.backends.cudnn.deterministic = True\n",
    "\n",
    "print('lr: {}; model name: {}; batchsize: {}; epoch: {}; gpu: {}'.format(args['lr'], args['model_name'], args['batchsize'], args['epoch'], args['gpu']))\n",
    "\n",
    "config = {\n",
    "        'use_cuda': True,\n",
    "        'batchsize': args['batchsize'],\n",
    "        'max_len': args['max_len'],\n",
    "        'early_stop': args['early_stop'],\n",
    "        'root_path': args['root_path'],\n",
    "        'aug_prob': args['aug_prob'],\n",
    "        'weight_decay': 5e-5,\n",
    "        'model': {\n",
    "            'mlp': {'dims': [384], 'dropout': 0.05}\n",
    "        },\n",
    "        'emb_dim': args['emb_dim'],\n",
    "        'lr': args['lr'],\n",
    "        'epoch': args['epoch'],\n",
    "        'model_name': args['model_name'],\n",
    "        'seed': args['seed'],\n",
    "        'save_log_dir': args['save_log_dir'],\n",
    "        'save_param_dir': args['save_param_dir'],\n",
    "        'param_log_dir': args['param_log_dir']\n",
    "}\n",
    "\n",
    "# 不需要检查 __name__ == '__main__' 在 Jupyter 中\n",
    "Run(config=config).main()"
   ]
  },
  {
   "cell_type": "code",
   "execution_count": null,
   "id": "1bab6508-7da4-4acc-95ee-ac885dd64fda",
   "metadata": {},
   "outputs": [],
   "source": []
  }
 ],
 "metadata": {
  "kernelspec": {
   "display_name": "Python 3 (ipykernel)",
   "language": "python",
   "name": "python3"
  },
  "language_info": {
   "codemirror_mode": {
    "name": "ipython",
    "version": 3
   },
   "file_extension": ".py",
   "mimetype": "text/x-python",
   "name": "python",
   "nbconvert_exporter": "python",
   "pygments_lexer": "ipython3",
   "version": "3.11.8"
  }
 },
 "nbformat": 4,
 "nbformat_minor": 5
}
